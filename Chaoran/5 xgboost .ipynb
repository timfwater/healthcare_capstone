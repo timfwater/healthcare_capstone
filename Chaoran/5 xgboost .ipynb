{
 "cells": [
  {
   "cell_type": "code",
   "execution_count": 11,
   "metadata": {},
   "outputs": [],
   "source": [
    "%matplotlib inline\n",
    "import numpy as np\n",
    "import pandas as pd\n",
    "import matplotlib.pyplot as plt\n",
    "from sklearn.ensemble import GradientBoostingRegressor,GradientBoostingClassifier\n",
    "from sklearn.preprocessing import LabelEncoder\n",
    "from sklearn.linear_model import LinearRegression,LogisticRegression\n",
    "from sklearn.model_selection import GridSearchCV,RandomizedSearchCV\n",
    "import xgboost as xgb\n",
    "from sklearn.metrics import roc_auc_score\n",
    "from sklearn.metrics import accuracy_score"
   ]
  },
  {
   "cell_type": "code",
   "execution_count": 2,
   "metadata": {},
   "outputs": [],
   "source": [
    "df=pd.read_csv(r\"C:\\nydsa bootcamp slides\\Projects\\4\\git\\healthcare_capstone\\Chaoran\\le_train.csv\",index_col=0)\n",
    "trainX=df.drop('readmitted',axis=1).copy()\n",
    "trainY=df['readmitted']"
   ]
  },
  {
   "cell_type": "code",
   "execution_count": 51,
   "metadata": {},
   "outputs": [],
   "source": [
    "df2=pd.read_csv(r\"C:\\nydsa bootcamp slides\\Projects\\4\\git\\healthcare_capstone\\Chaoran\\le_test.csv\",index_col=0)\n",
    "testX=df2.drop('readmitted',axis=1).copy()\n",
    "testY=df2['readmitted']"
   ]
  },
  {
   "cell_type": "markdown",
   "metadata": {},
   "source": [
    "### Regressor\n",
    "- Best parameters found (refer to \"4 use Random...\"):  {'subsample': 0.8, 'n_estimators': 3000, 'max_depth': 6, 'learning_rate': 0.1, 'colsample_bytree': 1}"
   ]
  },
  {
   "cell_type": "code",
   "execution_count": 4,
   "metadata": {},
   "outputs": [],
   "source": [
    "xgbr= xgb.XGBRegressor()"
   ]
  },
  {
   "cell_type": "code",
   "execution_count": 5,
   "metadata": {},
   "outputs": [
    {
     "data": {
      "text/plain": [
       "XGBRegressor(base_score=0.5, booster='gbtree', colsample_bylevel=1,\n",
       "       colsample_bytree=1, gamma=0, learning_rate=0.1, max_delta_step=0,\n",
       "       max_depth=6, min_child_weight=1, missing=None, n_estimators=3000,\n",
       "       n_jobs=1, nthread=None, objective='reg:linear', random_state=0,\n",
       "       reg_alpha=0, reg_lambda=1, scale_pos_weight=1, seed=None,\n",
       "       silent=True, subsample=0.8)"
      ]
     },
     "execution_count": 5,
     "metadata": {},
     "output_type": "execute_result"
    }
   ],
   "source": [
    "xgbr.set_params(learning_rate=0.1,subsample=0.8,n_estimators=3000,max_depth=6,\n",
    "                colsample_bytree=1)"
   ]
  },
  {
   "cell_type": "code",
   "execution_count": 37,
   "metadata": {},
   "outputs": [
    {
     "data": {
      "text/plain": [
       "XGBRegressor(base_score=0.5, booster='gbtree', colsample_bylevel=1,\n",
       "       colsample_bytree=1, gamma=0, learning_rate=0.1, max_delta_step=0,\n",
       "       max_depth=6, min_child_weight=1, missing=None, n_estimators=3000,\n",
       "       n_jobs=1, nthread=None, objective='reg:linear', random_state=0,\n",
       "       reg_alpha=0, reg_lambda=1, scale_pos_weight=1, seed=None,\n",
       "       silent=True, subsample=0.8)"
      ]
     },
     "execution_count": 37,
     "metadata": {},
     "output_type": "execute_result"
    }
   ],
   "source": [
    "xgbr.fit(trainX,trainY)"
   ]
  },
  {
   "cell_type": "code",
   "execution_count": 38,
   "metadata": {},
   "outputs": [],
   "source": [
    "train_predict=xgbr.predict(trainX)\n",
    "train_prediction=[round(value) for value in train_predict]"
   ]
  },
  {
   "cell_type": "code",
   "execution_count": 39,
   "metadata": {},
   "outputs": [
    {
     "name": "stdout",
     "output_type": "stream",
     "text": [
      "train accurary: 0.962218533958886\n"
     ]
    }
   ],
   "source": [
    "train_accuracy=accuracy_score(trainY,train_prediction)\n",
    "print (\"train accurary:\", train_accuracy)"
   ]
  },
  {
   "cell_type": "code",
   "execution_count": 52,
   "metadata": {},
   "outputs": [],
   "source": [
    "test_predict=xgbr.predict(testX)\n",
    "test_prediction=[round(value) for value in test_predict]"
   ]
  },
  {
   "cell_type": "code",
   "execution_count": 53,
   "metadata": {},
   "outputs": [
    {
     "name": "stdout",
     "output_type": "stream",
     "text": [
      "test accurary: 0.8773560277763275\n"
     ]
    }
   ],
   "source": [
    "test_accuracy=accuracy_score(testY,test_prediction)\n",
    "print(\"test accurary:\" , test_accuracy)"
   ]
  },
  {
   "cell_type": "code",
   "execution_count": 55,
   "metadata": {},
   "outputs": [
    {
     "data": {
      "text/plain": [
       "[('num_lab_procedures', 0.13938807),\n",
       " ('num_medications', 0.10759958),\n",
       " ('time_in_hospital', 0.06876501),\n",
       " ('age', 0.055176545),\n",
       " ('medical_specialty', 0.049759068),\n",
       " ('discharge_disposition_id', 0.047223825),\n",
       " ('diag_1', 0.04631718),\n",
       " ('number_inpatient', 0.04567917),\n",
       " ('diag_2', 0.04393304),\n",
       " ('diag_3', 0.043502107),\n",
       " ('num_procedures', 0.038817782),\n",
       " ('number_diagnoses', 0.037166793),\n",
       " ('admission_type_id', 0.027199311),\n",
       " ('insulin', 0.026583688),\n",
       " ('number_outpatient', 0.02439543),\n",
       " ('race', 0.022957113),\n",
       " ('admission_source_id', 0.021904958),\n",
       " ('number_emergency', 0.019481646),\n",
       " ('A1Cresult', 0.01812168),\n",
       " ('gender', 0.017058333),\n",
       " ('glipizide', 0.013873887),\n",
       " ('metformin', 0.012502728),\n",
       " ('glyburide', 0.012038213),\n",
       " ('change', 0.010012257),\n",
       " ('diabetesMed', 0.008674677),\n",
       " ('pioglitazone', 0.008551553),\n",
       " ('max_glu_serum', 0.008467604),\n",
       " ('glimepiride', 0.0075385743),\n",
       " ('rosiglitazone', 0.007477012),\n",
       " ('repaglinide', 0.004354128),\n",
       " ('nateglinide', 0.001830077),\n",
       " ('glyburide.metformin', 0.0016677766),\n",
       " ('acarbose', 0.0009514162),\n",
       " ('chlorpropamide', 0.00044212872),\n",
       " ('miglitol', 0.00033579397),\n",
       " ('tolazamide', 0.00025184546)]"
      ]
     },
     "execution_count": 55,
     "metadata": {},
     "output_type": "execute_result"
    }
   ],
   "source": [
    "sorted(zip(trainX.columns,xgbr.feature_importances_), key= lambda t:t[1], reverse=True)"
   ]
  },
  {
   "cell_type": "markdown",
   "metadata": {},
   "source": [
    "### Classifier"
   ]
  },
  {
   "cell_type": "code",
   "execution_count": 59,
   "metadata": {},
   "outputs": [
    {
     "data": {
      "text/plain": [
       "XGBClassifier(base_score=0.5, booster='gbtree', colsample_bylevel=1,\n",
       "       colsample_bytree=1, gamma=0, learning_rate=0.1, max_delta_step=0,\n",
       "       max_depth=6, min_child_weight=1, missing=None, n_estimators=3000,\n",
       "       n_jobs=1, nthread=None, objective='binary:logistic', random_state=0,\n",
       "       reg_alpha=0, reg_lambda=1, scale_pos_weight=1, seed=None,\n",
       "       silent=True, subsample=0.8)"
      ]
     },
     "execution_count": 59,
     "metadata": {},
     "output_type": "execute_result"
    }
   ],
   "source": [
    "xgbc= xgb.XGBClassifier()\n",
    "xgbc.set_params(learning_rate=0.1,subsample=0.8,n_estimators=3000,max_depth=6,\n",
    "                colsample_bytree=1,objective='binary:logistic')"
   ]
  },
  {
   "cell_type": "code",
   "execution_count": 60,
   "metadata": {},
   "outputs": [
    {
     "data": {
      "text/plain": [
       "XGBClassifier(base_score=0.5, booster='gbtree', colsample_bylevel=1,\n",
       "       colsample_bytree=1, gamma=0, learning_rate=0.1, max_delta_step=0,\n",
       "       max_depth=6, min_child_weight=1, missing=None, n_estimators=3000,\n",
       "       n_jobs=1, nthread=None, objective='binary:logistic', random_state=0,\n",
       "       reg_alpha=0, reg_lambda=1, scale_pos_weight=1, seed=None,\n",
       "       silent=True, subsample=0.8)"
      ]
     },
     "execution_count": 60,
     "metadata": {},
     "output_type": "execute_result"
    }
   ],
   "source": [
    "xgbc.fit(trainX,trainY)"
   ]
  },
  {
   "cell_type": "code",
   "execution_count": 61,
   "metadata": {},
   "outputs": [
    {
     "name": "stderr",
     "output_type": "stream",
     "text": [
      "C:\\ProgramData\\Anaconda3\\lib\\site-packages\\sklearn\\preprocessing\\label.py:151: DeprecationWarning: The truth value of an empty array is ambiguous. Returning False, but in future this will result in an error. Use `array.size > 0` to check that an array is not empty.\n",
      "  if diff:\n"
     ]
    }
   ],
   "source": [
    "train_predict2=xgbc.predict(trainX)"
   ]
  },
  {
   "cell_type": "code",
   "execution_count": 65,
   "metadata": {},
   "outputs": [
    {
     "name": "stderr",
     "output_type": "stream",
     "text": [
      "C:\\ProgramData\\Anaconda3\\lib\\site-packages\\sklearn\\preprocessing\\label.py:151: DeprecationWarning: The truth value of an empty array is ambiguous. Returning False, but in future this will result in an error. Use `array.size > 0` to check that an array is not empty.\n",
      "  if diff:\n"
     ]
    }
   ],
   "source": [
    "test_predict2=xgbc.predict(testX)"
   ]
  },
  {
   "cell_type": "code",
   "execution_count": 62,
   "metadata": {},
   "outputs": [
    {
     "name": "stdout",
     "output_type": "stream",
     "text": [
      "train auc:  0.9352460445697427\n"
     ]
    }
   ],
   "source": [
    "print (\"train auc: \",roc_auc_score(trainY,train_predict2))"
   ]
  },
  {
   "cell_type": "code",
   "execution_count": 66,
   "metadata": {},
   "outputs": [
    {
     "name": "stdout",
     "output_type": "stream",
     "text": [
      "test auc:  0.5207302541766433\n"
     ]
    }
   ],
   "source": [
    "print (\"test auc: \",roc_auc_score(testY,test_predict2))"
   ]
  },
  {
   "cell_type": "code",
   "execution_count": 64,
   "metadata": {},
   "outputs": [
    {
     "data": {
      "text/plain": [
       "[('num_lab_procedures', 0.14680432),\n",
       " ('num_medications', 0.113090456),\n",
       " ('time_in_hospital', 0.06851339),\n",
       " ('medical_specialty', 0.053397402),\n",
       " ('diag_1', 0.05287705),\n",
       " ('age', 0.05106544),\n",
       " ('diag_2', 0.05068642),\n",
       " ('diag_3', 0.047853377),\n",
       " ('discharge_disposition_id', 0.043819018),\n",
       " ('num_procedures', 0.042193715),\n",
       " ('number_diagnoses', 0.040973127),\n",
       " ('number_inpatient', 0.037998755),\n",
       " ('insulin', 0.027405357),\n",
       " ('admission_type_id', 0.026062712),\n",
       " ('admission_source_id', 0.023936324),\n",
       " ('number_outpatient', 0.021655757),\n",
       " ('race', 0.017422251),\n",
       " ('number_emergency', 0.016709173),\n",
       " ('gender', 0.016310876),\n",
       " ('A1Cresult', 0.01532156),\n",
       " ('metformin', 0.012417851),\n",
       " ('change', 0.011813982),\n",
       " ('glipizide', 0.011428535),\n",
       " ('diabetesMed', 0.009880318),\n",
       " ('glyburide', 0.0092250565),\n",
       " ('pioglitazone', 0.007220727),\n",
       " ('rosiglitazone', 0.0063470444),\n",
       " ('glimepiride', 0.0059166276),\n",
       " ('max_glu_serum', 0.005075066),\n",
       " ('repaglinide', 0.0027431054),\n",
       " ('glyburide.metformin', 0.001098527),\n",
       " ('nateglinide', 0.0010728304),\n",
       " ('acarbose', 0.00071950303),\n",
       " ('tolazamide', 0.0004496894),\n",
       " ('chlorpropamide', 0.00043684113),\n",
       " ('miglitol', 5.7817208e-05)]"
      ]
     },
     "execution_count": 64,
     "metadata": {},
     "output_type": "execute_result"
    }
   ],
   "source": [
    "sorted(zip(trainX.columns,xgbc.feature_importances_), key= lambda t:t[1], reverse=True)"
   ]
  }
 ],
 "metadata": {
  "kernelspec": {
   "display_name": "Python 3",
   "language": "python",
   "name": "python3"
  },
  "language_info": {
   "codemirror_mode": {
    "name": "ipython",
    "version": 3
   },
   "file_extension": ".py",
   "mimetype": "text/x-python",
   "name": "python",
   "nbconvert_exporter": "python",
   "pygments_lexer": "ipython3",
   "version": "3.7.0"
  }
 },
 "nbformat": 4,
 "nbformat_minor": 2
}
