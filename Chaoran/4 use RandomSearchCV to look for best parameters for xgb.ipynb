{
 "cells": [
  {
   "cell_type": "code",
   "execution_count": 12,
   "metadata": {},
   "outputs": [],
   "source": [
    "%matplotlib inline\n",
    "import numpy as np\n",
    "import pandas as pd\n",
    "import matplotlib.pyplot as plt\n",
    "from sklearn.ensemble import GradientBoostingRegressor,GradientBoostingClassifier\n",
    "from sklearn.preprocessing import LabelEncoder\n",
    "from sklearn.linear_model import LinearRegression,LogisticRegression\n",
    "from sklearn.model_selection import GridSearchCV,RandomizedSearchCV\n",
    "import xgboost as xgb\n",
    "df=pd.read_csv(r\"C:\\nydsa bootcamp slides\\Projects\\4\\git\\healthcare_capstone\\Chaoran\\le_train.csv\",index_col=0)"
   ]
  },
  {
   "cell_type": "code",
   "execution_count": 4,
   "metadata": {},
   "outputs": [],
   "source": [
    "trainX=df.drop('readmitted',axis=1).copy()\n",
    "trainY=df['readmitted']"
   ]
  },
  {
   "cell_type": "code",
   "execution_count": 7,
   "metadata": {},
   "outputs": [],
   "source": [
    "para= {\"learning_rate\" : [0.01,0.1,1],\n",
    "       \"n_estimators\": [200,500,1000,2000,3000,4000],\n",
    "       \"max_depth\" : [3,4,5,6],\n",
    "       \"subsample\" : [0.8,0.9,1],\n",
    "       \"colsample_bytree\" : [0.8,0.9,1]}"
   ]
  },
  {
   "cell_type": "code",
   "execution_count": 8,
   "metadata": {},
   "outputs": [],
   "source": [
    "#XGBregressor\n",
    "xgboost = xgb.XGBRegressor()\n",
    "n_iter_search = 2\n",
    "ran_search_xgb=RandomizedSearchCV(estimator=xgboost, param_distributions=para,n_iter=n_iter_search,\n",
    "                                  scoring='neg_mean_squared_error', cv=5, return_train_score=True)\n"
   ]
  },
  {
   "cell_type": "code",
   "execution_count": 9,
   "metadata": {},
   "outputs": [],
   "source": [
    "xgbmodel=ran_search_xgb.fit(trainX,trainY)"
   ]
  },
  {
   "cell_type": "code",
   "execution_count": 11,
   "metadata": {},
   "outputs": [
    {
     "name": "stdout",
     "output_type": "stream",
     "text": [
      "Best parameters found:  {'subsample': 0.8, 'n_estimators': 3000, 'max_depth': 6, 'learning_rate': 0.1, 'colsample_bytree': 1}\n",
      "Lowest RMSE found:  0.3404059987207308\n"
     ]
    }
   ],
   "source": [
    "print(\"Best parameters found: \", xgbmodel.best_params_)\n",
    "print(\"Lowest RMSE found: \", np.sqrt(np.abs(xgbmodel.best_score_)))\n",
    "\n",
    "#Best parameters found:  {'subsample': 0.8, 'n_estimators': 3000, 'max_depth': 6, 'learning_rate': 0.1, 'colsample_bytree': 1}\n",
    "#Lowest RMSE found:  0.3404059987207308"
   ]
  },
  {
   "cell_type": "code",
   "execution_count": 13,
   "metadata": {},
   "outputs": [],
   "source": [
    "#XGBClassifier\n",
    "xgboost2 = xgb.XGBClassifier()\n",
    "n_iter_search2 =50\n",
    "ran_search_xgb2=RandomizedSearchCV(estimator=xgboost, param_distributions=para,n_iter=n_iter_search2,\n",
    "                                  scoring='roc_auc', cv=5, return_train_score=True)"
   ]
  },
  {
   "cell_type": "code",
   "execution_count": 14,
   "metadata": {},
   "outputs": [
    {
     "name": "stdout",
     "output_type": "stream",
     "text": [
      "76043\n"
     ]
    }
   ],
   "source": [
    "import datetime\n",
    "starttime = datetime.datetime.now()\n",
    "\n",
    "xgbmodel2=ran_search_xgb2.fit(trainX,trainY)\n",
    "\n",
    "endtime=datetime.datetime.now()\n",
    "print ((endtime-starttime).seconds)"
   ]
  },
  {
   "cell_type": "code",
   "execution_count": null,
   "metadata": {},
   "outputs": [],
   "source": [
    "print(\"Best parameters found: \", xgbmodel2.best_params_)\n",
    "print(\"Lowest RMSE found: \", np.sqrt(np.abs(xgbmodel2.best_score_)))\n"
   ]
  }
 ],
 "metadata": {
  "kernelspec": {
   "display_name": "Python 3",
   "language": "python",
   "name": "python3"
  },
  "language_info": {
   "codemirror_mode": {
    "name": "ipython",
    "version": 3
   },
   "file_extension": ".py",
   "mimetype": "text/x-python",
   "name": "python",
   "nbconvert_exporter": "python",
   "pygments_lexer": "ipython3",
   "version": "3.7.0"
  }
 },
 "nbformat": 4,
 "nbformat_minor": 2
}
