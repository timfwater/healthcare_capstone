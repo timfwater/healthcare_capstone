{
 "cells": [
  {
   "cell_type": "code",
   "execution_count": 1,
   "metadata": {},
   "outputs": [],
   "source": [
    "import pandas as pd\n",
    "import numpy as np"
   ]
  },
  {
   "cell_type": "code",
   "execution_count": 2,
   "metadata": {},
   "outputs": [],
   "source": [
    "DiabetesTakingMed = pd.read_csv('DiabetesTakingMed.csv', index_col=0)\n",
    "\n",
    "DiabetesTrain3 = DiabetesTakingMed[DiabetesTakingMed['IsTrain']==1].drop('IsTrain', axis=1)\n",
    "DiabetesTrain3.index = list(range(len(DiabetesTrain3)))\n",
    "\n",
    "DiabetesTest3 = DiabetesTakingMed[DiabetesTakingMed['IsTrain']==0].drop('IsTrain', axis=1)\n",
    "DiabetesTest3.index = list(range(len(DiabetesTest3)))\n",
    "\n",
    "#Start with a train to predict the placement of the middle group:\n",
    "\n",
    "DiabetesTrain3 = DiabetesTrain3[DiabetesTrain3['readmitted']!=1]\n",
    "trainX01 = DiabetesTrain3.drop('readmitted', axis=1)\n",
    "trainY01 = DiabetesTrain3['readmitted'].replace([2], [1])\n",
    "\n",
    "testX01 = DiabetesTest3.drop('readmitted', axis=1)\n",
    "testY01 = DiabetesTest3['readmitted'].replace([2], [1])"
   ]
  },
  {
   "cell_type": "code",
   "execution_count": 3,
   "metadata": {},
   "outputs": [
    {
     "data": {
      "text/plain": [
       "LinearRegression(copy_X=True, fit_intercept=True, n_jobs=1, normalize=False)"
      ]
     },
     "execution_count": 3,
     "metadata": {},
     "output_type": "execute_result"
    }
   ],
   "source": [
    "from sklearn.linear_model import LinearRegression as lm\n",
    "\n",
    "lm = lm()\n",
    "\n",
    "lm.fit(trainX01, trainY01)"
   ]
  },
  {
   "cell_type": "code",
   "execution_count": 4,
   "metadata": {},
   "outputs": [],
   "source": [
    "DiabetesTakingMed = pd.read_csv('DiabetesTakingMed.csv', index_col=0)\n",
    "\n",
    "DiabetesTrain3 = DiabetesTakingMed[DiabetesTakingMed['IsTrain']==1].drop('IsTrain', axis=1)\n",
    "DiabetesTrain3.index = list(range(len(DiabetesTrain3)))\n",
    "\n",
    "middledf = DiabetesTrain3[DiabetesTrain3['readmitted']==1]\n",
    "middledfX = middledf.drop('readmitted', axis=1)\n",
    "middledfY = middledf['readmitted']\n",
    "\n",
    "predictarray = lm.predict(middledfX)"
   ]
  },
  {
   "cell_type": "code",
   "execution_count": 5,
   "metadata": {},
   "outputs": [
    {
     "data": {
      "text/plain": [
       "1171"
      ]
     },
     "execution_count": 5,
     "metadata": {},
     "output_type": "execute_result"
    }
   ],
   "source": [
    "len(predictarray[predictarray>0.5])"
   ]
  },
  {
   "cell_type": "code",
   "execution_count": 6,
   "metadata": {},
   "outputs": [
    {
     "data": {
      "text/plain": [
       "28436"
      ]
     },
     "execution_count": 6,
     "metadata": {},
     "output_type": "execute_result"
    }
   ],
   "source": [
    "len(predictarray)"
   ]
  },
  {
   "cell_type": "code",
   "execution_count": 7,
   "metadata": {},
   "outputs": [],
   "source": [
    "middledf100 = middledf.loc[predictarray<1]\n",
    "middledf75 = middledf.loc[predictarray<0.75]\n",
    "middledf50 = middledf.loc[predictarray<0.50]\n",
    "middledf25 = middledf.loc[predictarray<0.25]"
   ]
  },
  {
   "cell_type": "code",
   "execution_count": 8,
   "metadata": {},
   "outputs": [
    {
     "data": {
      "text/plain": [
       "(51648, 83)"
      ]
     },
     "execution_count": 8,
     "metadata": {},
     "output_type": "execute_result"
    }
   ],
   "source": [
    "trainX01.shape"
   ]
  },
  {
   "cell_type": "code",
   "execution_count": 9,
   "metadata": {},
   "outputs": [],
   "source": [
    "DiabetesTakingMed = pd.read_csv('DiabetesTakingMed.csv', index_col=0)\n",
    "\n",
    "DiabetesTrain3 = DiabetesTakingMed[DiabetesTakingMed['IsTrain']==1].drop('IsTrain', axis=1)\n",
    "DiabetesTrain3.index = list(range(len(DiabetesTrain3)))\n",
    "DiabetesTrain3 = DiabetesTrain3[DiabetesTrain3['readmitted']!=1]\n",
    "\n",
    "train25 = pd.concat([DiabetesTrain3, middledf25], axis=0)\n",
    "train25.index = list(range(len(train25)))"
   ]
  },
  {
   "cell_type": "code",
   "execution_count": 10,
   "metadata": {},
   "outputs": [],
   "source": [
    "train50 = pd.concat([DiabetesTrain3, middledf50], axis=0)\n",
    "train50.index = list(range(len(train50)))\n",
    "\n",
    "train75 = pd.concat([DiabetesTrain3, middledf75], axis=0)\n",
    "train75.index = list(range(len(train75)))\n",
    "\n",
    "train100 = pd.concat([DiabetesTrain3, middledf100], axis=0)\n",
    "train100.index = list(range(len(train100)))"
   ]
  },
  {
   "cell_type": "code",
   "execution_count": 11,
   "metadata": {},
   "outputs": [],
   "source": [
    "#First, try logistic regression with all observations:\n",
    "\n",
    "DiabetesTakingMed = pd.read_csv('DiabetesTakingMed.csv', index_col=0)\n",
    "\n",
    "DiabetesTrain3 = DiabetesTakingMed[DiabetesTakingMed['IsTrain']==1].drop('IsTrain', axis=1)\n",
    "DiabetesTrain3.index = list(range(len(DiabetesTrain3)))\n",
    "\n",
    "trainX02 = DiabetesTrain3.drop('readmitted', axis=1)\n",
    "trainY02 = DiabetesTrain3['readmitted'].replace([2, 1], [1, 0])\n",
    "\n",
    "testX02 = DiabetesTest3.drop('readmitted', axis=1)\n",
    "testY02 = DiabetesTest3['readmitted'].replace([2, 1], [1, 0])\n",
    "\n",
    "from sklearn.linear_model import LogisticRegression as lgr\n",
    "\n",
    "lgr = lgr()\n",
    "lgr.set_params(C=0.1)\n",
    "\n",
    "lgr.fit(trainX02, trainY02)\n",
    "predictprobs02 = lgr.predict_proba(trainX02)\n",
    "predictvalues02 = lgr.predict(trainX02)\n",
    "actual02 = trainY02.values\n",
    "\n",
    "predicttest02 = lgr.predict(testX02)\n",
    "predicttestprobs02 = lgr.predict_proba(testX02)"
   ]
  },
  {
   "cell_type": "code",
   "execution_count": 12,
   "metadata": {},
   "outputs": [
    {
     "data": {
      "text/plain": [
       "0.6633660039876829"
      ]
     },
     "execution_count": 12,
     "metadata": {},
     "output_type": "execute_result"
    }
   ],
   "source": [
    "from sklearn.metrics import roc_auc_score as AUC\n",
    "\n",
    "AUC(testY02, predicttestprobs02[:,1])"
   ]
  },
  {
   "cell_type": "code",
   "execution_count": 15,
   "metadata": {},
   "outputs": [],
   "source": [
    "#Now, let's try shaving off a few of the observations at a time: (Any >30 with linear P prediction over 1.0)\n",
    "\n",
    "trainX03 = train100.drop('readmitted', axis=1)\n",
    "trainY03 = train100['readmitted'].replace([2, 1], [1, 0])\n",
    "\n",
    "testX03 = DiabetesTest3.drop('readmitted', axis=1)\n",
    "testY03 = DiabetesTest3['readmitted'].replace([2, 1], [1, 0])\n",
    "\n",
    "from sklearn.linear_model import LogisticRegression as lgr\n",
    "\n",
    "lgr = lgr()\n",
    "lgr.set_params(C=0.1)\n",
    "\n",
    "lgr.fit(trainX03, trainY03)\n",
    "predictprobs03 = lgr.predict_proba(trainX03)\n",
    "predictvalues03 = lgr.predict(trainX03)\n",
    "actual03 = trainY03.values\n",
    "\n",
    "predicttest03 = lgr.predict(testX03)\n",
    "predicttestprobs03 = lgr.predict_proba(testX03)"
   ]
  },
  {
   "cell_type": "code",
   "execution_count": 16,
   "metadata": {},
   "outputs": [
    {
     "data": {
      "text/plain": [
       "0.6640227247295477"
      ]
     },
     "execution_count": 16,
     "metadata": {},
     "output_type": "execute_result"
    }
   ],
   "source": [
    "from sklearn.metrics import roc_auc_score as AUC\n",
    "\n",
    "AUC(testY03, predicttestprobs03[:,1])"
   ]
  },
  {
   "cell_type": "code",
   "execution_count": 17,
   "metadata": {},
   "outputs": [],
   "source": [
    "#Now, let's try shaving off a few of the observations at a time: (Any >30 with linear P prediction over 0.75)\n",
    "\n",
    "trainX04 = train75.drop('readmitted', axis=1)\n",
    "trainY04 = train75['readmitted'].replace([2, 1], [1, 0])\n",
    "\n",
    "from sklearn.linear_model import LogisticRegression as lgr\n",
    "\n",
    "lgr = lgr()\n",
    "lgr.set_params(C=0.1)\n",
    "\n",
    "lgr.fit(trainX04, trainY04)\n",
    "predictprobs04 = lgr.predict_proba(trainX04)\n",
    "predictvalues04 = lgr.predict(trainX04)\n",
    "actual04 = trainY04.values\n",
    "\n",
    "predicttest04 = lgr.predict(testX03)\n",
    "predicttestprobs04 = lgr.predict_proba(testX03)"
   ]
  },
  {
   "cell_type": "code",
   "execution_count": 18,
   "metadata": {},
   "outputs": [
    {
     "data": {
      "text/plain": [
       "0.6641325666417452"
      ]
     },
     "execution_count": 18,
     "metadata": {},
     "output_type": "execute_result"
    }
   ],
   "source": [
    "from sklearn.metrics import roc_auc_score as AUC\n",
    "\n",
    "AUC(testY03, predicttestprobs04[:,1])"
   ]
  },
  {
   "cell_type": "code",
   "execution_count": 19,
   "metadata": {},
   "outputs": [],
   "source": [
    "#Now, let's try shaving off a few of the observations at a time: (Any >30 with linear P prediction over 0.50)\n",
    "\n",
    "trainX05 = train50.drop('readmitted', axis=1)\n",
    "trainY05 = train50['readmitted'].replace([2, 1], [1, 0])\n",
    "\n",
    "from sklearn.linear_model import LogisticRegression as lgr\n",
    "\n",
    "lgr = lgr()\n",
    "lgr.set_params(C=0.1)\n",
    "\n",
    "lgr.fit(trainX05, trainY05)\n",
    "predictprobs05 = lgr.predict_proba(trainX05)\n",
    "predictvalues05 = lgr.predict(trainX05)\n",
    "actual05 = trainY05.values\n",
    "\n",
    "predicttest05 = lgr.predict(testX03)\n",
    "predicttestprobs05 = lgr.predict_proba(testX03)"
   ]
  },
  {
   "cell_type": "code",
   "execution_count": 20,
   "metadata": {},
   "outputs": [
    {
     "data": {
      "text/plain": [
       "0.6632222672912926"
      ]
     },
     "execution_count": 20,
     "metadata": {},
     "output_type": "execute_result"
    }
   ],
   "source": [
    "from sklearn.metrics import roc_auc_score as AUC\n",
    "\n",
    "AUC(testY03, predicttestprobs05[:,1])"
   ]
  },
  {
   "cell_type": "code",
   "execution_count": 21,
   "metadata": {},
   "outputs": [],
   "source": [
    "#We see that 0.75 was better then 1.0 and much better than 0.5. Let's try 0.7, 0.8, 0.9:\n",
    "middledf90 = middledf.loc[predictarray<0.9]\n",
    "middledf80 = middledf.loc[predictarray<0.8]\n",
    "middledf70 = middledf.loc[predictarray<0.7]"
   ]
  },
  {
   "cell_type": "code",
   "execution_count": 22,
   "metadata": {},
   "outputs": [],
   "source": [
    "DiabetesTakingMed = pd.read_csv('DiabetesTakingMed.csv', index_col=0)\n",
    "\n",
    "DiabetesTrain3 = DiabetesTakingMed[DiabetesTakingMed['IsTrain']==1].drop('IsTrain', axis=1)\n",
    "DiabetesTrain3.index = list(range(len(DiabetesTrain3)))\n",
    "DiabetesTrain3 = DiabetesTrain3[DiabetesTrain3['readmitted']!=1]\n",
    "\n",
    "train90 = pd.concat([DiabetesTrain3, middledf90], axis=0)\n",
    "train90.index = list(range(len(train90)))\n",
    "\n",
    "train80 = pd.concat([DiabetesTrain3, middledf80], axis=0)\n",
    "train80.index = list(range(len(train80)))\n",
    "\n",
    "train70 = pd.concat([DiabetesTrain3, middledf70], axis=0)\n",
    "train70.index = list(range(len(train70)))"
   ]
  },
  {
   "cell_type": "code",
   "execution_count": 23,
   "metadata": {},
   "outputs": [],
   "source": [
    "#Now, let's try shaving off a few of the observations at a time: (Any >30 with linear P prediction over 0.90)\n",
    "\n",
    "trainX06 = train90.drop('readmitted', axis=1)\n",
    "trainY06 = train90['readmitted'].replace([2, 1], [1, 0])\n",
    "\n",
    "from sklearn.linear_model import LogisticRegression as lgr\n",
    "\n",
    "lgr = lgr()\n",
    "lgr.set_params(C=0.1)\n",
    "\n",
    "lgr.fit(trainX06, trainY06)\n",
    "\n",
    "predicttestprobs06 = lgr.predict_proba(testX03)"
   ]
  },
  {
   "cell_type": "code",
   "execution_count": 24,
   "metadata": {},
   "outputs": [
    {
     "data": {
      "text/plain": [
       "0.6639589519534368"
      ]
     },
     "execution_count": 24,
     "metadata": {},
     "output_type": "execute_result"
    }
   ],
   "source": [
    "from sklearn.metrics import roc_auc_score as AUC\n",
    "\n",
    "AUC(testY03, predicttestprobs06[:,1])"
   ]
  },
  {
   "cell_type": "code",
   "execution_count": 25,
   "metadata": {},
   "outputs": [],
   "source": [
    "#Now, let's try shaving off a few of the observations at a time: (Any >30 with linear P prediction over 0.80)\n",
    "\n",
    "trainX07 = train80.drop('readmitted', axis=1)\n",
    "trainY07 = train80['readmitted'].replace([2, 1], [1, 0])\n",
    "\n",
    "from sklearn.linear_model import LogisticRegression as lgr\n",
    "\n",
    "lgr = lgr()\n",
    "lgr.set_params(C=0.1)\n",
    "\n",
    "lgr.fit(trainX07, trainY07)\n",
    "\n",
    "predicttestprobs07 = lgr.predict_proba(testX03)"
   ]
  },
  {
   "cell_type": "code",
   "execution_count": 26,
   "metadata": {},
   "outputs": [
    {
     "data": {
      "text/plain": [
       "0.6640319732697846"
      ]
     },
     "execution_count": 26,
     "metadata": {},
     "output_type": "execute_result"
    }
   ],
   "source": [
    "from sklearn.metrics import roc_auc_score as AUC\n",
    "\n",
    "AUC(testY03, predicttestprobs07[:,1])"
   ]
  },
  {
   "cell_type": "code",
   "execution_count": 27,
   "metadata": {},
   "outputs": [],
   "source": [
    "#Now, let's try shaving off a few of the observations at a time: (Any >30 with linear P prediction over 0.80)\n",
    "\n",
    "trainX08 = train70.drop('readmitted', axis=1)\n",
    "trainY08 = train70['readmitted'].replace([2, 1], [1, 0])\n",
    "\n",
    "from sklearn.linear_model import LogisticRegression as lgr\n",
    "\n",
    "lgr = lgr()\n",
    "lgr.set_params(C=0.1)\n",
    "\n",
    "lgr.fit(trainX08, trainY08)\n",
    "\n",
    "predicttestprobs08 = lgr.predict_proba(testX03)"
   ]
  },
  {
   "cell_type": "code",
   "execution_count": 28,
   "metadata": {},
   "outputs": [
    {
     "data": {
      "text/plain": [
       "0.6640376017379718"
      ]
     },
     "execution_count": 28,
     "metadata": {},
     "output_type": "execute_result"
    }
   ],
   "source": [
    "from sklearn.metrics import roc_auc_score as AUC\n",
    "\n",
    "AUC(testY03, predicttestprobs08[:,1])"
   ]
  },
  {
   "cell_type": "code",
   "execution_count": 29,
   "metadata": {},
   "outputs": [],
   "source": [
    "#Based on this, the best score we have is 0.75. If we remove the returned>30 observations with linear-predcted likelihood of returning >0.75"
   ]
  },
  {
   "cell_type": "code",
   "execution_count": 30,
   "metadata": {},
   "outputs": [],
   "source": [
    "#Call Train75, and Train75 our new training DF\n",
    "\n",
    "trainX = train75.drop('readmitted', axis=1)\n",
    "trainY = train75['readmitted'].replace([2, 1], [1, 0])"
   ]
  },
  {
   "cell_type": "code",
   "execution_count": 31,
   "metadata": {},
   "outputs": [],
   "source": [
    "#We can write a function to find a candidate feature list using AIC engineering:\n",
    "\n",
    "def FindLowestAICNonLogBackward(df, dependent):\n",
    "    '''Input: DF to AIC-modify and the dependent variable. WILL RETURN: A tuple: [0] is the modified DF (with dependent)\n",
    "    and tuple[1] will give you the summary DF'''\n",
    "    df2 = df.copy()\n",
    "    df2X = df2.drop(dependent, axis=1)\n",
    "    df2Y = df2[dependent]\n",
    "    FeatureList = list(df2X.columns)\n",
    "    X2 = sm.add_constant(df2X)\n",
    "    est = sm.OLS(df2Y, X2)\n",
    "    CurrentAIC = est.fit().aic\n",
    "    CanBeBetter = True\n",
    "    ModList = []\n",
    "    AddedSubtracted = []\n",
    "    AIC = []\n",
    "    TriesSinceReset = 0\n",
    "    \n",
    "    tempColumnList = list(df2X.columns)\n",
    "    tempDF2X = df2X[tempColumnList]\n",
    "    \n",
    "    while CanBeBetter == True:\n",
    "        Choice = np.random.choice(list(df2X.columns))\n",
    "        \n",
    "        HeadsTails = np.random.randint(2)\n",
    "        if Choice in tempColumnList:\n",
    "            HeadsTails = 0\n",
    "        if Choice not in tempColumnList:\n",
    "            HeadsTails = 1\n",
    "        \n",
    "        if HeadsTails == 1:\n",
    "            tempColumnList.append(Choice)\n",
    "            tempDF2X[Choice] = df2X[Choice]\n",
    "        \n",
    "        if HeadsTails == 0:\n",
    "\n",
    "            tempColumnList.remove(Choice)\n",
    "            tempDF2X = tempDF2X[tempColumnList]\n",
    "            \n",
    "        est = sm.OLS(df2Y, sm.add_constant(tempDF2X))\n",
    "        NewAIC = est.fit().aic\n",
    "        \n",
    "        if NewAIC < CurrentAIC:\n",
    "            TriesSinceReset = 0\n",
    "            CurrentAIC = NewAIC\n",
    "            \n",
    "            if HeadsTails == 1:\n",
    "                print(Choice + \" added: New AIC = \" + str(CurrentAIC))\n",
    "                ModList.append(Choice)\n",
    "                AddedSubtracted.append('Added')\n",
    "                AIC.append(CurrentAIC)\n",
    "                \n",
    "            if HeadsTails == 0:\n",
    "                print(Choice + \" removed: New AIC = \" + str(CurrentAIC))\n",
    "                ModList.append(Choice)\n",
    "                AddedSubtracted.append('Subtracted')\n",
    "                AIC.append(CurrentAIC)\n",
    "            continue\n",
    "            \n",
    "        else:\n",
    "            TriesSinceReset += 1\n",
    "            \n",
    "            if HeadsTails == 1:\n",
    "                tempColumnList.remove(Choice)\n",
    "                tempDF2X = tempDF2X[tempColumnList]\n",
    "                \n",
    "            if HeadsTails == 0:\n",
    "                tempColumnList.append(Choice)\n",
    "                tempDF2X[Choice] = df2X[Choice]\n",
    "                \n",
    "            if TriesSinceReset > 100:\n",
    "                CanBeBetter = False\n",
    "                \n",
    "    SummaryDF = pd.DataFrame({'Feature': ModList, 'AddOrSubtract': AddedSubtracted, 'AIC': AIC})\n",
    "    NewDF = pd.concat([tempDF2X, df2[[dependent]]], axis=1)\n",
    "    \n",
    "    return NewDF, SummaryDF  "
   ]
  },
  {
   "cell_type": "code",
   "execution_count": 32,
   "metadata": {
    "scrolled": true
   },
   "outputs": [
    {
     "name": "stdout",
     "output_type": "stream",
     "text": [
      "diag_mentaldis removed: New AIC = 159162.03706622205\n",
      "change_Ch removed: New AIC = 159160.51964032956\n",
      "med_repaglinide removed: New AIC = 159160.0911285198\n",
      "med_rosiglitazone removed: New AIC = 159159.8973074622\n",
      "med_glyburide removed: New AIC = 159159.19290812098\n",
      "diag_other removed: New AIC = 159157.51199187117\n",
      "diag_infection removed: New AIC = 159157.4832474055\n",
      "med_chlorpropamide removed: New AIC = 159155.4835727667\n",
      "med_glipizide.metformin removed: New AIC = 159153.625796249\n",
      "diabfeat_coma removed: New AIC = 159151.66326763172\n",
      "diag_injury removed: New AIC = 159150.08370077435\n",
      "discharge_disposition_unknown removed: New AIC = 159148.45328974957\n",
      "med_nateglinide removed: New AIC = 159146.4608589305\n",
      "diag_urogenital removed: New AIC = 159144.52989303845\n",
      "race_AfricanAmerican removed: New AIC = 159144.34920693107\n",
      "admission_type_id_3 removed: New AIC = 159142.45471779804\n",
      "med_glyburide.metformin removed: New AIC = 159140.7764499014\n",
      "diag_nan removed: New AIC = 159138.87077050714\n",
      "med_tolazamide removed: New AIC = 159137.43572255608\n",
      "med_glimepiride removed: New AIC = 159136.44712088938\n",
      "admission_type_id_4 removed: New AIC = 159134.7385792841\n",
      "max_glu_serum_>200 removed: New AIC = 159132.8380005509\n",
      "med_tolbutamide removed: New AIC = 159131.0766308603\n",
      "med_miglitol removed: New AIC = 159130.26148250158\n",
      "diag_blooddis removed: New AIC = 159129.07474003665\n",
      "diabfeat_hyperosmolarity removed: New AIC = 159127.85997272836\n",
      "med_pioglitazone removed: New AIC = 159125.9983012899\n"
     ]
    }
   ],
   "source": [
    "import statsmodels.api as sm\n",
    "trainXAIC = FindLowestAICNonLogBackward(train75, 'readmitted')[0]"
   ]
  },
  {
   "cell_type": "code",
   "execution_count": 33,
   "metadata": {},
   "outputs": [],
   "source": [
    "train10 = train75[list(trainXAIC.columns)]\n",
    "trainX10 = train10.drop('readmitted', axis=1)\n",
    "trainY10 = train10['readmitted'].replace([2, 1], [1, 0])\n",
    "\n",
    "DiabetesTakingMed = pd.read_csv('DiabetesTakingMed.csv', index_col=0)\n",
    "\n",
    "DiabetesTrain3 = DiabetesTakingMed[DiabetesTakingMed['IsTrain']==1].drop('IsTrain', axis=1)\n",
    "DiabetesTrain3.index = list(range(len(DiabetesTrain3)))\n",
    "\n",
    "DiabetesTest3 = DiabetesTakingMed[DiabetesTakingMed['IsTrain']==0].drop('IsTrain', axis=1)\n",
    "DiabetesTest3.index = list(range(len(DiabetesTest3)))\n",
    "\n",
    "testX10 = DiabetesTest3[list(trainXAIC.columns)].drop('readmitted', axis=1)\n",
    "\n",
    "from sklearn.linear_model import LogisticRegression as lgr\n",
    "\n",
    "lgr = lgr()\n",
    "lgr.set_params(C=0.1)\n",
    "\n",
    "lgr.fit(trainX10, trainY10)\n",
    "\n",
    "predicttestprobs10 = lgr.predict_proba(testX10)"
   ]
  },
  {
   "cell_type": "code",
   "execution_count": 34,
   "metadata": {},
   "outputs": [
    {
     "data": {
      "text/plain": [
       "0.6624476214626535"
      ]
     },
     "execution_count": 34,
     "metadata": {},
     "output_type": "execute_result"
    }
   ],
   "source": [
    "#This made everything worse. Wonderful\n",
    "\n",
    "from sklearn.metrics import roc_auc_score as AUC\n",
    "\n",
    "AUC(testY03, predicttestprobs10[:,1])"
   ]
  },
  {
   "cell_type": "code",
   "execution_count": 35,
   "metadata": {},
   "outputs": [
    {
     "name": "stderr",
     "output_type": "stream",
     "text": [
      "C:\\Users\\Dave\\Anaconda3\\lib\\site-packages\\sklearn\\preprocessing\\label.py:151: DeprecationWarning: The truth value of an empty array is ambiguous. Returning False, but in future this will result in an error. Use `array.size > 0` to check that an array is not empty.\n",
      "  if diff:\n"
     ]
    }
   ],
   "source": [
    "from xgboost.sklearn import XGBClassifier as xgb\n",
    "\n",
    "xgb = xgb()\n",
    "xgb.set_params(n_estimators=500, min_child_weight=10, max_depth=5, gamma=5, colsample_bytree=0.6, max_delta_step=5)\n",
    "\n",
    "xgb.fit(trainX, trainY)\n",
    "\n",
    "predictXB = xgb.predict(testX03)\n",
    "predictprobsXB = xgb.predict_proba(testX03)"
   ]
  },
  {
   "cell_type": "code",
   "execution_count": 36,
   "metadata": {},
   "outputs": [
    {
     "data": {
      "text/plain": [
       "0.6768904939858578"
      ]
     },
     "execution_count": 36,
     "metadata": {},
     "output_type": "execute_result"
    }
   ],
   "source": [
    "from sklearn.metrics import roc_auc_score as AUC\n",
    "\n",
    "AUC(testY03, predictprobsXB[:,1])"
   ]
  },
  {
   "cell_type": "code",
   "execution_count": 37,
   "metadata": {},
   "outputs": [],
   "source": [
    "# AUC of 0.66413 for logistic regression\n",
    "# AUC of 0.67689 for parameter-optimized XGBoost"
   ]
  },
  {
   "cell_type": "code",
   "execution_count": 38,
   "metadata": {},
   "outputs": [
    {
     "data": {
      "text/plain": [
       "RandomForestClassifier(bootstrap=True, class_weight=None, criterion='gini',\n",
       "            max_depth=60, max_features='sqrt', max_leaf_nodes=None,\n",
       "            min_impurity_decrease=0.0, min_impurity_split=None,\n",
       "            min_samples_leaf=1, min_samples_split=5,\n",
       "            min_weight_fraction_leaf=0.0, n_estimators=1000, n_jobs=1,\n",
       "            oob_score=False, random_state=None, verbose=0,\n",
       "            warm_start=False)"
      ]
     },
     "execution_count": 38,
     "metadata": {},
     "output_type": "execute_result"
    }
   ],
   "source": [
    "from sklearn.ensemble import RandomForestClassifier as rfc\n",
    "\n",
    "rfc = rfc()\n",
    "rfc.set_params(n_estimators=1000, min_samples_split=5, min_samples_leaf=1, max_features='sqrt', max_depth=60)\n",
    "\n",
    "rfc.fit(trainX, trainY)"
   ]
  },
  {
   "cell_type": "code",
   "execution_count": 39,
   "metadata": {},
   "outputs": [],
   "source": [
    "predictRF = rfc.predict(testX03)\n",
    "predictprobsRF = rfc.predict_proba(testX03)"
   ]
  },
  {
   "cell_type": "code",
   "execution_count": 40,
   "metadata": {},
   "outputs": [
    {
     "data": {
      "text/plain": [
       "0.6617318265998382"
      ]
     },
     "execution_count": 40,
     "metadata": {},
     "output_type": "execute_result"
    }
   ],
   "source": [
    "from sklearn.metrics import roc_auc_score as AUC\n",
    "\n",
    "AUC(testY03, predictprobsRF[:,1])"
   ]
  },
  {
   "cell_type": "code",
   "execution_count": 41,
   "metadata": {},
   "outputs": [],
   "source": [
    "# AUC of 0.66413 for logistic regression\n",
    "# AUC of 0.67689 for parameter-optimized XGBoost\n",
    "# AUC of 0.66173 for random forest"
   ]
  },
  {
   "cell_type": "code",
   "execution_count": 42,
   "metadata": {},
   "outputs": [],
   "source": [
    "from sklearn.neighbors import KNeighborsClassifier as knn\n",
    "\n",
    "knn = knn()\n",
    "knn.set_params(n_neighbors=10)\n",
    "\n",
    "knn.fit(trainX, trainY)\n",
    "\n",
    "predictKN = knn.predict(testX03)\n",
    "predictprobsKN = knn.predict_proba(testX03)"
   ]
  },
  {
   "cell_type": "code",
   "execution_count": 43,
   "metadata": {},
   "outputs": [
    {
     "data": {
      "text/plain": [
       "0.5551912961367955"
      ]
     },
     "execution_count": 43,
     "metadata": {},
     "output_type": "execute_result"
    }
   ],
   "source": [
    "#KNN is atrocious\n",
    "from sklearn.metrics import roc_auc_score as AUC\n",
    "\n",
    "AUC(testY03, predictprobsKN[:,1])"
   ]
  },
  {
   "cell_type": "code",
   "execution_count": 44,
   "metadata": {},
   "outputs": [
    {
     "data": {
      "text/plain": [
       "60"
      ]
     },
     "execution_count": 44,
     "metadata": {},
     "output_type": "execute_result"
    }
   ],
   "source": [
    "len(predictarray[predictarray>1])"
   ]
  },
  {
   "cell_type": "code",
   "execution_count": 45,
   "metadata": {},
   "outputs": [
    {
     "data": {
      "text/plain": [
       "8"
      ]
     },
     "execution_count": 45,
     "metadata": {},
     "output_type": "execute_result"
    }
   ],
   "source": [
    "len(predictarray[predictarray<0])"
   ]
  },
  {
   "cell_type": "code",
   "execution_count": 46,
   "metadata": {},
   "outputs": [],
   "source": [
    "#We have a predictarray essentially bounded by 0 and 1, with very few exceptions"
   ]
  },
  {
   "cell_type": "code",
   "execution_count": 47,
   "metadata": {},
   "outputs": [
    {
     "data": {
      "text/plain": [
       "0.21584492882744952"
      ]
     },
     "execution_count": 47,
     "metadata": {},
     "output_type": "execute_result"
    }
   ],
   "source": [
    "#We also have an average of approximately 20%\n",
    "np.mean(predictarray)"
   ]
  },
  {
   "cell_type": "code",
   "execution_count": 48,
   "metadata": {},
   "outputs": [],
   "source": [
    "predictarrayF = predictarray.copy()\n",
    "\n",
    "predictarrayF[predictarrayF<0] = 0\n",
    "predictarrayF[predictarrayF>1] = 1"
   ]
  },
  {
   "cell_type": "code",
   "execution_count": 54,
   "metadata": {},
   "outputs": [],
   "source": [
    "#What if we shuffled our data to reflect differences in probability of these events occurring?\n",
    "\n",
    "DiabetesAltered = pd.read_csv('DiabetesTakingMed.csv', index_col=0)\n",
    "DiabetesAlteredTrain = DiabetesAltered[DiabetesAltered['IsTrain']==1]"
   ]
  },
  {
   "cell_type": "code",
   "execution_count": 58,
   "metadata": {},
   "outputs": [
    {
     "name": "stderr",
     "output_type": "stream",
     "text": [
      "C:\\Users\\Dave\\Anaconda3\\lib\\site-packages\\ipykernel_launcher.py:1: SettingWithCopyWarning: \n",
      "A value is trying to be set on a copy of a slice from a DataFrame.\n",
      "Try using .loc[row_indexer,col_indexer] = value instead\n",
      "\n",
      "See the caveats in the documentation: http://pandas.pydata.org/pandas-docs/stable/indexing.html#indexing-view-versus-copy\n",
      "  \"\"\"Entry point for launching an IPython kernel.\n",
      "C:\\Users\\Dave\\Anaconda3\\lib\\site-packages\\pandas\\core\\indexing.py:543: SettingWithCopyWarning: \n",
      "A value is trying to be set on a copy of a slice from a DataFrame.\n",
      "Try using .loc[row_indexer,col_indexer] = value instead\n",
      "\n",
      "See the caveats in the documentation: http://pandas.pydata.org/pandas-docs/stable/indexing.html#indexing-view-versus-copy\n",
      "  self.obj[item] = s\n"
     ]
    }
   ],
   "source": [
    "DiabetesAlteredTrain['readmittedprob'] = DiabetesAlteredTrain['readmitted'].copy()\n",
    "DiabetesAlteredTrain.loc[DiabetesAlteredTrain['readmittedprob']==1,'readmittedprob'] = predictarrayF"
   ]
  },
  {
   "cell_type": "code",
   "execution_count": 66,
   "metadata": {},
   "outputs": [
    {
     "name": "stderr",
     "output_type": "stream",
     "text": [
      "C:\\Users\\Dave\\Anaconda3\\lib\\site-packages\\ipykernel_launcher.py:2: SettingWithCopyWarning: \n",
      "A value is trying to be set on a copy of a slice from a DataFrame.\n",
      "Try using .loc[row_indexer,col_indexer] = value instead\n",
      "\n",
      "See the caveats in the documentation: http://pandas.pydata.org/pandas-docs/stable/indexing.html#indexing-view-versus-copy\n",
      "  \n"
     ]
    }
   ],
   "source": [
    "#Set 'readmitted' column to the correct values (2 to 1, 1 to 0):\n",
    "DiabetesAlteredTrain['readmitted'] = DiabetesAlteredTrain['readmitted'].replace([2, 1], [1, 0])"
   ]
  },
  {
   "cell_type": "code",
   "execution_count": 61,
   "metadata": {},
   "outputs": [
    {
     "data": {
      "text/plain": [
       "'Right now, we have all returns <30 days coded as 2; all returns >30 days coded between 0 and 1 based on probability taken\\nfrom a linear regression trained on only the never-returning group and the <30 returning group.  We need to save a copy of\\nthis DF because we will adjust the numbers based on how we want to tune them.'"
      ]
     },
     "execution_count": 61,
     "metadata": {},
     "output_type": "execute_result"
    }
   ],
   "source": [
    "'''Right now, we have all returns <30 days coded as 2; all returns >30 days coded between 0 and 1 based on probability taken\n",
    "from a linear regression trained on only the never-returning group and the <30 returning group.  We need to save a copy of\n",
    "this DF because we will adjust the numbers based on how we want to tune them.'''"
   ]
  },
  {
   "cell_type": "code",
   "execution_count": 76,
   "metadata": {},
   "outputs": [],
   "source": [
    "#First, make a dataset where 1.0 values from the >30 group get equal weight to the <30 returning group:\n",
    "DiabetesAlteredTrain100 = DiabetesAlteredTrain.copy()\n",
    "DiabetesAlteredTrain100['readmittedprob'] = DiabetesAlteredTrain100['readmittedprob'].replace([2], [1])"
   ]
  },
  {
   "cell_type": "code",
   "execution_count": null,
   "metadata": {},
   "outputs": [],
   "source": []
  },
  {
   "cell_type": "code",
   "execution_count": 77,
   "metadata": {},
   "outputs": [],
   "source": [
    "#Make readmittedprob adjust to the total size of readmitted:\n",
    "DiabetesAlteredTrain100['readmittedprob'] = (DiabetesAlteredTrain100['readmittedprob'] * \n",
    "                                             np.sum(DiabetesAlteredTrain100['readmitted'])/np.sum(DiabetesAlteredTrain100['readmittedprob']))"
   ]
  },
  {
   "cell_type": "code",
   "execution_count": 78,
   "metadata": {},
   "outputs": [
    {
     "data": {
      "text/plain": [
       "count    80084.000000\n",
       "mean         0.113456\n",
       "std          0.189136\n",
       "min          0.000000\n",
       "25%          0.000000\n",
       "50%          0.000000\n",
       "75%          0.127133\n",
       "max          0.597408\n",
       "Name: readmittedprob, dtype: float64"
      ]
     },
     "execution_count": 78,
     "metadata": {},
     "output_type": "execute_result"
    }
   ],
   "source": [
    "#This process has forced all positive values to shrink to ~60% probability, which may not be ideal. Let's find out:\n",
    "DiabetesAlteredTrain100['readmittedprob'].describe()"
   ]
  },
  {
   "cell_type": "code",
   "execution_count": 82,
   "metadata": {},
   "outputs": [],
   "source": [
    "problist = DiabetesAlteredTrain100['readmittedprob'].copy()\n",
    "\n",
    "Diabetes100SetOf20 = DiabetesAlteredTrain100.copy()\n",
    "Diabetes100SetOf20 = Diabetes100SetOf20.drop(['readmittedprob', 'IsTrain'], axis=1)\n",
    "PredictedYesProbs = np.zeros(20030)\n",
    "\n",
    "for i in range(20):\n",
    "    newreadmitted = np.zeros(80084)\n",
    "    for j in range(80084):\n",
    "        newreadmitted[j] = np.random.choice([0,1], size=1, p=[1-problist[j], problist[j]])\n",
    "    Diabetes100SetOf20['readmitted'] = pd.Series(newreadmitted)\n",
    "    \n",
    "    temptrainX = Diabetes100SetOf20.drop('readmitted', axis=1)\n",
    "    temptrainY = Diabetes100SetOf20['readmitted']\n",
    "    \n",
    "    from sklearn.linear_model import LogisticRegression as lgr\n",
    "\n",
    "    lgr = lgr()\n",
    "    lgr.set_params(C=0.1)\n",
    "\n",
    "    lgr.fit(temptrainX, temptrainY)\n",
    "\n",
    "    PredictedYesProbs += lgr.predict_proba(testX03)[:,1]/20"
   ]
  },
  {
   "cell_type": "code",
   "execution_count": 83,
   "metadata": {},
   "outputs": [
    {
     "data": {
      "text/plain": [
       "0.6555740964405543"
      ]
     },
     "execution_count": 83,
     "metadata": {},
     "output_type": "execute_result"
    }
   ],
   "source": [
    "#This is interesting. It worked, in the sense that we got an AUC, and it was only slightly lower than our normal LR AUC (0.66)\n",
    "#Would toning it down give us a better score? (Assigning 1.0 in the midle category to a value less than the actual <30)\n",
    "AUC(testY03, PredictedYesProbs)"
   ]
  },
  {
   "cell_type": "code",
   "execution_count": 104,
   "metadata": {},
   "outputs": [],
   "source": [
    "DiabetesAlteredTrain80 = DiabetesAlteredTrain.copy()\n",
    "DiabetesAlteredTrain80['readmittedprob'] = 0.8*DiabetesAlteredTrain80['readmittedprob']\n",
    "DiabetesAlteredTrain80['readmittedprob'] = DiabetesAlteredTrain80['readmittedprob'].replace([1.6], [1])"
   ]
  },
  {
   "cell_type": "code",
   "execution_count": 105,
   "metadata": {},
   "outputs": [
    {
     "data": {
      "text/plain": [
       "count    80084.000000\n",
       "mean         0.113456\n",
       "std          0.202962\n",
       "min          0.000000\n",
       "25%          0.000000\n",
       "50%          0.000000\n",
       "75%          0.110613\n",
       "max          0.649722\n",
       "Name: readmittedprob, dtype: float64"
      ]
     },
     "execution_count": 105,
     "metadata": {},
     "output_type": "execute_result"
    }
   ],
   "source": [
    "#Make readmittedprob adjust to the total size of readmitted:\n",
    "DiabetesAlteredTrain80['readmittedprob'] = (DiabetesAlteredTrain80['readmittedprob'] * \n",
    "                                             np.sum(DiabetesAlteredTrain80['readmitted'])/np.sum(DiabetesAlteredTrain80['readmittedprob']))\n",
    "\n",
    "DiabetesAlteredTrain80['readmittedprob'].describe()\n",
    "#Now, the original <30's are only penalized down to 0.65"
   ]
  },
  {
   "cell_type": "code",
   "execution_count": 106,
   "metadata": {},
   "outputs": [],
   "source": [
    "problist = DiabetesAlteredTrain80['readmittedprob'].copy()\n",
    "\n",
    "Diabetes80SetOf20 = DiabetesAlteredTrain80.copy()\n",
    "Diabetes80SetOf20 = Diabetes80SetOf20.drop(['readmittedprob', 'IsTrain'], axis=1)\n",
    "PredictedYesProbs = np.zeros(20030)\n",
    "\n",
    "for i in range(20):\n",
    "    newreadmitted = np.zeros(80084)\n",
    "    for j in range(80084):\n",
    "        newreadmitted[j] = np.random.choice([0,1], size=1, p=[1-problist[j], problist[j]])\n",
    "    Diabetes80SetOf20['readmitted'] = pd.Series(newreadmitted)\n",
    "    \n",
    "    temptrainX = Diabetes80SetOf20.drop('readmitted', axis=1)\n",
    "    temptrainY = Diabetes80SetOf20['readmitted']\n",
    "    \n",
    "    from sklearn.linear_model import LogisticRegression as lgr\n",
    "\n",
    "    lgr = lgr()\n",
    "    lgr.set_params(C=0.1)\n",
    "\n",
    "    lgr.fit(temptrainX, temptrainY)\n",
    "\n",
    "    PredictedYesProbs += lgr.predict_proba(testX03)[:,1]/20"
   ]
  },
  {
   "cell_type": "code",
   "execution_count": 107,
   "metadata": {},
   "outputs": [
    {
     "data": {
      "text/plain": [
       "0.6571373724857514"
      ]
     },
     "execution_count": 107,
     "metadata": {},
     "output_type": "execute_result"
    }
   ],
   "source": [
    "#Giving 80% of the value is still not ideal\n",
    "AUC(testY03, PredictedYesProbs)"
   ]
  },
  {
   "cell_type": "code",
   "execution_count": 108,
   "metadata": {},
   "outputs": [
    {
     "data": {
      "text/plain": [
       "count    80084.000000\n",
       "mean         0.113456\n",
       "std          0.220967\n",
       "min          0.000000\n",
       "25%          0.000000\n",
       "50%          0.000000\n",
       "75%          0.090922\n",
       "max          0.712079\n",
       "Name: readmittedprob, dtype: float64"
      ]
     },
     "execution_count": 108,
     "metadata": {},
     "output_type": "execute_result"
    }
   ],
   "source": [
    "DiabetesAlteredTrain60 = DiabetesAlteredTrain.copy()\n",
    "DiabetesAlteredTrain60['readmittedprob'] = 0.6*DiabetesAlteredTrain60['readmittedprob']\n",
    "DiabetesAlteredTrain60['readmittedprob'] = DiabetesAlteredTrain60['readmittedprob'].replace([1.2], [1])\n",
    "\n",
    "#Make readmittedprob adjust to the total size of readmitted:\n",
    "DiabetesAlteredTrain60['readmittedprob'] = (DiabetesAlteredTrain60['readmittedprob'] * \n",
    "                                             np.sum(DiabetesAlteredTrain60['readmitted'])/np.sum(DiabetesAlteredTrain60['readmittedprob']))\n",
    "\n",
    "DiabetesAlteredTrain60['readmittedprob'].describe()\n",
    "#At 60%, 1.0 penalized down to 71%"
   ]
  },
  {
   "cell_type": "code",
   "execution_count": 113,
   "metadata": {},
   "outputs": [
    {
     "data": {
      "text/plain": [
       "0.6593965453949968"
      ]
     },
     "execution_count": 113,
     "metadata": {},
     "output_type": "execute_result"
    }
   ],
   "source": [
    "problist = DiabetesAlteredTrain60['readmittedprob'].copy()\n",
    "\n",
    "Diabetes60SetOf20 = DiabetesAlteredTrain60.copy()\n",
    "Diabetes60SetOf20 = Diabetes60SetOf20.drop(['readmittedprob', 'IsTrain'], axis=1)\n",
    "PredictedYesProbs = np.zeros(20030)\n",
    "\n",
    "for i in range(20):\n",
    "    newreadmitted = np.zeros(80084)\n",
    "    for j in range(80084):\n",
    "        newreadmitted[j] = np.random.choice([0,1], size=1, p=[1-problist[j], problist[j]])\n",
    "    Diabetes60SetOf20['readmitted'] = pd.Series(newreadmitted)\n",
    "    \n",
    "    temptrainX = Diabetes60SetOf20.drop('readmitted', axis=1)\n",
    "    temptrainY = Diabetes60SetOf20['readmitted']\n",
    "    \n",
    "    from sklearn.linear_model import LogisticRegression as lgr\n",
    "\n",
    "    lgr = lgr()\n",
    "    lgr.set_params(C=0.1)\n",
    "\n",
    "    lgr.fit(temptrainX, temptrainY)\n",
    "\n",
    "    PredictedYesProbs += lgr.predict_proba(testX03)[:,1]/20\n",
    "    \n",
    "AUC(testY03, PredictedYesProbs)"
   ]
  },
  {
   "cell_type": "code",
   "execution_count": 114,
   "metadata": {},
   "outputs": [
    {
     "data": {
      "text/plain": [
       "count    80084.000000\n",
       "mean         0.113456\n",
       "std          0.231943\n",
       "min          0.000000\n",
       "25%          0.000000\n",
       "50%          0.000000\n",
       "75%          0.079587\n",
       "max          0.747971\n",
       "Name: readmittedprob, dtype: float64"
      ]
     },
     "execution_count": 114,
     "metadata": {},
     "output_type": "execute_result"
    }
   ],
   "source": [
    "DiabetesAlteredTrain50 = DiabetesAlteredTrain.copy()\n",
    "DiabetesAlteredTrain50['readmittedprob'] = 0.5*DiabetesAlteredTrain50['readmittedprob']\n",
    "DiabetesAlteredTrain50['readmittedprob'] = DiabetesAlteredTrain50['readmittedprob'].replace([1.0], [1])\n",
    "\n",
    "#Make readmittedprob adjust to the total size of readmitted:\n",
    "DiabetesAlteredTrain50['readmittedprob'] = (DiabetesAlteredTrain50['readmittedprob'] * \n",
    "                                             np.sum(DiabetesAlteredTrain50['readmitted'])/np.sum(DiabetesAlteredTrain50['readmittedprob']))\n",
    "\n",
    "DiabetesAlteredTrain50['readmittedprob'].describe()\n",
    "#At 50%, 1.0 only penalized to 0.75"
   ]
  },
  {
   "cell_type": "code",
   "execution_count": 115,
   "metadata": {},
   "outputs": [
    {
     "data": {
      "text/plain": [
       "0.6599108683712296"
      ]
     },
     "execution_count": 115,
     "metadata": {},
     "output_type": "execute_result"
    }
   ],
   "source": [
    "problist = DiabetesAlteredTrain50['readmittedprob'].copy()\n",
    "\n",
    "Diabetes50SetOf20 = DiabetesAlteredTrain50.copy()\n",
    "Diabetes50SetOf20 = Diabetes50SetOf20.drop(['readmittedprob', 'IsTrain'], axis=1)\n",
    "PredictedYesProbs = np.zeros(20030)\n",
    "\n",
    "for i in range(20):\n",
    "    newreadmitted = np.zeros(80084)\n",
    "    for j in range(80084):\n",
    "        newreadmitted[j] = np.random.choice([0,1], size=1, p=[1-problist[j], problist[j]])\n",
    "    Diabetes50SetOf20['readmitted'] = pd.Series(newreadmitted)\n",
    "    \n",
    "    temptrainX = Diabetes50SetOf20.drop('readmitted', axis=1)\n",
    "    temptrainY = Diabetes50SetOf20['readmitted']\n",
    "    \n",
    "    from sklearn.linear_model import LogisticRegression as lgr\n",
    "\n",
    "    lgr = lgr()\n",
    "    lgr.set_params(C=0.1)\n",
    "\n",
    "    lgr.fit(temptrainX, temptrainY)\n",
    "\n",
    "    PredictedYesProbs += lgr.predict_proba(testX03)[:,1]/20\n",
    "    \n",
    "AUC(testY03, PredictedYesProbs)"
   ]
  },
  {
   "cell_type": "code",
   "execution_count": 116,
   "metadata": {},
   "outputs": [
    {
     "data": {
      "text/plain": [
       "count    80084.000000\n",
       "mean         0.113456\n",
       "std          0.244515\n",
       "min          0.000000\n",
       "25%          0.000000\n",
       "50%          0.000000\n",
       "75%          0.067050\n",
       "max          0.787675\n",
       "Name: readmittedprob, dtype: float64"
      ]
     },
     "execution_count": 116,
     "metadata": {},
     "output_type": "execute_result"
    }
   ],
   "source": [
    "DiabetesAlteredTrain40 = DiabetesAlteredTrain.copy()\n",
    "DiabetesAlteredTrain40['readmittedprob'] = 0.4*DiabetesAlteredTrain40['readmittedprob']\n",
    "DiabetesAlteredTrain40['readmittedprob'] = DiabetesAlteredTrain40['readmittedprob'].replace([0.8], [1])\n",
    "\n",
    "#Make readmittedprob adjust to the total size of readmitted:\n",
    "DiabetesAlteredTrain40['readmittedprob'] = (DiabetesAlteredTrain40['readmittedprob'] * \n",
    "                                             np.sum(DiabetesAlteredTrain40['readmitted'])/np.sum(DiabetesAlteredTrain40['readmittedprob']))\n",
    "\n",
    "DiabetesAlteredTrain40['readmittedprob'].describe()"
   ]
  },
  {
   "cell_type": "code",
   "execution_count": 118,
   "metadata": {},
   "outputs": [
    {
     "data": {
      "text/plain": [
       "0.6609319766394272"
      ]
     },
     "execution_count": 118,
     "metadata": {},
     "output_type": "execute_result"
    }
   ],
   "source": [
    "problist = DiabetesAlteredTrain40['readmittedprob'].copy()\n",
    "\n",
    "Diabetes40SetOf20 = DiabetesAlteredTrain40.copy()\n",
    "Diabetes40SetOf20 = Diabetes40SetOf20.drop(['readmittedprob', 'IsTrain'], axis=1)\n",
    "PredictedYesProbs = np.zeros(20030)\n",
    "\n",
    "for i in range(20):\n",
    "    newreadmitted = np.zeros(80084)\n",
    "    for j in range(80084):\n",
    "        newreadmitted[j] = np.random.choice([0,1], size=1, p=[1-problist[j], problist[j]])\n",
    "    Diabetes40SetOf20['readmitted'] = pd.Series(newreadmitted)\n",
    "    \n",
    "    temptrainX = Diabetes40SetOf20.drop('readmitted', axis=1)\n",
    "    temptrainY = Diabetes40SetOf20['readmitted']\n",
    "    \n",
    "    from sklearn.linear_model import LogisticRegression as lgr\n",
    "\n",
    "    lgr = lgr()\n",
    "    lgr.set_params(C=0.1)\n",
    "\n",
    "    lgr.fit(temptrainX, temptrainY)\n",
    "\n",
    "    PredictedYesProbs += lgr.predict_proba(testX03)[:,1]/20\n",
    "    \n",
    "AUC(testY03, PredictedYesProbs)"
   ]
  },
  {
   "cell_type": "code",
   "execution_count": 123,
   "metadata": {},
   "outputs": [
    {
     "data": {
      "text/plain": [
       "count    80084.000000\n",
       "mean         0.113456\n",
       "std          0.258951\n",
       "min          0.000000\n",
       "25%          0.000000\n",
       "50%          0.000000\n",
       "75%          0.053106\n",
       "max          0.831829\n",
       "Name: readmittedprob, dtype: float64"
      ]
     },
     "execution_count": 123,
     "metadata": {},
     "output_type": "execute_result"
    }
   ],
   "source": [
    "DiabetesAlteredTrain30 = DiabetesAlteredTrain.copy()\n",
    "DiabetesAlteredTrain30['readmittedprob'] = 0.3*DiabetesAlteredTrain30['readmittedprob']\n",
    "DiabetesAlteredTrain30['readmittedprob'] = DiabetesAlteredTrain30['readmittedprob'].replace([0.6], [1])\n",
    "\n",
    "#Make readmittedprob adjust to the total size of readmitted:\n",
    "DiabetesAlteredTrain30['readmittedprob'] = (DiabetesAlteredTrain30['readmittedprob'] * \n",
    "                                             np.sum(DiabetesAlteredTrain30['readmitted'])/np.sum(DiabetesAlteredTrain30['readmittedprob']))\n",
    "\n",
    "DiabetesAlteredTrain30['readmittedprob'].describe()"
   ]
  },
  {
   "cell_type": "code",
   "execution_count": 124,
   "metadata": {},
   "outputs": [
    {
     "data": {
      "text/plain": [
       "0.6618649634277263"
      ]
     },
     "execution_count": 124,
     "metadata": {},
     "output_type": "execute_result"
    }
   ],
   "source": [
    "problist = DiabetesAlteredTrain30['readmittedprob'].copy()\n",
    "\n",
    "Diabetes30SetOf20 = DiabetesAlteredTrain30.copy()\n",
    "Diabetes30SetOf20 = Diabetes30SetOf20.drop(['readmittedprob', 'IsTrain'], axis=1)\n",
    "PredictedYesProbs = np.zeros(20030)\n",
    "\n",
    "for i in range(20):\n",
    "    newreadmitted = np.zeros(80084)\n",
    "    for j in range(80084):\n",
    "        newreadmitted[j] = np.random.choice([0,1], size=1, p=[1-problist[j], problist[j]])\n",
    "    Diabetes30SetOf20['readmitted'] = pd.Series(newreadmitted)\n",
    "    \n",
    "    temptrainX = Diabetes30SetOf20.drop('readmitted', axis=1)\n",
    "    temptrainY = Diabetes30SetOf20['readmitted']\n",
    "    \n",
    "    from sklearn.linear_model import LogisticRegression as lgr\n",
    "\n",
    "    lgr = lgr()\n",
    "    lgr.set_params(C=0.1)\n",
    "\n",
    "    lgr.fit(temptrainX, temptrainY)\n",
    "\n",
    "    PredictedYesProbs += lgr.predict_proba(testX03)[:,1]/20\n",
    "    \n",
    "AUC(testY03, PredictedYesProbs)"
   ]
  },
  {
   "cell_type": "code",
   "execution_count": 125,
   "metadata": {},
   "outputs": [
    {
     "data": {
      "text/plain": [
       "count    80084.000000\n",
       "mean         0.113456\n",
       "std          0.275579\n",
       "min          0.000000\n",
       "25%          0.000000\n",
       "50%          0.000000\n",
       "75%          0.037507\n",
       "max          0.881228\n",
       "Name: readmittedprob, dtype: float64"
      ]
     },
     "execution_count": 125,
     "metadata": {},
     "output_type": "execute_result"
    }
   ],
   "source": [
    "DiabetesAlteredTrain20 = DiabetesAlteredTrain.copy()\n",
    "DiabetesAlteredTrain20['readmittedprob'] = 0.2*DiabetesAlteredTrain20['readmittedprob']\n",
    "DiabetesAlteredTrain20['readmittedprob'] = DiabetesAlteredTrain20['readmittedprob'].replace([0.4], [1])\n",
    "\n",
    "#Make readmittedprob adjust to the total size of readmitted:\n",
    "DiabetesAlteredTrain20['readmittedprob'] = (DiabetesAlteredTrain20['readmittedprob'] * \n",
    "                                             np.sum(DiabetesAlteredTrain20['readmitted'])/np.sum(DiabetesAlteredTrain20['readmittedprob']))\n",
    "\n",
    "DiabetesAlteredTrain20['readmittedprob'].describe()"
   ]
  },
  {
   "cell_type": "code",
   "execution_count": 127,
   "metadata": {},
   "outputs": [
    {
     "data": {
      "text/plain": [
       "0.6627061590740491"
      ]
     },
     "execution_count": 127,
     "metadata": {},
     "output_type": "execute_result"
    }
   ],
   "source": [
    "problist = DiabetesAlteredTrain20['readmittedprob'].copy()\n",
    "\n",
    "Diabetes20SetOf20 = DiabetesAlteredTrain20.copy()\n",
    "Diabetes20SetOf20 = Diabetes20SetOf20.drop(['readmittedprob', 'IsTrain'], axis=1)\n",
    "PredictedYesProbs = np.zeros(20030)\n",
    "\n",
    "for i in range(20):\n",
    "    newreadmitted = np.zeros(80084)\n",
    "    for j in range(80084):\n",
    "        newreadmitted[j] = np.random.choice([0,1], size=1, p=[1-problist[j], problist[j]])\n",
    "    Diabetes20SetOf20['readmitted'] = pd.Series(newreadmitted)\n",
    "    \n",
    "    temptrainX = Diabetes20SetOf20.drop('readmitted', axis=1)\n",
    "    temptrainY = Diabetes20SetOf20['readmitted']\n",
    "    \n",
    "    from sklearn.linear_model import LogisticRegression as lgr\n",
    "\n",
    "    lgr = lgr()\n",
    "    lgr.set_params(C=0.1)\n",
    "\n",
    "    lgr.fit(temptrainX, temptrainY)\n",
    "\n",
    "    PredictedYesProbs += lgr.predict_proba(testX03)[:,1]/20\n",
    "    \n",
    "AUC(testY03, PredictedYesProbs)"
   ]
  },
  {
   "cell_type": "code",
   "execution_count": 129,
   "metadata": {},
   "outputs": [
    {
     "data": {
      "text/plain": [
       "0.6745317195052136"
      ]
     },
     "execution_count": 129,
     "metadata": {},
     "output_type": "execute_result"
    }
   ],
   "source": [
    "#Let's try a 40% XGB and see if that is any better than a base 0% xgb:\n",
    "\n",
    "from xgboost.sklearn import XGBClassifier as xgb2\n",
    "\n",
    "problist = DiabetesAlteredTrain40['readmittedprob'].copy()\n",
    "\n",
    "Diabetes40SetOf20 = DiabetesAlteredTrain40.copy()\n",
    "Diabetes40SetOf20 = Diabetes40SetOf20.drop(['readmittedprob', 'IsTrain'], axis=1)\n",
    "PredictedYesProbs = np.zeros(20030)\n",
    "\n",
    "for i in range(20):\n",
    "    newreadmitted = np.zeros(80084)\n",
    "    for j in range(80084):\n",
    "        newreadmitted[j] = np.random.choice([0,1], size=1, p=[1-problist[j], problist[j]])\n",
    "    Diabetes40SetOf20['readmitted'] = pd.Series(newreadmitted)\n",
    "    \n",
    "    temptrainX = Diabetes40SetOf20.drop('readmitted', axis=1)\n",
    "    temptrainY = Diabetes40SetOf20['readmitted']\n",
    "    \n",
    "    xgb = xgb2()\n",
    "    xgb.set_params(n_estimators=500, min_child_weight=10, max_depth=5, gamma=5, colsample_bytree=0.6, max_delta_step=5)\n",
    "\n",
    "    xgb.fit(temptrainX, temptrainY)\n",
    "\n",
    "    PredictedYesProbs += xgb.predict_proba(testX03)[:,1]/20\n",
    "    \n",
    "AUC(testY03, PredictedYesProbs)"
   ]
  },
  {
   "cell_type": "code",
   "execution_count": 130,
   "metadata": {},
   "outputs": [
    {
     "data": {
      "text/plain": [
       "0.6753665800254492"
      ]
     },
     "execution_count": 130,
     "metadata": {},
     "output_type": "execute_result"
    }
   ],
   "source": [
    "#Let's try a 20% XGB and see if that is any better than a base 0% xgb:\n",
    "\n",
    "from xgboost.sklearn import XGBClassifier as xgb2\n",
    "\n",
    "problist = DiabetesAlteredTrain20['readmittedprob'].copy()\n",
    "\n",
    "Diabetes20SetOf20 = DiabetesAlteredTrain20.copy()\n",
    "Diabetes20SetOf20 = Diabetes20SetOf20.drop(['readmittedprob', 'IsTrain'], axis=1)\n",
    "PredictedYesProbs = np.zeros(20030)\n",
    "\n",
    "for i in range(20):\n",
    "    newreadmitted = np.zeros(80084)\n",
    "    for j in range(80084):\n",
    "        newreadmitted[j] = np.random.choice([0,1], size=1, p=[1-problist[j], problist[j]])\n",
    "    Diabetes40SetOf20['readmitted'] = pd.Series(newreadmitted)\n",
    "    \n",
    "    temptrainX = Diabetes20SetOf20.drop('readmitted', axis=1)\n",
    "    temptrainY = Diabetes20SetOf20['readmitted']\n",
    "    \n",
    "    xgb = xgb2()\n",
    "    xgb.set_params(n_estimators=500, min_child_weight=10, max_depth=5, gamma=5, colsample_bytree=0.6, max_delta_step=5)\n",
    "\n",
    "    xgb.fit(temptrainX, temptrainY)\n",
    "\n",
    "    PredictedYesProbs += xgb.predict_proba(testX03)[:,1]/20\n",
    "    \n",
    "AUC(testY03, PredictedYesProbs)"
   ]
  },
  {
   "cell_type": "code",
   "execution_count": 158,
   "metadata": {},
   "outputs": [],
   "source": [
    "devontrain = pd.read_csv('db_train.csv')\n",
    "devontest = pd.read_csv('db_test.csv')\n",
    "\n",
    "devontrain['IsTrain'] = 1\n",
    "devontest['IsTrain'] = 0\n",
    "\n",
    "devonDF = pd.concat([devontrain, devontest], axis=0)"
   ]
  },
  {
   "cell_type": "code",
   "execution_count": 160,
   "metadata": {},
   "outputs": [],
   "source": [
    "devonDF = devonDF.astype('str')\n",
    "\n",
    "from sklearn.preprocessing import LabelEncoder\n",
    "\n",
    "le = LabelEncoder()\n",
    "\n",
    "for item in ['race', 'gender', 'age', 'A1Cresult', 'metformin', 'glipizide', 'glyburide', 'pioglitazone', 'rosiglitazone', \n",
    "             'insulin', 'change', 'diabetesMed', 'diag_1_cat', 'diag_Circulatory', 'diag_Diabetes', 'diag_Digestive', \n",
    "             'diag_Genitourinary', 'diag_Injury', 'diag_Musculoskeletal', 'diag_Neoplasms', 'diag_Other', \n",
    "             'diag_Respiratory', 'admission_type_id_cat', 'discharge_disposition_id_cat', 'admission_source_id_cat', \n",
    "             'glimepiride.bi']:\n",
    "    \n",
    "\n",
    "    devonDF[item] = le.fit_transform(devonDF[item])"
   ]
  },
  {
   "cell_type": "code",
   "execution_count": 162,
   "metadata": {},
   "outputs": [],
   "source": [
    "for var in list(devonDF.columns):\n",
    "    devonDF[var] = pd.to_numeric(devonDF[var])"
   ]
  },
  {
   "cell_type": "code",
   "execution_count": 172,
   "metadata": {},
   "outputs": [
    {
     "name": "stderr",
     "output_type": "stream",
     "text": [
      "C:\\Users\\Dave\\Anaconda3\\lib\\site-packages\\sklearn\\preprocessing\\label.py:151: DeprecationWarning: The truth value of an empty array is ambiguous. Returning False, but in future this will result in an error. Use `array.size > 0` to check that an array is not empty.\n",
      "  if diff:\n"
     ]
    }
   ],
   "source": [
    "devontrainX = devonDF[devonDF['IsTrain']==1].copy().drop('readmitted', axis=1)\n",
    "devontrainY = devonDF[devonDF['IsTrain']==1].copy()['readmitted']\n",
    "devontrainY[devontrainY<0] = 0\n",
    "devontrainY[devontrainY>0] = 1\n",
    "devontestX = devonDF[devonDF['IsTrain']==0].copy().drop('readmitted', axis=1)\n",
    "devontestY = devonDF[devonDF['IsTrain']==0].copy()['readmitted']\n",
    "devontestY[devontestY<0] = 0\n",
    "devontestY[devontestY>0] = 1\n",
    "\n",
    "from xgboost.sklearn import XGBClassifier as xgb\n",
    "\n",
    "xgb2 = xgb()\n",
    "xgb2.set_params(n_estimators=500, min_child_weight=10, max_depth=5, gamma=5, colsample_bytree=0.6, max_delta_step=5)\n",
    "\n",
    "xgb2.fit(devontrainX, devontrainY)\n",
    "\n",
    "predictDXB = xgb2.predict(devontestX)\n",
    "predictprobsDXB = xgb2.predict_proba(devontestX)"
   ]
  },
  {
   "cell_type": "code",
   "execution_count": 174,
   "metadata": {},
   "outputs": [
    {
     "data": {
      "text/plain": [
       "0.6785622482174802"
      ]
     },
     "execution_count": 174,
     "metadata": {},
     "output_type": "execute_result"
    }
   ],
   "source": [
    "AUC(devontestY, predictprobsDXB[:,1])"
   ]
  },
  {
   "cell_type": "code",
   "execution_count": 176,
   "metadata": {},
   "outputs": [
    {
     "data": {
      "text/plain": [
       "0.6576307436751204"
      ]
     },
     "execution_count": 176,
     "metadata": {},
     "output_type": "execute_result"
    }
   ],
   "source": [
    "from sklearn.linear_model import LogisticRegression as lgr\n",
    "\n",
    "lgr = lgr()\n",
    "lgr.set_params(C=0.1)\n",
    "\n",
    "lgr.fit(devontrainX, devontrainY)\n",
    "\n",
    "predicttestprobsLGRD = lgr.predict_proba(devontestX)\n",
    "\n",
    "AUC(devontestY, predicttestprobsLGRD[:,1])"
   ]
  },
  {
   "cell_type": "code",
   "execution_count": 177,
   "metadata": {},
   "outputs": [
    {
     "name": "stderr",
     "output_type": "stream",
     "text": [
      "Exception ignored in: <bound method DMatrix.__del__ of <xgboost.core.DMatrix object at 0x0000021893225710>>\n",
      "Traceback (most recent call last):\n",
      "  File \"C:\\Users\\Dave\\Anaconda3\\lib\\site-packages\\xgboost\\core.py\", line 482, in __del__\n",
      "    if self.handle is not None:\n",
      "AttributeError: 'DMatrix' object has no attribute 'handle'\n"
     ]
    },
    {
     "data": {
      "text/plain": [
       "0.6602773262812346"
      ]
     },
     "execution_count": 177,
     "metadata": {},
     "output_type": "execute_result"
    }
   ],
   "source": [
    "from sklearn.ensemble import RandomForestClassifier as rfc\n",
    "\n",
    "rfc = rfc()\n",
    "rfc.set_params(n_estimators=1000, min_samples_split=5, min_samples_leaf=1, max_features='sqrt', max_depth=60)\n",
    "\n",
    "rfc.fit(devontrainX, devontrainY)\n",
    "\n",
    "predicttestprobsRFD = rfc.predict_proba(devontestX)\n",
    "\n",
    "AUC(devontestY, predicttestprobsRFD[:,1])"
   ]
  },
  {
   "cell_type": "code",
   "execution_count": 179,
   "metadata": {},
   "outputs": [
    {
     "ename": "ValueError",
     "evalue": "feature_names mismatch: ['Unnamed: 0', 'age', 'time_in_hospital', 'num_lab_procedures', 'num_procedures', 'num_medications', 'number_outpatient', 'number_emergency', 'number_inpatient', 'number_diagnoses', 'race_Caucasian', 'race_AfricanAmerican', 'race_Other', 'race_Asian', 'race_Hispanic', 'gender_Male', 'gender_Unknown/Invalid', 'admission_type_id_Unknown', 'admission_type_id_Emergency', 'admission_type_id_Urgent', 'admission_type_id_Elective', 'discharge_disposition_id_Unknown', 'discharge_disposition_id_Discharged to home', 'discharge_disposition_id_Discharged/transferred to SNF', 'discharge_disposition_id_Discharged/transferred to home with home health service', 'discharge_disposition_id_Discharged/transferred to another short term hospital', 'discharge_disposition_id_Discharged/transferred to another type of inpatient care institution', 'discharge_disposition_id_Discharged/transferred to ICF', 'discharge_disposition_id_Discharged/transferred/referred to this institution for outpatient services', 'discharge_disposition_id_Discharged/transferred to another rehab fac including rehab units of a hospital.', 'discharge_disposition_id_Discharged/transferred/referred to a psychiatric hospital of psychiatric distinct part unit of a hospital', 'admission_source_id_Physician Referral', 'admission_source_id_Emergency Room', 'admission_source_id_Clinic Referral', 'admission_source_id_Transfer from a hospital', 'admission_source_id_Unknown', 'admission_source_id_Transfer from another health care facility', 'admission_source_id_HMO Referral', 'admission_source_id_Court/Law Enforcement', 'medical_specialty_InternalMedicine', 'medical_specialty_Family/GeneralPractice', 'medical_specialty_Cardiology', 'medical_specialty_Surgery-General', 'medical_specialty_Surgery-Cardiovascular/Thoracic', 'medical_specialty_Nephrology', 'medical_specialty_Orthopedics-Reconstructive', 'medical_specialty_Gastroenterology', 'medical_specialty_Psychiatry', 'medical_specialty_Pulmonology', 'medical_specialty_Emergency/Trauma', 'medical_specialty_Pediatrics-CriticalCare', 'medical_specialty_Surgery-Plastic', 'medical_specialty_Orthopedics', 'medical_specialty_Radiologist', 'diag_1_Diabetes', 'diag_1_Neoplasms', 'diag_1_Circulatory', 'diag_1_Respiratory', 'diag_1_Injury', 'diag_1_Musculoskeletal', 'diag_1_Digestive', 'diag_1_Genitourinary', 'diag_1_Mental Disorders', 'diag_2_Diabetes', 'diag_2_Neoplasms', 'diag_2_Circulatory', 'diag_2_Respiratory', 'diag_2_Injury', 'diag_2_Musculoskeletal', 'diag_2_Genitourinary', 'diag_2_Digestive', 'diag_2_Mental Disorders', 'diag_3_Neoplasms', 'diag_3_Circulatory', 'diag_3_Diabetes', 'diag_3_Respiratory', 'diag_3_Genitourinary', 'diag_3_Injury', 'diag_3_Musculoskeletal', 'diag_3_Digestive', 'max_glu_serum_None', 'max_glu_serum_>300', 'max_glu_serum_Norm', 'max_glu_serum_>200', 'A1Cresult_>7', 'A1Cresult_>8', 'A1Cresult_Norm', 'metformin_Steady', 'metformin_Up', 'metformin_Down', 'repaglinide_Steady', 'repaglinide_Down', 'repaglinide_Up', 'glimepiride_Steady', 'glimepiride_Down', 'glimepiride_Up', 'glipizide_Steady', 'glipizide_Up', 'glipizide_Down', 'glyburide_Steady', 'glyburide_Up', 'glyburide_Down', 'pioglitazone_Up', 'pioglitazone_Steady', 'pioglitazone_Down', 'rosiglitazone_Steady', 'rosiglitazone_Up', 'rosiglitazone_Down', 'insulin_Up', 'insulin_Steady', 'insulin_Down', 'change_Ch', 'diabetesMed_Yes'] ['Unnamed: 0', 'age', 'time_in_hospital', 'num_lab_procedures', 'num_procedures', 'num_medications', 'number_outpatient', 'number_emergency', 'number_inpatient', 'number_diagnoses', 'race_AfricanAmerican', 'race_Caucasian', 'race_Hispanic', 'race_Asian', 'gender_Male', 'admission_type_id_Emergency', 'admission_type_id_Urgent', 'admission_type_id_Elective', 'admission_type_id_Unknown', 'admission_type_id_Trauma Center', 'discharge_disposition_id_Discharged to home', 'discharge_disposition_id_Discharged/transferred to SNF', 'discharge_disposition_id_Discharged/transferred to another type of inpatient care institution', 'discharge_disposition_id_Discharged/transferred to another short term hospital', 'discharge_disposition_id_Discharged/transferred to home with home health service', 'discharge_disposition_id_Unknown', 'discharge_disposition_id_Left AMA', 'discharge_disposition_id_Discharged/transferred to ICF', 'discharge_disposition_id_Discharged/transferred to home under care of Home IV provider', 'discharge_disposition_id_Hospice / medical facility', 'discharge_disposition_id_Hospice / home', 'discharge_disposition_id_Discharged/transferred to another rehab fac including rehab units of a hospital.', 'discharge_disposition_id_Admitted as an inpatient to this hospital', 'discharge_disposition_id_Discharged/transferred to a long term care hospital.', 'discharge_disposition_id_Discharged/transferred/referred another institution for outpatient services', 'discharge_disposition_id_Discharged/transferred/referred to this institution for outpatient services', 'discharge_disposition_id_Discharged/transferred within this institution to Medicare approved swing bed', 'discharge_disposition_id_Discharged/transferred/referred to a psychiatric hospital of psychiatric distinct part unit of a hospital', 'discharge_disposition_id_Discharged/transferred to a federal health care facility.', 'discharge_disposition_id_Discharged/transferred to a nursing facility certified under Medicaid but not certified under Medicare.', 'admission_source_id_Emergency Room', 'admission_source_id_Transfer from a hospital', 'admission_source_id_Clinic Referral', 'admission_source_id_Physician Referral', 'admission_source_id_Unknown', 'admission_source_id_Transfer from a Skilled Nursing Facility (SNF)', 'admission_source_id_HMO Referral', 'admission_source_id_Transfer from another health care facility', 'admission_source_id_Extramural Birth', 'admission_source_id_Transfer from critical access hospital', 'admission_source_id_Court/Law Enforcement', 'admission_source_id_Transfer from hospital inpt/same fac reslt in a sep claim', 'admission_source_id_Transfer from Ambulatory Surgery Center', 'medical_specialty_Family/GeneralPractice', 'medical_specialty_Cardiology', 'medical_specialty_Orthopedics', 'medical_specialty_Gastroenterology', 'medical_specialty_InternalMedicine', 'medical_specialty_Emergency/Trauma', 'medical_specialty_Surgery-General', 'medical_specialty_Psychiatry', 'medical_specialty_Orthopedics-Reconstructive', 'medical_specialty_ObstetricsandGynecology', 'medical_specialty_Surgery-Neuro', 'medical_specialty_Hematology/Oncology', 'medical_specialty_Pulmonology', 'medical_specialty_Surgery-Cardiovascular/Thoracic', 'medical_specialty_Nephrology', 'medical_specialty_Pediatrics-CriticalCare', 'medical_specialty_Endocrinology', 'medical_specialty_Pediatrics-Endocrinology', 'medical_specialty_Urology', 'medical_specialty_Radiology', 'medical_specialty_Anesthesiology-Pediatric', 'medical_specialty_Psychiatry-Child/Adolescent', 'medical_specialty_Pediatrics', 'medical_specialty_Pediatrics-Pulmonology', 'medical_specialty_Gynecology', 'medical_specialty_Obsterics&Gynecology-GynecologicOnco', 'medical_specialty_Surgery-Plastic', 'medical_specialty_Otolaryngology', 'medical_specialty_PhysicalMedicineandRehabilitation', 'medical_specialty_InfectiousDiseases', 'medical_specialty_Neurology', 'medical_specialty_Oncology', 'medical_specialty_Psychology', 'medical_specialty_Pediatrics-Hematology-Oncology', 'medical_specialty_Rheumatology', 'medical_specialty_Surgery-Colon&Rectal', 'medical_specialty_Dentistry', 'medical_specialty_Pediatrics-AllergyandImmunology', 'medical_specialty_Pediatrics-Neurology', 'medical_specialty_AllergyandImmunology', 'medical_specialty_Surgery-Vascular', 'medical_specialty_Surgery-Thoracic', 'medical_specialty_Surgery-Pediatric', 'medical_specialty_Surgery-Cardiovascular', 'medical_specialty_Osteopath', 'medical_specialty_Anesthesiology', 'medical_specialty_Podiatry', 'medical_specialty_Surgeon', 'medical_specialty_Hematology', 'medical_specialty_Obstetrics', 'medical_specialty_Surgery-Maxillofacial', 'medical_specialty_Radiologist', 'medical_specialty_Speech', 'medical_specialty_Pathology', 'medical_specialty_Ophthalmology', 'medical_specialty_Cardiology-Pediatric', 'medical_specialty_SurgicalSpecialty', 'medical_specialty_Hospitalist', 'medical_specialty_PhysicianNotFound', 'medical_specialty_OutreachServices', 'diag_1_Circulatory', 'diag_1_Diabetes', 'diag_1_Neoplasms', 'diag_1_Respiratory', 'diag_1_Injury', 'diag_1_Musculoskeletal', 'diag_1_Digestive', 'diag_1_Genitourinary', 'diag_1_Mental Disorders', 'diag_2_Diabetes', 'diag_2_Circulatory', 'diag_2_Respiratory', 'diag_2_Neoplasms', 'diag_2_Digestive', 'diag_2_Injury', 'diag_2_Mental Disorders', 'diag_2_Genitourinary', 'diag_2_Musculoskeletal', 'diag_3_Injury', 'diag_3_Diabetes', 'diag_3_Circulatory', 'diag_3_Neoplasms', 'diag_3_Digestive', 'diag_3_Respiratory', 'diag_3_Musculoskeletal', 'diag_3_Genitourinary', 'max_glu_serum_None', 'max_glu_serum_>300', 'max_glu_serum_>200', 'max_glu_serum_Norm', 'A1Cresult_Norm', 'A1Cresult_>8', 'A1Cresult_>7', 'metformin_Steady', 'metformin_Up', 'metformin_Down', 'repaglinide_Up', 'repaglinide_Steady', 'repaglinide_Down', 'glimepiride_Steady', 'glimepiride_Up', 'glimepiride_Down', 'glipizide_Steady', 'glipizide_Up', 'glipizide_Down', 'glyburide_Steady', 'glyburide_Up', 'glyburide_Down', 'pioglitazone_Steady', 'pioglitazone_Down', 'pioglitazone_Up', 'rosiglitazone_Steady', 'rosiglitazone_Down', 'rosiglitazone_Up', 'insulin_Steady', 'insulin_Down', 'insulin_Up', 'change_Ch', 'diabetesMed_Yes']\nexpected gender_Unknown/Invalid, race_Other in input data\ntraining data did not have the following fields: medical_specialty_Surgery-Cardiovascular, medical_specialty_Rheumatology, admission_source_id_Transfer from critical access hospital, medical_specialty_Pediatrics-Endocrinology, medical_specialty_Psychiatry-Child/Adolescent, medical_specialty_Pediatrics-Neurology, medical_specialty_Surgeon, medical_specialty_Cardiology-Pediatric, discharge_disposition_id_Left AMA, discharge_disposition_id_Discharged/transferred to home under care of Home IV provider, medical_specialty_Urology, discharge_disposition_id_Discharged/transferred to a federal health care facility., medical_specialty_Ophthalmology, medical_specialty_Surgery-Maxillofacial, medical_specialty_Anesthesiology, medical_specialty_Pediatrics, medical_specialty_Surgery-Neuro, discharge_disposition_id_Discharged/transferred/referred another institution for outpatient services, admission_source_id_Transfer from hospital inpt/same fac reslt in a sep claim, medical_specialty_Pediatrics-Hematology-Oncology, admission_source_id_Transfer from a Skilled Nursing Facility (SNF), discharge_disposition_id_Hospice / home, admission_source_id_Extramural Birth, medical_specialty_Obsterics&Gynecology-GynecologicOnco, medical_specialty_Endocrinology, admission_type_id_Trauma Center, discharge_disposition_id_Hospice / medical facility, medical_specialty_Surgery-Vascular, medical_specialty_AllergyandImmunology, discharge_disposition_id_Discharged/transferred within this institution to Medicare approved swing bed, medical_specialty_Osteopath, medical_specialty_Hospitalist, medical_specialty_Pathology, medical_specialty_Gynecology, medical_specialty_OutreachServices, medical_specialty_ObstetricsandGynecology, medical_specialty_Pediatrics-AllergyandImmunology, medical_specialty_Oncology, medical_specialty_Speech, medical_specialty_Surgery-Pediatric, medical_specialty_InfectiousDiseases, medical_specialty_Radiology, medical_specialty_PhysicalMedicineandRehabilitation, discharge_disposition_id_Admitted as an inpatient to this hospital, medical_specialty_Surgery-Thoracic, discharge_disposition_id_Discharged/transferred to a long term care hospital., medical_specialty_Psychology, medical_specialty_PhysicianNotFound, medical_specialty_Otolaryngology, medical_specialty_Hematology, medical_specialty_SurgicalSpecialty, medical_specialty_Podiatry, medical_specialty_Anesthesiology-Pediatric, admission_source_id_Transfer from Ambulatory Surgery Center, medical_specialty_Hematology/Oncology, medical_specialty_Pediatrics-Pulmonology, medical_specialty_Neurology, medical_specialty_Surgery-Colon&Rectal, medical_specialty_Obstetrics, medical_specialty_Dentistry, discharge_disposition_id_Discharged/transferred to a nursing facility certified under Medicaid but not certified under Medicare.",
     "output_type": "error",
     "traceback": [
      "\u001b[1;31m---------------------------------------------------------------------------\u001b[0m",
      "\u001b[1;31mValueError\u001b[0m                                Traceback (most recent call last)",
      "\u001b[1;32m<ipython-input-179-620c82052397>\u001b[0m in \u001b[0;36m<module>\u001b[1;34m()\u001b[0m\n\u001b[0;32m     15\u001b[0m \u001b[0mxgb2\u001b[0m\u001b[1;33m.\u001b[0m\u001b[0mfit\u001b[0m\u001b[1;33m(\u001b[0m\u001b[0mtimtrainX\u001b[0m\u001b[1;33m,\u001b[0m \u001b[0mtimtrainY\u001b[0m\u001b[1;33m)\u001b[0m\u001b[1;33m\u001b[0m\u001b[0m\n\u001b[0;32m     16\u001b[0m \u001b[1;33m\u001b[0m\u001b[0m\n\u001b[1;32m---> 17\u001b[1;33m \u001b[0mpredictTXB\u001b[0m \u001b[1;33m=\u001b[0m \u001b[0mxgb2\u001b[0m\u001b[1;33m.\u001b[0m\u001b[0mpredict\u001b[0m\u001b[1;33m(\u001b[0m\u001b[0mtimtestX\u001b[0m\u001b[1;33m)\u001b[0m\u001b[1;33m\u001b[0m\u001b[0m\n\u001b[0m\u001b[0;32m     18\u001b[0m \u001b[0mpredictprobsTXB\u001b[0m \u001b[1;33m=\u001b[0m \u001b[0mxgb2\u001b[0m\u001b[1;33m.\u001b[0m\u001b[0mpredict_proba\u001b[0m\u001b[1;33m(\u001b[0m\u001b[0mtimtestX\u001b[0m\u001b[1;33m)\u001b[0m\u001b[1;33m\u001b[0m\u001b[0m\n",
      "\u001b[1;32m~\\Anaconda3\\lib\\site-packages\\xgboost\\sklearn.py\u001b[0m in \u001b[0;36mpredict\u001b[1;34m(self, data, output_margin, ntree_limit)\u001b[0m\n\u001b[0;32m    644\u001b[0m         class_probs = self.get_booster().predict(test_dmatrix,\n\u001b[0;32m    645\u001b[0m                                                  \u001b[0moutput_margin\u001b[0m\u001b[1;33m=\u001b[0m\u001b[0moutput_margin\u001b[0m\u001b[1;33m,\u001b[0m\u001b[1;33m\u001b[0m\u001b[0m\n\u001b[1;32m--> 646\u001b[1;33m                                                  ntree_limit=ntree_limit)\n\u001b[0m\u001b[0;32m    647\u001b[0m         \u001b[1;32mif\u001b[0m \u001b[0mlen\u001b[0m\u001b[1;33m(\u001b[0m\u001b[0mclass_probs\u001b[0m\u001b[1;33m.\u001b[0m\u001b[0mshape\u001b[0m\u001b[1;33m)\u001b[0m \u001b[1;33m>\u001b[0m \u001b[1;36m1\u001b[0m\u001b[1;33m:\u001b[0m\u001b[1;33m\u001b[0m\u001b[0m\n\u001b[0;32m    648\u001b[0m             \u001b[0mcolumn_indexes\u001b[0m \u001b[1;33m=\u001b[0m \u001b[0mnp\u001b[0m\u001b[1;33m.\u001b[0m\u001b[0margmax\u001b[0m\u001b[1;33m(\u001b[0m\u001b[0mclass_probs\u001b[0m\u001b[1;33m,\u001b[0m \u001b[0maxis\u001b[0m\u001b[1;33m=\u001b[0m\u001b[1;36m1\u001b[0m\u001b[1;33m)\u001b[0m\u001b[1;33m\u001b[0m\u001b[0m\n",
      "\u001b[1;32m~\\Anaconda3\\lib\\site-packages\\xgboost\\core.py\u001b[0m in \u001b[0;36mpredict\u001b[1;34m(self, data, output_margin, ntree_limit, pred_leaf, pred_contribs, approx_contribs, pred_interactions, validate_features)\u001b[0m\n\u001b[0;32m   1192\u001b[0m \u001b[1;33m\u001b[0m\u001b[0m\n\u001b[0;32m   1193\u001b[0m         \u001b[1;32mif\u001b[0m \u001b[0mvalidate_features\u001b[0m\u001b[1;33m:\u001b[0m\u001b[1;33m\u001b[0m\u001b[0m\n\u001b[1;32m-> 1194\u001b[1;33m             \u001b[0mself\u001b[0m\u001b[1;33m.\u001b[0m\u001b[0m_validate_features\u001b[0m\u001b[1;33m(\u001b[0m\u001b[0mdata\u001b[0m\u001b[1;33m)\u001b[0m\u001b[1;33m\u001b[0m\u001b[0m\n\u001b[0m\u001b[0;32m   1195\u001b[0m \u001b[1;33m\u001b[0m\u001b[0m\n\u001b[0;32m   1196\u001b[0m         \u001b[0mlength\u001b[0m \u001b[1;33m=\u001b[0m \u001b[0mc_bst_ulong\u001b[0m\u001b[1;33m(\u001b[0m\u001b[1;33m)\u001b[0m\u001b[1;33m\u001b[0m\u001b[0m\n",
      "\u001b[1;32m~\\Anaconda3\\lib\\site-packages\\xgboost\\core.py\u001b[0m in \u001b[0;36m_validate_features\u001b[1;34m(self, data)\u001b[0m\n\u001b[0;32m   1476\u001b[0m \u001b[1;33m\u001b[0m\u001b[0m\n\u001b[0;32m   1477\u001b[0m                 raise ValueError(msg.format(self.feature_names,\n\u001b[1;32m-> 1478\u001b[1;33m                                             data.feature_names))\n\u001b[0m\u001b[0;32m   1479\u001b[0m \u001b[1;33m\u001b[0m\u001b[0m\n\u001b[0;32m   1480\u001b[0m     \u001b[1;32mdef\u001b[0m \u001b[0mget_split_value_histogram\u001b[0m\u001b[1;33m(\u001b[0m\u001b[0mself\u001b[0m\u001b[1;33m,\u001b[0m \u001b[0mfeature\u001b[0m\u001b[1;33m,\u001b[0m \u001b[0mfmap\u001b[0m\u001b[1;33m=\u001b[0m\u001b[1;34m''\u001b[0m\u001b[1;33m,\u001b[0m \u001b[0mbins\u001b[0m\u001b[1;33m=\u001b[0m\u001b[1;32mNone\u001b[0m\u001b[1;33m,\u001b[0m \u001b[0mas_pandas\u001b[0m\u001b[1;33m=\u001b[0m\u001b[1;32mTrue\u001b[0m\u001b[1;33m)\u001b[0m\u001b[1;33m:\u001b[0m\u001b[1;33m\u001b[0m\u001b[0m\n",
      "\u001b[1;31mValueError\u001b[0m: feature_names mismatch: ['Unnamed: 0', 'age', 'time_in_hospital', 'num_lab_procedures', 'num_procedures', 'num_medications', 'number_outpatient', 'number_emergency', 'number_inpatient', 'number_diagnoses', 'race_Caucasian', 'race_AfricanAmerican', 'race_Other', 'race_Asian', 'race_Hispanic', 'gender_Male', 'gender_Unknown/Invalid', 'admission_type_id_Unknown', 'admission_type_id_Emergency', 'admission_type_id_Urgent', 'admission_type_id_Elective', 'discharge_disposition_id_Unknown', 'discharge_disposition_id_Discharged to home', 'discharge_disposition_id_Discharged/transferred to SNF', 'discharge_disposition_id_Discharged/transferred to home with home health service', 'discharge_disposition_id_Discharged/transferred to another short term hospital', 'discharge_disposition_id_Discharged/transferred to another type of inpatient care institution', 'discharge_disposition_id_Discharged/transferred to ICF', 'discharge_disposition_id_Discharged/transferred/referred to this institution for outpatient services', 'discharge_disposition_id_Discharged/transferred to another rehab fac including rehab units of a hospital.', 'discharge_disposition_id_Discharged/transferred/referred to a psychiatric hospital of psychiatric distinct part unit of a hospital', 'admission_source_id_Physician Referral', 'admission_source_id_Emergency Room', 'admission_source_id_Clinic Referral', 'admission_source_id_Transfer from a hospital', 'admission_source_id_Unknown', 'admission_source_id_Transfer from another health care facility', 'admission_source_id_HMO Referral', 'admission_source_id_Court/Law Enforcement', 'medical_specialty_InternalMedicine', 'medical_specialty_Family/GeneralPractice', 'medical_specialty_Cardiology', 'medical_specialty_Surgery-General', 'medical_specialty_Surgery-Cardiovascular/Thoracic', 'medical_specialty_Nephrology', 'medical_specialty_Orthopedics-Reconstructive', 'medical_specialty_Gastroenterology', 'medical_specialty_Psychiatry', 'medical_specialty_Pulmonology', 'medical_specialty_Emergency/Trauma', 'medical_specialty_Pediatrics-CriticalCare', 'medical_specialty_Surgery-Plastic', 'medical_specialty_Orthopedics', 'medical_specialty_Radiologist', 'diag_1_Diabetes', 'diag_1_Neoplasms', 'diag_1_Circulatory', 'diag_1_Respiratory', 'diag_1_Injury', 'diag_1_Musculoskeletal', 'diag_1_Digestive', 'diag_1_Genitourinary', 'diag_1_Mental Disorders', 'diag_2_Diabetes', 'diag_2_Neoplasms', 'diag_2_Circulatory', 'diag_2_Respiratory', 'diag_2_Injury', 'diag_2_Musculoskeletal', 'diag_2_Genitourinary', 'diag_2_Digestive', 'diag_2_Mental Disorders', 'diag_3_Neoplasms', 'diag_3_Circulatory', 'diag_3_Diabetes', 'diag_3_Respiratory', 'diag_3_Genitourinary', 'diag_3_Injury', 'diag_3_Musculoskeletal', 'diag_3_Digestive', 'max_glu_serum_None', 'max_glu_serum_>300', 'max_glu_serum_Norm', 'max_glu_serum_>200', 'A1Cresult_>7', 'A1Cresult_>8', 'A1Cresult_Norm', 'metformin_Steady', 'metformin_Up', 'metformin_Down', 'repaglinide_Steady', 'repaglinide_Down', 'repaglinide_Up', 'glimepiride_Steady', 'glimepiride_Down', 'glimepiride_Up', 'glipizide_Steady', 'glipizide_Up', 'glipizide_Down', 'glyburide_Steady', 'glyburide_Up', 'glyburide_Down', 'pioglitazone_Up', 'pioglitazone_Steady', 'pioglitazone_Down', 'rosiglitazone_Steady', 'rosiglitazone_Up', 'rosiglitazone_Down', 'insulin_Up', 'insulin_Steady', 'insulin_Down', 'change_Ch', 'diabetesMed_Yes'] ['Unnamed: 0', 'age', 'time_in_hospital', 'num_lab_procedures', 'num_procedures', 'num_medications', 'number_outpatient', 'number_emergency', 'number_inpatient', 'number_diagnoses', 'race_AfricanAmerican', 'race_Caucasian', 'race_Hispanic', 'race_Asian', 'gender_Male', 'admission_type_id_Emergency', 'admission_type_id_Urgent', 'admission_type_id_Elective', 'admission_type_id_Unknown', 'admission_type_id_Trauma Center', 'discharge_disposition_id_Discharged to home', 'discharge_disposition_id_Discharged/transferred to SNF', 'discharge_disposition_id_Discharged/transferred to another type of inpatient care institution', 'discharge_disposition_id_Discharged/transferred to another short term hospital', 'discharge_disposition_id_Discharged/transferred to home with home health service', 'discharge_disposition_id_Unknown', 'discharge_disposition_id_Left AMA', 'discharge_disposition_id_Discharged/transferred to ICF', 'discharge_disposition_id_Discharged/transferred to home under care of Home IV provider', 'discharge_disposition_id_Hospice / medical facility', 'discharge_disposition_id_Hospice / home', 'discharge_disposition_id_Discharged/transferred to another rehab fac including rehab units of a hospital.', 'discharge_disposition_id_Admitted as an inpatient to this hospital', 'discharge_disposition_id_Discharged/transferred to a long term care hospital.', 'discharge_disposition_id_Discharged/transferred/referred another institution for outpatient services', 'discharge_disposition_id_Discharged/transferred/referred to this institution for outpatient services', 'discharge_disposition_id_Discharged/transferred within this institution to Medicare approved swing bed', 'discharge_disposition_id_Discharged/transferred/referred to a psychiatric hospital of psychiatric distinct part unit of a hospital', 'discharge_disposition_id_Discharged/transferred to a federal health care facility.', 'discharge_disposition_id_Discharged/transferred to a nursing facility certified under Medicaid but not certified under Medicare.', 'admission_source_id_Emergency Room', 'admission_source_id_Transfer from a hospital', 'admission_source_id_Clinic Referral', 'admission_source_id_Physician Referral', 'admission_source_id_Unknown', 'admission_source_id_Transfer from a Skilled Nursing Facility (SNF)', 'admission_source_id_HMO Referral', 'admission_source_id_Transfer from another health care facility', 'admission_source_id_Extramural Birth', 'admission_source_id_Transfer from critical access hospital', 'admission_source_id_Court/Law Enforcement', 'admission_source_id_Transfer from hospital inpt/same fac reslt in a sep claim', 'admission_source_id_Transfer from Ambulatory Surgery Center', 'medical_specialty_Family/GeneralPractice', 'medical_specialty_Cardiology', 'medical_specialty_Orthopedics', 'medical_specialty_Gastroenterology', 'medical_specialty_InternalMedicine', 'medical_specialty_Emergency/Trauma', 'medical_specialty_Surgery-General', 'medical_specialty_Psychiatry', 'medical_specialty_Orthopedics-Reconstructive', 'medical_specialty_ObstetricsandGynecology', 'medical_specialty_Surgery-Neuro', 'medical_specialty_Hematology/Oncology', 'medical_specialty_Pulmonology', 'medical_specialty_Surgery-Cardiovascular/Thoracic', 'medical_specialty_Nephrology', 'medical_specialty_Pediatrics-CriticalCare', 'medical_specialty_Endocrinology', 'medical_specialty_Pediatrics-Endocrinology', 'medical_specialty_Urology', 'medical_specialty_Radiology', 'medical_specialty_Anesthesiology-Pediatric', 'medical_specialty_Psychiatry-Child/Adolescent', 'medical_specialty_Pediatrics', 'medical_specialty_Pediatrics-Pulmonology', 'medical_specialty_Gynecology', 'medical_specialty_Obsterics&Gynecology-GynecologicOnco', 'medical_specialty_Surgery-Plastic', 'medical_specialty_Otolaryngology', 'medical_specialty_PhysicalMedicineandRehabilitation', 'medical_specialty_InfectiousDiseases', 'medical_specialty_Neurology', 'medical_specialty_Oncology', 'medical_specialty_Psychology', 'medical_specialty_Pediatrics-Hematology-Oncology', 'medical_specialty_Rheumatology', 'medical_specialty_Surgery-Colon&Rectal', 'medical_specialty_Dentistry', 'medical_specialty_Pediatrics-AllergyandImmunology', 'medical_specialty_Pediatrics-Neurology', 'medical_specialty_AllergyandImmunology', 'medical_specialty_Surgery-Vascular', 'medical_specialty_Surgery-Thoracic', 'medical_specialty_Surgery-Pediatric', 'medical_specialty_Surgery-Cardiovascular', 'medical_specialty_Osteopath', 'medical_specialty_Anesthesiology', 'medical_specialty_Podiatry', 'medical_specialty_Surgeon', 'medical_specialty_Hematology', 'medical_specialty_Obstetrics', 'medical_specialty_Surgery-Maxillofacial', 'medical_specialty_Radiologist', 'medical_specialty_Speech', 'medical_specialty_Pathology', 'medical_specialty_Ophthalmology', 'medical_specialty_Cardiology-Pediatric', 'medical_specialty_SurgicalSpecialty', 'medical_specialty_Hospitalist', 'medical_specialty_PhysicianNotFound', 'medical_specialty_OutreachServices', 'diag_1_Circulatory', 'diag_1_Diabetes', 'diag_1_Neoplasms', 'diag_1_Respiratory', 'diag_1_Injury', 'diag_1_Musculoskeletal', 'diag_1_Digestive', 'diag_1_Genitourinary', 'diag_1_Mental Disorders', 'diag_2_Diabetes', 'diag_2_Circulatory', 'diag_2_Respiratory', 'diag_2_Neoplasms', 'diag_2_Digestive', 'diag_2_Injury', 'diag_2_Mental Disorders', 'diag_2_Genitourinary', 'diag_2_Musculoskeletal', 'diag_3_Injury', 'diag_3_Diabetes', 'diag_3_Circulatory', 'diag_3_Neoplasms', 'diag_3_Digestive', 'diag_3_Respiratory', 'diag_3_Musculoskeletal', 'diag_3_Genitourinary', 'max_glu_serum_None', 'max_glu_serum_>300', 'max_glu_serum_>200', 'max_glu_serum_Norm', 'A1Cresult_Norm', 'A1Cresult_>8', 'A1Cresult_>7', 'metformin_Steady', 'metformin_Up', 'metformin_Down', 'repaglinide_Up', 'repaglinide_Steady', 'repaglinide_Down', 'glimepiride_Steady', 'glimepiride_Up', 'glimepiride_Down', 'glipizide_Steady', 'glipizide_Up', 'glipizide_Down', 'glyburide_Steady', 'glyburide_Up', 'glyburide_Down', 'pioglitazone_Steady', 'pioglitazone_Down', 'pioglitazone_Up', 'rosiglitazone_Steady', 'rosiglitazone_Down', 'rosiglitazone_Up', 'insulin_Steady', 'insulin_Down', 'insulin_Up', 'change_Ch', 'diabetesMed_Yes']\nexpected gender_Unknown/Invalid, race_Other in input data\ntraining data did not have the following fields: medical_specialty_Surgery-Cardiovascular, medical_specialty_Rheumatology, admission_source_id_Transfer from critical access hospital, medical_specialty_Pediatrics-Endocrinology, medical_specialty_Psychiatry-Child/Adolescent, medical_specialty_Pediatrics-Neurology, medical_specialty_Surgeon, medical_specialty_Cardiology-Pediatric, discharge_disposition_id_Left AMA, discharge_disposition_id_Discharged/transferred to home under care of Home IV provider, medical_specialty_Urology, discharge_disposition_id_Discharged/transferred to a federal health care facility., medical_specialty_Ophthalmology, medical_specialty_Surgery-Maxillofacial, medical_specialty_Anesthesiology, medical_specialty_Pediatrics, medical_specialty_Surgery-Neuro, discharge_disposition_id_Discharged/transferred/referred another institution for outpatient services, admission_source_id_Transfer from hospital inpt/same fac reslt in a sep claim, medical_specialty_Pediatrics-Hematology-Oncology, admission_source_id_Transfer from a Skilled Nursing Facility (SNF), discharge_disposition_id_Hospice / home, admission_source_id_Extramural Birth, medical_specialty_Obsterics&Gynecology-GynecologicOnco, medical_specialty_Endocrinology, admission_type_id_Trauma Center, discharge_disposition_id_Hospice / medical facility, medical_specialty_Surgery-Vascular, medical_specialty_AllergyandImmunology, discharge_disposition_id_Discharged/transferred within this institution to Medicare approved swing bed, medical_specialty_Osteopath, medical_specialty_Hospitalist, medical_specialty_Pathology, medical_specialty_Gynecology, medical_specialty_OutreachServices, medical_specialty_ObstetricsandGynecology, medical_specialty_Pediatrics-AllergyandImmunology, medical_specialty_Oncology, medical_specialty_Speech, medical_specialty_Surgery-Pediatric, medical_specialty_InfectiousDiseases, medical_specialty_Radiology, medical_specialty_PhysicalMedicineandRehabilitation, discharge_disposition_id_Admitted as an inpatient to this hospital, medical_specialty_Surgery-Thoracic, discharge_disposition_id_Discharged/transferred to a long term care hospital., medical_specialty_Psychology, medical_specialty_PhysicianNotFound, medical_specialty_Otolaryngology, medical_specialty_Hematology, medical_specialty_SurgicalSpecialty, medical_specialty_Podiatry, medical_specialty_Anesthesiology-Pediatric, admission_source_id_Transfer from Ambulatory Surgery Center, medical_specialty_Hematology/Oncology, medical_specialty_Pediatrics-Pulmonology, medical_specialty_Neurology, medical_specialty_Surgery-Colon&Rectal, medical_specialty_Obstetrics, medical_specialty_Dentistry, discharge_disposition_id_Discharged/transferred to a nursing facility certified under Medicaid but not certified under Medicare."
     ]
    }
   ],
   "source": [
    "###Feature names mismatch with Tim's data\n",
    "timtrain = pd.read_csv('../Tim/multi_tim_12.1.csv')\n",
    "timtest = pd.read_csv('../Tim/test_tim_12.5.csv')\n",
    "\n",
    "timtrainX = timtrain.drop('readmitted_<30', axis=1)\n",
    "timtrainY = timtrain['readmitted_<30']\n",
    "\n",
    "timtestX = timtest.drop(['readmitted_>30', 'readmitted_<30'], axis=1)\n",
    "timtestY = timtest['readmitted_<30']\n",
    "\n",
    "from xgboost.sklearn import XGBClassifier as xgb\n",
    "\n",
    "xgb2 = xgb()\n",
    "xgb2.set_params(n_estimators=500, min_child_weight=10, max_depth=5, gamma=5, colsample_bytree=0.6, max_delta_step=5)\n",
    "\n",
    "xgb2.fit(timtrainX, timtrainY)\n",
    "\n",
    "predictTXB = xgb2.predict(timtestX)\n",
    "predictprobsTXB = xgb2.predict_proba(timtestX)"
   ]
  },
  {
   "cell_type": "code",
   "execution_count": 183,
   "metadata": {},
   "outputs": [
    {
     "ename": "ValueError",
     "evalue": "feature_names may not contain [, ] or <",
     "output_type": "error",
     "traceback": [
      "\u001b[1;31m---------------------------------------------------------------------------\u001b[0m",
      "\u001b[1;31mValueError\u001b[0m                                Traceback (most recent call last)",
      "\u001b[1;32m<ipython-input-183-7b212e5acecd>\u001b[0m in \u001b[0;36m<module>\u001b[1;34m()\u001b[0m\n\u001b[0;32m     14\u001b[0m \u001b[0mxgb2\u001b[0m\u001b[1;33m.\u001b[0m\u001b[0mset_params\u001b[0m\u001b[1;33m(\u001b[0m\u001b[0mn_estimators\u001b[0m\u001b[1;33m=\u001b[0m\u001b[1;36m500\u001b[0m\u001b[1;33m,\u001b[0m \u001b[0mmin_child_weight\u001b[0m\u001b[1;33m=\u001b[0m\u001b[1;36m10\u001b[0m\u001b[1;33m,\u001b[0m \u001b[0mmax_depth\u001b[0m\u001b[1;33m=\u001b[0m\u001b[1;36m5\u001b[0m\u001b[1;33m,\u001b[0m \u001b[0mgamma\u001b[0m\u001b[1;33m=\u001b[0m\u001b[1;36m5\u001b[0m\u001b[1;33m,\u001b[0m \u001b[0mcolsample_bytree\u001b[0m\u001b[1;33m=\u001b[0m\u001b[1;36m0.6\u001b[0m\u001b[1;33m,\u001b[0m \u001b[0mmax_delta_step\u001b[0m\u001b[1;33m=\u001b[0m\u001b[1;36m5\u001b[0m\u001b[1;33m)\u001b[0m\u001b[1;33m\u001b[0m\u001b[0m\n\u001b[0;32m     15\u001b[0m \u001b[1;33m\u001b[0m\u001b[0m\n\u001b[1;32m---> 16\u001b[1;33m \u001b[0mxgb2\u001b[0m\u001b[1;33m.\u001b[0m\u001b[0mfit\u001b[0m\u001b[1;33m(\u001b[0m\u001b[0manishatrainX\u001b[0m\u001b[1;33m,\u001b[0m \u001b[0manishatrainY\u001b[0m\u001b[1;33m)\u001b[0m\u001b[1;33m\u001b[0m\u001b[0m\n\u001b[0m\u001b[0;32m     17\u001b[0m \u001b[1;33m\u001b[0m\u001b[0m\n\u001b[0;32m     18\u001b[0m \u001b[0mpredictAXB\u001b[0m \u001b[1;33m=\u001b[0m \u001b[0mxgb2\u001b[0m\u001b[1;33m.\u001b[0m\u001b[0mpredict\u001b[0m\u001b[1;33m(\u001b[0m\u001b[0manishatestX\u001b[0m\u001b[1;33m)\u001b[0m\u001b[1;33m\u001b[0m\u001b[0m\n",
      "\u001b[1;32m~\\Anaconda3\\lib\\site-packages\\xgboost\\sklearn.py\u001b[0m in \u001b[0;36mfit\u001b[1;34m(self, X, y, sample_weight, eval_set, eval_metric, early_stopping_rounds, verbose, xgb_model, sample_weight_eval_set)\u001b[0m\n\u001b[0;32m    583\u001b[0m         \u001b[1;32melse\u001b[0m\u001b[1;33m:\u001b[0m\u001b[1;33m\u001b[0m\u001b[0m\n\u001b[0;32m    584\u001b[0m             train_dmatrix = DMatrix(X, label=training_labels,\n\u001b[1;32m--> 585\u001b[1;33m                                     missing=self.missing, nthread=self.n_jobs)\n\u001b[0m\u001b[0;32m    586\u001b[0m \u001b[1;33m\u001b[0m\u001b[0m\n\u001b[0;32m    587\u001b[0m         self._Booster = train(xgb_options, train_dmatrix, self.n_estimators,\n",
      "\u001b[1;32m~\\Anaconda3\\lib\\site-packages\\xgboost\\core.py\u001b[0m in \u001b[0;36m__init__\u001b[1;34m(self, data, label, missing, weight, silent, feature_names, feature_types, nthread)\u001b[0m\n\u001b[0;32m    383\u001b[0m                 \u001b[0mself\u001b[0m\u001b[1;33m.\u001b[0m\u001b[0mset_weight\u001b[0m\u001b[1;33m(\u001b[0m\u001b[0mweight\u001b[0m\u001b[1;33m)\u001b[0m\u001b[1;33m\u001b[0m\u001b[0m\n\u001b[0;32m    384\u001b[0m \u001b[1;33m\u001b[0m\u001b[0m\n\u001b[1;32m--> 385\u001b[1;33m         \u001b[0mself\u001b[0m\u001b[1;33m.\u001b[0m\u001b[0mfeature_names\u001b[0m \u001b[1;33m=\u001b[0m \u001b[0mfeature_names\u001b[0m\u001b[1;33m\u001b[0m\u001b[0m\n\u001b[0m\u001b[0;32m    386\u001b[0m         \u001b[0mself\u001b[0m\u001b[1;33m.\u001b[0m\u001b[0mfeature_types\u001b[0m \u001b[1;33m=\u001b[0m \u001b[0mfeature_types\u001b[0m\u001b[1;33m\u001b[0m\u001b[0m\n\u001b[0;32m    387\u001b[0m \u001b[1;33m\u001b[0m\u001b[0m\n",
      "\u001b[1;32m~\\Anaconda3\\lib\\site-packages\\xgboost\\core.py\u001b[0m in \u001b[0;36mfeature_names\u001b[1;34m(self, feature_names)\u001b[0m\n\u001b[0;32m    784\u001b[0m                        \u001b[1;32mnot\u001b[0m \u001b[0many\u001b[0m\u001b[1;33m(\u001b[0m\u001b[0mx\u001b[0m \u001b[1;32min\u001b[0m \u001b[0mf\u001b[0m \u001b[1;32mfor\u001b[0m \u001b[0mx\u001b[0m \u001b[1;32min\u001b[0m \u001b[0mset\u001b[0m\u001b[1;33m(\u001b[0m\u001b[1;33m(\u001b[0m\u001b[1;34m'['\u001b[0m\u001b[1;33m,\u001b[0m \u001b[1;34m']'\u001b[0m\u001b[1;33m,\u001b[0m \u001b[1;34m'<'\u001b[0m\u001b[1;33m)\u001b[0m\u001b[1;33m)\u001b[0m\u001b[1;33m)\u001b[0m\u001b[1;33m\u001b[0m\u001b[0m\n\u001b[0;32m    785\u001b[0m                        for f in feature_names):\n\u001b[1;32m--> 786\u001b[1;33m                 \u001b[1;32mraise\u001b[0m \u001b[0mValueError\u001b[0m\u001b[1;33m(\u001b[0m\u001b[1;34m'feature_names may not contain [, ] or <'\u001b[0m\u001b[1;33m)\u001b[0m\u001b[1;33m\u001b[0m\u001b[0m\n\u001b[0m\u001b[0;32m    787\u001b[0m         \u001b[1;32melse\u001b[0m\u001b[1;33m:\u001b[0m\u001b[1;33m\u001b[0m\u001b[0m\n\u001b[0;32m    788\u001b[0m             \u001b[1;31m# reset feature_types also\u001b[0m\u001b[1;33m\u001b[0m\u001b[1;33m\u001b[0m\u001b[0m\n",
      "\u001b[1;31mValueError\u001b[0m: feature_names may not contain [, ] or <"
     ]
    }
   ],
   "source": [
    "###Feature names mismatch with Anisha's data; column name issues\n",
    "anishatrain = pd.read_csv('../anisha/dataset_diabetes/new_train.csv', index_col=0)\n",
    "anishatest = pd.read_csv('../anisha/dataset_diabetes/new_test.csv', index_col=0)\n",
    "\n",
    "anishatrainX = anishatrain.drop('readmitted_Yes', axis=1)\n",
    "anishatrainY = anishatrain['readmitted_Yes']\n",
    "\n",
    "anishatestX = anishatest.drop('readmitted_Yes', axis=1)\n",
    "anishatestY = anishatest['readmitted_Yes']\n",
    "\n",
    "from xgboost.sklearn import XGBClassifier as xgb\n",
    "\n",
    "xgb2 = xgb()\n",
    "xgb2.set_params(n_estimators=500, min_child_weight=10, max_depth=5, gamma=5, colsample_bytree=0.6, max_delta_step=5)\n",
    "\n",
    "xgb2.fit(anishatrainX, anishatrainY)\n",
    "\n",
    "predictAXB = xgb2.predict(anishatestX)\n",
    "predictprobsAXB = xgb2.predict_proba(anishatestX)"
   ]
  },
  {
   "cell_type": "code",
   "execution_count": 184,
   "metadata": {},
   "outputs": [],
   "source": [
    "anishacols = list(anishatrain.columns)"
   ]
  },
  {
   "cell_type": "code",
   "execution_count": 195,
   "metadata": {},
   "outputs": [],
   "source": [
    "anishacols[9] = 'Age2'\n",
    "anishacols[10] = 'Age3'\n",
    "anishacols[11] = 'Age4'\n",
    "anishacols[12] = 'Age5'\n",
    "anishacols[13] = 'Age6'\n",
    "anishacols[14] = 'Age7'\n",
    "anishacols[15] = 'Age8'\n",
    "anishacols[16] = 'Age9'"
   ]
  },
  {
   "cell_type": "code",
   "execution_count": 196,
   "metadata": {},
   "outputs": [],
   "source": [
    "anishatrain.columns = anishacols\n",
    "anishatest.columns = anishacols"
   ]
  },
  {
   "cell_type": "code",
   "execution_count": 198,
   "metadata": {},
   "outputs": [
    {
     "name": "stderr",
     "output_type": "stream",
     "text": [
      "C:\\Users\\Dave\\Anaconda3\\lib\\site-packages\\sklearn\\preprocessing\\label.py:151: DeprecationWarning: The truth value of an empty array is ambiguous. Returning False, but in future this will result in an error. Use `array.size > 0` to check that an array is not empty.\n",
      "  if diff:\n"
     ]
    }
   ],
   "source": [
    "anishatrainX = anishatrain.drop('readmitted_Yes', axis=1)\n",
    "anishatrainX = anishatrainX.drop('encounter_id', axis=1)\n",
    "anishatrainY = anishatrain['readmitted_Yes']\n",
    "\n",
    "anishatestX = anishatest.drop('readmitted_Yes', axis=1)\n",
    "anishatestX = anishatestX.drop('encounter_id', axis=1)\n",
    "anishatestY = anishatest['readmitted_Yes']\n",
    "\n",
    "from xgboost.sklearn import XGBClassifier as xgb\n",
    "\n",
    "xgb2 = xgb()\n",
    "xgb2.set_params(n_estimators=500, min_child_weight=10, max_depth=5, gamma=5, colsample_bytree=0.6, max_delta_step=5)\n",
    "\n",
    "xgb2.fit(anishatrainX, anishatrainY)\n",
    "\n",
    "predictAXB = xgb2.predict(anishatestX)\n",
    "predictprobsAXB = xgb2.predict_proba(anishatestX)"
   ]
  },
  {
   "cell_type": "code",
   "execution_count": 200,
   "metadata": {},
   "outputs": [
    {
     "data": {
      "text/plain": [
       "0.675882142752384"
      ]
     },
     "execution_count": 200,
     "metadata": {},
     "output_type": "execute_result"
    }
   ],
   "source": [
    "AUC(anishatestY, predictprobsAXB[:,1])"
   ]
  },
  {
   "cell_type": "code",
   "execution_count": null,
   "metadata": {},
   "outputs": [],
   "source": []
  }
 ],
 "metadata": {
  "kernelspec": {
   "display_name": "Python 3",
   "language": "python",
   "name": "python3"
  },
  "language_info": {
   "codemirror_mode": {
    "name": "ipython",
    "version": 3
   },
   "file_extension": ".py",
   "mimetype": "text/x-python",
   "name": "python",
   "nbconvert_exporter": "python",
   "pygments_lexer": "ipython3",
   "version": "3.6.5"
  }
 },
 "nbformat": 4,
 "nbformat_minor": 2
}
