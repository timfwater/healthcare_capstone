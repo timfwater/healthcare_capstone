{
 "cells": [
  {
   "cell_type": "code",
   "execution_count": 1,
   "metadata": {},
   "outputs": [],
   "source": [
    "import pandas as pd\n",
    "import numpy as np"
   ]
  },
  {
   "cell_type": "code",
   "execution_count": 2,
   "metadata": {},
   "outputs": [],
   "source": [
    "DiabetesAllDummy = pd.read_csv('DiabetesAllDummy.csv', index_col=0)\n",
    "#DiabetesOrdMed = pd.read_csv('DiabetesOrdMed.csv', index_col=0)"
   ]
  },
  {
   "cell_type": "code",
   "execution_count": 3,
   "metadata": {},
   "outputs": [],
   "source": [
    "#Let's just start by looking at a simple linear regression:\n",
    "#Yes, we have a categorical variable as our output. This will not be valid, but will show right away variables which could be important:\n",
    "\n",
    "DiabetesTrain = DiabetesAllDummy[DiabetesAllDummy['IsTrain']==1]\n",
    "DiabetesTrain.index = list(range(len(DiabetesTrain)))\n",
    "\n",
    "DiabetesTest = DiabetesAllDummy[DiabetesAllDummy['IsTrain']==0]\n",
    "DiabetesTest.index = list(range(len(DiabetesTest)))"
   ]
  },
  {
   "cell_type": "code",
   "execution_count": 4,
   "metadata": {},
   "outputs": [
    {
     "name": "stdout",
     "output_type": "stream",
     "text": [
      "                            OLS Regression Results                            \n",
      "==============================================================================\n",
      "Dep. Variable:             readmitted   R-squared:                       0.088\n",
      "Model:                            OLS   Adj. R-squared:                  0.087\n",
      "Method:                 Least Squares   F-statistic:                     69.42\n",
      "Date:                Mon, 03 Dec 2018   Prob (F-statistic):               0.00\n",
      "Time:                        21:39:20   Log-Likelihood:                -79734.\n",
      "No. Observations:               80084   AIC:                         1.597e+05\n",
      "Df Residuals:                   79972   BIC:                         1.607e+05\n",
      "Df Model:                         111                                         \n",
      "Covariance Type:            nonrobust                                         \n",
      "====================================================================================================\n",
      "                                       coef    std err          t      P>|t|      [0.025      0.975]\n",
      "----------------------------------------------------------------------------------------------------\n",
      "age                                  0.0085      0.002      4.707      0.000       0.005       0.012\n",
      "time_in_hospital                     0.0043      0.001      4.454      0.000       0.002       0.006\n",
      "num_lab_procedures                   0.0003      0.000      2.151      0.031    2.75e-05       0.001\n",
      "num_procedures                      -0.0087      0.002     -5.393      0.000      -0.012      -0.006\n",
      "num_medications                      0.0007      0.000      1.695      0.090      -0.000       0.001\n",
      "number_outpatient                    0.0170      0.002      9.057      0.000       0.013       0.021\n",
      "number_emergency                     0.0270      0.003     10.445      0.000       0.022       0.032\n",
      "number_inpatient                     0.1103      0.002     55.959      0.000       0.106       0.114\n",
      "number_diagnoses                     0.0197      0.001     13.713      0.000       0.017       0.022\n",
      "IsTrain                              0.2794      0.019     14.468      0.000       0.242       0.317\n",
      "diag_blooddis                        0.0076      0.010      0.760      0.447      -0.012       0.027\n",
      "diag_circulatory                     0.0351      0.006      5.519      0.000       0.023       0.048\n",
      "diag_digestive                       0.0122      0.007      1.631      0.103      -0.002       0.027\n",
      "diag_infection                      -0.0136      0.010     -1.332      0.183      -0.034       0.006\n",
      "diag_injury                         -0.0044      0.007     -0.641      0.522      -0.018       0.009\n",
      "diag_mentaldis                       0.0023      0.010      0.224      0.823      -0.018       0.022\n",
      "diag_metabolic                      -0.0183      0.007     -2.756      0.006      -0.031      -0.005\n",
      "diag_musculoskeletal                -0.0288      0.010     -2.975      0.003      -0.048      -0.010\n",
      "diag_nan                            -0.0059      0.020     -0.287      0.774      -0.046       0.034\n",
      "diag_neoplasm                       -0.0227      0.011     -2.156      0.031      -0.043      -0.002\n",
      "diag_nervous                        -0.0394      0.022     -1.825      0.068      -0.082       0.003\n",
      "diag_other                          -0.0034      0.009     -0.381      0.703      -0.021       0.014\n",
      "diag_pregnancy                      -0.1398      0.030     -4.720      0.000      -0.198      -0.082\n",
      "diag_respiratory                     0.0101      0.006      1.642      0.101      -0.002       0.022\n",
      "diag_skin                            0.0251      0.010      2.610      0.009       0.006       0.044\n",
      "diag_urogenital                      0.0013      0.007      0.200      0.842      -0.012       0.015\n",
      "diabfeat_circulatory                 0.1154      0.023      5.105      0.000       0.071       0.160\n",
      "diabfeat_coma                       -0.0221      0.083     -0.265      0.791      -0.186       0.141\n",
      "diabfeat_hyperosmolarity            -0.0288      0.037     -0.769      0.442      -0.102       0.045\n",
      "diabfeat_ketoacidosis                0.0368      0.016      2.289      0.022       0.005       0.068\n",
      "diabfeat_neurologic                  0.1474      0.014     10.816      0.000       0.121       0.174\n",
      "diabfeat_ophthalmic                  0.0519      0.031      1.658      0.097      -0.009       0.113\n",
      "diabfeat_other                       0.0614      0.012      4.922      0.000       0.037       0.086\n",
      "diabfeat_renal                       0.1434      0.018      8.075      0.000       0.109       0.178\n",
      "race_AfricanAmerican                -0.0063      0.006     -1.023      0.307      -0.018       0.006\n",
      "race_Asian                          -0.0705      0.030     -2.357      0.018      -0.129      -0.012\n",
      "race_Hispanic                       -0.0404      0.017     -2.426      0.015      -0.073      -0.008\n",
      "race_Other                          -0.0533      0.019     -2.743      0.006      -0.091      -0.015\n",
      "gender_Male                         -0.0144      0.005     -3.031      0.002      -0.024      -0.005\n",
      "discharge_disposition_hhealth        0.0571      0.007      7.622      0.000       0.042       0.072\n",
      "discharge_disposition_hospice       -0.0819      0.017     -4.802      0.000      -0.115      -0.048\n",
      "discharge_disposition_hospital       0.0443      0.015      3.000      0.003       0.015       0.073\n",
      "discharge_disposition_leftAMA        0.0764      0.030      2.558      0.011       0.018       0.135\n",
      "discharge_disposition_nursing        0.0298      0.008      3.903      0.000       0.015       0.045\n",
      "discharge_disposition_outpatient     0.2368      0.017     14.001      0.000       0.204       0.270\n",
      "discharge_disposition_psych          0.3107      0.063      4.895      0.000       0.186       0.435\n",
      "discharge_disposition_unknown       -0.0135      0.012     -1.164      0.244      -0.036       0.009\n",
      "max_glu_serum_>200                   0.0300      0.022      1.360      0.174      -0.013       0.073\n",
      "max_glu_serum_>300                   0.0659      0.023      2.847      0.004       0.021       0.111\n",
      "max_glu_serum_Norm                  -0.0054      0.018     -0.302      0.763      -0.040       0.029\n",
      "A1Cresult_>7                        -0.0430      0.012     -3.473      0.001      -0.067      -0.019\n",
      "A1Cresult_>8                        -0.0256      0.009     -2.821      0.005      -0.043      -0.008\n",
      "A1Cresult_Norm                      -0.0536      0.011     -4.902      0.000      -0.075      -0.032\n",
      "change_Ch                           -0.0092      0.009     -0.975      0.329      -0.028       0.009\n",
      "med_any_No                          -0.0808      0.009     -9.237      0.000      -0.098      -0.064\n",
      "admission_type_id_2                  0.0217      0.008      2.677      0.007       0.006       0.038\n",
      "admission_type_id_3                 -0.0122      0.010     -1.226      0.220      -0.032       0.007\n",
      "admission_type_id_4                  0.1242      0.248      0.500      0.617      -0.362       0.611\n",
      "admission_type_id_5                  0.0262      0.016      1.692      0.091      -0.004       0.057\n",
      "admission_type_id_6                  0.1217      0.013      9.348      0.000       0.096       0.147\n",
      "admission_type_id_7                 -0.5408      0.169     -3.192      0.001      -0.873      -0.209\n",
      "admission_source_id_1               -0.0294      0.009     -3.397      0.001      -0.046      -0.012\n",
      "admission_source_id_2               -0.0898      0.023     -3.868      0.000      -0.135      -0.044\n",
      "admission_source_id_3                0.1281      0.054      2.358      0.018       0.022       0.235\n",
      "admission_source_id_4               -0.1636      0.015    -10.790      0.000      -0.193      -0.134\n",
      "admission_source_id_5               -0.1136      0.027     -4.284      0.000      -0.166      -0.062\n",
      "admission_source_id_6               -0.1560      0.016     -9.599      0.000      -0.188      -0.124\n",
      "admission_source_id_8               -0.0917      0.014     -6.549      0.000      -0.119      -0.064\n",
      "med_metformin_Down                  -0.0159      0.034     -0.463      0.643      -0.083       0.051\n",
      "med_metformin_Steady                -0.0417      0.008     -5.528      0.000      -0.056      -0.027\n",
      "med_metformin_Up                    -0.0798      0.027     -3.004      0.003      -0.132      -0.028\n",
      "med_repaglinide_Down                -0.0400      0.111     -0.362      0.717      -0.257       0.177\n",
      "med_repaglinide_Steady               0.0299      0.020      1.459      0.145      -0.010       0.070\n",
      "med_repaglinide_Up                   0.0611      0.073      0.839      0.401      -0.082       0.204\n",
      "med_nateglinide_Down                -0.0273      0.220     -0.124      0.901      -0.458       0.403\n",
      "med_nateglinide_Steady               0.0070      0.029      0.245      0.807      -0.049       0.063\n",
      "med_nateglinide_Up                  -0.1670      0.151     -1.103      0.270      -0.464       0.130\n",
      "med_chlorpropamide_Down             -0.4447      0.656     -0.678      0.498      -1.730       0.841\n",
      "med_chlorpropamide_Steady           -0.0147      0.084     -0.175      0.861      -0.180       0.151\n",
      "med_chlorpropamide_Up                0.3968      0.329      1.208      0.227      -0.247       1.041\n",
      "med_glimepiride_Down                 0.0087      0.055      0.156      0.876      -0.100       0.117\n",
      "med_glimepiride_Steady              -0.0069      0.012     -0.576      0.565      -0.030       0.017\n",
      "med_glimepiride_Up                  -0.0537      0.044     -1.233      0.218      -0.139       0.032\n",
      "med_glipizide_Down                   0.0831      0.036      2.335      0.020       0.013       0.153\n",
      "med_glipizide_Steady                 0.0193      0.009      2.190      0.029       0.002       0.037\n",
      "med_glipizide_Up                     0.0697      0.031      2.259      0.024       0.009       0.130\n",
      "med_glyburide_Down                  -0.0176      0.036     -0.486      0.627      -0.088       0.053\n",
      "med_glyburide_Steady                 0.0004      0.010      0.039      0.969      -0.018       0.019\n",
      "med_glyburide_Up                    -0.0147      0.031     -0.472      0.637      -0.076       0.046\n",
      "med_tolbutamide_Steady              -0.0752      0.169     -0.444      0.657      -0.407       0.257\n",
      "med_pioglitazone_Down                0.0174      0.072      0.243      0.808      -0.123       0.158\n",
      "med_pioglitazone_Steady              0.0058      0.010      0.585      0.559      -0.014       0.025\n",
      "med_pioglitazone_Up                  0.0359      0.050      0.718      0.473      -0.062       0.134\n",
      "med_rosiglitazone_Down              -0.1420      0.081     -1.745      0.081      -0.301       0.017\n",
      "med_rosiglitazone_Steady             0.0208      0.011      1.968      0.049    8.46e-05       0.042\n",
      "med_rosiglitazone_Up                -0.0763      0.058     -1.317      0.188      -0.190       0.037\n",
      "med_acarbose_Down                   -1.0725      0.656     -1.636      0.102      -2.358       0.213\n",
      "med_acarbose_Steady                  0.0628      0.043      1.477      0.140      -0.021       0.146\n",
      "med_acarbose_Up                      0.2785      0.232      1.200      0.230      -0.176       0.733\n",
      "med_miglitol_Down                    0.4627      0.293      1.577      0.115      -0.112       1.038\n",
      "med_miglitol_Steady                  0.0905      0.143      0.632      0.528      -0.190       0.371\n",
      "med_miglitol_Up                     -0.1383      0.464     -0.298      0.766      -1.047       0.771\n",
      "med_tolazamide_Steady               -0.0935      0.114     -0.817      0.414      -0.318       0.131\n",
      "med_tolazamide_Up                    0.3865      0.656      0.589      0.556      -0.899       1.672\n",
      "med_insulin_Down                     0.0189      0.023      0.818      0.413      -0.026       0.064\n",
      "med_insulin_Steady                  -0.0268      0.008     -3.369      0.001      -0.042      -0.011\n",
      "med_insulin_Up                      -0.0071      0.023     -0.308      0.758      -0.053       0.038\n",
      "med_glyburide.metformin_Down         0.0398      0.329      0.121      0.904      -0.604       0.684\n",
      "med_glyburide.metformin_Steady      -0.0120      0.029     -0.418      0.676      -0.068       0.044\n",
      "med_glyburide.metformin_Up          -0.3671      0.249     -1.475      0.140      -0.855       0.121\n",
      "med_glipizide.metformin_Steady       0.0688      0.189      0.363      0.716      -0.303       0.440\n",
      "diabchange                           0.0085      0.024      0.352      0.725      -0.039       0.056\n",
      "==============================================================================\n",
      "Omnibus:                     6505.661   Durbin-Watson:                   1.973\n",
      "Prob(Omnibus):                  0.000   Jarque-Bera (JB):             7885.413\n",
      "Skew:                           0.753   Prob(JB):                         0.00\n",
      "Kurtosis:                       2.694   Cond. No.                     1.44e+04\n",
      "==============================================================================\n",
      "\n",
      "Warnings:\n",
      "[1] Standard Errors assume that the covariance matrix of the errors is correctly specified.\n",
      "[2] The condition number is large, 1.44e+04. This might indicate that there are\n",
      "strong multicollinearity or other numerical problems.\n"
     ]
    }
   ],
   "source": [
    "#Try simple linear model:\n",
    "\n",
    "import statsmodels.api as sm\n",
    "\n",
    "DiabetesX = DiabetesTrain.drop('readmitted', axis=1)\n",
    "DiabetesY = DiabetesTrain['readmitted']\n",
    "\n",
    "X2 = sm.add_constant(DiabetesX)\n",
    "\n",
    "est = sm.OLS(DiabetesY, X2)\n",
    "est2 = est.fit()\n",
    "print(est2.summary())"
   ]
  },
  {
   "cell_type": "code",
   "execution_count": 5,
   "metadata": {},
   "outputs": [
    {
     "data": {
      "text/plain": [
       "'Based on this analysis, we see some variables which have a positive coefficient (age, time_in_hospital, number_emergency,\\ndiag_circulatory, diabfeat_circulatory, diabfeat_neurologic, diabfeat_renal, max_glu_serum_>300, etc). We also see significant\\nvariables with negative coefficients (all race categories, **discharge_disposition_died**, d_d_hospice, all AIC results, med_any_No,\\netc.) Variables with negative coefficients are candidaites to lower readmission rates, those with positive coefficients are\\ncandidates to increase readmission rates'"
      ]
     },
     "execution_count": 5,
     "metadata": {},
     "output_type": "execute_result"
    }
   ],
   "source": [
    "'''Based on this analysis, we see some variables which have a positive coefficient (age, time_in_hospital, number_emergency,\n",
    "diag_circulatory, diabfeat_circulatory, diabfeat_neurologic, diabfeat_renal, max_glu_serum_>300, etc). We also see significant\n",
    "variables with negative coefficients (all race categories, **discharge_disposition_died**, d_d_hospice, all AIC results, med_any_No,\n",
    "etc.) Variables with negative coefficients are candidaites to lower readmission rates, those with positive coefficients are\n",
    "candidates to increase readmission rates'''\n",
    "\n",
    "#Of note, 0 is not admitted, 1 is readmitted post 30 days, 2 is readmitted in less than 30 days\n",
    "\n",
    "#This is crude, but gives us a basic indication of what may be significant."
   ]
  },
  {
   "cell_type": "code",
   "execution_count": 6,
   "metadata": {},
   "outputs": [],
   "source": [
    "#let's write a function to see which variables are stongly correlated with each other:\n",
    "\n",
    "def CreateCorrelationMatrix(df, dependent):\n",
    "    df2 = df.drop(dependent, axis=1)\n",
    "    for i in range(len(df2.columns)):\n",
    "        corrarray = []\n",
    "        indexarray = []\n",
    "        for j in range(len(df2.columns)):\n",
    "            corr12 = df2[df2.columns[i]].corr(df2[df2.columns[j]])\n",
    "            corrarray.append(corr12)\n",
    "            indexarray.append(df2.columns[j])\n",
    "        seriesi = pd.Series(corrarray, index=indexarray)\n",
    "        \n",
    "        if i > 0:\n",
    "            corrDF = pd.concat([corrDF, seriesi], axis=1)\n",
    "        \n",
    "        else:\n",
    "            corrDF = pd.DataFrame(seriesi)\n",
    "     \n",
    "    #Rename the columns to be the same as the indices (a self matrix)\n",
    "    corrDF.columns = corrDF.index\n",
    "    \n",
    "    #reset all self-covariances to 0\n",
    "    for var in corrDF.columns:\n",
    "        corrDF.loc[var, var] = 0\n",
    "    \n",
    "    return corrDF "
   ]
  },
  {
   "cell_type": "code",
   "execution_count": 7,
   "metadata": {},
   "outputs": [],
   "source": [
    "CM = CreateCorrelationMatrix(DiabetesAllDummy, 'readmitted')"
   ]
  },
  {
   "cell_type": "code",
   "execution_count": 8,
   "metadata": {
    "scrolled": true
   },
   "outputs": [
    {
     "data": {
      "text/plain": [
       "change_Ch                         0.657410\n",
       "diabchange                        0.657410\n",
       "med_insulin_Down                  0.603793\n",
       "admission_type_id_3               0.596060\n",
       "admission_source_id_1             0.596060\n",
       "med_insulin_Up                    0.577175\n",
       "admission_type_id_5               0.471436\n",
       "admission_source_id_8             0.471436\n",
       "num_medications                   0.464082\n",
       "time_in_hospital                  0.464082\n",
       "max_glu_serum_Norm                0.449592\n",
       "admission_type_id_6               0.435850\n",
       "num_procedures                    0.381644\n",
       "max_glu_serum_>200                0.327865\n",
       "num_lab_procedures                0.319754\n",
       "med_metformin_Steady              0.289861\n",
       "discharge_disposition_nursing     0.283049\n",
       "age                               0.283049\n",
       "number_emergency                  0.267015\n",
       "number_inpatient                  0.267015\n",
       "number_diagnoses                  0.261036\n",
       "max_glu_serum_>300                0.220670\n",
       "admission_type_id_2               0.215506\n",
       "diag_circulatory                  0.202268\n",
       "med_pioglitazone_Steady           0.191880\n",
       "diag_musculoskeletal              0.191636\n",
       "med_rosiglitazone_Steady          0.188092\n",
       "admission_source_id_4             0.180779\n",
       "A1Cresult_>8                      0.179076\n",
       "med_metformin_Up                  0.169721\n",
       "                                    ...   \n",
       "discharge_disposition_leftAMA     0.049012\n",
       "med_rosiglitazone_Down            0.047947\n",
       "med_acarbose_Steady               0.044645\n",
       "med_glyburide.metformin_Steady    0.041018\n",
       "discharge_disposition_hospital    0.040225\n",
       "race_Hispanic                     0.039664\n",
       "med_repaglinide_Down              0.034676\n",
       "diag_other                        0.033079\n",
       "med_chlorpropamide_Steady         0.032141\n",
       "med_glipizide.metformin_Steady    0.030980\n",
       "admission_type_id_7               0.028146\n",
       "race_Other                        0.027008\n",
       "admission_type_id_4               0.026911\n",
       "med_nateglinide_Up                0.026210\n",
       "med_miglitol_Up                   0.025238\n",
       "med_miglitol_Steady               0.023157\n",
       "diabfeat_coma                     0.022692\n",
       "med_acarbose_Up                   0.022048\n",
       "race_Asian                        0.021878\n",
       "med_tolazamide_Steady             0.017548\n",
       "med_nateglinide_Down              0.017141\n",
       "med_glyburide.metformin_Down      0.016261\n",
       "med_tolazamide_Up                 0.015946\n",
       "med_acarbose_Down                 0.015601\n",
       "med_glyburide.metformin_Up        0.014618\n",
       "med_tolbutamide_Steady            0.013109\n",
       "med_chlorpropamide_Up             0.012659\n",
       "med_miglitol_Down                 0.012138\n",
       "IsTrain                           0.007586\n",
       "med_chlorpropamide_Down           0.006586\n",
       "Length: 112, dtype: float64"
      ]
     },
     "execution_count": 8,
     "metadata": {},
     "output_type": "execute_result"
    }
   ],
   "source": [
    "#Check the matrix out, eliminate a variable then rerun the process:\n",
    "\n",
    "np.max(CM).sort_values(ascending=False)\n",
    "\n",
    "#No variable is more than 60% correlated with any other variable, which is encouraging.\n",
    "#The most corrrelated variables are admission_type_id_3 and admission_source_id_1 (59.6%),\n",
    "# followed by admission_type_id_5 and admission_source_id_8 (47.5%)"
   ]
  },
  {
   "cell_type": "code",
   "execution_count": 9,
   "metadata": {
    "scrolled": true
   },
   "outputs": [
    {
     "data": {
      "text/plain": [
       "med_tolazamide_Up                       1\n",
       "med_chlorpropamide_Down                 1\n",
       "med_miglitol_Up                         2\n",
       "med_acarbose_Down                       3\n",
       "med_miglitol_Down                       5\n",
       "med_chlorpropamide_Up                   6\n",
       "med_glyburide.metformin_Down            6\n",
       "med_glyburide.metformin_Up              8\n",
       "med_acarbose_Up                        10\n",
       "admission_type_id_4                    10\n",
       "med_nateglinide_Down                   11\n",
       "med_glipizide.metformin_Steady         13\n",
       "admission_type_id_7                    18\n",
       "med_tolbutamide_Steady                 21\n",
       "med_nateglinide_Up                     24\n",
       "med_miglitol_Steady                    31\n",
       "med_tolazamide_Steady                  38\n",
       "med_repaglinide_Down                   45\n",
       "med_chlorpropamide_Steady              78\n",
       "diabfeat_coma                          78\n",
       "med_rosiglitazone_Down                 86\n",
       "med_repaglinide_Up                    109\n",
       "med_pioglitazone_Down                 117\n",
       "discharge_disposition_psych           139\n",
       "med_rosiglitazone_Up                  173\n",
       "admission_source_id_3                 185\n",
       "med_glimepiride_Down                  193\n",
       "med_pioglitazone_Up                   230\n",
       "med_acarbose_Steady                   294\n",
       "med_glimepiride_Up                    324\n",
       "                                   ...   \n",
       "med_insulin_Down                    12012\n",
       "discharge_disposition_hhealth       13010\n",
       "diag_digestive                      14169\n",
       "discharge_disposition_nursing       14822\n",
       "diag_injury                         16532\n",
       "diag_urogenital                     17450\n",
       "admission_type_id_2                 18226\n",
       "med_metformin_Steady                18256\n",
       "diag_metabolic                      18397\n",
       "admission_type_id_3                 18739\n",
       "race_AfricanAmerican                18888\n",
       "number_emergency                    19856\n",
       "med_any_No                          22842\n",
       "diag_respiratory                    26115\n",
       "diabchange                          27250\n",
       "admission_source_id_1               29322\n",
       "med_insulin_Steady                  30331\n",
       "number_outpatient                   36985\n",
       "gender_Male                         46250\n",
       "change_Ch                           46443\n",
       "readmitted                          58259\n",
       "diag_circulatory                    59968\n",
       "number_inpatient                    63355\n",
       "IsTrain                             80084\n",
       "num_procedures                     133224\n",
       "time_in_hospital                   439465\n",
       "age                                709117\n",
       "number_diagnoses                   741761\n",
       "num_medications                   1600004\n",
       "num_lab_procedures                4299226\n",
       "Length: 113, dtype: int64"
      ]
     },
     "execution_count": 9,
     "metadata": {},
     "output_type": "execute_result"
    }
   ],
   "source": [
    "#Let's also check which rows are extremely poorly represented. These are candidates for removal:\n",
    "\n",
    "np.sum(DiabetesAllDummy).sort_values()\n",
    "#We see that 4 features (med_tolazamide_Up, med_chloropropamide_Down, med_acarbose_Down, med_troglitazone_Steady) are \n",
    "#very low. We are unlikely to glean anything from this, and they could be removed. Let's keep this in mind going forward:"
   ]
  },
  {
   "cell_type": "code",
   "execution_count": 10,
   "metadata": {},
   "outputs": [],
   "source": [
    "#We can write a function to find a candidate feature list using AIC engineering:\n",
    "\n",
    "def FindLowestAICNonLogBackward(df, dependent):\n",
    "    '''Input: DF to AIC-modify and the dependent variable. WILL RETURN: A tuple: [0] is the modified DF (with dependent)\n",
    "    and tuple[1] will give you the summary DF'''\n",
    "    df2 = df.copy()\n",
    "    df2X = df2.drop(dependent, axis=1)\n",
    "    df2Y = df2[dependent]\n",
    "    FeatureList = list(df2X.columns)\n",
    "    X2 = sm.add_constant(df2X)\n",
    "    est = sm.OLS(df2Y, X2)\n",
    "    CurrentAIC = est.fit().aic\n",
    "    CanBeBetter = True\n",
    "    ModList = []\n",
    "    AddedSubtracted = []\n",
    "    AIC = []\n",
    "    TriesSinceReset = 0\n",
    "    \n",
    "    tempColumnList = list(df2X.columns)\n",
    "    tempDF2X = df2X[tempColumnList]\n",
    "    \n",
    "    while CanBeBetter == True:\n",
    "        Choice = np.random.choice(list(df2X.columns))\n",
    "        \n",
    "        HeadsTails = np.random.randint(2)\n",
    "        if Choice in tempColumnList:\n",
    "            HeadsTails = 0\n",
    "        if Choice not in tempColumnList:\n",
    "            HeadsTails = 1\n",
    "        \n",
    "        if HeadsTails == 1:\n",
    "            tempColumnList.append(Choice)\n",
    "            tempDF2X[Choice] = df2X[Choice]\n",
    "        \n",
    "        if HeadsTails == 0:\n",
    "\n",
    "            tempColumnList.remove(Choice)\n",
    "            tempDF2X = tempDF2X[tempColumnList]\n",
    "            \n",
    "        est = sm.OLS(df2Y, sm.add_constant(tempDF2X))\n",
    "        NewAIC = est.fit().aic\n",
    "        \n",
    "        if NewAIC < CurrentAIC:\n",
    "            TriesSinceReset = 0\n",
    "            CurrentAIC = NewAIC\n",
    "            \n",
    "            if HeadsTails == 1:\n",
    "                print(Choice + \" added: New AIC = \" + str(CurrentAIC))\n",
    "                ModList.append(Choice)\n",
    "                AddedSubtracted.append('Added')\n",
    "                AIC.append(CurrentAIC)\n",
    "                \n",
    "            if HeadsTails == 0:\n",
    "                print(Choice + \" removed: New AIC = \" + str(CurrentAIC))\n",
    "                ModList.append(Choice)\n",
    "                AddedSubtracted.append('Subtracted')\n",
    "                AIC.append(CurrentAIC)\n",
    "            continue\n",
    "            \n",
    "        else:\n",
    "            TriesSinceReset += 1\n",
    "            \n",
    "            if HeadsTails == 1:\n",
    "                tempColumnList.remove(Choice)\n",
    "                tempDF2X = tempDF2X[tempColumnList]\n",
    "                \n",
    "            if HeadsTails == 0:\n",
    "                tempColumnList.append(Choice)\n",
    "                tempDF2X[Choice] = df2X[Choice]\n",
    "                \n",
    "            if TriesSinceReset > 100:\n",
    "                CanBeBetter = False\n",
    "                \n",
    "    SummaryDF = pd.DataFrame({'Feature': ModList, 'AddOrSubtract': AddedSubtracted, 'AIC': AIC})\n",
    "    NewDF = pd.concat([tempDF2X, df2[[dependent]]], axis=1)\n",
    "    \n",
    "    return NewDF, SummaryDF  "
   ]
  },
  {
   "cell_type": "code",
   "execution_count": 11,
   "metadata": {},
   "outputs": [
    {
     "name": "stdout",
     "output_type": "stream",
     "text": [
      "med_acarbose_Steady removed: New AIC = 199621.8079620847\n",
      "diag_other removed: New AIC = 199619.83645888825\n",
      "med_pioglitazone_Up removed: New AIC = 199619.46282049903\n",
      "IsTrain removed: New AIC = 199617.6610630309\n",
      "discharge_disposition_unknown removed: New AIC = 199616.24361564283\n",
      "med_pioglitazone_Steady removed: New AIC = 199614.28107980517\n",
      "med_nateglinide_Up removed: New AIC = 199613.55729298055\n",
      "med_metformin_Down removed: New AIC = 199611.56148157423\n",
      "med_tolazamide_Up removed: New AIC = 199609.89937179926\n",
      "med_glipizide.metformin_Steady removed: New AIC = 199608.14010364644\n",
      "med_rosiglitazone_Up removed: New AIC = 199607.6569934644\n",
      "med_glimepiride_Down removed: New AIC = 199605.70283328445\n",
      "admission_type_id_3 removed: New AIC = 199604.1089680509\n",
      "change_Ch removed: New AIC = 199602.71460771534\n",
      "max_glu_serum_>200 removed: New AIC = 199601.65150080743\n",
      "med_repaglinide_Up removed: New AIC = 199599.92096598027\n",
      "med_glyburide_Steady removed: New AIC = 199598.4132298202\n",
      "diag_blooddis removed: New AIC = 199596.46142793613\n",
      "diag_nan removed: New AIC = 199594.55170859597\n",
      "med_glimepiride_Up removed: New AIC = 199593.1261695634\n",
      "med_tolazamide_Steady removed: New AIC = 199592.7090686867\n",
      "diabfeat_hyperosmolarity removed: New AIC = 199591.8860495268\n",
      "med_miglitol_Up removed: New AIC = 199589.9585989252\n",
      "diag_infection removed: New AIC = 199588.43007929102\n",
      "med_chlorpropamide_Up removed: New AIC = 199587.09253978005\n",
      "race_AfricanAmerican removed: New AIC = 199585.35115247764\n",
      "diabchange removed: New AIC = 199584.0541613992\n",
      "med_insulin_Up removed: New AIC = 199582.0587388152\n",
      "med_nateglinide_Steady removed: New AIC = 199580.36791606314\n",
      "med_chlorpropamide_Down removed: New AIC = 199578.8448561518\n",
      "diag_urogenital removed: New AIC = 199576.9977514787\n",
      "med_glyburide_Up removed: New AIC = 199575.84824444947\n",
      "max_glu_serum_Norm removed: New AIC = 199573.97081782884\n",
      "diag_mentaldis removed: New AIC = 199571.99048494606\n",
      "med_glyburide.metformin_Down removed: New AIC = 199570.24555923688\n",
      "med_glimepiride_Steady removed: New AIC = 199570.10815187971\n",
      "med_repaglinide_Down removed: New AIC = 199568.5390439555\n",
      "med_miglitol_Steady removed: New AIC = 199566.64443876932\n",
      "diag_injury removed: New AIC = 199566.35188186337\n",
      "med_glyburide.metformin_Steady removed: New AIC = 199564.64942191404\n",
      "admission_type_id_4 removed: New AIC = 199562.64960833814\n",
      "med_tolbutamide_Steady removed: New AIC = 199561.65338117722\n",
      "med_nateglinide_Down removed: New AIC = 199559.70148258065\n",
      "med_acarbose_Down removed: New AIC = 199557.70207600814\n",
      "med_chlorpropamide_Steady removed: New AIC = 199555.90497329706\n",
      "med_glyburide_Down removed: New AIC = 199553.96676416896\n",
      "med_pioglitazone_Down removed: New AIC = 199552.85108380485\n",
      "diabfeat_coma removed: New AIC = 199550.99672111138\n"
     ]
    }
   ],
   "source": [
    "DiabetesAICTest01 = FindLowestAICNonLogBackward(DiabetesAllDummy, 'readmitted')"
   ]
  },
  {
   "cell_type": "code",
   "execution_count": 12,
   "metadata": {},
   "outputs": [],
   "source": [
    "DiabetesAICTest01 = DiabetesAICTest01[0]"
   ]
  },
  {
   "cell_type": "code",
   "execution_count": 13,
   "metadata": {},
   "outputs": [
    {
     "data": {
      "text/html": [
       "<div>\n",
       "<style scoped>\n",
       "    .dataframe tbody tr th:only-of-type {\n",
       "        vertical-align: middle;\n",
       "    }\n",
       "\n",
       "    .dataframe tbody tr th {\n",
       "        vertical-align: top;\n",
       "    }\n",
       "\n",
       "    .dataframe thead th {\n",
       "        text-align: right;\n",
       "    }\n",
       "</style>\n",
       "<table border=\"1\" class=\"dataframe\">\n",
       "  <thead>\n",
       "    <tr style=\"text-align: right;\">\n",
       "      <th></th>\n",
       "      <th>med_insulin_Down</th>\n",
       "      <th>num_medications</th>\n",
       "      <th>discharge_disposition_hospital</th>\n",
       "      <th>diag_metabolic</th>\n",
       "      <th>med_any_No</th>\n",
       "      <th>med_acarbose_Up</th>\n",
       "      <th>med_repaglinide_Steady</th>\n",
       "      <th>diag_musculoskeletal</th>\n",
       "      <th>diabfeat_renal</th>\n",
       "      <th>diabfeat_other</th>\n",
       "      <th>...</th>\n",
       "      <th>med_glipizide_Down</th>\n",
       "      <th>med_glipizide_Up</th>\n",
       "      <th>diag_respiratory</th>\n",
       "      <th>admission_type_id_5</th>\n",
       "      <th>discharge_disposition_hhealth</th>\n",
       "      <th>A1Cresult_Norm</th>\n",
       "      <th>admission_source_id_1</th>\n",
       "      <th>admission_type_id_6</th>\n",
       "      <th>admission_type_id_7</th>\n",
       "      <th>readmitted</th>\n",
       "    </tr>\n",
       "  </thead>\n",
       "  <tbody>\n",
       "    <tr>\n",
       "      <th>0</th>\n",
       "      <td>0</td>\n",
       "      <td>1</td>\n",
       "      <td>0</td>\n",
       "      <td>0</td>\n",
       "      <td>1</td>\n",
       "      <td>0</td>\n",
       "      <td>0</td>\n",
       "      <td>0</td>\n",
       "      <td>0</td>\n",
       "      <td>1</td>\n",
       "      <td>...</td>\n",
       "      <td>0</td>\n",
       "      <td>0</td>\n",
       "      <td>0</td>\n",
       "      <td>0</td>\n",
       "      <td>0</td>\n",
       "      <td>0</td>\n",
       "      <td>1</td>\n",
       "      <td>1</td>\n",
       "      <td>0</td>\n",
       "      <td>0</td>\n",
       "    </tr>\n",
       "    <tr>\n",
       "      <th>1</th>\n",
       "      <td>0</td>\n",
       "      <td>18</td>\n",
       "      <td>0</td>\n",
       "      <td>1</td>\n",
       "      <td>0</td>\n",
       "      <td>0</td>\n",
       "      <td>0</td>\n",
       "      <td>0</td>\n",
       "      <td>0</td>\n",
       "      <td>0</td>\n",
       "      <td>...</td>\n",
       "      <td>0</td>\n",
       "      <td>0</td>\n",
       "      <td>0</td>\n",
       "      <td>0</td>\n",
       "      <td>0</td>\n",
       "      <td>0</td>\n",
       "      <td>0</td>\n",
       "      <td>0</td>\n",
       "      <td>0</td>\n",
       "      <td>1</td>\n",
       "    </tr>\n",
       "    <tr>\n",
       "      <th>2</th>\n",
       "      <td>0</td>\n",
       "      <td>16</td>\n",
       "      <td>0</td>\n",
       "      <td>0</td>\n",
       "      <td>0</td>\n",
       "      <td>0</td>\n",
       "      <td>0</td>\n",
       "      <td>0</td>\n",
       "      <td>1</td>\n",
       "      <td>0</td>\n",
       "      <td>...</td>\n",
       "      <td>0</td>\n",
       "      <td>0</td>\n",
       "      <td>0</td>\n",
       "      <td>0</td>\n",
       "      <td>0</td>\n",
       "      <td>0</td>\n",
       "      <td>0</td>\n",
       "      <td>0</td>\n",
       "      <td>0</td>\n",
       "      <td>0</td>\n",
       "    </tr>\n",
       "    <tr>\n",
       "      <th>3</th>\n",
       "      <td>0</td>\n",
       "      <td>8</td>\n",
       "      <td>0</td>\n",
       "      <td>0</td>\n",
       "      <td>0</td>\n",
       "      <td>0</td>\n",
       "      <td>0</td>\n",
       "      <td>0</td>\n",
       "      <td>0</td>\n",
       "      <td>0</td>\n",
       "      <td>...</td>\n",
       "      <td>0</td>\n",
       "      <td>0</td>\n",
       "      <td>0</td>\n",
       "      <td>0</td>\n",
       "      <td>0</td>\n",
       "      <td>0</td>\n",
       "      <td>0</td>\n",
       "      <td>0</td>\n",
       "      <td>0</td>\n",
       "      <td>0</td>\n",
       "    </tr>\n",
       "    <tr>\n",
       "      <th>4</th>\n",
       "      <td>0</td>\n",
       "      <td>16</td>\n",
       "      <td>0</td>\n",
       "      <td>0</td>\n",
       "      <td>0</td>\n",
       "      <td>0</td>\n",
       "      <td>0</td>\n",
       "      <td>0</td>\n",
       "      <td>0</td>\n",
       "      <td>0</td>\n",
       "      <td>...</td>\n",
       "      <td>0</td>\n",
       "      <td>0</td>\n",
       "      <td>0</td>\n",
       "      <td>0</td>\n",
       "      <td>0</td>\n",
       "      <td>0</td>\n",
       "      <td>0</td>\n",
       "      <td>0</td>\n",
       "      <td>0</td>\n",
       "      <td>1</td>\n",
       "    </tr>\n",
       "  </tbody>\n",
       "</table>\n",
       "<p>5 rows × 65 columns</p>\n",
       "</div>"
      ],
      "text/plain": [
       "   med_insulin_Down  num_medications  discharge_disposition_hospital  \\\n",
       "0                 0                1                               0   \n",
       "1                 0               18                               0   \n",
       "2                 0               16                               0   \n",
       "3                 0                8                               0   \n",
       "4                 0               16                               0   \n",
       "\n",
       "   diag_metabolic  med_any_No  med_acarbose_Up  med_repaglinide_Steady  \\\n",
       "0               0           1                0                       0   \n",
       "1               1           0                0                       0   \n",
       "2               0           0                0                       0   \n",
       "3               0           0                0                       0   \n",
       "4               0           0                0                       0   \n",
       "\n",
       "   diag_musculoskeletal  diabfeat_renal  diabfeat_other     ...      \\\n",
       "0                     0               0               1     ...       \n",
       "1                     0               0               0     ...       \n",
       "2                     0               1               0     ...       \n",
       "3                     0               0               0     ...       \n",
       "4                     0               0               0     ...       \n",
       "\n",
       "   med_glipizide_Down  med_glipizide_Up  diag_respiratory  \\\n",
       "0                   0                 0                 0   \n",
       "1                   0                 0                 0   \n",
       "2                   0                 0                 0   \n",
       "3                   0                 0                 0   \n",
       "4                   0                 0                 0   \n",
       "\n",
       "   admission_type_id_5  discharge_disposition_hhealth  A1Cresult_Norm  \\\n",
       "0                    0                              0               0   \n",
       "1                    0                              0               0   \n",
       "2                    0                              0               0   \n",
       "3                    0                              0               0   \n",
       "4                    0                              0               0   \n",
       "\n",
       "   admission_source_id_1  admission_type_id_6  admission_type_id_7  readmitted  \n",
       "0                      1                    1                    0           0  \n",
       "1                      0                    0                    0           1  \n",
       "2                      0                    0                    0           0  \n",
       "3                      0                    0                    0           0  \n",
       "4                      0                    0                    0           1  \n",
       "\n",
       "[5 rows x 65 columns]"
      ]
     },
     "execution_count": 13,
     "metadata": {},
     "output_type": "execute_result"
    }
   ],
   "source": [
    "#With run 1, we were left with 67 feature columns:\n",
    "DiabetesAICTest01.head()"
   ]
  },
  {
   "cell_type": "code",
   "execution_count": 14,
   "metadata": {},
   "outputs": [
    {
     "name": "stdout",
     "output_type": "stream",
     "text": [
      "admission_type_id_3 removed: New AIC = 199620.50026743417\n",
      "med_tolbutamide_Steady removed: New AIC = 199619.50626262845\n",
      "diag_mentaldis removed: New AIC = 199617.51499546572\n",
      "med_tolazamide_Up removed: New AIC = 199615.87332737556\n",
      "diag_other removed: New AIC = 199613.90418135736\n",
      "med_nateglinide_Up removed: New AIC = 199613.1826825273\n",
      "med_pioglitazone_Down removed: New AIC = 199612.3219868846\n",
      "med_glimepiride_Up removed: New AIC = 199610.8644640789\n",
      "med_glyburide.metformin_Down removed: New AIC = 199609.07114312553\n",
      "med_chlorpropamide_Up removed: New AIC = 199607.75924995966\n",
      "change_Ch removed: New AIC = 199606.57330332292\n",
      "med_chlorpropamide_Steady removed: New AIC = 199604.8043417394\n",
      "diag_blooddis removed: New AIC = 199602.8396469733\n",
      "max_glu_serum_>200 removed: New AIC = 199601.8079275792\n",
      "med_pioglitazone_Steady removed: New AIC = 199599.82502573085\n",
      "diabfeat_hyperosmolarity removed: New AIC = 199599.00449420762\n",
      "diabchange removed: New AIC = 199597.65668861702\n",
      "med_metformin_Down removed: New AIC = 199595.73610943276\n",
      "med_pioglitazone_Up removed: New AIC = 199594.99370553612\n",
      "med_glyburide_Down removed: New AIC = 199593.10912088733\n",
      "med_miglitol_Up removed: New AIC = 199591.18590992756\n",
      "med_acarbose_Steady removed: New AIC = 199590.76389103255\n",
      "med_miglitol_Steady removed: New AIC = 199588.88668913295\n",
      "med_rosiglitazone_Up removed: New AIC = 199588.74821551837\n",
      "med_glyburide_Up removed: New AIC = 199587.622115098\n",
      "med_glyburide.metformin_Steady removed: New AIC = 199585.85688226644\n",
      "med_repaglinide_Up removed: New AIC = 199584.05502558494\n",
      "diag_infection removed: New AIC = 199582.57197920926\n",
      "med_glyburide_Steady removed: New AIC = 199580.82063807675\n",
      "diabfeat_coma removed: New AIC = 199578.9573600082\n",
      "med_glimepiride_Steady removed: New AIC = 199578.88723447965\n",
      "med_chlorpropamide_Down removed: New AIC = 199577.3629255301\n",
      "med_nateglinide_Steady removed: New AIC = 199575.6971510977\n",
      "med_repaglinide_Down removed: New AIC = 199574.13128635244\n",
      "med_glimepiride_Down removed: New AIC = 199572.1341669588\n",
      "IsTrain removed: New AIC = 199570.32634116622\n",
      "diag_injury removed: New AIC = 199569.86369527114\n",
      "diag_urogenital removed: New AIC = 199568.21227613732\n",
      "med_insulin_Up removed: New AIC = 199566.21571947623\n",
      "admission_type_id_4 removed: New AIC = 199564.21598531224\n",
      "discharge_disposition_unknown removed: New AIC = 199562.79997365846\n",
      "med_nateglinide_Down removed: New AIC = 199560.84853426885\n",
      "med_acarbose_Down removed: New AIC = 199558.8491208678\n",
      "race_AfricanAmerican removed: New AIC = 199557.05380874756\n",
      "med_tolazamide_Steady removed: New AIC = 199556.57982772926\n",
      "max_glu_serum_Norm removed: New AIC = 199554.70563324622\n",
      "med_glipizide.metformin_Steady removed: New AIC = 199552.95201373412\n"
     ]
    }
   ],
   "source": [
    "DiabetesAICTest02 = FindLowestAICNonLogBackward(DiabetesAllDummy, 'readmitted')[0]"
   ]
  },
  {
   "cell_type": "code",
   "execution_count": 15,
   "metadata": {},
   "outputs": [
    {
     "data": {
      "text/html": [
       "<div>\n",
       "<style scoped>\n",
       "    .dataframe tbody tr th:only-of-type {\n",
       "        vertical-align: middle;\n",
       "    }\n",
       "\n",
       "    .dataframe tbody tr th {\n",
       "        vertical-align: top;\n",
       "    }\n",
       "\n",
       "    .dataframe thead th {\n",
       "        text-align: right;\n",
       "    }\n",
       "</style>\n",
       "<table border=\"1\" class=\"dataframe\">\n",
       "  <thead>\n",
       "    <tr style=\"text-align: right;\">\n",
       "      <th></th>\n",
       "      <th>diag_nan</th>\n",
       "      <th>med_insulin_Steady</th>\n",
       "      <th>diag_skin</th>\n",
       "      <th>admission_type_id_6</th>\n",
       "      <th>admission_source_id_4</th>\n",
       "      <th>discharge_disposition_psych</th>\n",
       "      <th>discharge_disposition_leftAMA</th>\n",
       "      <th>num_lab_procedures</th>\n",
       "      <th>med_glipizide_Steady</th>\n",
       "      <th>admission_source_id_3</th>\n",
       "      <th>...</th>\n",
       "      <th>med_any_No</th>\n",
       "      <th>diag_pregnancy</th>\n",
       "      <th>diabfeat_ophthalmic</th>\n",
       "      <th>number_emergency</th>\n",
       "      <th>number_diagnoses</th>\n",
       "      <th>med_glipizide_Up</th>\n",
       "      <th>med_metformin_Steady</th>\n",
       "      <th>gender_Male</th>\n",
       "      <th>diag_musculoskeletal</th>\n",
       "      <th>readmitted</th>\n",
       "    </tr>\n",
       "  </thead>\n",
       "  <tbody>\n",
       "    <tr>\n",
       "      <th>0</th>\n",
       "      <td>1</td>\n",
       "      <td>0</td>\n",
       "      <td>0</td>\n",
       "      <td>1</td>\n",
       "      <td>0</td>\n",
       "      <td>0</td>\n",
       "      <td>0</td>\n",
       "      <td>41</td>\n",
       "      <td>0</td>\n",
       "      <td>0</td>\n",
       "      <td>...</td>\n",
       "      <td>1</td>\n",
       "      <td>0</td>\n",
       "      <td>0</td>\n",
       "      <td>0</td>\n",
       "      <td>1</td>\n",
       "      <td>0</td>\n",
       "      <td>0</td>\n",
       "      <td>0</td>\n",
       "      <td>0</td>\n",
       "      <td>0</td>\n",
       "    </tr>\n",
       "    <tr>\n",
       "      <th>1</th>\n",
       "      <td>0</td>\n",
       "      <td>0</td>\n",
       "      <td>0</td>\n",
       "      <td>0</td>\n",
       "      <td>0</td>\n",
       "      <td>0</td>\n",
       "      <td>0</td>\n",
       "      <td>59</td>\n",
       "      <td>0</td>\n",
       "      <td>0</td>\n",
       "      <td>...</td>\n",
       "      <td>0</td>\n",
       "      <td>0</td>\n",
       "      <td>0</td>\n",
       "      <td>0</td>\n",
       "      <td>9</td>\n",
       "      <td>0</td>\n",
       "      <td>0</td>\n",
       "      <td>0</td>\n",
       "      <td>0</td>\n",
       "      <td>1</td>\n",
       "    </tr>\n",
       "    <tr>\n",
       "      <th>2</th>\n",
       "      <td>0</td>\n",
       "      <td>0</td>\n",
       "      <td>0</td>\n",
       "      <td>0</td>\n",
       "      <td>0</td>\n",
       "      <td>0</td>\n",
       "      <td>0</td>\n",
       "      <td>44</td>\n",
       "      <td>0</td>\n",
       "      <td>0</td>\n",
       "      <td>...</td>\n",
       "      <td>0</td>\n",
       "      <td>0</td>\n",
       "      <td>0</td>\n",
       "      <td>0</td>\n",
       "      <td>7</td>\n",
       "      <td>0</td>\n",
       "      <td>0</td>\n",
       "      <td>1</td>\n",
       "      <td>0</td>\n",
       "      <td>0</td>\n",
       "    </tr>\n",
       "    <tr>\n",
       "      <th>3</th>\n",
       "      <td>0</td>\n",
       "      <td>1</td>\n",
       "      <td>0</td>\n",
       "      <td>0</td>\n",
       "      <td>0</td>\n",
       "      <td>0</td>\n",
       "      <td>0</td>\n",
       "      <td>51</td>\n",
       "      <td>1</td>\n",
       "      <td>0</td>\n",
       "      <td>...</td>\n",
       "      <td>0</td>\n",
       "      <td>0</td>\n",
       "      <td>0</td>\n",
       "      <td>0</td>\n",
       "      <td>5</td>\n",
       "      <td>0</td>\n",
       "      <td>0</td>\n",
       "      <td>1</td>\n",
       "      <td>0</td>\n",
       "      <td>0</td>\n",
       "    </tr>\n",
       "    <tr>\n",
       "      <th>4</th>\n",
       "      <td>0</td>\n",
       "      <td>1</td>\n",
       "      <td>0</td>\n",
       "      <td>0</td>\n",
       "      <td>0</td>\n",
       "      <td>0</td>\n",
       "      <td>0</td>\n",
       "      <td>31</td>\n",
       "      <td>0</td>\n",
       "      <td>0</td>\n",
       "      <td>...</td>\n",
       "      <td>0</td>\n",
       "      <td>0</td>\n",
       "      <td>0</td>\n",
       "      <td>0</td>\n",
       "      <td>9</td>\n",
       "      <td>0</td>\n",
       "      <td>0</td>\n",
       "      <td>1</td>\n",
       "      <td>0</td>\n",
       "      <td>1</td>\n",
       "    </tr>\n",
       "  </tbody>\n",
       "</table>\n",
       "<p>5 rows × 66 columns</p>\n",
       "</div>"
      ],
      "text/plain": [
       "   diag_nan  med_insulin_Steady  diag_skin  admission_type_id_6  \\\n",
       "0         1                   0          0                    1   \n",
       "1         0                   0          0                    0   \n",
       "2         0                   0          0                    0   \n",
       "3         0                   1          0                    0   \n",
       "4         0                   1          0                    0   \n",
       "\n",
       "   admission_source_id_4  discharge_disposition_psych  \\\n",
       "0                      0                            0   \n",
       "1                      0                            0   \n",
       "2                      0                            0   \n",
       "3                      0                            0   \n",
       "4                      0                            0   \n",
       "\n",
       "   discharge_disposition_leftAMA  num_lab_procedures  med_glipizide_Steady  \\\n",
       "0                              0                  41                     0   \n",
       "1                              0                  59                     0   \n",
       "2                              0                  44                     0   \n",
       "3                              0                  51                     1   \n",
       "4                              0                  31                     0   \n",
       "\n",
       "   admission_source_id_3     ...      med_any_No  diag_pregnancy  \\\n",
       "0                      0     ...               1               0   \n",
       "1                      0     ...               0               0   \n",
       "2                      0     ...               0               0   \n",
       "3                      0     ...               0               0   \n",
       "4                      0     ...               0               0   \n",
       "\n",
       "   diabfeat_ophthalmic  number_emergency  number_diagnoses  med_glipizide_Up  \\\n",
       "0                    0                 0                 1                 0   \n",
       "1                    0                 0                 9                 0   \n",
       "2                    0                 0                 7                 0   \n",
       "3                    0                 0                 5                 0   \n",
       "4                    0                 0                 9                 0   \n",
       "\n",
       "   med_metformin_Steady  gender_Male  diag_musculoskeletal  readmitted  \n",
       "0                     0            0                     0           0  \n",
       "1                     0            0                     0           1  \n",
       "2                     0            1                     0           0  \n",
       "3                     0            1                     0           0  \n",
       "4                     0            1                     0           1  \n",
       "\n",
       "[5 rows x 66 columns]"
      ]
     },
     "execution_count": 15,
     "metadata": {},
     "output_type": "execute_result"
    }
   ],
   "source": [
    "#This feature list (run 2) contains 66 features\n",
    "DiabetesAICTest02.head()"
   ]
  },
  {
   "cell_type": "code",
   "execution_count": 16,
   "metadata": {},
   "outputs": [
    {
     "name": "stdout",
     "output_type": "stream",
     "text": [
      "diag_mentaldis removed: New AIC = 199620.09368676064\n",
      "med_repaglinide_Up removed: New AIC = 199618.35829509218\n",
      "med_chlorpropamide_Up removed: New AIC = 199617.0164006888\n",
      "med_tolazamide_Steady removed: New AIC = 199616.5457007491\n",
      "med_glimepiride_Up removed: New AIC = 199615.09630901844\n",
      "med_glyburide_Steady removed: New AIC = 199613.14623557133\n",
      "diag_injury removed: New AIC = 199612.76454685436\n",
      "max_glu_serum_Norm removed: New AIC = 199610.76837289694\n",
      "med_glimepiride_Down removed: New AIC = 199608.84411491294\n",
      "med_pioglitazone_Up removed: New AIC = 199608.5048163894\n",
      "discharge_disposition_unknown removed: New AIC = 199607.170461974\n",
      "med_glyburide_Down removed: New AIC = 199605.1756907131\n",
      "diag_nan removed: New AIC = 199603.23702804942\n",
      "diabchange removed: New AIC = 199601.25044748577\n",
      "race_AfricanAmerican removed: New AIC = 199599.46954165428\n",
      "diag_infection removed: New AIC = 199597.89369355334\n",
      "med_tolbutamide_Steady removed: New AIC = 199596.88695797243\n",
      "med_metformin_Down removed: New AIC = 199594.902560366\n",
      "med_glyburide.metformin_Down removed: New AIC = 199593.13593991072\n",
      "med_tolazamide_Up removed: New AIC = 199591.47542188462\n",
      "med_pioglitazone_Steady removed: New AIC = 199589.5637669445\n",
      "med_chlorpropamide_Down removed: New AIC = 199588.01560260035\n",
      "med_acarbose_Down removed: New AIC = 199586.01627903472\n",
      "med_acarbose_Steady removed: New AIC = 199585.78073394418\n",
      "max_glu_serum_>200 removed: New AIC = 199584.912012637\n",
      "med_miglitol_Up removed: New AIC = 199582.98292980666\n",
      "med_glyburide.metformin_Steady removed: New AIC = 199581.36048746144\n",
      "med_rosiglitazone_Up removed: New AIC = 199581.03678284853\n",
      "med_glimepiride_Steady removed: New AIC = 199580.26277260948\n",
      "med_nateglinide_Steady removed: New AIC = 199578.71252213593\n",
      "med_chlorpropamide_Steady removed: New AIC = 199576.90294790038\n",
      "med_pioglitazone_Down removed: New AIC = 199575.91092692348\n",
      "IsTrain removed: New AIC = 199574.09434828296\n",
      "med_nateglinide_Up removed: New AIC = 199573.36953369388\n",
      "admission_type_id_3 removed: New AIC = 199571.7404611914\n",
      "change_Ch removed: New AIC = 199571.66101379038\n",
      "diag_urogenital removed: New AIC = 199570.03284060495\n",
      "med_insulin_Up removed: New AIC = 199568.04943814295\n",
      "diabfeat_coma removed: New AIC = 199566.19417665937\n",
      "med_nateglinide_Down removed: New AIC = 199564.24273014185\n",
      "diag_other removed: New AIC = 199562.24619341703\n",
      "med_repaglinide_Down removed: New AIC = 199560.67885432643\n",
      "diabfeat_hyperosmolarity removed: New AIC = 199559.83193484053\n",
      "med_glyburide_Up removed: New AIC = 199558.56651196786\n",
      "med_glipizide.metformin_Steady removed: New AIC = 199556.81438954297\n",
      "med_miglitol_Steady removed: New AIC = 199554.91226085706\n",
      "admission_type_id_4 removed: New AIC = 199552.9124274202\n"
     ]
    }
   ],
   "source": [
    "DiabetesAICTest03 = FindLowestAICNonLogBackward(DiabetesAllDummy, 'readmitted')[0]"
   ]
  },
  {
   "cell_type": "code",
   "execution_count": 17,
   "metadata": {
    "scrolled": true
   },
   "outputs": [
    {
     "name": "stdout",
     "output_type": "stream",
     "text": [
      "65\n"
     ]
    },
    {
     "data": {
      "text/plain": [
       "['med_any_No',\n",
       " 'number_emergency',\n",
       " 'diabfeat_ketoacidosis',\n",
       " 'readmitted',\n",
       " 'med_glyburide.metformin_Up',\n",
       " 'number_inpatient',\n",
       " 'A1Cresult_>8',\n",
       " 'diag_circulatory',\n",
       " 'number_diagnoses',\n",
       " 'race_Asian',\n",
       " 'diabfeat_circulatory',\n",
       " 'med_rosiglitazone_Steady',\n",
       " 'race_Hispanic',\n",
       " 'admission_source_id_5',\n",
       " 'admission_source_id_2',\n",
       " 'admission_source_id_8',\n",
       " 'discharge_disposition_hospital',\n",
       " 'med_glipizide_Up',\n",
       " 'med_glipizide_Down',\n",
       " 'A1Cresult_Norm',\n",
       " 'admission_source_id_6',\n",
       " 'admission_source_id_3',\n",
       " 'diag_metabolic',\n",
       " 'discharge_disposition_outpatient',\n",
       " 'admission_source_id_1',\n",
       " 'diag_pregnancy',\n",
       " 'race_Other',\n",
       " 'number_outpatient',\n",
       " 'admission_type_id_6',\n",
       " 'diabfeat_neurologic',\n",
       " 'num_lab_procedures',\n",
       " 'med_metformin_Steady',\n",
       " 'diag_respiratory',\n",
       " 'med_miglitol_Down',\n",
       " 'med_acarbose_Up',\n",
       " 'med_rosiglitazone_Down',\n",
       " 'num_medications',\n",
       " 'diag_skin',\n",
       " 'discharge_disposition_psych',\n",
       " 'discharge_disposition_nursing',\n",
       " 'med_glipizide_Steady',\n",
       " 'admission_type_id_2',\n",
       " 'diabfeat_other',\n",
       " 'med_insulin_Steady',\n",
       " 'age',\n",
       " 'max_glu_serum_>300',\n",
       " 'med_repaglinide_Steady',\n",
       " 'diag_digestive',\n",
       " 'med_metformin_Up',\n",
       " 'admission_source_id_4',\n",
       " 'diag_neoplasm',\n",
       " 'num_procedures',\n",
       " 'discharge_disposition_leftAMA',\n",
       " 'diag_musculoskeletal',\n",
       " 'diabfeat_ophthalmic',\n",
       " 'time_in_hospital',\n",
       " 'admission_type_id_7',\n",
       " 'gender_Male',\n",
       " 'diag_nervous',\n",
       " 'admission_type_id_5',\n",
       " 'discharge_disposition_hhealth',\n",
       " 'discharge_disposition_hospice',\n",
       " 'med_insulin_Down',\n",
       " 'A1Cresult_>7',\n",
       " 'diabfeat_renal']"
      ]
     },
     "execution_count": 17,
     "metadata": {},
     "output_type": "execute_result"
    }
   ],
   "source": [
    "#This results in 66 features common to all three lists:\n",
    "FeatureIntersect = set(DiabetesAICTest01.columns) & set(DiabetesAICTest02.columns) & set(DiabetesAICTest03.columns)\n",
    "FeatureIntersect = list(FeatureIntersect)\n",
    "print(len(FeatureIntersect))\n",
    "FeatureIntersect"
   ]
  },
  {
   "cell_type": "code",
   "execution_count": 18,
   "metadata": {},
   "outputs": [],
   "source": [
    "#Let's try the simplest logistic regression model and see how it looks, whether using all features, or our own:\n",
    "\n",
    "from sklearn.linear_model import LogisticRegression as lgr\n",
    "\n",
    "lgr = lgr()\n",
    "\n",
    "import sklearn.model_selection as ms\n",
    "ms_k5 = ms.KFold(n_splits=5, shuffle=True)\n",
    "\n",
    "#First try with all features:\n",
    "\n",
    "#Create X and Y variables (replace 2 to 1 and 1 to 0)\n",
    "trainX = DiabetesTrain.drop('readmitted', axis=1)\n",
    "trainY = DiabetesTrain['readmitted'].replace([2, 1], [1, 0])\n",
    "\n",
    "testX = DiabetesTest.drop('readmitted', axis=1)\n",
    "testY = DiabetesTest['readmitted'].replace([2, 1], [1, 0])\n",
    "\n",
    "\n",
    "#Instantiate the K-fold generator object:\n",
    "np.random.seed(0)\n",
    "DiabetesAD5Fold = ms_k5.split(trainX, trainY)\n",
    "\n",
    "#Produce list of test R^2 scores, and Actual vs Predicted lists for the individual runs\n",
    "ScoreList = []\n",
    "PredictList = []\n",
    "PureTestScore = []\n",
    "TrainScores = []\n",
    "ActualValues = []\n",
    "\n",
    "for train, test in DiabetesAD5Fold:\n",
    "\n",
    "    \n",
    "    #Run the fit using the train data for each K\n",
    "    lgr.fit(trainX.iloc[train,], trainY[train])\n",
    "    #Run your predicion for the \"missing\" K-part\n",
    "    p = lgr.predict(trainX.iloc[test,])\n",
    "    actual = trainY[train].values\n",
    "    #Check your schore for the missing K-part\n",
    "    R2 = lgr.score(trainX.iloc[test,], trainY[test])\n",
    "    #Run a test on the completely untouched test 20%\n",
    "    TestR2 = lgr.score(testX, testY)\n",
    "    TrainScore = lgr.score(trainX.iloc[train,], trainY[train])\n",
    "    \n",
    "    #Append these scores to the lists above\n",
    "    ScoreList.append(R2)\n",
    "    PureTestScore.append(TestR2)\n",
    "    PredictList.append(p)\n",
    "    TrainScores.append(TrainScore)\n",
    "    ActualValues.append(actual)\n",
    "    \n",
    "    #Make predictions for the completely untouched 20%\n",
    "    PredictionsTest = lgr.predict(testX)\n",
    "    \n",
    "    #Use these predictions to calculate RMSLE for the untouched 20% and append\n",
    "    #RMSLEvalue = np.sqrt(np.mean(np.power(np.log1p(testY)-np.log1p(PredictionsTest), 2)))\n",
    "    #RMSLE.append(RMSLEvalue)\n",
    "\n",
    "    \n"
   ]
  },
  {
   "cell_type": "code",
   "execution_count": 19,
   "metadata": {},
   "outputs": [
    {
     "data": {
      "text/plain": [
       "[0.8866343047122544,\n",
       " 0.8856821764715064,\n",
       " 0.8867123480106763,\n",
       " 0.8863845661573041,\n",
       " 0.8863551226821502]"
      ]
     },
     "execution_count": 19,
     "metadata": {},
     "output_type": "execute_result"
    }
   ],
   "source": [
    "#These are the internal train scores, based on the logistic regression\n",
    "TrainScores"
   ]
  },
  {
   "cell_type": "code",
   "execution_count": 20,
   "metadata": {},
   "outputs": [
    {
     "data": {
      "text/plain": [
       "[0.8855590934631954,\n",
       " 0.8888680776674783,\n",
       " 0.8846225884997191,\n",
       " 0.8861834301055129,\n",
       " 0.8863011988011988]"
      ]
     },
     "execution_count": 20,
     "metadata": {},
     "output_type": "execute_result"
    }
   ],
   "source": [
    "#These are the K-test scores, based on the logistic regression\n",
    "ScoreList"
   ]
  },
  {
   "cell_type": "code",
   "execution_count": 21,
   "metadata": {},
   "outputs": [
    {
     "data": {
      "text/plain": [
       "[0.8421367948077884,\n",
       " 0.8407388916625063,\n",
       " 0.8432850723914129,\n",
       " 0.8406390414378432,\n",
       " 0.8429355966050923]"
      ]
     },
     "execution_count": 21,
     "metadata": {},
     "output_type": "execute_result"
    }
   ],
   "source": [
    "#These are the scores for each of the 5 ensemble models, compared to the untouched 20% test index\n",
    "PureTestScore"
   ]
  },
  {
   "cell_type": "code",
   "execution_count": 22,
   "metadata": {},
   "outputs": [
    {
     "data": {
      "text/plain": [
       "[array([0, 0, 0, ..., 0, 0, 0], dtype=int64),\n",
       " array([0, 0, 0, ..., 0, 0, 0], dtype=int64),\n",
       " array([0, 0, 0, ..., 0, 0, 0], dtype=int64),\n",
       " array([0, 0, 0, ..., 0, 0, 0], dtype=int64),\n",
       " array([0, 0, 0, ..., 0, 0, 0], dtype=int64)]"
      ]
     },
     "execution_count": 22,
     "metadata": {},
     "output_type": "execute_result"
    }
   ],
   "source": [
    "#These are the prediction lists from the train, compared to actual Y values for the train:\n",
    "PredictList"
   ]
  },
  {
   "cell_type": "code",
   "execution_count": 23,
   "metadata": {},
   "outputs": [
    {
     "data": {
      "text/plain": [
       "0.8865441286649018"
      ]
     },
     "execution_count": 23,
     "metadata": {},
     "output_type": "execute_result"
    }
   ],
   "source": [
    "#These values may sound impressive, but they absolutely aren't. 11.1 percent of patients return under 30 days, so simply guessing \"No\" will get you 88.8% accuracy:\n",
    "1-np.sum(trainY)/len(trainY)"
   ]
  },
  {
   "cell_type": "code",
   "execution_count": 24,
   "metadata": {},
   "outputs": [],
   "source": [
    "#Let's try the regression with our modified features:\n",
    "\n",
    "from sklearn.linear_model import LogisticRegression as lgr\n",
    "\n",
    "lgr2 = lgr()\n",
    "\n",
    "import sklearn.model_selection as ms\n",
    "ms_k5 = ms.KFold(n_splits=5, shuffle=True)\n",
    "\n",
    "#Let's try it with our modified features:\n",
    "\n",
    "DiabetesTrainM = DiabetesTrain[FeatureIntersect]\n",
    "DiabetesTestM = DiabetesTest[FeatureIntersect]\n",
    "\n",
    "#Create X and Y variables (replace 2 to 1 and 1 to 0)\n",
    "trainX = DiabetesTrainM.drop('readmitted', axis=1)\n",
    "trainY = DiabetesTrainM['readmitted'].replace([2, 1], [1, 0])\n",
    "\n",
    "testX = DiabetesTestM.drop('readmitted', axis=1)\n",
    "testY = DiabetesTestM['readmitted'].replace([2, 1], [1, 0])\n",
    "\n",
    "\n",
    "#Instantiate the K-fold generator object:\n",
    "np.random.seed(0)\n",
    "DiabetesAD5Fold = ms_k5.split(trainX, trainY)\n",
    "\n",
    "#Produce list of test R^2 scores, and Actual vs Predicted lists for the individual runs\n",
    "ScoreList = []\n",
    "PredictList = []\n",
    "PureTestScore = []\n",
    "TrainScores = []\n",
    "ActualValues = []\n",
    "\n",
    "for train, test in DiabetesAD5Fold:\n",
    "\n",
    "    \n",
    "    #Run the fit using the train data for each K\n",
    "    lgr2.fit(trainX.iloc[train,], trainY[train])\n",
    "    #Run your predicion for the \"missing\" K-part\n",
    "    p = lgr2.predict(trainX.iloc[test,])\n",
    "    actual = trainY[train].values\n",
    "    #Check your schore for the missing K-part\n",
    "    R2 = lgr2.score(trainX.iloc[test,], trainY[test])\n",
    "    #Run a test on the completely untouched test 20%\n",
    "    TestR2 = lgr2.score(testX, testY)\n",
    "    TrainScore = lgr2.score(trainX.iloc[train,], trainY[train])\n",
    "    \n",
    "    #Append these scores to the lists above\n",
    "    ScoreList.append(R2)\n",
    "    PureTestScore.append(TestR2)\n",
    "    PredictList.append(p)\n",
    "    TrainScores.append(TrainScore)\n",
    "    ActualValues.append(actual)\n",
    "    \n",
    "    #Make predictions for the completely untouched 20%\n",
    "    PredictionsTest = lgr2.predict(testX)\n",
    "    \n",
    "    #Use these predictions to calculate RMSLE for the untouched 20% and append\n",
    "    #RMSLEvalue = np.sqrt(np.mean(np.power(np.log1p(testY)-np.log1p(PredictionsTest), 2)))\n",
    "    #RMSLE.append(RMSLEvalue)\n"
   ]
  },
  {
   "cell_type": "code",
   "execution_count": 25,
   "metadata": {},
   "outputs": [
    {
     "data": {
      "text/plain": [
       "[0.886540652754148,\n",
       " 0.8857133937908752,\n",
       " 0.8867123480106763,\n",
       " 0.8863689574976197,\n",
       " 0.8863239058500343]"
      ]
     },
     "execution_count": 25,
     "metadata": {},
     "output_type": "execute_result"
    }
   ],
   "source": [
    "TrainScores"
   ]
  },
  {
   "cell_type": "code",
   "execution_count": 26,
   "metadata": {},
   "outputs": [
    {
     "data": {
      "text/plain": [
       "[0.8856215271274271,\n",
       " 0.8886183430105513,\n",
       " 0.8848098894924143,\n",
       " 0.8861209964412812,\n",
       " 0.8861138861138861]"
      ]
     },
     "execution_count": 26,
     "metadata": {},
     "output_type": "execute_result"
    }
   ],
   "source": [
    "ScoreList"
   ]
  },
  {
   "cell_type": "code",
   "execution_count": 27,
   "metadata": {},
   "outputs": [
    {
     "data": {
      "text/plain": [
       "[0.8865202196704942,\n",
       " 0.8861208187718422,\n",
       " 0.8861707438841737,\n",
       " 0.8863205192211683,\n",
       " 0.8864203694458312]"
      ]
     },
     "execution_count": 27,
     "metadata": {},
     "output_type": "execute_result"
    }
   ],
   "source": [
    "PureTestScore"
   ]
  },
  {
   "cell_type": "code",
   "execution_count": 28,
   "metadata": {},
   "outputs": [],
   "source": [
    "#The accuracy with reduced features was no better than the overall accuracy with all features. Let's check what might be going on:"
   ]
  },
  {
   "cell_type": "code",
   "execution_count": 29,
   "metadata": {},
   "outputs": [
    {
     "data": {
      "text/plain": [
       "54"
      ]
     },
     "execution_count": 29,
     "metadata": {},
     "output_type": "execute_result"
    }
   ],
   "source": [
    "np.sum(PredictList[0])"
   ]
  },
  {
   "cell_type": "code",
   "execution_count": 30,
   "metadata": {},
   "outputs": [
    {
     "data": {
      "text/plain": [
       "16017"
      ]
     },
     "execution_count": 30,
     "metadata": {},
     "output_type": "execute_result"
    }
   ],
   "source": [
    "len(PredictList[0])"
   ]
  },
  {
   "cell_type": "code",
   "execution_count": 31,
   "metadata": {},
   "outputs": [
    {
     "data": {
      "text/plain": [
       "'This seems to be the biggest problem. Out of 16,200 observations (in the first K group, as an example), only 65 of them\\nwere predicted to return within 30 days. We know that 11% should, or rougly 1,800. We need to tune this model to be more\\ngenerous in predicting a positive outcome'"
      ]
     },
     "execution_count": 31,
     "metadata": {},
     "output_type": "execute_result"
    }
   ],
   "source": [
    "'''This seems to be the biggest problem. Out of 16,200 observations (in the first K group, as an example), only 65 of them\n",
    "were predicted to return within 30 days. We know that 11% should, or rougly 1,800. We need to tune this model to be more\n",
    "generous in predicting a positive outcome'''"
   ]
  },
  {
   "cell_type": "code",
   "execution_count": 32,
   "metadata": {},
   "outputs": [
    {
     "name": "stdout",
     "output_type": "stream",
     "text": [
      "Fitting 5 folds for each of 7 candidates, totalling 35 fits\n"
     ]
    },
    {
     "name": "stderr",
     "output_type": "stream",
     "text": [
      "[Parallel(n_jobs=2)]: Done  35 out of  35 | elapsed:   25.8s finished\n"
     ]
    },
    {
     "data": {
      "text/plain": [
       "{'C': 0.001}"
      ]
     },
     "execution_count": 32,
     "metadata": {},
     "output_type": "execute_result"
    }
   ],
   "source": [
    "from sklearn.model_selection import RandomizedSearchCV\n",
    "\n",
    "#We will perform a grid search to find the optimal hyperparameters for our RF algorithm and test using our K-fold data:\n",
    "\n",
    "# C value is the one most important for tuning a logistic regression. Let's see how varying this value affects the score:\n",
    "C_range = [0.001, 0.01, 0.1, 1, 10, 100, 100]\n",
    "\n",
    "\n",
    "# Create the random grid\n",
    "random_grid = {'C': C_range}\n",
    "\n",
    "# Use the random grid to search for best C hyperparameter:\n",
    "\n",
    "# First create the base model to tune\n",
    "lgrCV = lgr()\n",
    "\n",
    "# Random search of parameters, using 5-fold cross validation, \n",
    "lgr_random = RandomizedSearchCV(estimator = lgrCV, param_distributions = random_grid, n_iter = 7, cv = 5, verbose=2, random_state=42, n_jobs = 2)\n",
    "\n",
    "# Fit the random search model\n",
    "lgr_random.fit(trainX, trainY)\n",
    "\n",
    "#Then print the best parameters using best_params_\n",
    "lgr_random.best_params_"
   ]
  },
  {
   "cell_type": "code",
   "execution_count": 42,
   "metadata": {},
   "outputs": [],
   "source": [
    "#Let's try the logistic regression with c=0.001 and see how that works:\n",
    "\n",
    "from sklearn.linear_model import LogisticRegression as lgr\n",
    "\n",
    "lgr = lgr()\n",
    "lgr.set_params(C=0.001)\n",
    "\n",
    "import sklearn.model_selection as ms\n",
    "ms_k5 = ms.KFold(n_splits=5, shuffle=True)\n",
    "\n",
    "#First try with all features:\n",
    "\n",
    "#Create X and Y variables (replace 2 to 1 and 1 to 0)\n",
    "trainX = DiabetesTrain.drop('readmitted', axis=1)\n",
    "trainY = DiabetesTrain['readmitted'].replace([2, 1], [1, 0])\n",
    "\n",
    "testX = DiabetesTest.drop('readmitted', axis=1)\n",
    "testY = DiabetesTest['readmitted'].replace([2, 1], [1, 0])\n",
    "\n",
    "\n",
    "#Instantiate the K-fold generator object:\n",
    "np.random.seed(0)\n",
    "DiabetesAD5Fold = ms_k5.split(trainX, trainY)\n",
    "\n",
    "#Produce list of test R^2 scores, and Actual vs Predicted lists for the individual runs\n",
    "ScoreList = []\n",
    "PredictList = []\n",
    "PureTestScore = []\n",
    "TrainScores = []\n",
    "ActualValues = []\n",
    "\n",
    "for train, test in DiabetesAD5Fold:\n",
    "\n",
    "    \n",
    "    #Run the fit using the train data for each K\n",
    "    lgr.fit(trainX.iloc[train,], trainY[train])\n",
    "    #Run your predicion for the \"missing\" K-part\n",
    "    p = lgr.predict(trainX.iloc[test,])\n",
    "    actual = trainY[train].values\n",
    "    #Check your schore for the missing K-part\n",
    "    R2 = lgr.score(trainX.iloc[test,], trainY[test])\n",
    "    #Run a test on the completely untouched test 20%\n",
    "    TestR2 = lgr.score(testX, testY)\n",
    "    TrainScore = lgr.score(trainX.iloc[train,], trainY[train])\n",
    "    \n",
    "    #Append these scores to the lists above\n",
    "    ScoreList.append(R2)\n",
    "    PureTestScore.append(TestR2)\n",
    "    PredictList.append(p)\n",
    "    TrainScores.append(TrainScore)\n",
    "    ActualValues.append(actual)\n",
    "    \n",
    "    #Make predictions for the completely untouched 20%\n",
    "    PredictionsTest = lgr.predict(testX)\n",
    "    PredictionsProbs = lgr.predict_proba(testX)\n",
    "    \n",
    "    #Use these predictions to calculate RMSLE for the untouched 20% and append\n",
    "    #RMSLEvalue = np.sqrt(np.mean(np.power(np.log1p(testY)-np.log1p(PredictionsTest), 2)))\n",
    "    #RMSLE.append(RMSLEvalue)"
   ]
  },
  {
   "cell_type": "code",
   "execution_count": 48,
   "metadata": {},
   "outputs": [
    {
     "data": {
      "text/plain": [
       "0.5948836629098997"
      ]
     },
     "execution_count": 48,
     "metadata": {},
     "output_type": "execute_result"
    }
   ],
   "source": [
    "from sklearn.metrics import roc_auc_score as AUC\n",
    "\n",
    "\n",
    "AUC(testY, PredictionsProbs[:,1])"
   ]
  },
  {
   "cell_type": "code",
   "execution_count": 47,
   "metadata": {},
   "outputs": [
    {
     "data": {
      "text/plain": [
       "array([0.26189372, 0.11925366, 0.17535673, ..., 0.14924451, 0.10639737,\n",
       "       0.08913864])"
      ]
     },
     "execution_count": 47,
     "metadata": {},
     "output_type": "execute_result"
    }
   ],
   "source": [
    "PredictionsProbs[:,1]"
   ]
  },
  {
   "cell_type": "code",
   "execution_count": 34,
   "metadata": {},
   "outputs": [
    {
     "data": {
      "text/plain": [
       "[0.8860708936595107,\n",
       " 0.8857713429855217,\n",
       " 0.8858711932101847,\n",
       " 0.8858212680978532,\n",
       " 0.8858212680978532]"
      ]
     },
     "execution_count": 34,
     "metadata": {},
     "output_type": "execute_result"
    }
   ],
   "source": [
    "PureTestScore"
   ]
  },
  {
   "cell_type": "code",
   "execution_count": 35,
   "metadata": {},
   "outputs": [],
   "source": [
    "#Either logistic regression does not work for this data, or something is going wrong here. The predicted scores are up by the slightest amount"
   ]
  },
  {
   "cell_type": "code",
   "execution_count": 36,
   "metadata": {},
   "outputs": [],
   "source": [
    "#Finally, try the logistic regression with c=0.001 and reduced features and see how that works:\n",
    "\n",
    "from sklearn.linear_model import LogisticRegression as lgr\n",
    "\n",
    "lgr = lgr()\n",
    "lgr.set_params(C=0.001)\n",
    "\n",
    "import sklearn.model_selection as ms\n",
    "ms_k5 = ms.KFold(n_splits=5, shuffle=True)\n",
    "\n",
    "#First try with all features:\n",
    "\n",
    "\n",
    "\n",
    "#Create X and Y variables (replace 2 to 1 and 1 to 0)\n",
    "trainX = DiabetesTrainM.drop('readmitted', axis=1)\n",
    "trainY = DiabetesTrainM['readmitted'].replace([2, 1], [1, 0])\n",
    "\n",
    "testX = DiabetesTestM.drop('readmitted', axis=1)\n",
    "testY = DiabetesTestM['readmitted'].replace([2, 1], [1, 0])\n",
    "\n",
    "\n",
    "#Instantiate the K-fold generator object:\n",
    "np.random.seed(0)\n",
    "DiabetesAD5Fold = ms_k5.split(trainX, trainY)\n",
    "\n",
    "#Produce list of test R^2 scores, and Actual vs Predicted lists for the individual runs\n",
    "ScoreList = []\n",
    "PredictList = []\n",
    "PureTestScore = []\n",
    "TrainScores = []\n",
    "ActualValues = []\n",
    "\n",
    "for train, test in DiabetesAD5Fold:\n",
    "\n",
    "    \n",
    "    #Run the fit using the train data for each K\n",
    "    lgr.fit(trainX.iloc[train,], trainY[train])\n",
    "    #Run your predicion for the \"missing\" K-part\n",
    "    p = lgr.predict(trainX.iloc[test,])\n",
    "    actual = trainY[train].values\n",
    "    #Check your schore for the missing K-part\n",
    "    R2 = lgr.score(trainX.iloc[test,], trainY[test])\n",
    "    #Run a test on the completely untouched test 20%\n",
    "    TestR2 = lgr.score(testX, testY)\n",
    "    TrainScore = lgr.score(trainX.iloc[train,], trainY[train])\n",
    "    \n",
    "    #Append these scores to the lists above\n",
    "    ScoreList.append(R2)\n",
    "    PureTestScore.append(TestR2)\n",
    "    PredictList.append(p)\n",
    "    TrainScores.append(TrainScore)\n",
    "    ActualValues.append(actual)\n",
    "    \n",
    "    #Make predictions for the completely untouched 20%\n",
    "    PredictionsTest = lgr.predict(testX)\n",
    "    \n",
    "    #Use these predictions to calculate RMSLE for the untouched 20% and append\n",
    "    #RMSLEvalue = np.sqrt(np.mean(np.power(np.log1p(testY)-np.log1p(PredictionsTest), 2)))\n",
    "    #RMSLE.append(RMSLEvalue)"
   ]
  },
  {
   "cell_type": "code",
   "execution_count": 37,
   "metadata": {},
   "outputs": [
    {
     "data": {
      "text/plain": [
       "[0.8863704443334998,\n",
       " 0.8865202196704942,\n",
       " 0.8865202196704942,\n",
       " 0.8865701447828258,\n",
       " 0.8865701447828258]"
      ]
     },
     "execution_count": 37,
     "metadata": {},
     "output_type": "execute_result"
    }
   ],
   "source": [
    "PureTestScore"
   ]
  },
  {
   "cell_type": "code",
   "execution_count": 49,
   "metadata": {},
   "outputs": [],
   "source": [
    "#Finally, try the logistic regression with c=0.001 and reduced features and see how that works:\n",
    "\n",
    "from sklearn.linear_model import LogisticRegression as lgr\n",
    "\n",
    "lgr = lgr()\n",
    "lgr.set_params(C=1000)\n",
    "\n",
    "import sklearn.model_selection as ms\n",
    "ms_k5 = ms.KFold(n_splits=5, shuffle=True)\n",
    "\n",
    "#First try with all features:\n",
    "\n",
    "\n",
    "\n",
    "#Create X and Y variables (replace 2 to 1 and 1 to 0)\n",
    "trainX = DiabetesTrainM.drop('readmitted', axis=1)\n",
    "trainY = DiabetesTrainM['readmitted'].replace([2, 1], [1, 0])\n",
    "\n",
    "testX = DiabetesTestM.drop('readmitted', axis=1)\n",
    "testY = DiabetesTestM['readmitted'].replace([2, 1], [1, 0])\n",
    "\n",
    "\n",
    "#Instantiate the K-fold generator object:\n",
    "np.random.seed(0)\n",
    "DiabetesAD5Fold = ms_k5.split(trainX, trainY)\n",
    "\n",
    "#Produce list of test R^2 scores, and Actual vs Predicted lists for the individual runs\n",
    "ScoreList = []\n",
    "PredictList = []\n",
    "PureTestScore = []\n",
    "TrainScores = []\n",
    "ActualValues = []\n",
    "\n",
    "for train, test in DiabetesAD5Fold:\n",
    "\n",
    "    \n",
    "    #Run the fit using the train data for each K\n",
    "    lgr.fit(trainX.iloc[train,], trainY[train])\n",
    "    #Run your predicion for the \"missing\" K-part\n",
    "    p = lgr.predict(trainX.iloc[test,])\n",
    "    actual = trainY[train].values\n",
    "    #Check your schore for the missing K-part\n",
    "    R2 = lgr.score(trainX.iloc[test,], trainY[test])\n",
    "    #Run a test on the completely untouched test 20%\n",
    "    TestR2 = lgr.score(testX, testY)\n",
    "    TrainScore = lgr.score(trainX.iloc[train,], trainY[train])\n",
    "    \n",
    "    #Append these scores to the lists above\n",
    "    ScoreList.append(R2)\n",
    "    PureTestScore.append(TestR2)\n",
    "    PredictList.append(p)\n",
    "    TrainScores.append(TrainScore)\n",
    "    ActualValues.append(actual)\n",
    "    \n",
    "    #Make predictions for the completely untouched 20%\n",
    "    PredictionsTest = lgr.predict(testX)\n",
    "    PredictionsProb = lgr.predict_proba(testX)\n",
    "    \n",
    "    #Use these predictions to calculate RMSLE for the untouched 20% and append\n",
    "    #RMSLEvalue = np.sqrt(np.mean(np.power(np.log1p(testY)-np.log1p(PredictionsTest), 2)))\n",
    "    #RMSLE.append(RMSLEvalue)"
   ]
  },
  {
   "cell_type": "code",
   "execution_count": 52,
   "metadata": {},
   "outputs": [
    {
     "name": "stdout",
     "output_type": "stream",
     "text": [
      "0.6592364935793682\n"
     ]
    },
    {
     "data": {
      "text/plain": [
       "0.6615979343823551"
      ]
     },
     "execution_count": 52,
     "metadata": {},
     "output_type": "execute_result"
    }
   ],
   "source": [
    "from sklearn.metrics import roc_auc_score as AUC\n",
    "\n",
    "print(AUC(testY, PredictionsProb[:,1]))\n",
    "AUC(trainY, lgr.predict_proba(trainX)[:,1])"
   ]
  },
  {
   "cell_type": "code",
   "execution_count": 39,
   "metadata": {},
   "outputs": [
    {
     "data": {
      "text/plain": [
       "[0.8865202196704942,\n",
       " 0.8861707438841737,\n",
       " 0.8862206689965052,\n",
       " 0.8862705941088368,\n",
       " 0.8863704443334998]"
      ]
     },
     "execution_count": 39,
     "metadata": {},
     "output_type": "execute_result"
    }
   ],
   "source": [
    "PureTestScore"
   ]
  },
  {
   "cell_type": "code",
   "execution_count": 40,
   "metadata": {},
   "outputs": [
    {
     "data": {
      "text/plain": [
       "54"
      ]
     },
     "execution_count": 40,
     "metadata": {},
     "output_type": "execute_result"
    }
   ],
   "source": [
    "np.sum(PredictList[0])"
   ]
  },
  {
   "cell_type": "code",
   "execution_count": null,
   "metadata": {},
   "outputs": [],
   "source": []
  }
 ],
 "metadata": {
  "kernelspec": {
   "display_name": "Python 3",
   "language": "python",
   "name": "python3"
  },
  "language_info": {
   "codemirror_mode": {
    "name": "ipython",
    "version": 3
   },
   "file_extension": ".py",
   "mimetype": "text/x-python",
   "name": "python",
   "nbconvert_exporter": "python",
   "pygments_lexer": "ipython3",
   "version": "3.6.5"
  }
 },
 "nbformat": 4,
 "nbformat_minor": 2
}
