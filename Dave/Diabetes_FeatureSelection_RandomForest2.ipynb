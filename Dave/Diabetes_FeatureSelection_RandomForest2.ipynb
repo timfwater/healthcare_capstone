{
 "cells": [
  {
   "cell_type": "code",
   "execution_count": 19,
   "metadata": {},
   "outputs": [],
   "source": [
    "import pandas as pd\n",
    "import numpy as np"
   ]
  },
  {
   "cell_type": "code",
   "execution_count": 22,
   "metadata": {},
   "outputs": [],
   "source": [
    "DiabetesAllDummy = pd.read_csv('DiabetesAllDummy.csv', index_col=0)\n",
    "#DiabetesOrdMed = pd.read_csv('DiabetesOrdMed.csv', index_col=0)"
   ]
  },
  {
   "cell_type": "code",
   "execution_count": 23,
   "metadata": {},
   "outputs": [],
   "source": [
    "#Let's just start by looking at a simple linear regression:\n",
    "#Yes, we have a categorical variable as our output. This will not be valid, but will show right away variables which could be important:\n",
    "\n",
    "DiabetesTrain = DiabetesAllDummy[DiabetesAllDummy['IsTrain']==1]\n",
    "DiabetesTrain = DiabetesTrain.drop('IsTrain', axis=1)\n",
    "DiabetesTrain.index = list(range(len(DiabetesTrain)))\n",
    "\n",
    "DiabetesTest = DiabetesAllDummy[DiabetesAllDummy['IsTrain']==0]\n",
    "DiabetesTest = DiabetesTest.drop('IsTrain', axis=1)\n",
    "DiabetesTest.index = list(range(len(DiabetesTest)))"
   ]
  },
  {
   "cell_type": "code",
   "execution_count": 5,
   "metadata": {},
   "outputs": [
    {
     "name": "stdout",
     "output_type": "stream",
     "text": [
      "Commented Out\n"
     ]
    }
   ],
   "source": [
    "#This is commented out because it took a VERY long time\n",
    "'''from sklearn.model_selection import RandomizedSearchCV\n",
    "from sklearn.ensemble import RandomForestClassifier as rfc\n",
    "\n",
    "#We will perform a grid search to find the optimal hyperparameters for our RF algorithm and test using our K-fold data:\n",
    "\n",
    "# C value is the one most important for tuning a logistic regression. Let's see how varying this value affects the score:\n",
    "min_samples_split = [2, 3, 5, 10]\n",
    "min_samples_leaf = [1, 2, 4]\n",
    "n_estimators = [int(x) for x in np.linspace(start = 100, stop = 1000, num = 10)]\n",
    "max_depth = [int(x) for x in np.linspace(10, 110, num = 11)]\n",
    "max_depth.append(None)\n",
    "max_features = ['sqrt', 'log2']\n",
    "\n",
    "\n",
    "# Create the random grid\n",
    "random_grid = {'min_samples_split': min_samples_split, 'n_estimators':n_estimators,\n",
    "              'max_depth':max_depth, 'max_features':max_features, 'min_samples_leaf':min_samples_leaf}\n",
    "\n",
    "# Use the random grid to search for best C hyperparameter:\n",
    "\n",
    "# First create the base model to tune\n",
    "rftune = rfc()\n",
    "\n",
    "# Random search of parameters, using 5-fold cross validation, \n",
    "rf_random = RandomizedSearchCV(estimator = rftune, scoring='f1', param_distributions = random_grid, n_iter = 100, cv = 5, \n",
    "                               verbose=2, random_state=42, n_jobs = 3)\n",
    "\n",
    "# Fit the random search model\n",
    "rf_random.fit(trainX, trainY)\n",
    "\n",
    "#Then print the best parameters using best_params_\n",
    "rf_random.best_params_'''\n",
    "\n",
    "print('Commented Out')"
   ]
  },
  {
   "cell_type": "code",
   "execution_count": 24,
   "metadata": {},
   "outputs": [],
   "source": [
    "#Import the conditions from the F-score-optimized grid search:\n",
    "#This DF still has all features at the moment\n",
    "from sklearn.ensemble import RandomForestClassifier as rfc\n",
    "\n",
    "rfc = rfc()\n",
    "rfc.set_params(n_estimators=200, min_samples_split=5, min_samples_leaf=1, max_features='sqrt', max_depth=60)\n",
    "\n",
    "#Create X and Y variables (replace 2 to 1 and 1 to 0)\n",
    "trainX = DiabetesTrain.drop('readmitted', axis=1)\n",
    "trainY = DiabetesTrain['readmitted'].replace([2, 1], [1, 0])\n",
    "\n",
    "testX = DiabetesTest.drop('readmitted', axis=1)\n",
    "testY = DiabetesTest['readmitted'].replace([2, 1], [1, 0])\n",
    "\n",
    "#Run ths fit with the initial DF with all conditions:\n",
    "rfc.fit(trainX, trainY)\n",
    "actual = trainY.values\n",
    "\n",
    "predictprobs = rfc.predict_proba(trainX)\n",
    "predictvalues = rfc.predict(trainX)\n",
    "\n",
    "predicttest = rfc.predict(testX)\n",
    "predicttestprobs = rfc.predict_proba(testX)\n",
    "\n",
    "R2 = rfc.score(trainX, trainY)\n",
    "TestR2 = rfc.score(testX, testY)"
   ]
  },
  {
   "cell_type": "code",
   "execution_count": 28,
   "metadata": {},
   "outputs": [],
   "source": [
    "#Make feature importances list:\n",
    "FIAllDummyAllFeatures = pd.DataFrame({'Feature':pd.Series(trainX.columns), 'Importance':rfc.feature_importances_})"
   ]
  },
  {
   "cell_type": "code",
   "execution_count": 32,
   "metadata": {
    "scrolled": true
   },
   "outputs": [
    {
     "data": {
      "text/html": [
       "<div>\n",
       "<style scoped>\n",
       "    .dataframe tbody tr th:only-of-type {\n",
       "        vertical-align: middle;\n",
       "    }\n",
       "\n",
       "    .dataframe tbody tr th {\n",
       "        vertical-align: top;\n",
       "    }\n",
       "\n",
       "    .dataframe thead th {\n",
       "        text-align: right;\n",
       "    }\n",
       "</style>\n",
       "<table border=\"1\" class=\"dataframe\">\n",
       "  <thead>\n",
       "    <tr style=\"text-align: right;\">\n",
       "      <th></th>\n",
       "      <th>Feature</th>\n",
       "      <th>Importance</th>\n",
       "    </tr>\n",
       "  </thead>\n",
       "  <tbody>\n",
       "    <tr>\n",
       "      <th>2</th>\n",
       "      <td>num_lab_procedures</td>\n",
       "      <td>9.994955e-02</td>\n",
       "    </tr>\n",
       "    <tr>\n",
       "      <th>4</th>\n",
       "      <td>num_medications</td>\n",
       "      <td>8.608415e-02</td>\n",
       "    </tr>\n",
       "    <tr>\n",
       "      <th>7</th>\n",
       "      <td>number_inpatient</td>\n",
       "      <td>5.880484e-02</td>\n",
       "    </tr>\n",
       "    <tr>\n",
       "      <th>1</th>\n",
       "      <td>time_in_hospital</td>\n",
       "      <td>5.844174e-02</td>\n",
       "    </tr>\n",
       "    <tr>\n",
       "      <th>0</th>\n",
       "      <td>age</td>\n",
       "      <td>4.955290e-02</td>\n",
       "    </tr>\n",
       "    <tr>\n",
       "      <th>3</th>\n",
       "      <td>num_procedures</td>\n",
       "      <td>4.193598e-02</td>\n",
       "    </tr>\n",
       "    <tr>\n",
       "      <th>8</th>\n",
       "      <td>number_diagnoses</td>\n",
       "      <td>3.873384e-02</td>\n",
       "    </tr>\n",
       "    <tr>\n",
       "      <th>5</th>\n",
       "      <td>number_outpatient</td>\n",
       "      <td>2.267204e-02</td>\n",
       "    </tr>\n",
       "    <tr>\n",
       "      <th>6</th>\n",
       "      <td>number_emergency</td>\n",
       "      <td>2.054764e-02</td>\n",
       "    </tr>\n",
       "    <tr>\n",
       "      <th>37</th>\n",
       "      <td>gender_Male</td>\n",
       "      <td>1.793939e-02</td>\n",
       "    </tr>\n",
       "    <tr>\n",
       "      <th>10</th>\n",
       "      <td>diag_circulatory</td>\n",
       "      <td>1.536373e-02</td>\n",
       "    </tr>\n",
       "    <tr>\n",
       "      <th>22</th>\n",
       "      <td>diag_respiratory</td>\n",
       "      <td>1.502478e-02</td>\n",
       "    </tr>\n",
       "    <tr>\n",
       "      <th>33</th>\n",
       "      <td>race_AfricanAmerican</td>\n",
       "      <td>1.500456e-02</td>\n",
       "    </tr>\n",
       "    <tr>\n",
       "      <th>15</th>\n",
       "      <td>diag_metabolic</td>\n",
       "      <td>1.453590e-02</td>\n",
       "    </tr>\n",
       "    <tr>\n",
       "      <th>24</th>\n",
       "      <td>diag_urogenital</td>\n",
       "      <td>1.430525e-02</td>\n",
       "    </tr>\n",
       "    <tr>\n",
       "      <th>59</th>\n",
       "      <td>admission_source_id_1</td>\n",
       "      <td>1.408395e-02</td>\n",
       "    </tr>\n",
       "    <tr>\n",
       "      <th>13</th>\n",
       "      <td>diag_injury</td>\n",
       "      <td>1.376499e-02</td>\n",
       "    </tr>\n",
       "    <tr>\n",
       "      <th>54</th>\n",
       "      <td>admission_type_id_2</td>\n",
       "      <td>1.364964e-02</td>\n",
       "    </tr>\n",
       "    <tr>\n",
       "      <th>103</th>\n",
       "      <td>med_insulin_Steady</td>\n",
       "      <td>1.332580e-02</td>\n",
       "    </tr>\n",
       "    <tr>\n",
       "      <th>11</th>\n",
       "      <td>diag_digestive</td>\n",
       "      <td>1.293105e-02</td>\n",
       "    </tr>\n",
       "    <tr>\n",
       "      <th>82</th>\n",
       "      <td>med_glipizide_Steady</td>\n",
       "      <td>1.121776e-02</td>\n",
       "    </tr>\n",
       "    <tr>\n",
       "      <th>67</th>\n",
       "      <td>med_metformin_Steady</td>\n",
       "      <td>1.075482e-02</td>\n",
       "    </tr>\n",
       "    <tr>\n",
       "      <th>52</th>\n",
       "      <td>change_Ch</td>\n",
       "      <td>1.074326e-02</td>\n",
       "    </tr>\n",
       "    <tr>\n",
       "      <th>55</th>\n",
       "      <td>admission_type_id_3</td>\n",
       "      <td>1.065215e-02</td>\n",
       "    </tr>\n",
       "    <tr>\n",
       "      <th>20</th>\n",
       "      <td>diag_other</td>\n",
       "      <td>1.063899e-02</td>\n",
       "    </tr>\n",
       "    <tr>\n",
       "      <th>38</th>\n",
       "      <td>discharge_disposition_hhealth</td>\n",
       "      <td>1.045931e-02</td>\n",
       "    </tr>\n",
       "    <tr>\n",
       "      <th>43</th>\n",
       "      <td>discharge_disposition_outpatient</td>\n",
       "      <td>1.037312e-02</td>\n",
       "    </tr>\n",
       "    <tr>\n",
       "      <th>23</th>\n",
       "      <td>diag_skin</td>\n",
       "      <td>9.897898e-03</td>\n",
       "    </tr>\n",
       "    <tr>\n",
       "      <th>85</th>\n",
       "      <td>med_glyburide_Steady</td>\n",
       "      <td>9.645326e-03</td>\n",
       "    </tr>\n",
       "    <tr>\n",
       "      <th>42</th>\n",
       "      <td>discharge_disposition_nursing</td>\n",
       "      <td>9.115485e-03</td>\n",
       "    </tr>\n",
       "    <tr>\n",
       "      <th>...</th>\n",
       "      <td>...</td>\n",
       "      <td>...</td>\n",
       "    </tr>\n",
       "    <tr>\n",
       "      <th>80</th>\n",
       "      <td>med_glimepiride_Up</td>\n",
       "      <td>1.108454e-03</td>\n",
       "    </tr>\n",
       "    <tr>\n",
       "      <th>95</th>\n",
       "      <td>med_acarbose_Steady</td>\n",
       "      <td>1.073320e-03</td>\n",
       "    </tr>\n",
       "    <tr>\n",
       "      <th>27</th>\n",
       "      <td>diabfeat_hyperosmolarity</td>\n",
       "      <td>1.025901e-03</td>\n",
       "    </tr>\n",
       "    <tr>\n",
       "      <th>21</th>\n",
       "      <td>diag_pregnancy</td>\n",
       "      <td>9.519595e-04</td>\n",
       "    </tr>\n",
       "    <tr>\n",
       "      <th>71</th>\n",
       "      <td>med_repaglinide_Up</td>\n",
       "      <td>9.305428e-04</td>\n",
       "    </tr>\n",
       "    <tr>\n",
       "      <th>78</th>\n",
       "      <td>med_glimepiride_Down</td>\n",
       "      <td>9.238968e-04</td>\n",
       "    </tr>\n",
       "    <tr>\n",
       "      <th>90</th>\n",
       "      <td>med_pioglitazone_Up</td>\n",
       "      <td>8.712309e-04</td>\n",
       "    </tr>\n",
       "    <tr>\n",
       "      <th>93</th>\n",
       "      <td>med_rosiglitazone_Up</td>\n",
       "      <td>7.344957e-04</td>\n",
       "    </tr>\n",
       "    <tr>\n",
       "      <th>26</th>\n",
       "      <td>diabfeat_coma</td>\n",
       "      <td>3.987360e-04</td>\n",
       "    </tr>\n",
       "    <tr>\n",
       "      <th>76</th>\n",
       "      <td>med_chlorpropamide_Steady</td>\n",
       "      <td>3.534702e-04</td>\n",
       "    </tr>\n",
       "    <tr>\n",
       "      <th>88</th>\n",
       "      <td>med_pioglitazone_Down</td>\n",
       "      <td>3.508427e-04</td>\n",
       "    </tr>\n",
       "    <tr>\n",
       "      <th>91</th>\n",
       "      <td>med_rosiglitazone_Down</td>\n",
       "      <td>2.798106e-04</td>\n",
       "    </tr>\n",
       "    <tr>\n",
       "      <th>100</th>\n",
       "      <td>med_tolazamide_Steady</td>\n",
       "      <td>2.568466e-04</td>\n",
       "    </tr>\n",
       "    <tr>\n",
       "      <th>69</th>\n",
       "      <td>med_repaglinide_Down</td>\n",
       "      <td>2.369447e-04</td>\n",
       "    </tr>\n",
       "    <tr>\n",
       "      <th>98</th>\n",
       "      <td>med_miglitol_Steady</td>\n",
       "      <td>1.443873e-04</td>\n",
       "    </tr>\n",
       "    <tr>\n",
       "      <th>97</th>\n",
       "      <td>med_miglitol_Down</td>\n",
       "      <td>1.032020e-04</td>\n",
       "    </tr>\n",
       "    <tr>\n",
       "      <th>87</th>\n",
       "      <td>med_tolbutamide_Steady</td>\n",
       "      <td>9.640362e-05</td>\n",
       "    </tr>\n",
       "    <tr>\n",
       "      <th>56</th>\n",
       "      <td>admission_type_id_4</td>\n",
       "      <td>9.428031e-05</td>\n",
       "    </tr>\n",
       "    <tr>\n",
       "      <th>108</th>\n",
       "      <td>med_glipizide.metformin_Steady</td>\n",
       "      <td>8.840968e-05</td>\n",
       "    </tr>\n",
       "    <tr>\n",
       "      <th>74</th>\n",
       "      <td>med_nateglinide_Up</td>\n",
       "      <td>8.451667e-05</td>\n",
       "    </tr>\n",
       "    <tr>\n",
       "      <th>96</th>\n",
       "      <td>med_acarbose_Up</td>\n",
       "      <td>7.719368e-05</td>\n",
       "    </tr>\n",
       "    <tr>\n",
       "      <th>72</th>\n",
       "      <td>med_nateglinide_Down</td>\n",
       "      <td>7.471000e-05</td>\n",
       "    </tr>\n",
       "    <tr>\n",
       "      <th>105</th>\n",
       "      <td>med_glyburide.metformin_Down</td>\n",
       "      <td>6.874829e-05</td>\n",
       "    </tr>\n",
       "    <tr>\n",
       "      <th>58</th>\n",
       "      <td>admission_type_id_7</td>\n",
       "      <td>1.581728e-05</td>\n",
       "    </tr>\n",
       "    <tr>\n",
       "      <th>99</th>\n",
       "      <td>med_miglitol_Up</td>\n",
       "      <td>1.721088e-06</td>\n",
       "    </tr>\n",
       "    <tr>\n",
       "      <th>94</th>\n",
       "      <td>med_acarbose_Down</td>\n",
       "      <td>1.437174e-06</td>\n",
       "    </tr>\n",
       "    <tr>\n",
       "      <th>77</th>\n",
       "      <td>med_chlorpropamide_Up</td>\n",
       "      <td>1.325068e-06</td>\n",
       "    </tr>\n",
       "    <tr>\n",
       "      <th>75</th>\n",
       "      <td>med_chlorpropamide_Down</td>\n",
       "      <td>1.146252e-06</td>\n",
       "    </tr>\n",
       "    <tr>\n",
       "      <th>107</th>\n",
       "      <td>med_glyburide.metformin_Up</td>\n",
       "      <td>9.197634e-07</td>\n",
       "    </tr>\n",
       "    <tr>\n",
       "      <th>101</th>\n",
       "      <td>med_tolazamide_Up</td>\n",
       "      <td>4.522634e-07</td>\n",
       "    </tr>\n",
       "  </tbody>\n",
       "</table>\n",
       "<p>110 rows × 2 columns</p>\n",
       "</div>"
      ],
      "text/plain": [
       "                              Feature    Importance\n",
       "2                  num_lab_procedures  9.994955e-02\n",
       "4                     num_medications  8.608415e-02\n",
       "7                    number_inpatient  5.880484e-02\n",
       "1                    time_in_hospital  5.844174e-02\n",
       "0                                 age  4.955290e-02\n",
       "3                      num_procedures  4.193598e-02\n",
       "8                    number_diagnoses  3.873384e-02\n",
       "5                   number_outpatient  2.267204e-02\n",
       "6                    number_emergency  2.054764e-02\n",
       "37                        gender_Male  1.793939e-02\n",
       "10                   diag_circulatory  1.536373e-02\n",
       "22                   diag_respiratory  1.502478e-02\n",
       "33               race_AfricanAmerican  1.500456e-02\n",
       "15                     diag_metabolic  1.453590e-02\n",
       "24                    diag_urogenital  1.430525e-02\n",
       "59              admission_source_id_1  1.408395e-02\n",
       "13                        diag_injury  1.376499e-02\n",
       "54                admission_type_id_2  1.364964e-02\n",
       "103                med_insulin_Steady  1.332580e-02\n",
       "11                     diag_digestive  1.293105e-02\n",
       "82               med_glipizide_Steady  1.121776e-02\n",
       "67               med_metformin_Steady  1.075482e-02\n",
       "52                          change_Ch  1.074326e-02\n",
       "55                admission_type_id_3  1.065215e-02\n",
       "20                         diag_other  1.063899e-02\n",
       "38      discharge_disposition_hhealth  1.045931e-02\n",
       "43   discharge_disposition_outpatient  1.037312e-02\n",
       "23                          diag_skin  9.897898e-03\n",
       "85               med_glyburide_Steady  9.645326e-03\n",
       "42      discharge_disposition_nursing  9.115485e-03\n",
       "..                                ...           ...\n",
       "80                 med_glimepiride_Up  1.108454e-03\n",
       "95                med_acarbose_Steady  1.073320e-03\n",
       "27           diabfeat_hyperosmolarity  1.025901e-03\n",
       "21                     diag_pregnancy  9.519595e-04\n",
       "71                 med_repaglinide_Up  9.305428e-04\n",
       "78               med_glimepiride_Down  9.238968e-04\n",
       "90                med_pioglitazone_Up  8.712309e-04\n",
       "93               med_rosiglitazone_Up  7.344957e-04\n",
       "26                      diabfeat_coma  3.987360e-04\n",
       "76          med_chlorpropamide_Steady  3.534702e-04\n",
       "88              med_pioglitazone_Down  3.508427e-04\n",
       "91             med_rosiglitazone_Down  2.798106e-04\n",
       "100             med_tolazamide_Steady  2.568466e-04\n",
       "69               med_repaglinide_Down  2.369447e-04\n",
       "98                med_miglitol_Steady  1.443873e-04\n",
       "97                  med_miglitol_Down  1.032020e-04\n",
       "87             med_tolbutamide_Steady  9.640362e-05\n",
       "56                admission_type_id_4  9.428031e-05\n",
       "108    med_glipizide.metformin_Steady  8.840968e-05\n",
       "74                 med_nateglinide_Up  8.451667e-05\n",
       "96                    med_acarbose_Up  7.719368e-05\n",
       "72               med_nateglinide_Down  7.471000e-05\n",
       "105      med_glyburide.metformin_Down  6.874829e-05\n",
       "58                admission_type_id_7  1.581728e-05\n",
       "99                    med_miglitol_Up  1.721088e-06\n",
       "94                  med_acarbose_Down  1.437174e-06\n",
       "77              med_chlorpropamide_Up  1.325068e-06\n",
       "75            med_chlorpropamide_Down  1.146252e-06\n",
       "107        med_glyburide.metformin_Up  9.197634e-07\n",
       "101                 med_tolazamide_Up  4.522634e-07\n",
       "\n",
       "[110 rows x 2 columns]"
      ]
     },
     "execution_count": 32,
     "metadata": {},
     "output_type": "execute_result"
    }
   ],
   "source": [
    "FIAllDummyAllFeatures = FIAllDummyAllFeatures.sort_values('Importance', ascending=False)\n",
    "FIAllDummyAllFeatures"
   ]
  },
  {
   "cell_type": "code",
   "execution_count": 33,
   "metadata": {},
   "outputs": [
    {
     "data": {
      "text/plain": [
       "0.657438557521296"
      ]
     },
     "execution_count": 33,
     "metadata": {},
     "output_type": "execute_result"
    }
   ],
   "source": [
    "from sklearn.metrics import roc_auc_score as AUC\n",
    "\n",
    "#0.657 AUC for the AllDummy DF, random forest, with all features used\n",
    "AUC(testY, predicttestprobs[:,1])"
   ]
  },
  {
   "cell_type": "code",
   "execution_count": 34,
   "metadata": {},
   "outputs": [
    {
     "name": "stdout",
     "output_type": "stream",
     "text": [
      "0.9328829728784775\n"
     ]
    }
   ],
   "source": [
    "#93.3% accuracy for the train set\n",
    "print(rfc.score(trainX, trainY))"
   ]
  },
  {
   "cell_type": "code",
   "execution_count": 35,
   "metadata": {},
   "outputs": [
    {
     "name": "stdout",
     "output_type": "stream",
     "text": [
      "0.8868197703444832\n"
     ]
    }
   ],
   "source": [
    "#88.6 percent accuracy sounds good, but is essentially no better than guessing \"No\" for everything\n",
    "print(rfc.score(testX, testY))"
   ]
  },
  {
   "cell_type": "code",
   "execution_count": 36,
   "metadata": {},
   "outputs": [
    {
     "name": "stdout",
     "output_type": "stream",
     "text": [
      "2256\n",
      "16\n",
      "20030\n"
     ]
    }
   ],
   "source": [
    "print(len(predicttestprobs[:,1][predicttestprobs[:,1]>0.20]))\n",
    "#This predictor estimates that there is an 11.6 percent chance in the train set\n",
    "#np.sum(predictvalues)\n",
    "print(np.sum(predicttest))\n",
    "print(len(predicttest))\n",
    "#The test classifier predicts 20/20030 hits (less than 1%), despite >11% being positive\n",
    "#We would need to set the threshhold to about 20% to get 11% hits"
   ]
  },
  {
   "cell_type": "code",
   "execution_count": 37,
   "metadata": {},
   "outputs": [
    {
     "name": "stdout",
     "output_type": "stream",
     "text": [
      "2256\n",
      "17774\n",
      "554\n",
      "1717\n",
      "3419\n"
     ]
    }
   ],
   "source": [
    "#I'm curious how effective that cutoff (20%) would be:\n",
    "predictedY = testY[predicttestprobs[:,1]>0.20]\n",
    "predictedN = testY[predicttestprobs[:,1]<=0.2]\n",
    "\n",
    "print(len(predictedY))\n",
    "print(len(predictedN))\n",
    "print(np.sum(predictedY))\n",
    "print(np.sum(predictedN))\n",
    "\n",
    "print(np.sum((1-predictedY)**2) + np.sum(predictedN**2))\n",
    "\n",
    "#At this cutoff, we made 20030 predictions. 2281 were yes (577 right, 1704 wrong); 17749 were no (16055 right, 1694 wrong). \n",
    "#This is only 83.0 percent accurate, worse than simply guessing no for everything"
   ]
  },
  {
   "cell_type": "code",
   "execution_count": 38,
   "metadata": {},
   "outputs": [
    {
     "name": "stdout",
     "output_type": "stream",
     "text": [
      "16\n",
      "20014\n",
      "10\n",
      "2261\n",
      "2267\n"
     ]
    }
   ],
   "source": [
    "#I'm curious how effective that cutoff (20%) would be:\n",
    "predictedY = testY[predicttestprobs[:,1]>0.50]\n",
    "predictedN = testY[predicttestprobs[:,1]<=0.5]\n",
    "\n",
    "print(len(predictedY))\n",
    "print(len(predictedN))\n",
    "print(np.sum(predictedY))\n",
    "print(np.sum(predictedN))\n",
    "\n",
    "print(np.sum((1-predictedY)**2) + np.sum(predictedN**2))\n",
    "\n",
    "#Here, we predict 20 positives (yet still only 12 of them are actually positive... what??) and a slew of negatives, which have a standard 11% error rate."
   ]
  },
  {
   "cell_type": "code",
   "execution_count": 39,
   "metadata": {},
   "outputs": [
    {
     "data": {
      "text/plain": [
       "0.09640828507084578"
      ]
     },
     "execution_count": 39,
     "metadata": {},
     "output_type": "execute_result"
    }
   ],
   "source": [
    "np.sum((predicttestprobs[:,1]-testY)**2)/len(testY)\n",
    "#This prediction is an actual 9.6% error rate, better than simply predicting \"No\" for everything. How do we capture this?"
   ]
  },
  {
   "cell_type": "code",
   "execution_count": 41,
   "metadata": {},
   "outputs": [],
   "source": [
    "#Try this model with reduced features (top90):\n",
    "\n",
    "from sklearn.ensemble import RandomForestClassifier as rfc\n",
    "\n",
    "rfc = rfc()\n",
    "rfc.set_params(n_estimators=200, min_samples_split=5, min_samples_leaf=1, max_features='sqrt', max_depth=60)\n",
    "\n",
    "#Create X and Y variables (replace 2 to 1 and 1 to 0)\n",
    "trainX = DiabetesTrain.drop('readmitted', axis=1)\n",
    "trainX = trainX.drop(list(FIAllDummyAllFeatures['Feature'][91:110]), axis=1)\n",
    "\n",
    "testX = DiabetesTest.drop('readmitted', axis=1)\n",
    "testX = testX.drop(list(FIAllDummyAllFeatures['Feature'][91:110]), axis=1)\n",
    "\n",
    "#Run ths fit with the initial DF with all conditions:\n",
    "rfc.fit(trainX, trainY)\n",
    "actual = trainY.values\n",
    "\n",
    "predictprobs = rfc.predict_proba(trainX)\n",
    "predictvalues = rfc.predict(trainX)\n",
    "\n",
    "predicttest = rfc.predict(testX)\n",
    "predicttestprobs = rfc.predict_proba(testX)\n",
    "\n",
    "R2 = rfc.score(trainX, trainY)\n",
    "TestR2 = rfc.score(testX, testY)"
   ]
  },
  {
   "cell_type": "code",
   "execution_count": 42,
   "metadata": {},
   "outputs": [
    {
     "data": {
      "text/plain": [
       "0.6569262305436934"
      ]
     },
     "execution_count": 42,
     "metadata": {},
     "output_type": "execute_result"
    }
   ],
   "source": [
    "AUC(testY, predicttestprobs[:,1])"
   ]
  },
  {
   "cell_type": "code",
   "execution_count": 43,
   "metadata": {},
   "outputs": [],
   "source": [
    "#Try this model with reduced features (top50):\n",
    "\n",
    "from sklearn.ensemble import RandomForestClassifier as rfc\n",
    "\n",
    "rfc = rfc()\n",
    "rfc.set_params(n_estimators=200, min_samples_split=5, min_samples_leaf=1, max_features='sqrt', max_depth=60)\n",
    "\n",
    "#Create X and Y variables (replace 2 to 1 and 1 to 0)\n",
    "trainX = DiabetesTrain.drop('readmitted', axis=1)\n",
    "trainX = trainX.drop(list(FIAllDummyAllFeatures['Feature'][51:110]), axis=1)\n",
    "\n",
    "testX = DiabetesTest.drop('readmitted', axis=1)\n",
    "testX = testX.drop(list(FIAllDummyAllFeatures['Feature'][51:110]), axis=1)\n",
    "\n",
    "#Run ths fit with the initial DF with all conditions:\n",
    "rfc.fit(trainX, trainY)\n",
    "actual = trainY.values\n",
    "\n",
    "predictprobs = rfc.predict_proba(trainX)\n",
    "predictvalues = rfc.predict(trainX)\n",
    "\n",
    "predicttest = rfc.predict(testX)\n",
    "predicttestprobs = rfc.predict_proba(testX)\n",
    "\n",
    "R2 = rfc.score(trainX, trainY)\n",
    "TestR2 = rfc.score(testX, testY)"
   ]
  },
  {
   "cell_type": "code",
   "execution_count": 44,
   "metadata": {},
   "outputs": [
    {
     "data": {
      "text/plain": [
       "0.6502799022352432"
      ]
     },
     "execution_count": 44,
     "metadata": {},
     "output_type": "execute_result"
    }
   ],
   "source": [
    "#As we remove features, we are losing AUC and predictive value\n",
    "AUC(testY, predicttestprobs[:,1])"
   ]
  },
  {
   "cell_type": "code",
   "execution_count": 45,
   "metadata": {},
   "outputs": [],
   "source": [
    "#Now do this same analysis for dataset2 (meds reduced from up down steady no to change steady no)\n",
    "\n",
    "DiabetesAnyChange = pd.read_csv('DiabetesAnyChange.csv', index_col=0)\n",
    "\n",
    "DiabetesTrain2 = DiabetesAnyChange[DiabetesAnyChange['IsTrain']==1].drop('IsTrain', axis=1)\n",
    "DiabetesTrain2.index = list(range(len(DiabetesTrain2)))\n",
    "\n",
    "DiabetesTest2 = DiabetesAnyChange[DiabetesAnyChange['IsTrain']==0].drop('IsTrain', axis=1)\n",
    "DiabetesTest2.index = list(range(len(DiabetesTest2)))\n",
    "\n",
    "trainX2 = DiabetesTrain2.drop('readmitted', axis=1)\n",
    "trainY2 = DiabetesTrain2['readmitted'].replace([2, 1], [1, 0])\n",
    "\n",
    "testX2 = DiabetesTest2.drop('readmitted', axis=1)\n",
    "testY2 = DiabetesTest2['readmitted'].replace([2, 1], [1, 0])\n",
    "\n",
    "#Import and run the model:\n",
    "import xgboost as xgb\n",
    "from xgboost.sklearn import XGBClassifier\n",
    "from sklearn.cross_validation import RandomizedSearchCV\n",
    "from sklearn.metrics import \n"
   ]
  },
  {
   "cell_type": "code",
   "execution_count": null,
   "metadata": {},
   "outputs": [],
   "source": [
    "params = {\n",
    "        'min_child_weight': [1, 5, 10],\n",
    "        'gamma': [0.5, 1, 1.5, 2, 5],\n",
    "        'subsample': [0.6, 0.8, 1.0],\n",
    "        'colsample_bytree': [0.6, 0.8, 1.0],\n",
    "        'max_depth': [3, 4, 5]\n",
    "        }\n",
    "\n",
    "random_search = RandomizedSearchCV(xgb, param_distributions=params, n_iter=100, scoring='roc_auc', n_jobs=6, \n",
    "                                   cv=4, verbose=5, random_state=42)\n"
   ]
  },
  {
   "cell_type": "code",
   "execution_count": 46,
   "metadata": {},
   "outputs": [
    {
     "data": {
      "text/plain": [
       "0.6584383544749259"
      ]
     },
     "execution_count": 46,
     "metadata": {},
     "output_type": "execute_result"
    }
   ],
   "source": [
    "from sklearn.metrics import roc_auc_score as AUC\n",
    "\n",
    "AUC(testY2, predicttestprobs[:,1])"
   ]
  },
  {
   "cell_type": "code",
   "execution_count": 47,
   "metadata": {},
   "outputs": [],
   "source": [
    "#Now do this same analysis for dataset3 (meds reduced from up down steady no to yes no)\n",
    "#Set3\n",
    "\n",
    "\n",
    "DiabetesTakingMed = pd.read_csv('DiabetesTakingMed.csv', index_col=0)\n",
    "\n",
    "DiabetesTrain3 = DiabetesTakingMed[DiabetesTakingMed['IsTrain']==1].drop('IsTrain', axis=1)\n",
    "DiabetesTrain3.index = list(range(len(DiabetesTrain3)))\n",
    "\n",
    "DiabetesTest3 = DiabetesTakingMed[DiabetesTakingMed['IsTrain']==0].drop('IsTrain', axis=1)\n",
    "DiabetesTest3.index = list(range(len(DiabetesTest3)))\n",
    "\n",
    "trainX3 = DiabetesTrain3.drop('readmitted', axis=1)\n",
    "trainY3 = DiabetesTrain3['readmitted'].replace([2, 1], [1, 0])\n",
    "\n",
    "testX3 = DiabetesTest3.drop('readmitted', axis=1)\n",
    "testY3 = DiabetesTest3['readmitted'].replace([2, 1], [1, 0])\n",
    "\n",
    "#Import and run the model:\n",
    "from sklearn.ensemble import RandomForestClassifier as rfc\n",
    "\n",
    "rfc = rfc()\n",
    "rfc.set_params(n_estimators=200, min_samples_split=5, min_samples_leaf=1, max_features='sqrt', max_depth=60)\n",
    "\n",
    "rfc.fit(trainX3, trainY3)\n",
    "predictprobs = rfc.predict_proba(trainX3)\n",
    "predictvalues = rfc.predict(trainX3)\n",
    "actual = trainY3.values\n",
    "\n",
    "R2 = rfc.score(trainX3, trainY3)\n",
    "#Run a test on the completely untouched test 20%\n",
    "TestR2 = rfc.score(testX3, testY3)\n",
    "\n",
    "predicttest = rfc.predict(testX3)\n",
    "predicttestprobs = rfc.predict_proba(testX3)"
   ]
  },
  {
   "cell_type": "code",
   "execution_count": 48,
   "metadata": {},
   "outputs": [
    {
     "data": {
      "text/plain": [
       "0.6582691656966237"
      ]
     },
     "execution_count": 48,
     "metadata": {},
     "output_type": "execute_result"
    }
   ],
   "source": [
    "from sklearn.metrics import roc_auc_score as AUC\n",
    "\n",
    "#AUC values are slightly higher for TakingMEd and AnyChange DF's than for the AllDummy DF, but barely\n",
    "AUC(testY3, predicttestprobs[:,1])"
   ]
  },
  {
   "cell_type": "code",
   "execution_count": 101,
   "metadata": {},
   "outputs": [
    {
     "data": {
      "text/plain": [
       "0.09642865717727499"
      ]
     },
     "execution_count": 101,
     "metadata": {},
     "output_type": "execute_result"
    }
   ],
   "source": [
    "from sklearn.metrics import brier_score_loss as BSL\n",
    "\n",
    "BSL(testY3, predicttestprobs[:,1])"
   ]
  },
  {
   "cell_type": "code",
   "execution_count": 49,
   "metadata": {},
   "outputs": [
    {
     "data": {
      "text/plain": [
       "0.5030209625231049"
      ]
     },
     "execution_count": 49,
     "metadata": {},
     "output_type": "execute_result"
    }
   ],
   "source": [
    "AUC(testY3, predicttest)"
   ]
  },
  {
   "cell_type": "code",
   "execution_count": 158,
   "metadata": {},
   "outputs": [],
   "source": [
    "#What if we stack models? Would this improve predictions?"
   ]
  },
  {
   "cell_type": "code",
   "execution_count": 91,
   "metadata": {},
   "outputs": [],
   "source": [
    "#Again, this is the base \"TakingMed\" random forest model:\n",
    "\n",
    "DiabetesTakingMed = pd.read_csv('DiabetesTakingMed.csv', index_col=0)\n",
    "\n",
    "DiabetesTrain3 = DiabetesTakingMed[DiabetesTakingMed['IsTrain']==1].drop('IsTrain', axis=1)\n",
    "DiabetesTrain3.index = list(range(len(DiabetesTrain3)))\n",
    "\n",
    "DiabetesTest3 = DiabetesTakingMed[DiabetesTakingMed['IsTrain']==0].drop('IsTrain', axis=1)\n",
    "DiabetesTest3.index = list(range(len(DiabetesTest3)))\n",
    "\n",
    "trainX3 = DiabetesTrain3.drop('readmitted', axis=1)\n",
    "trainY3 = DiabetesTrain3['readmitted'].replace([2, 1], [1, 0])\n",
    "\n",
    "testX3 = DiabetesTest3.drop('readmitted', axis=1)\n",
    "testY3 = DiabetesTest3['readmitted'].replace([2, 1], [1, 0])\n",
    "\n",
    "#Import and run the model:\n",
    "from sklearn.ensemble import RandomForestClassifier as rfc\n",
    "\n",
    "rfc = rfc()\n",
    "rfc.set_params(n_estimators=200, min_samples_split=5, min_samples_leaf=1, max_features='sqrt', max_depth=60, random_state=100)\n",
    "\n",
    "rfc.fit(trainX3, trainY3)\n",
    "predictprobs = rfc.predict_proba(trainX3)\n",
    "predictvalues = rfc.predict(trainX3)\n",
    "actual = trainY3.values\n",
    "\n",
    "R2 = rfc.score(trainX3, trainY3)\n",
    "#Run a test on the completely untouched test 20%\n",
    "TestR2 = rfc.score(testX3, testY3)\n",
    "\n",
    "predicttestRF = rfc.predict(testX3)\n",
    "predicttestprobsRF = rfc.predict_proba(testX3)"
   ]
  },
  {
   "cell_type": "code",
   "execution_count": 92,
   "metadata": {},
   "outputs": [
    {
     "data": {
      "text/plain": [
       "0.6565265349173677"
      ]
     },
     "execution_count": 92,
     "metadata": {},
     "output_type": "execute_result"
    }
   ],
   "source": [
    "#Again, this model has an AUC of approximately 0.6584: (completely subject to random motion)\n",
    "AUC(testY3, predicttestprobsRF[:,1])"
   ]
  },
  {
   "cell_type": "code",
   "execution_count": 108,
   "metadata": {},
   "outputs": [
    {
     "data": {
      "text/plain": [
       "0.09658609386085505"
      ]
     },
     "execution_count": 108,
     "metadata": {},
     "output_type": "execute_result"
    }
   ],
   "source": [
    "#Brier loss of 0.09658\n",
    "BSL(testY3, predicttestprobsRF[:,1])"
   ]
  },
  {
   "cell_type": "code",
   "execution_count": 94,
   "metadata": {},
   "outputs": [
    {
     "data": {
      "text/plain": [
       "0.9999808638460312"
      ]
     },
     "execution_count": 94,
     "metadata": {},
     "output_type": "execute_result"
    }
   ],
   "source": [
    "#Train set AUC for random forest is essentially 1\n",
    "AUC(trainY3, predictprobs[:,1])"
   ]
  },
  {
   "cell_type": "code",
   "execution_count": 98,
   "metadata": {},
   "outputs": [
    {
     "data": {
      "text/plain": [
       "(array([2.7680e+03, 9.6040e+03, 1.3675e+04, 1.3263e+04, 1.1031e+04,\n",
       "        7.7210e+03, 5.1680e+03, 3.0910e+03, 1.8890e+03, 1.1270e+03,\n",
       "        6.2200e+02, 3.9300e+02, 2.5100e+02, 1.5000e+02, 9.8000e+01,\n",
       "        5.5000e+01, 4.1000e+01, 2.2000e+01, 4.1000e+01, 6.4000e+01,\n",
       "        1.0400e+02, 1.6100e+02, 2.6500e+02, 3.5600e+02, 5.0600e+02,\n",
       "        6.5800e+02, 6.7900e+02, 7.6200e+02, 7.9000e+02, 7.6600e+02,\n",
       "        6.8200e+02, 6.3700e+02, 5.0400e+02, 4.6300e+02, 3.5400e+02,\n",
       "        2.9500e+02, 2.4200e+02, 2.0700e+02, 1.4400e+02, 1.3200e+02,\n",
       "        9.3000e+01, 7.0000e+01, 4.1000e+01, 3.6000e+01, 2.4000e+01,\n",
       "        1.8000e+01, 5.0000e+00, 2.0000e+00, 7.0000e+00, 7.0000e+00]),\n",
       " array([0.        , 0.01669964, 0.03339929, 0.05009893, 0.06679857,\n",
       "        0.08349821, 0.10019786, 0.1168975 , 0.13359714, 0.15029679,\n",
       "        0.16699643, 0.18369607, 0.20039571, 0.21709536, 0.233795  ,\n",
       "        0.25049464, 0.26719429, 0.28389393, 0.30059357, 0.31729321,\n",
       "        0.33399286, 0.3506925 , 0.36739214, 0.38409179, 0.40079143,\n",
       "        0.41749107, 0.43419071, 0.45089036, 0.46759   , 0.48428964,\n",
       "        0.50098929, 0.51768893, 0.53438857, 0.55108821, 0.56778786,\n",
       "        0.5844875 , 0.60118714, 0.61788679, 0.63458643, 0.65128607,\n",
       "        0.66798571, 0.68468536, 0.701385  , 0.71808464, 0.73478429,\n",
       "        0.75148393, 0.76818357, 0.78488321, 0.80158286, 0.8182825 ,\n",
       "        0.83498214]),\n",
       " <a list of 50 Patch objects>)"
      ]
     },
     "execution_count": 98,
     "metadata": {},
     "output_type": "execute_result"
    },
    {
     "data": {
      "image/png": "[encoded data removed]",
      "text/plain": [
       "<Figure size 432x288 with 1 Axes>"
      ]
     },
     "metadata": {},
     "output_type": "display_data"
    }
   ],
   "source": [
    "#The train set has an amazing ROC because it essentially predicts almost all positive hits above 50% and all negative hits below 50%\n",
    "import matplotlib.pyplot as plt\n",
    "plt.figure()\n",
    "plt.hist(predictprobs[:,1], bins=50)"
   ]
  },
  {
   "cell_type": "code",
   "execution_count": 81,
   "metadata": {},
   "outputs": [],
   "source": [
    "from sklearn.linear_model import LogisticRegression as lgr\n",
    "\n",
    "lgr = lgr()\n",
    "lgr.set_params(C=0.1)\n",
    "\n",
    "lgr.fit(trainX3, trainY3)\n",
    "predictprobs = lgr.predict_proba(trainX3)\n",
    "predictvalues = lgr.predict(trainX3)\n",
    "actual = trainY3.values\n",
    "\n",
    "R2 = lgr.score(trainX3, trainY3)\n",
    "#Run a test on the completely untouched test 20%\n",
    "TestR2 = lgr.score(testX3, testY3)\n",
    "\n",
    "predicttestLR = lgr.predict(testX3)\n",
    "predicttestprobsLR = lgr.predict_proba(testX3)"
   ]
  },
  {
   "cell_type": "code",
   "execution_count": 82,
   "metadata": {},
   "outputs": [
    {
     "data": {
      "text/plain": [
       "0.6633660039876829"
      ]
     },
     "execution_count": 82,
     "metadata": {},
     "output_type": "execute_result"
    }
   ],
   "source": [
    "#This model gives a similar (slightly higher) AUC than RF, which is a bit surprising\n",
    "AUC(testY3, predicttestprobsLR[:,1])"
   ]
  },
  {
   "cell_type": "code",
   "execution_count": 107,
   "metadata": {},
   "outputs": [
    {
     "data": {
      "text/plain": [
       "0.09661711502693517"
      ]
     },
     "execution_count": 107,
     "metadata": {},
     "output_type": "execute_result"
    }
   ],
   "source": [
    "#Brier loss of 0.0966 (basically the same as RF)\n",
    "BSL(testY3, predicttestprobsLR[:,1])"
   ]
  },
  {
   "cell_type": "code",
   "execution_count": 100,
   "metadata": {},
   "outputs": [
    {
     "data": {
      "text/plain": [
       "(array([4.890e+02, 3.937e+03, 4.842e+03, 3.370e+03, 2.360e+03, 1.470e+03,\n",
       "        9.090e+02, 5.990e+02, 4.320e+02, 3.240e+02, 2.620e+02, 1.930e+02,\n",
       "        1.510e+02, 1.280e+02, 9.500e+01, 6.800e+01, 5.500e+01, 6.000e+01,\n",
       "        3.600e+01, 3.800e+01, 2.400e+01, 3.300e+01, 2.100e+01, 1.800e+01,\n",
       "        1.000e+01, 1.200e+01, 1.300e+01, 5.000e+00, 5.000e+00, 1.000e+01,\n",
       "        4.000e+00, 4.000e+00, 7.000e+00, 5.000e+00, 6.000e+00, 5.000e+00,\n",
       "        2.000e+00, 7.000e+00, 1.000e+00, 3.000e+00, 4.000e+00, 1.000e+00,\n",
       "        0.000e+00, 5.000e+00, 1.000e+00, 2.000e+00, 0.000e+00, 2.000e+00,\n",
       "        1.000e+00, 1.000e+00]),\n",
       " array([0.04054502, 0.05776883, 0.07499264, 0.09221646, 0.10944027,\n",
       "        0.12666408, 0.14388789, 0.1611117 , 0.17833551, 0.19555933,\n",
       "        0.21278314, 0.23000695, 0.24723076, 0.26445457, 0.28167839,\n",
       "        0.2989022 , 0.31612601, 0.33334982, 0.35057363, 0.36779745,\n",
       "        0.38502126, 0.40224507, 0.41946888, 0.43669269, 0.4539165 ,\n",
       "        0.47114032, 0.48836413, 0.50558794, 0.52281175, 0.54003556,\n",
       "        0.55725938, 0.57448319, 0.591707  , 0.60893081, 0.62615462,\n",
       "        0.64337844, 0.66060225, 0.67782606, 0.69504987, 0.71227368,\n",
       "        0.72949749, 0.74672131, 0.76394512, 0.78116893, 0.79839274,\n",
       "        0.81561655, 0.83284037, 0.85006418, 0.86728799, 0.8845118 ,\n",
       "        0.90173561]),\n",
       " <a list of 50 Patch objects>)"
      ]
     },
     "execution_count": 100,
     "metadata": {},
     "output_type": "execute_result"
    },
    {
     "data": {
      "image/png": "[encoded data removed]",
      "text/plain": [
       "<Figure size 432x288 with 1 Axes>"
      ]
     },
     "metadata": {},
     "output_type": "display_data"
    }
   ],
   "source": [
    "\n",
    "plt.figure()\n",
    "plt.hist(predicttestprobsLR[:,1], bins=50)"
   ]
  },
  {
   "cell_type": "code",
   "execution_count": 83,
   "metadata": {},
   "outputs": [
    {
     "data": {
      "text/plain": [
       "0.6691439117243944"
      ]
     },
     "execution_count": 83,
     "metadata": {},
     "output_type": "execute_result"
    }
   ],
   "source": [
    "#What if we stack them?\n",
    "Stacked = predicttestprobsRF[:,1]/2 + predicttestprobsLR[:,1]/2\n",
    "AUC(testY3, Stacked)\n",
    "#We see that the AUC improves"
   ]
  },
  {
   "cell_type": "code",
   "execution_count": 109,
   "metadata": {},
   "outputs": [
    {
     "data": {
      "text/plain": [
       "0.09589479267551076"
      ]
     },
     "execution_count": 109,
     "metadata": {},
     "output_type": "execute_result"
    }
   ],
   "source": [
    "#RF: 0.09658\n",
    "#Logistic 0.09662\n",
    "#Stacked 0.09589\n",
    "\n",
    "BSL(testY3, Stacked)"
   ]
  },
  {
   "cell_type": "code",
   "execution_count": 86,
   "metadata": {},
   "outputs": [
    {
     "data": {
      "text/plain": [
       "9097"
      ]
     },
     "execution_count": 86,
     "metadata": {},
     "output_type": "execute_result"
    }
   ],
   "source": [
    "np.sum((trainY3-predictvalues)**2)"
   ]
  },
  {
   "cell_type": "code",
   "execution_count": 88,
   "metadata": {},
   "outputs": [
    {
     "data": {
      "text/plain": [
       "7742.787897266097"
      ]
     },
     "execution_count": 88,
     "metadata": {},
     "output_type": "execute_result"
    }
   ],
   "source": [
    "np.sum((trainY3-predictprobs[:,1])**2)"
   ]
  },
  {
   "cell_type": "code",
   "execution_count": 89,
   "metadata": {},
   "outputs": [
    {
     "data": {
      "text/plain": [
       "323"
      ]
     },
     "execution_count": 89,
     "metadata": {},
     "output_type": "execute_result"
    }
   ],
   "source": [
    "np.sum(predictvalues)"
   ]
  },
  {
   "cell_type": "code",
   "execution_count": 90,
   "metadata": {},
   "outputs": [
    {
     "data": {
      "text/plain": [
       "9086"
      ]
     },
     "execution_count": 90,
     "metadata": {},
     "output_type": "execute_result"
    }
   ],
   "source": [
    "np.sum(trainY3)"
   ]
  },
  {
   "cell_type": "code",
   "execution_count": 112,
   "metadata": {},
   "outputs": [],
   "source": [
    "#Let's try with Chaorans cleaned label encoded DF:\n",
    "\n",
    "DiabetesTakingMed = pd.read_csv('DiabetesTakingMed.csv', index_col=0)\n",
    "\n",
    "DiabetesTrain4 = pd.read_csv('../Chaoran/le_train.csv', index_col=0)\n",
    "DiabetesTrain4.index = list(range(len(DiabetesTrain4)))\n",
    "\n",
    "DiabetesTest4 = pd.read_csv('../Chaoran/le_test.csv', index_col=0)\n",
    "DiabetesTest4.index = list(range(len(DiabetesTest4)))\n",
    "\n",
    "trainX4 = DiabetesTrain4.drop('readmitted', axis=1)\n",
    "trainY4 = DiabetesTrain4['readmitted']\n",
    "\n",
    "testX4 = DiabetesTest4.drop('readmitted', axis=1)\n",
    "testY4 = DiabetesTest4['readmitted']\n",
    "\n",
    "#Import and run the model:\n",
    "from sklearn.ensemble import RandomForestClassifier as rfc\n",
    "\n",
    "rfc = rfc()\n",
    "rfc.set_params(n_estimators=200, min_samples_split=5, min_samples_leaf=1, max_features='sqrt', max_depth=60, random_state=100)\n",
    "\n",
    "rfc.fit(trainX4, trainY4)\n",
    "predictprobs = rfc.predict_proba(trainX4)\n",
    "predictvalues = rfc.predict(trainX4)\n",
    "actual = trainY4.values\n",
    "\n",
    "R2 = rfc.score(trainX4, trainY4)\n",
    "#Run a test on the completely untouched test 20%\n",
    "TestR2 = rfc.score(testX4, testY4)\n",
    "\n",
    "predicttestRF4 = rfc.predict(testX4)\n",
    "predicttestprobsRF4 = rfc.predict_proba(testX4)"
   ]
  },
  {
   "cell_type": "code",
   "execution_count": 113,
   "metadata": {},
   "outputs": [
    {
     "data": {
      "text/plain": [
       "0.651514380870807"
      ]
     },
     "execution_count": 113,
     "metadata": {},
     "output_type": "execute_result"
    }
   ],
   "source": [
    "AUC(testY4, predicttestprobsRF4[:,1])"
   ]
  },
  {
   "cell_type": "code",
   "execution_count": 114,
   "metadata": {},
   "outputs": [
    {
     "data": {
      "text/plain": [
       "0.09816923337393814"
      ]
     },
     "execution_count": 114,
     "metadata": {},
     "output_type": "execute_result"
    }
   ],
   "source": [
    "#RF: 0.09658\n",
    "#Logistic 0.09662\n",
    "#Stacked 0.09589\n",
    "#Chaoran's 0.09817\n",
    "\n",
    "BSL(testY4, predicttestprobsRF4[:,1])"
   ]
  },
  {
   "cell_type": "code",
   "execution_count": 123,
   "metadata": {},
   "outputs": [],
   "source": [
    "from sklearn.naive_bayes import GaussianNB\n",
    "\n",
    "gnb = GaussianNB()\n",
    "\n",
    "gnb.fit(trainX3, trainY3)\n",
    "predictprobs = gnb.predict_proba(trainX3)\n",
    "predictvalues = gnb.predict(trainX3)\n",
    "actual = trainY3.values\n",
    "\n",
    "R2 = gnb.score(trainX3, trainY3)\n",
    "#Run a test on the completely untouched test 20%\n",
    "TestR2 = gnb.score(testX3, testY3)\n",
    "\n",
    "predicttestNB = gnb.predict(testX3)\n",
    "predicttestprobsNB = gnb.predict_proba(testX3)"
   ]
  },
  {
   "cell_type": "code",
   "execution_count": 124,
   "metadata": {},
   "outputs": [
    {
     "data": {
      "text/plain": [
       "0.6300168387087172"
      ]
     },
     "execution_count": 124,
     "metadata": {},
     "output_type": "execute_result"
    }
   ],
   "source": [
    "#Simple gaussian NB has a much lower-performing model than the others:\n",
    "AUC(testY3, predicttestprobsNB[:,1])"
   ]
  },
  {
   "cell_type": "code",
   "execution_count": 125,
   "metadata": {},
   "outputs": [
    {
     "data": {
      "text/plain": [
       "0.14234021845944153"
      ]
     },
     "execution_count": 125,
     "metadata": {},
     "output_type": "execute_result"
    }
   ],
   "source": [
    "#RF: 0.09658\n",
    "#Logistic 0.09662\n",
    "#Stacked 0.09589\n",
    "#Chaoran's 0.09817\n",
    "#Gaussian NB: 0.14234\n",
    "\n",
    "BSL(testY3, predicttestprobsNB[:,1])"
   ]
  },
  {
   "cell_type": "code",
   "execution_count": null,
   "metadata": {},
   "outputs": [],
   "source": []
  }
 ],
 "metadata": {
  "kernelspec": {
   "display_name": "Python 3",
   "language": "python",
   "name": "python3"
  },
  "language_info": {
   "codemirror_mode": {
    "name": "ipython",
    "version": 3
   },
   "file_extension": ".py",
   "mimetype": "text/x-python",
   "name": "python",
   "nbconvert_exporter": "python",
   "pygments_lexer": "ipython3",
   "version": "3.6.5"
  }
 },
 "nbformat": 4,
 "nbformat_minor": 2
}
