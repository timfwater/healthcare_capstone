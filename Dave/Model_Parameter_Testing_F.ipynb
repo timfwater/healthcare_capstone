{
 "cells": [
  {
   "cell_type": "code",
   "execution_count": null,
   "metadata": {},
   "outputs": [],
   "source": [
    "import pandas as pd\n",
    "import numpy as np"
   ]
  },
  {
   "cell_type": "markdown",
   "metadata": {},
   "source": [
    "## The purpose of this notebook is to tune hyperparameters and perform other tests to optimize our individual machine learning models. The first section tests whether removing small subsections of data (from the middle group, who returned to the hospital after 30 days) from the train set improves the model"
   ]
  },
  {
   "cell_type": "code",
   "execution_count": 5,
   "metadata": {},
   "outputs": [],
   "source": [
    "DiabetesTakingMed = pd.read_csv('DiabetesTakingMedF.csv', index_col=0)\n",
    "\n",
    "DiabetesTrain = DiabetesTakingMed[DiabetesTakingMed['IsTrain']==1].drop('IsTrain', axis=1)\n",
    "DiabetesTrain.index = list(range(len(DiabetesTrain)))\n",
    "\n",
    "DiabetesTest = DiabetesTakingMed[DiabetesTakingMed['IsTrain']==0].drop('IsTrain', axis=1)\n",
    "DiabetesTest.index = list(range(len(DiabetesTest)))\n",
    "\n",
    "#Start with a train to predict the placement of the middle group:\n",
    "\n",
    "DiabetesTrainHL = DiabetesTrain[DiabetesTrain['readmitted']!=1]\n",
    "trainX01 = DiabetesTrainHL.drop('readmitted', axis=1)\n",
    "trainY01 = DiabetesTrainHL['readmitted'].replace([2], [1])\n",
    "\n",
    "testX01 = DiabetesTest.drop('readmitted', axis=1)\n",
    "testY01 = DiabetesTest['readmitted'].replace([2], [1])"
   ]
  },
  {
   "cell_type": "code",
   "execution_count": 7,
   "metadata": {},
   "outputs": [
    {
     "data": {
      "text/plain": [
       "LinearRegression(copy_X=True, fit_intercept=True, n_jobs=1, normalize=False)"
      ]
     },
     "execution_count": 7,
     "metadata": {},
     "output_type": "execute_result"
    }
   ],
   "source": [
    "from sklearn.linear_model import LinearRegression as lm\n",
    "\n",
    "lm = lm()\n",
    "\n",
    "lm.fit(trainX01, trainY01)"
   ]
  },
  {
   "cell_type": "code",
   "execution_count": 8,
   "metadata": {},
   "outputs": [],
   "source": [
    "middledf = DiabetesTrain[DiabetesTrain['readmitted']==1]\n",
    "middledfX = middledf.drop('readmitted', axis=1)\n",
    "middledfY = middledf['readmitted']\n",
    "\n",
    "predictarray = lm.predict(middledfX)"
   ]
  },
  {
   "cell_type": "code",
   "execution_count": 9,
   "metadata": {},
   "outputs": [],
   "source": [
    "middledf100 = middledf.loc[predictarray<1]\n",
    "middledf75 = middledf.loc[predictarray<0.75]\n",
    "middledf50 = middledf.loc[predictarray<0.50]\n",
    "middledf25 = middledf.loc[predictarray<0.25]"
   ]
  },
  {
   "cell_type": "code",
   "execution_count": 10,
   "metadata": {},
   "outputs": [
    {
     "data": {
      "text/plain": [
       "(51648, 112)"
      ]
     },
     "execution_count": 10,
     "metadata": {},
     "output_type": "execute_result"
    }
   ],
   "source": [
    "trainX01.shape"
   ]
  },
  {
   "cell_type": "code",
   "execution_count": 11,
   "metadata": {},
   "outputs": [],
   "source": [
    "#Create possible train indices with portions of the middle data removed:\n",
    "DiabetesTrainHL = DiabetesTakingMed[DiabetesTakingMed['IsTrain']==1].drop('IsTrain', axis=1)\n",
    "DiabetesTrainHL.index = list(range(len(DiabetesTrainHL)))\n",
    "DiabetesTrainHL = DiabetesTrainHL[DiabetesTrain3['readmitted']!=1]\n",
    "\n",
    "train25 = pd.concat([DiabetesTrainHL, middledf25], axis=0)\n",
    "train25.index = list(range(len(train25)))"
   ]
  },
  {
   "cell_type": "code",
   "execution_count": 12,
   "metadata": {},
   "outputs": [],
   "source": [
    "train50 = pd.concat([DiabetesTrain3, middledf50], axis=0)\n",
    "train50.index = list(range(len(train50)))\n",
    "\n",
    "train75 = pd.concat([DiabetesTrain3, middledf75], axis=0)\n",
    "train75.index = list(range(len(train75)))\n",
    "\n",
    "train100 = pd.concat([DiabetesTrain3, middledf100], axis=0)\n",
    "train100.index = list(range(len(train100)))"
   ]
  },
  {
   "cell_type": "code",
   "execution_count": 13,
   "metadata": {},
   "outputs": [],
   "source": [
    "#First, try logistic regression with all observations:\n",
    "\n",
    "DiabetesTrain3 = DiabetesTakingMed[DiabetesTakingMed['IsTrain']==1].drop('IsTrain', axis=1)\n",
    "DiabetesTrain3.index = list(range(len(DiabetesTrain3)))\n",
    "\n",
    "trainX02 = DiabetesTrain3.drop('readmitted', axis=1)\n",
    "trainY02 = DiabetesTrain3['readmitted'].replace([2, 1], [1, 0])\n",
    "\n",
    "testX02 = DiabetesTest3.drop('readmitted', axis=1)\n",
    "testY02 = DiabetesTest3['readmitted'].replace([2, 1], [1, 0])\n",
    "\n",
    "from sklearn.linear_model import LogisticRegression as lgr\n",
    "\n",
    "lgr = lgr()\n",
    "lgr.set_params(C=0.1)\n",
    "\n",
    "lgr.fit(trainX02, trainY02)\n",
    "predictprobs02 = lgr.predict_proba(trainX02)\n",
    "predictvalues02 = lgr.predict(trainX02)\n",
    "actual02 = trainY02.values\n",
    "\n",
    "predicttest02 = lgr.predict(testX02)\n",
    "predicttestprobs02 = lgr.predict_proba(testX02)"
   ]
  },
  {
   "cell_type": "code",
   "execution_count": 14,
   "metadata": {},
   "outputs": [
    {
     "data": {
      "text/plain": [
       "0.6664455199364435"
      ]
     },
     "execution_count": 14,
     "metadata": {},
     "output_type": "execute_result"
    }
   ],
   "source": [
    "from sklearn.metrics import roc_auc_score as AUC\n",
    "\n",
    "AUC(testY02, predicttestprobs02[:,1])"
   ]
  },
  {
   "cell_type": "code",
   "execution_count": 15,
   "metadata": {},
   "outputs": [],
   "source": [
    "#Now, let's try shaving off a few of the observations at a time: (Any >30 with linear P prediction over 1.0)\n",
    "\n",
    "trainX03 = train100.drop('readmitted', axis=1)\n",
    "trainY03 = train100['readmitted'].replace([2, 1], [1, 0])\n",
    "\n",
    "testX03 = DiabetesTest3.drop('readmitted', axis=1)\n",
    "testY03 = DiabetesTest3['readmitted'].replace([2, 1], [1, 0])\n",
    "\n",
    "from sklearn.linear_model import LogisticRegression as lgr\n",
    "\n",
    "lgr = lgr()\n",
    "lgr.set_params(C=0.1)\n",
    "\n",
    "lgr.fit(trainX03, trainY03)\n",
    "predictprobs03 = lgr.predict_proba(trainX03)\n",
    "predictvalues03 = lgr.predict(trainX03)\n",
    "actual03 = trainY03.values\n",
    "\n",
    "predicttest03 = lgr.predict(testX03)\n",
    "predicttestprobs03 = lgr.predict_proba(testX03)"
   ]
  },
  {
   "cell_type": "code",
   "execution_count": 16,
   "metadata": {},
   "outputs": [
    {
     "data": {
      "text/plain": [
       "0.6671563681939577"
      ]
     },
     "execution_count": 16,
     "metadata": {},
     "output_type": "execute_result"
    }
   ],
   "source": [
    "from sklearn.metrics import roc_auc_score as AUC\n",
    "\n",
    "AUC(testY03, predicttestprobs03[:,1])"
   ]
  },
  {
   "cell_type": "code",
   "execution_count": 17,
   "metadata": {},
   "outputs": [],
   "source": [
    "#Now, let's try shaving off a few of the observations at a time: (Any >30 with linear P prediction over 0.75)\n",
    "\n",
    "trainX04 = train75.drop('readmitted', axis=1)\n",
    "trainY04 = train75['readmitted'].replace([2, 1], [1, 0])\n",
    "\n",
    "from sklearn.linear_model import LogisticRegression as lgr\n",
    "\n",
    "lgr = lgr()\n",
    "lgr.set_params(C=0.1)\n",
    "\n",
    "lgr.fit(trainX04, trainY04)\n",
    "predictprobs04 = lgr.predict_proba(trainX04)\n",
    "predictvalues04 = lgr.predict(trainX04)\n",
    "actual04 = trainY04.values\n",
    "\n",
    "predicttest04 = lgr.predict(testX03)\n",
    "predicttestprobs04 = lgr.predict_proba(testX03)"
   ]
  },
  {
   "cell_type": "code",
   "execution_count": 18,
   "metadata": {},
   "outputs": [
    {
     "data": {
      "text/plain": [
       "0.667349050248063"
      ]
     },
     "execution_count": 18,
     "metadata": {},
     "output_type": "execute_result"
    }
   ],
   "source": [
    "from sklearn.metrics import roc_auc_score as AUC\n",
    "\n",
    "AUC(testY03, predicttestprobs04[:,1])"
   ]
  },
  {
   "cell_type": "code",
   "execution_count": 19,
   "metadata": {},
   "outputs": [],
   "source": [
    "#Now, let's try shaving off a few of the observations at a time: (Any >30 with linear P prediction over 0.50)\n",
    "\n",
    "trainX05 = train50.drop('readmitted', axis=1)\n",
    "trainY05 = train50['readmitted'].replace([2, 1], [1, 0])\n",
    "\n",
    "from sklearn.linear_model import LogisticRegression as lgr\n",
    "\n",
    "lgr = lgr()\n",
    "lgr.set_params(C=0.1)\n",
    "\n",
    "lgr.fit(trainX05, trainY05)\n",
    "predictprobs05 = lgr.predict_proba(trainX05)\n",
    "predictvalues05 = lgr.predict(trainX05)\n",
    "actual05 = trainY05.values\n",
    "\n",
    "predicttest05 = lgr.predict(testX03)\n",
    "predicttestprobs05 = lgr.predict_proba(testX03)"
   ]
  },
  {
   "cell_type": "code",
   "execution_count": 20,
   "metadata": {},
   "outputs": [
    {
     "data": {
      "text/plain": [
       "0.6664180222658731"
      ]
     },
     "execution_count": 20,
     "metadata": {},
     "output_type": "execute_result"
    }
   ],
   "source": [
    "from sklearn.metrics import roc_auc_score as AUC\n",
    "\n",
    "AUC(testY03, predicttestprobs05[:,1])"
   ]
  },
  {
   "cell_type": "code",
   "execution_count": 21,
   "metadata": {},
   "outputs": [],
   "source": [
    "#We see that 0.75 was better then 1.0 and much better than 0.5. Let's try 0.7, 0.8, 0.9:\n",
    "middledf90 = middledf.loc[predictarray<0.9]\n",
    "middledf80 = middledf.loc[predictarray<0.8]\n",
    "middledf70 = middledf.loc[predictarray<0.7]"
   ]
  },
  {
   "cell_type": "code",
   "execution_count": 22,
   "metadata": {},
   "outputs": [],
   "source": [
    "DiabetesTakingMed = pd.read_csv('DiabetesTakingMedF.csv', index_col=0)\n",
    "\n",
    "DiabetesTrain3 = DiabetesTakingMed[DiabetesTakingMed['IsTrain']==1].drop('IsTrain', axis=1)\n",
    "DiabetesTrain3.index = list(range(len(DiabetesTrain3)))\n",
    "DiabetesTrain3 = DiabetesTrain3[DiabetesTrain3['readmitted']!=1]\n",
    "\n",
    "train90 = pd.concat([DiabetesTrain3, middledf90], axis=0)\n",
    "train90.index = list(range(len(train90)))\n",
    "\n",
    "train80 = pd.concat([DiabetesTrain3, middledf80], axis=0)\n",
    "train80.index = list(range(len(train80)))\n",
    "\n",
    "train70 = pd.concat([DiabetesTrain3, middledf70], axis=0)\n",
    "train70.index = list(range(len(train70)))"
   ]
  },
  {
   "cell_type": "code",
   "execution_count": 23,
   "metadata": {},
   "outputs": [],
   "source": [
    "#Now, let's try shaving off a few of the observations at a time: (Any >30 with linear P prediction over 0.90)\n",
    "\n",
    "trainX06 = train90.drop('readmitted', axis=1)\n",
    "trainY06 = train90['readmitted'].replace([2, 1], [1, 0])\n",
    "\n",
    "from sklearn.linear_model import LogisticRegression as lgr\n",
    "\n",
    "lgr = lgr()\n",
    "lgr.set_params(C=0.1)\n",
    "\n",
    "lgr.fit(trainX06, trainY06)\n",
    "\n",
    "predicttestprobs06 = lgr.predict_proba(testX03)"
   ]
  },
  {
   "cell_type": "code",
   "execution_count": 24,
   "metadata": {},
   "outputs": [
    {
     "data": {
      "text/plain": [
       "0.6671855767204969"
      ]
     },
     "execution_count": 24,
     "metadata": {},
     "output_type": "execute_result"
    }
   ],
   "source": [
    "from sklearn.metrics import roc_auc_score as AUC\n",
    "\n",
    "AUC(testY03, predicttestprobs06[:,1])"
   ]
  },
  {
   "cell_type": "code",
   "execution_count": 25,
   "metadata": {},
   "outputs": [],
   "source": [
    "#Now, let's try shaving off a few of the observations at a time: (Any >30 with linear P prediction over 0.80)\n",
    "\n",
    "trainX07 = train80.drop('readmitted', axis=1)\n",
    "trainY07 = train80['readmitted'].replace([2, 1], [1, 0])\n",
    "\n",
    "from sklearn.linear_model import LogisticRegression as lgr\n",
    "\n",
    "lgr = lgr()\n",
    "lgr.set_params(C=0.1)\n",
    "\n",
    "lgr.fit(trainX07, trainY07)\n",
    "\n",
    "predicttestprobs07 = lgr.predict_proba(testX03)"
   ]
  },
  {
   "cell_type": "code",
   "execution_count": 26,
   "metadata": {},
   "outputs": [
    {
     "data": {
      "text/plain": [
       "0.6672197194548299"
      ]
     },
     "execution_count": 26,
     "metadata": {},
     "output_type": "execute_result"
    }
   ],
   "source": [
    "from sklearn.metrics import roc_auc_score as AUC\n",
    "\n",
    "AUC(testY03, predicttestprobs07[:,1])"
   ]
  },
  {
   "cell_type": "code",
   "execution_count": 27,
   "metadata": {},
   "outputs": [],
   "source": [
    "#Now, let's try shaving off a few of the observations at a time: (Any >30 with linear P prediction over 0.80)\n",
    "\n",
    "trainX08 = train70.drop('readmitted', axis=1)\n",
    "trainY08 = train70['readmitted'].replace([2, 1], [1, 0])\n",
    "\n",
    "from sklearn.linear_model import LogisticRegression as lgr\n",
    "\n",
    "lgr = lgr()\n",
    "lgr.set_params(C=0.1)\n",
    "\n",
    "lgr.fit(trainX08, trainY08)\n",
    "\n",
    "predicttestprobs08 = lgr.predict_proba(testX03)"
   ]
  },
  {
   "cell_type": "code",
   "execution_count": 28,
   "metadata": {},
   "outputs": [
    {
     "data": {
      "text/plain": [
       "0.6672467212251197"
      ]
     },
     "execution_count": 28,
     "metadata": {},
     "output_type": "execute_result"
    }
   ],
   "source": [
    "from sklearn.metrics import roc_auc_score as AUC\n",
    "\n",
    "AUC(testY03, predicttestprobs08[:,1])"
   ]
  },
  {
   "cell_type": "code",
   "execution_count": 1,
   "metadata": {},
   "outputs": [],
   "source": [
    "#Based on this, the best score we have is 0.66735 with cutoff of >0.75. \n",
    "# (If we remove the returned>30 observations with linear-predcted likelihood of returning >0.75)"
   ]
  },
  {
   "cell_type": "code",
   "execution_count": 30,
   "metadata": {},
   "outputs": [],
   "source": [
    "#Call Train75, and Train75 our new training DF (trainX and trainY):\n",
    "\n",
    "trainX = train75.drop('readmitted', axis=1)\n",
    "trainY = train75['readmitted'].replace([2, 1], [1, 0])"
   ]
  },
  {
   "cell_type": "markdown",
   "metadata": {},
   "source": [
    "## Next, we tried two different methods to find removable features for our logistic regression model -- first using AIC optimization and secondly by removing individual features and testing their K-fold AUC:"
   ]
  },
  {
   "cell_type": "code",
   "execution_count": 31,
   "metadata": {},
   "outputs": [],
   "source": [
    "#We can write a function to find a candidate feature list using AIC engineering:\n",
    "\n",
    "def FindLowestAICNonLogBackward(df, dependent):\n",
    "    '''Input: DF to AIC-modify and the dependent variable. WILL RETURN: A tuple: [0] is the modified DF (with dependent)\n",
    "    and tuple[1] will give you the summary DF'''\n",
    "    df2 = df.copy()\n",
    "    df2X = df2.drop(dependent, axis=1)\n",
    "    df2Y = df2[dependent]\n",
    "    FeatureList = list(df2X.columns)\n",
    "    X2 = sm.add_constant(df2X)\n",
    "    est = sm.OLS(df2Y, X2)\n",
    "    CurrentAIC = est.fit().aic\n",
    "    CanBeBetter = True\n",
    "    ModList = []\n",
    "    AddedSubtracted = []\n",
    "    AIC = []\n",
    "    TriesSinceReset = 0\n",
    "    \n",
    "    tempColumnList = list(df2X.columns)\n",
    "    tempDF2X = df2X[tempColumnList]\n",
    "    \n",
    "    while CanBeBetter == True:\n",
    "        Choice = np.random.choice(list(df2X.columns))\n",
    "        \n",
    "        HeadsTails = np.random.randint(2)\n",
    "        if Choice in tempColumnList:\n",
    "            HeadsTails = 0\n",
    "        if Choice not in tempColumnList:\n",
    "            HeadsTails = 1\n",
    "        \n",
    "        if HeadsTails == 1:\n",
    "            tempColumnList.append(Choice)\n",
    "            tempDF2X[Choice] = df2X[Choice]\n",
    "        \n",
    "        if HeadsTails == 0:\n",
    "\n",
    "            tempColumnList.remove(Choice)\n",
    "            tempDF2X = tempDF2X[tempColumnList]\n",
    "            \n",
    "        est = sm.OLS(df2Y, sm.add_constant(tempDF2X))\n",
    "        NewAIC = est.fit().aic\n",
    "        \n",
    "        if NewAIC < CurrentAIC:\n",
    "            TriesSinceReset = 0\n",
    "            CurrentAIC = NewAIC\n",
    "            \n",
    "            if HeadsTails == 1:\n",
    "                print(Choice + \" added: New AIC = \" + str(CurrentAIC))\n",
    "                ModList.append(Choice)\n",
    "                AddedSubtracted.append('Added')\n",
    "                AIC.append(CurrentAIC)\n",
    "                \n",
    "            if HeadsTails == 0:\n",
    "                print(Choice + \" removed: New AIC = \" + str(CurrentAIC))\n",
    "                ModList.append(Choice)\n",
    "                AddedSubtracted.append('Subtracted')\n",
    "                AIC.append(CurrentAIC)\n",
    "            continue\n",
    "            \n",
    "        else:\n",
    "            TriesSinceReset += 1\n",
    "            \n",
    "            if HeadsTails == 1:\n",
    "                tempColumnList.remove(Choice)\n",
    "                tempDF2X = tempDF2X[tempColumnList]\n",
    "                \n",
    "            if HeadsTails == 0:\n",
    "                tempColumnList.append(Choice)\n",
    "                tempDF2X[Choice] = df2X[Choice]\n",
    "                \n",
    "            if TriesSinceReset > 100:\n",
    "                CanBeBetter = False\n",
    "                \n",
    "    SummaryDF = pd.DataFrame({'Feature': ModList, 'AddOrSubtract': AddedSubtracted, 'AIC': AIC})\n",
    "    NewDF = pd.concat([tempDF2X, df2[[dependent]]], axis=1)\n",
    "    \n",
    "    return NewDF, SummaryDF"
   ]
  },
  {
   "cell_type": "code",
   "execution_count": 32,
   "metadata": {
    "scrolled": true
   },
   "outputs": [
    {
     "name": "stdout",
     "output_type": "stream",
     "text": [
      "diag_mentaldis removed: New AIC = 159023.43156495487\n",
      "med_glyburide.metformin removed: New AIC = 159021.71547449904\n",
      "diag_pregnancy removed: New AIC = 159020.0776425167\n",
      "diag_blooddis removed: New AIC = 159018.1782232389\n",
      "med_tolbutamide removed: New AIC = 159016.46157787263\n",
      "diabfeat_hyperosmolarity removed: New AIC = 159014.61752138872\n",
      "diag_infection removed: New AIC = 159012.66088537028\n",
      "max_glu_serum_>200 removed: New AIC = 159010.66130931786\n",
      "med_miglitol removed: New AIC = 159009.6224451469\n",
      "diag_injury removed: New AIC = 159007.76959854743\n",
      "diag_musculoskeletal removed: New AIC = 159006.03307917976\n",
      "primarydiag_mentaldis removed: New AIC = 159004.2020932989\n",
      "admission_type_id_4 removed: New AIC = 159002.49988734938\n",
      "med_pioglitazone removed: New AIC = 159000.87160404486\n",
      "med_glipizide.metformin removed: New AIC = 158999.00522946296\n",
      "primarydiag_nervous removed: New AIC = 158998.5314527838\n",
      "discharge_disposition_unknown removed: New AIC = 158996.8467899012\n",
      "primarydiag_blooddis removed: New AIC = 158995.19133828173\n",
      "med_nateglinide removed: New AIC = 158993.202879126\n",
      "admission_type_id_3 removed: New AIC = 158992.08787449496\n",
      "diabfeat_coma removed: New AIC = 158990.08814911853\n",
      "medical_specialty_Other removed: New AIC = 158988.47609526874\n",
      "medical_specialty_Emergency/Trauma removed: New AIC = 158987.09932731424\n",
      "medical_specialty_Pulmonology removed: New AIC = 158985.8445405385\n",
      "medical_specialty_Urology removed: New AIC = 158983.9803445529\n",
      "med_repaglinide removed: New AIC = 158983.7120589135\n",
      "change_Ch removed: New AIC = 158981.95752417648\n",
      "diag_digestive removed: New AIC = 158981.9203032467\n",
      "med_rosiglitazone removed: New AIC = 158981.77023151642\n",
      "medical_specialty_Radiologist removed: New AIC = 158980.28637857584\n",
      "med_tolazamide removed: New AIC = 158978.8217711568\n",
      "med_glyburide removed: New AIC = 158978.28237815257\n",
      "med_glimepiride removed: New AIC = 158977.2969753266\n",
      "medical_specialty_Psychiatry removed: New AIC = 158976.9348188114\n",
      "med_chlorpropamide removed: New AIC = 158974.93485713186\n",
      "med_acarbose removed: New AIC = 158974.93474982918\n",
      "diag_digestive added: New AIC = 158974.8441705293\n"
     ]
    }
   ],
   "source": [
    "import statsmodels.api as sm\n",
    "trainXAIC = FindLowestAICNonLogBackward(train75, 'readmitted')[0]"
   ]
  },
  {
   "cell_type": "code",
   "execution_count": 34,
   "metadata": {},
   "outputs": [],
   "source": [
    "train75Trim = train75[list(trainXAIC.columns)]\n",
    "trainX75Trim = train75Trim.drop('readmitted', axis=1)\n",
    "trainY75Trim = train75Trim['readmitted'].replace([2, 1], [1, 0])\n",
    "\n",
    "DiabetesTakingMed = pd.read_csv('DiabetesTakingMedF.csv', index_col=0)\n",
    "\n",
    "DiabetesTrain3 = DiabetesTakingMed[DiabetesTakingMed['IsTrain']==1].drop('IsTrain', axis=1)\n",
    "DiabetesTrain3.index = list(range(len(DiabetesTrain3)))\n",
    "\n",
    "DiabetesTest3 = DiabetesTakingMed[DiabetesTakingMed['IsTrain']==0].drop('IsTrain', axis=1)\n",
    "DiabetesTest3.index = list(range(len(DiabetesTest3)))\n",
    "\n",
    "testX75Trim = DiabetesTest3[list(trainXAIC.columns)].drop('readmitted', axis=1)\n",
    "\n",
    "from sklearn.linear_model import LogisticRegression as lgr\n",
    "\n",
    "lgr = lgr()\n",
    "lgr.set_params(C=0.1)\n",
    "\n",
    "lgr.fit(trainX75Trim, trainY75Trim)\n",
    "\n",
    "predicttestprobs75Trim = lgr.predict_proba(testX75Trim)"
   ]
  },
  {
   "cell_type": "code",
   "execution_count": 35,
   "metadata": {},
   "outputs": [
    {
     "data": {
      "text/plain": [
       "0.664640046194103"
      ]
     },
     "execution_count": 35,
     "metadata": {},
     "output_type": "execute_result"
    }
   ],
   "source": [
    "#Removing these features reduces -- does not improve -- AUC:\n",
    "\n",
    "from sklearn.metrics import roc_auc_score as AUC\n",
    "\n",
    "AUC(testY03, predicttestprobs75Trim[:,1])"
   ]
  },
  {
   "cell_type": "code",
   "execution_count": 36,
   "metadata": {},
   "outputs": [],
   "source": [
    "#As seen in other runs, trimming based on AIC does not improve the model. (0.6646 vs 0.66735)\n",
    "#Based on this, the best score we have is 0.66735, based on keeping >0.75 predictions of the >30 return train group. "
   ]
  },
  {
   "cell_type": "markdown",
   "metadata": {},
   "source": [
    "### Changing class weights can improve the logistic regression model:"
   ]
  },
  {
   "cell_type": "code",
   "execution_count": null,
   "metadata": {},
   "outputs": [],
   "source": [
    "#Let's try to slightly improve our linear regression by assigning weights to the classes:\n",
    "\n",
    "testX01 = testX03.copy()\n",
    "\n",
    "trainX01 = trainX.copy()\n",
    "\n",
    "\n",
    "from sklearn.linear_model import LogisticRegression as lgr\n",
    "\n",
    "lgr = lgr()\n",
    "lgr.set_params(C=0.1, class_weight={0:.2, 1:.8})\n",
    "\n",
    "lgr.fit(trainX, trainY)\n",
    "predictprobsLRW = lgr.predict_proba(testX01)\n",
    "\n",
    "AUC(testY03, predictprobsLRW[:,1])\n",
    "\n",
    "#Class_weights 0.2/0.8 was the strongest weighting parameter"
   ]
  },
  {
   "cell_type": "markdown",
   "metadata": {},
   "source": [
    "## Cut here"
   ]
  },
  {
   "cell_type": "code",
   "execution_count": 19,
   "metadata": {},
   "outputs": [
    {
     "name": "stderr",
     "output_type": "stream",
     "text": [
      "C:\\Users\\Dave\\Anaconda3\\lib\\site-packages\\sklearn\\preprocessing\\label.py:151: DeprecationWarning: The truth value of an empty array is ambiguous. Returning False, but in future this will result in an error. Use `array.size > 0` to check that an array is not empty.\n",
      "  if diff:\n"
     ]
    }
   ],
   "source": [
    "from xgboost.sklearn import XGBClassifier as xgb\n",
    "\n",
    "xgb = xgb()\n",
    "xgb.set_params(n_estimators=500, min_child_weight=10, max_depth=5, gamma=5, colsample_bytree=0.6, max_delta_step=5,\n",
    "              random_state=42)\n",
    "\n",
    "xgb.fit(trainX, trainY)\n",
    "\n",
    "predictXB = xgb.predict(testX03)\n",
    "predictprobsXB = xgb.predict_proba(testX03)"
   ]
  },
  {
   "cell_type": "code",
   "execution_count": 20,
   "metadata": {},
   "outputs": [
    {
     "data": {
      "text/plain": [
       "0.6801164864800598"
      ]
     },
     "execution_count": 20,
     "metadata": {},
     "output_type": "execute_result"
    }
   ],
   "source": [
    "from sklearn.metrics import roc_auc_score as AUC\n",
    "\n",
    "AUC(testY03, predictprobsXB[:,1])"
   ]
  },
  {
   "cell_type": "code",
   "execution_count": null,
   "metadata": {},
   "outputs": [],
   "source": [
    "# AUC of 0.66735 for Logistic\n",
    "# AUC of 0.68011 for XGBoost"
   ]
  },
  {
   "cell_type": "code",
   "execution_count": 50,
   "metadata": {},
   "outputs": [
    {
     "data": {
      "text/plain": [
       "RandomForestClassifier(bootstrap=True, class_weight=None, criterion='gini',\n",
       "            max_depth=60, max_features='sqrt', max_leaf_nodes=None,\n",
       "            min_impurity_decrease=0.0, min_impurity_split=None,\n",
       "            min_samples_leaf=1, min_samples_split=5,\n",
       "            min_weight_fraction_leaf=0.0, n_estimators=1000, n_jobs=1,\n",
       "            oob_score=False, random_state=42, verbose=0, warm_start=False)"
      ]
     },
     "execution_count": 50,
     "metadata": {},
     "output_type": "execute_result"
    }
   ],
   "source": [
    "from sklearn.ensemble import RandomForestClassifier as rfc\n",
    "\n",
    "rfc = rfc()\n",
    "rfc.set_params(n_estimators=1000, min_samples_split=5, min_samples_leaf=1, max_features='sqrt', max_depth=60, random_state=42)\n",
    "\n",
    "rfc.fit(trainX, trainY)"
   ]
  },
  {
   "cell_type": "code",
   "execution_count": 51,
   "metadata": {},
   "outputs": [],
   "source": [
    "predictRF = rfc.predict(testX03)\n",
    "predictprobsRF = rfc.predict_proba(testX03)"
   ]
  },
  {
   "cell_type": "code",
   "execution_count": 52,
   "metadata": {},
   "outputs": [
    {
     "data": {
      "text/plain": [
       "0.66353068007343"
      ]
     },
     "execution_count": 52,
     "metadata": {},
     "output_type": "execute_result"
    }
   ],
   "source": [
    "from sklearn.metrics import roc_auc_score as AUC\n",
    "\n",
    "AUC(testY03, predictprobsRF[:,1])"
   ]
  },
  {
   "cell_type": "code",
   "execution_count": 36,
   "metadata": {},
   "outputs": [],
   "source": [
    "# AUC of 0.66735 for logistic regression\n",
    "# AUC of 0.68011 for parameter-optimized XGBoost\n",
    "# AUC of 0.66353 for random forest"
   ]
  },
  {
   "cell_type": "code",
   "execution_count": null,
   "metadata": {},
   "outputs": [],
   "source": [
    "'''from sklearn.neighbors import KNeighborsClassifier as knn\n",
    "\n",
    "knn = knn()\n",
    "knn.set_params(n_neighbors=10)\n",
    "\n",
    "knn.fit(trainX, trainY)\n",
    "\n",
    "predictKN = knn.predict(testX03)\n",
    "predictprobsKN = knn.predict_proba(testX03)'''"
   ]
  },
  {
   "cell_type": "code",
   "execution_count": null,
   "metadata": {},
   "outputs": [],
   "source": [
    "#KNN is atrocious\n",
    "'''from sklearn.metrics import roc_auc_score as AUC\n",
    "\n",
    "AUC(testY03, predictprobsKN[:,1])'''"
   ]
  },
  {
   "cell_type": "markdown",
   "metadata": {},
   "source": [
    "## Cut here"
   ]
  },
  {
   "cell_type": "code",
   "execution_count": 46,
   "metadata": {},
   "outputs": [
    {
     "name": "stdout",
     "output_type": "stream",
     "text": [
      "age: 0.6675590640169822\n",
      "time_in_hospital: 0.6676144560783477\n",
      "num_lab_procedures: 0.6676007568330905\n",
      "num_procedures: 0.6677144295749571\n",
      "num_medications: 0.6677314637496026\n",
      "number_outpatient: 0.6677647138634304\n",
      "number_emergency: 0.6661429959701408\n",
      "number_inpatient: 0.6410418626867496\n",
      "number_diagnoses: 0.6680921568188434\n",
      "med_metformin: 0.6670021184116145\n",
      "med_repaglinide: 0.667665484217242\n",
      "med_nateglinide: 0.6679256087095362\n",
      "med_chlorpropamide: 0.667694568768711\n",
      "med_glimepiride: 0.6679471307817231\n",
      "med_glipizide: 0.6677229590597868\n",
      "med_glyburide: 0.66773476148647\n",
      "med_tolbutamide: 0.6677395221291657\n",
      "med_pioglitazone: 0.6677041892341588\n",
      "med_rosiglitazone: 0.6676607979595887\n",
      "med_acarbose: 0.6676774602090234\n",
      "med_miglitol: 0.6677396461042359\n",
      "med_tolazamide: 0.6677408610599239\n",
      "med_insulin: 0.6679312867677515\n",
      "med_glyburide.metformin: 0.6677782023510681\n",
      "med_glipizide.metformin: 0.6677449026472124\n",
      "diag_blooddis: 0.667602901601805\n",
      "diag_circulatory: 0.6679086985099609\n",
      "diag_digestive: 0.6676267296102975\n",
      "diag_infection: 0.6679614375048242\n",
      "diag_injury: 0.6678625053988043\n",
      "diag_mentaldis: 0.6677284635529039\n",
      "diag_metabolic: 0.6677090738519246\n",
      "diag_musculoskeletal: 0.6677331250155434\n",
      "diag_neoplasm: 0.6674334524758553\n",
      "diag_nervous: 0.6677525891015648\n",
      "diag_other: 0.6677158428907575\n",
      "diag_pregnancy: 0.6677220664392816\n",
      "diag_respiratory: 0.6678178495785183\n",
      "diag_skin: 0.6677495393148378\n",
      "diag_urogenital: 0.667693924098346\n",
      "diabfeat_circulatory: 0.6675085317783684\n",
      "diabfeat_coma: 0.6677460680128724\n",
      "diabfeat_hyperosmolarity: 0.66766915387932\n",
      "diabfeat_ketoacidosis: 0.6677396213092217\n",
      "diabfeat_neurologic: 0.6681617316282397\n",
      "diabfeat_ophthalmic: 0.667726083231556\n",
      "diabfeat_other: 0.6675525925183177\n",
      "diabfeat_renal: 0.6669928202813495\n",
      "race_AfricanAmerican: 0.6682116439915023\n",
      "race_Asian: 0.6677702679465753\n",
      "race_Hispanic: 0.667726653516879\n",
      "race_Other: 0.6677202068132285\n",
      "gender_Male: 0.6677337448908943\n",
      "discharge_disposition_hhealth: 0.6670298392373113\n",
      "discharge_disposition_hospice: 0.665003987410183\n",
      "discharge_disposition_hospital: 0.6661404420836947\n",
      "discharge_disposition_leftAMA: 0.6678487193709981\n",
      "discharge_disposition_nursing: 0.66086319527048\n",
      "discharge_disposition_outpatient: 0.6557138659346979\n",
      "discharge_disposition_psych: 0.6654539921199958\n",
      "discharge_disposition_unknown: 0.6655608834255224\n",
      "max_glu_serum_>200: 0.6678189653541502\n",
      "max_glu_serum_>300: 0.6678897303242204\n",
      "max_glu_serum_Norm: 0.6678000219634234\n",
      "A1Cresult_>7: 0.668136539893975\n",
      "A1Cresult_>8: 0.6674428001961484\n",
      "A1Cresult_Norm: 0.6674115832734719\n",
      "change_Ch: 0.6678322802766895\n",
      "med_any_No: 0.6674283447029631\n",
      "admission_type_id_2: 0.6677190414475687\n",
      "admission_type_id_3: 0.6677769378053522\n",
      "admission_type_id_4: 0.6677437620765666\n",
      "admission_type_id_5: 0.6676891634556504\n",
      "admission_type_id_7: 0.6677364227524106\n",
      "admission_source_id_1: 0.6677951373456574\n",
      "admission_source_id_2: 0.6676998749017157\n",
      "admission_source_id_3: 0.667920426551602\n",
      "admission_source_id_4: 0.6674077648413097\n",
      "admission_source_id_5: 0.6674944234153797\n",
      "admission_source_id_6: 0.6677157437107013\n",
      "admission_source_id_8: 0.6676904775913945\n",
      "medical_specialty_Cardiology: 0.6668423889311685\n",
      "medical_specialty_Emergency/Trauma: 0.667081586431613\n",
      "medical_specialty_Family/GeneralPractice: 0.6677535809021263\n",
      "medical_specialty_Gastroenterology: 0.6678532072685394\n",
      "medical_specialty_Nephrology: 0.6675562621803957\n",
      "medical_specialty_OBGYN: 0.6677840539743816\n",
      "medical_specialty_Oncology: 0.6671737247037858\n",
      "medical_specialty_Orthopedics: 0.6679340638093239\n",
      "medical_specialty_Other: 0.6677042140291728\n",
      "medical_specialty_Pediatrics: 0.667547782285594\n",
      "medical_specialty_Psychiatry: 0.6676910478767174\n",
      "medical_specialty_Pulmonology: 0.6678006914288025\n",
      "medical_specialty_Radiologist: 0.6677789957915174\n",
      "medical_specialty_Surgery: 0.6678433636479655\n",
      "medical_specialty_Urology: 0.6677448282621703\n",
      "primarydiag_Nothing: 0.6672491015464675\n",
      "primarydiag_blooddis: 0.6677420760156119\n",
      "primarydiag_digestive: 0.6674056076750883\n",
      "primarydiag_infection: 0.6676839317076879\n",
      "primarydiag_injury: 0.6680589067050156\n",
      "primarydiag_mentaldis: 0.6677969225866685\n",
      "primarydiag_metabolic: 0.6677505807054276\n",
      "primarydiag_musculoskeletal: 0.6675807596542672\n",
      "primarydiag_neoplasm: 0.6679183933604507\n",
      "primarydiag_nervous: 0.6676231839232898\n",
      "primarydiag_other: 0.6671885521221816\n",
      "primarydiag_pregnancy: 0.6677281164227071\n",
      "primarydiag_respiratory: 0.6672086360835541\n",
      "primarydiag_skin: 0.6675431952079965\n",
      "primarydiag_urogenital: 0.6674869353211397\n",
      "diabchange: 0.6676522188847307\n"
     ]
    }
   ],
   "source": [
    "#Test removal of individual features, and determine which ones improve test AUC:\n",
    "RemoveListByLogR = []\n",
    "\n",
    "\n",
    "for var in list(trainX.columns):\n",
    "    \n",
    "    from sklearn.linear_model import LogisticRegression as lgr\n",
    "\n",
    "    trainXtemp = trainX.drop(var, axis=1)\n",
    "    testXtemp = testX03.drop(var, axis=1)\n",
    "\n",
    "    lgr = lgr()\n",
    "    lgr.set_params(C=0.1, class_weight={0:.2, 1:.8})\n",
    "\n",
    "    lgr.fit(trainXtemp, trainY)\n",
    "    predictprobsvartest = lgr.predict_proba(testXtemp)\n",
    "    tempAUC = AUC(testY03, predictprobsvartest[:,1])\n",
    "    \n",
    "    print(var + \": \" + str(tempAUC))\n",
    "    \n",
    "    if tempAUC > 0.66774:\n",
    "        RemoveListByLogR.append(var)"
   ]
  },
  {
   "cell_type": "code",
   "execution_count": 24,
   "metadata": {},
   "outputs": [
    {
     "data": {
      "text/plain": [
       "0.6692817472074429"
      ]
     },
     "execution_count": 24,
     "metadata": {},
     "output_type": "execute_result"
    }
   ],
   "source": [
    "trainXtemp = trainX.drop(['diabfeat_neurologic', 'race_AfricanAmerican', 'A1Cresult_>7', 'primarydiag_injury'], axis=1)\n",
    "testXtemp = testX03.drop(['diabfeat_neurologic', 'race_AfricanAmerican', 'A1Cresult_>7', 'primarydiag_injury'], axis=1)\n",
    "\n",
    "from sklearn.linear_model import LogisticRegression as lgr\n",
    "\n",
    "lgr = lgr()\n",
    "lgr.set_params(C=0.1, class_weight={0:.2, 1:.8})\n",
    "\n",
    "lgr.fit(trainXtemp, trainY)\n",
    "predictprobsvartest = lgr.predict_proba(testXtemp)\n",
    "AUC(testY03, predictprobsvartest[:,1])"
   ]
  },
  {
   "cell_type": "code",
   "execution_count": 50,
   "metadata": {},
   "outputs": [
    {
     "name": "stdout",
     "output_type": "stream",
     "text": [
      "age: 0.6691470111011494\n",
      "time_in_hospital: 0.6691637973256545\n",
      "num_lab_procedures: 0.6691722400279351\n",
      "num_procedures: 0.669300963343324\n",
      "num_medications: 0.6694101109951283\n",
      "number_outpatient: 0.6693141047007652\n",
      "number_emergency: 0.6675891403690127\n",
      "number_inpatient: 0.6413768185314166\n",
      "number_diagnoses: 0.6697863753331861\n",
      "med_metformin: 0.6684715949186983\n",
      "med_repaglinide: 0.6692245699050665\n",
      "med_nateglinide: 0.6695010095165992\n",
      "med_chlorpropamide: 0.6692282643621585\n",
      "med_glimepiride: 0.6694497582225782\n",
      "med_glipizide: 0.6692925082435364\n",
      "med_glyburide: 0.6692234045394067\n",
      "med_tolbutamide: 0.6692647378278115\n",
      "med_pioglitazone: 0.6692587126393998\n",
      "med_rosiglitazone: 0.6692266278912319\n",
      "med_acarbose: 0.669211131007457\n",
      "med_miglitol: 0.6692803586866567\n",
      "med_tolazamide: 0.6692893096867252\n",
      "med_insulin: 0.6694838761618974\n",
      "med_glyburide.metformin: 0.6693132616702878\n",
      "med_glipizide.metformin: 0.6692838547836364\n",
      "diag_blooddis: 0.669099801394417\n",
      "diag_circulatory: 0.6693698934823553\n",
      "diag_digestive: 0.6691151990981359\n",
      "diag_infection: 0.6696788889473224\n",
      "diag_injury: 0.6691776825335168\n",
      "diag_mentaldis: 0.6692435628858212\n",
      "diag_metabolic: 0.6692425462902456\n",
      "diag_musculoskeletal: 0.6692801355315303\n",
      "diag_neoplasm: 0.6689868353104506\n",
      "diag_nervous: 0.6692999715427623\n",
      "diag_other: 0.6692803090966286\n",
      "diag_pregnancy: 0.6692676884344824\n",
      "diag_respiratory: 0.669460048153405\n",
      "diag_skin: 0.6692450505866637\n",
      "diag_urogenital: 0.6692917643931151\n",
      "diabfeat_circulatory: 0.6690461201890203\n",
      "diabfeat_coma: 0.6693035420247841\n",
      "diabfeat_hyperosmolarity: 0.6691485731870339\n",
      "diabfeat_ketoacidosis: 0.6693112036841226\n",
      "diabfeat_ophthalmic: 0.6692225863039434\n",
      "diabfeat_other: 0.669246538287506\n",
      "diabfeat_renal: 0.6685454096754954\n",
      "race_Asian: 0.6693129145400912\n",
      "race_Hispanic: 0.6692558116227572\n",
      "race_Other: 0.6692519436005668\n",
      "gender_Male: 0.6692760443542136\n",
      "discharge_disposition_hhealth: 0.6685712212851113\n",
      "discharge_disposition_hospice: 0.6664178982908028\n",
      "discharge_disposition_hospital: 0.6677078836912507\n",
      "discharge_disposition_leftAMA: 0.6694156650782733\n",
      "discharge_disposition_nursing: 0.6623603430132324\n",
      "discharge_disposition_outpatient: 0.6569474426782046\n",
      "discharge_disposition_psych: 0.6670015729213057\n",
      "discharge_disposition_unknown: 0.667019078201218\n",
      "max_glu_serum_>200: 0.6694039618316463\n",
      "max_glu_serum_>300: 0.6694695198487682\n",
      "max_glu_serum_Norm: 0.6693415527813075\n",
      "A1Cresult_>8: 0.6689913232079918\n",
      "A1Cresult_Norm: 0.6689511056952189\n",
      "change_Ch: 0.6693512724268113\n",
      "med_any_No: 0.6689557175678302\n",
      "admission_type_id_2: 0.6692429182154561\n",
      "admission_type_id_3: 0.6693244442216199\n",
      "admission_type_id_4: 0.6692860367448717\n",
      "admission_type_id_5: 0.6692531337612407\n",
      "admission_type_id_7: 0.6692751269386943\n",
      "admission_source_id_1: 0.6693305190000597\n",
      "admission_source_id_2: 0.669255712442701\n",
      "admission_source_id_3: 0.6694614366741911\n",
      "admission_source_id_4: 0.6689631808670564\n",
      "admission_source_id_5: 0.6690325077263124\n",
      "admission_source_id_6: 0.6692685314649596\n",
      "admission_source_id_8: 0.669200022841167\n",
      "medical_specialty_Cardiology: 0.668367505449758\n",
      "medical_specialty_Emergency/Trauma: 0.6685810649056851\n",
      "medical_specialty_Family/GeneralPractice: 0.6692838547836363\n",
      "medical_specialty_Gastroenterology: 0.66942233493705\n",
      "medical_specialty_Nephrology: 0.6690837342253191\n",
      "medical_specialty_OBGYN: 0.6692807306118673\n",
      "medical_specialty_Oncology: 0.668678236565708\n",
      "medical_specialty_Orthopedics: 0.6696677559860186\n",
      "medical_specialty_Other: 0.6692451745617339\n",
      "medical_specialty_Pediatrics: 0.6690296315046836\n",
      "medical_specialty_Psychiatry: 0.6692735152627817\n",
      "medical_specialty_Pulmonology: 0.6693123442547684\n",
      "medical_specialty_Radiologist: 0.6692567290382767\n",
      "medical_specialty_Surgery: 0.6694145245076274\n",
      "medical_specialty_Urology: 0.6692847226091277\n",
      "primarydiag_Nothing: 0.6690700225825549\n",
      "primarydiag_blooddis: 0.6692986078169902\n",
      "primarydiag_digestive: 0.668905383689329\n",
      "primarydiag_infection: 0.6692221895837187\n",
      "primarydiag_mentaldis: 0.6693623557980871\n",
      "primarydiag_metabolic: 0.6692344631156686\n",
      "primarydiag_musculoskeletal: 0.669164789126216\n",
      "primarydiag_neoplasm: 0.6693793899727327\n",
      "primarydiag_nervous: 0.6691481764668091\n",
      "primarydiag_other: 0.6687291407295323\n",
      "primarydiag_pregnancy: 0.6692666966339207\n",
      "primarydiag_respiratory: 0.6686579046541952\n",
      "primarydiag_skin: 0.6690333755518038\n",
      "primarydiag_urogenital: 0.669049690671042\n",
      "diabchange: 0.66925896058954\n"
     ]
    }
   ],
   "source": [
    "import sklearn.model_selection as ms\n",
    "ms_k5 = ms.KFold(n_splits=5, shuffle=True)\n",
    "\n",
    "np.random.seed(0)\n",
    "DiabetesAD5Fold = ms_k5.split(trainX, trainY)\n",
    "\n",
    "RemoveListByLogR = []\n",
    "\n",
    "\n",
    "for var in list(trainXtemp.columns):\n",
    "    \n",
    "    from sklearn.linear_model import LogisticRegression as lgr\n",
    "\n",
    "    trainXtemp2 = trainXtemp.drop(var, axis=1)\n",
    "    testXtemp2 = testXtemp.drop(var, axis=1)\n",
    "\n",
    "    lgr = lgr()\n",
    "    lgr.set_params(C=0.1, class_weight={0:.2, 1:.8})\n",
    "\n",
    "    lgr.fit(trainXtemp2, trainY)\n",
    "    predictprobsvartest = lgr.predict_proba(testXtemp2)\n",
    "    tempAUC = AUC(testY03, predictprobsvartest[:,1])\n",
    "    \n",
    "    print(var + \": \" + str(tempAUC))\n",
    "    \n",
    "    if tempAUC > 0.66928:\n",
    "        RemoveListByLogR.append(var)"
   ]
  },
  {
   "cell_type": "code",
   "execution_count": 25,
   "metadata": {},
   "outputs": [
    {
     "data": {
      "text/plain": [
       "0.6707366690412851"
      ]
     },
     "execution_count": 25,
     "metadata": {},
     "output_type": "execute_result"
    }
   ],
   "source": [
    "trainXtemp2 = trainXtemp.drop(['number_diagnoses', 'med_glimepiride', 'med_insulin', 'diag_infection', 'medical_specialty_Orthopedics'], axis=1)\n",
    "testXtemp2 = testXtemp.drop(['number_diagnoses', 'med_glimepiride', 'med_insulin', 'diag_infection', 'medical_specialty_Orthopedics'], axis=1)\n",
    "\n",
    "from sklearn.linear_model import LogisticRegression as lgr\n",
    "\n",
    "lgr = lgr()\n",
    "lgr.set_params(C=0.1, class_weight={0:.2, 1:.8})\n",
    "\n",
    "lgr.fit(trainXtemp2, trainY)\n",
    "predictprobsvartest = lgr.predict_proba(testXtemp2)\n",
    "AUC(testY03, predictprobsvartest[:,1])"
   ]
  },
  {
   "cell_type": "code",
   "execution_count": null,
   "metadata": {},
   "outputs": [],
   "source": [
    "trainXtemp3 = trainXtemp2.drop(['number_diagnoses', 'med_glimepiride', 'med_insulin', 'diag_infection', 'medical_specialty_Orthopedics'], axis=1)\n",
    "testXtemp3 = testXtemp2.drop(['number_diagnoses', 'med_glimepiride', 'med_insulin', 'diag_infection', 'medical_specialty_Orthopedics'], axis=1)\n",
    "\n",
    "from sklearn.linear_model import LogisticRegression as lgr\n",
    "\n",
    "lgr = lgr()\n",
    "lgr.set_params(C=0.1, class_weight={0:.2, 1:.8})\n",
    "\n",
    "lgr.fit(trainXtemp2, trainY)\n",
    "predictprobsvartest = lgr.predict_proba(testXtemp2)\n",
    "AUC(testY03, predictprobsvartest[:,1])"
   ]
  },
  {
   "cell_type": "code",
   "execution_count": 53,
   "metadata": {
    "scrolled": true
   },
   "outputs": [
    {
     "name": "stdout",
     "output_type": "stream",
     "text": [
      "age: 0.6705542769180066\n",
      "time_in_hospital: 0.6705122493692087\n",
      "num_lab_procedures: 0.6705888411675784\n",
      "num_procedures: 0.670670962254079\n",
      "num_medications: 0.670780444638573\n",
      "number_outpatient: 0.6707485458530104\n",
      "number_emergency: 0.6690716342584677\n",
      "number_inpatient: 0.6422194026985257\n",
      "med_metformin: 0.6696719711384054\n",
      "med_repaglinide: 0.6706221408714341\n",
      "med_nateglinide: 0.6708890591975754\n",
      "med_chlorpropamide: 0.6706787478884876\n",
      "med_glipizide: 0.6707905734018083\n",
      "med_glyburide: 0.6706826902957199\n",
      "med_tolbutamide: 0.6707203539220469\n",
      "med_pioglitazone: 0.6705812786882961\n",
      "med_rosiglitazone: 0.6706213970210131\n",
      "med_acarbose: 0.6706367699297178\n",
      "med_miglitol: 0.6707290569719748\n",
      "med_tolazamide: 0.6707286354567361\n",
      "med_glyburide.metformin: 0.6707369913764677\n",
      "med_glipizide.metformin: 0.6707054769136227\n",
      "diag_blooddis: 0.670580658812945\n",
      "diag_circulatory: 0.6709646096053554\n",
      "diag_digestive: 0.6705269776075484\n",
      "diag_injury: 0.670630075275927\n",
      "diag_mentaldis: 0.6707226102683245\n",
      "diag_metabolic: 0.6706460928549968\n",
      "diag_musculoskeletal: 0.6707374872767485\n",
      "diag_neoplasm: 0.6705492931201844\n",
      "diag_nervous: 0.6707348094152321\n",
      "diag_other: 0.6707040388028084\n",
      "diag_pregnancy: 0.6707120723873574\n",
      "diag_respiratory: 0.6707815976067257\n",
      "diag_skin: 0.6706941951822345\n",
      "diag_urogenital: 0.6706136113866045\n",
      "diabfeat_circulatory: 0.6704193920416286\n",
      "diabfeat_coma: 0.670734065564811\n",
      "diabfeat_hyperosmolarity: 0.6706470102705163\n",
      "diabfeat_ketoacidosis: 0.6707412313238685\n",
      "diabfeat_ophthalmic: 0.6706954101379226\n",
      "diabfeat_other: 0.6706482996112464\n",
      "diabfeat_renal: 0.6699721891684023\n",
      "race_Asian: 0.6707531329306078\n",
      "race_Hispanic: 0.670678400758291\n",
      "race_Other: 0.6706717804895423\n",
      "gender_Male: 0.670704410728019\n",
      "discharge_disposition_hhealth: 0.6700644266206314\n",
      "discharge_disposition_hospice: 0.6678144278665807\n",
      "discharge_disposition_hospital: 0.669297963146625\n",
      "discharge_disposition_leftAMA: 0.6709133335163207\n",
      "discharge_disposition_nursing: 0.6640867454557992\n",
      "discharge_disposition_outpatient: 0.6581021960720779\n",
      "discharge_disposition_psych: 0.6684075989874608\n",
      "discharge_disposition_unknown: 0.6684565691401899\n",
      "max_glu_serum_>200: 0.6707621831107323\n",
      "max_glu_serum_>300: 0.6709009855993285\n",
      "max_glu_serum_Norm: 0.6707616872104516\n",
      "A1Cresult_>8: 0.6704628824962549\n",
      "A1Cresult_Norm: 0.670409077315788\n",
      "change_Ch: 0.671030018852393\n",
      "med_any_No: 0.6693092448780134\n",
      "admission_type_id_2: 0.670709320140799\n",
      "admission_type_id_3: 0.6707306934429015\n",
      "admission_type_id_4: 0.6707325530689545\n",
      "admission_type_id_5: 0.6706444811790843\n",
      "admission_type_id_7: 0.6707214201076505\n",
      "admission_source_id_1: 0.6707427934097531\n",
      "admission_source_id_2: 0.6707027246670643\n",
      "admission_source_id_3: 0.6709027708403394\n",
      "admission_source_id_4: 0.6703863402879132\n",
      "admission_source_id_5: 0.6705161173913989\n",
      "admission_source_id_6: 0.6706563579908095\n",
      "admission_source_id_8: 0.670593552220246\n",
      "medical_specialty_Cardiology: 0.6697410500475208\n",
      "medical_specialty_Emergency/Trauma: 0.6700626909696483\n",
      "medical_specialty_Family/GeneralPractice: 0.6706496385420045\n",
      "medical_specialty_Gastroenterology: 0.6708693471614136\n",
      "medical_specialty_Nephrology: 0.67055018574069\n",
      "medical_specialty_OBGYN: 0.6707843250582701\n",
      "medical_specialty_Oncology: 0.6702372478684905\n",
      "medical_specialty_Other: 0.6706919140409429\n",
      "medical_specialty_Pediatrics: 0.6703991841051861\n",
      "medical_specialty_Psychiatry: 0.6707031213872889\n",
      "medical_specialty_Pulmonology: 0.6707625054459148\n",
      "medical_specialty_Radiologist: 0.6707185438860219\n",
      "medical_specialty_Surgery: 0.6709026220702552\n",
      "medical_specialty_Urology: 0.6707374376867205\n",
      "primarydiag_Nothing: 0.6704414348091102\n",
      "primarydiag_blooddis: 0.670726676650627\n",
      "primarydiag_digestive: 0.6703580739719076\n",
      "primarydiag_infection: 0.6708561810089582\n",
      "primarydiag_mentaldis: 0.670817079271817\n",
      "primarydiag_metabolic: 0.670668457957661\n",
      "primarydiag_musculoskeletal: 0.670371289714391\n",
      "primarydiag_neoplasm: 0.6707884906206288\n",
      "primarydiag_nervous: 0.6705661041397037\n",
      "primarydiag_other: 0.6701864428847223\n",
      "primarydiag_pregnancy: 0.6707177752405866\n",
      "primarydiag_respiratory: 0.6700114148806137\n",
      "primarydiag_skin: 0.6704375419919061\n",
      "primarydiag_urogenital: 0.6704378891221026\n",
      "diabchange: 0.6707534056757621\n"
     ]
    }
   ],
   "source": [
    "import sklearn.model_selection as ms\n",
    "ms_k5 = ms.KFold(n_splits=5, shuffle=True)\n",
    "\n",
    "np.random.seed(0)\n",
    "DiabetesAD5Fold = ms_k5.split(trainX, trainY)\n",
    "\n",
    "RemoveListByLogR = []\n",
    "\n",
    "\n",
    "for var in list(trainXtemp2.columns):\n",
    "    \n",
    "    from sklearn.linear_model import LogisticRegression as lgr\n",
    "\n",
    "    trainXtemp3 = trainXtemp2.drop(var, axis=1)\n",
    "    testXtemp3 = testXtemp2.drop(var, axis=1)\n",
    "\n",
    "    lgr = lgr()\n",
    "    lgr.set_params(C=0.1, class_weight={0:.2, 1:.8})\n",
    "\n",
    "    lgr.fit(trainXtemp3, trainY)\n",
    "    predictprobsvartest = lgr.predict_proba(testXtemp3)\n",
    "    tempAUC = AUC(testY03, predictprobsvartest[:,1])\n",
    "    \n",
    "    print(var + \": \" + str(tempAUC))\n",
    "    \n",
    "    if tempAUC > 0.67073:\n",
    "        RemoveListByLogR.append(var)"
   ]
  },
  {
   "cell_type": "code",
   "execution_count": 26,
   "metadata": {},
   "outputs": [
    {
     "data": {
      "text/plain": [
       "0.6716049904329677"
      ]
     },
     "execution_count": 26,
     "metadata": {},
     "output_type": "execute_result"
    }
   ],
   "source": [
    "trainXtemp3 = trainXtemp2.drop(['med_nateglinide', 'discharge_disposition_leftAMA', 'admission_source_id_3', 'change_Ch'], axis=1)\n",
    "testXtemp3 = testXtemp2.drop(['med_nateglinide', 'discharge_disposition_leftAMA', 'admission_source_id_3', 'change_Ch'], axis=1)\n",
    "\n",
    "from sklearn.linear_model import LogisticRegression as lgr\n",
    "\n",
    "lgr = lgr()\n",
    "lgr.set_params(C=0.1, class_weight={0:.2, 1:.8})\n",
    "\n",
    "lgr.fit(trainXtemp3, trainY)\n",
    "predictprobsvartest = lgr.predict_proba(testXtemp3)\n",
    "AUC(testY03, predictprobsvartest[:,1])"
   ]
  },
  {
   "cell_type": "code",
   "execution_count": 57,
   "metadata": {
    "scrolled": true
   },
   "outputs": [
    {
     "name": "stdout",
     "output_type": "stream",
     "text": [
      "age: 0.6714334833208527\n",
      "time_in_hospital: 0.6713912574119425\n",
      "num_lab_procedures: 0.6714426574760475\n",
      "num_procedures: 0.6715457799394402\n",
      "num_medications: 0.6716539729832038\n",
      "number_outpatient: 0.6716147100784715\n",
      "number_emergency: 0.6699343767719912\n",
      "number_inpatient: 0.6431721263180007\n",
      "med_metformin: 0.6704804125711813\n",
      "med_repaglinide: 0.6715212328755404\n",
      "med_chlorpropamide: 0.6715371016845262\n",
      "med_glipizide: 0.6716246528791014\n",
      "med_glyburide: 0.671519670789656\n",
      "med_tolbutamide: 0.6715941054218042\n",
      "med_pioglitazone: 0.6715399283161267\n",
      "med_rosiglitazone: 0.6714789573766022\n",
      "med_acarbose: 0.6715260679032784\n",
      "med_miglitol: 0.6715891960090243\n",
      "med_tolazamide: 0.6715962129979977\n",
      "med_glyburide.metformin: 0.6716230659982031\n",
      "med_glipizide.metformin: 0.6715923449758074\n",
      "diag_blooddis: 0.6714461287780131\n",
      "diag_circulatory: 0.6718420059721766\n",
      "diag_digestive: 0.6714292929634801\n",
      "diag_injury: 0.6715492016513777\n",
      "diag_mentaldis: 0.6715693104077642\n",
      "diag_metabolic: 0.6715157779724517\n",
      "diag_musculoskeletal: 0.6716189500258724\n",
      "diag_neoplasm: 0.6714690393709862\n",
      "diag_nervous: 0.6716015439260162\n",
      "diag_other: 0.671566136645967\n",
      "diag_pregnancy: 0.6715788564881695\n",
      "diag_respiratory: 0.6716531919402616\n",
      "diag_skin: 0.6716117346767867\n",
      "diag_urogenital: 0.6714779159860126\n",
      "diabfeat_circulatory: 0.6713018217963\n",
      "diabfeat_coma: 0.671616916834721\n",
      "diabfeat_hyperosmolarity: 0.6715002562936625\n",
      "diabfeat_ketoacidosis: 0.6715896671142911\n",
      "diabfeat_ophthalmic: 0.6715689632775675\n",
      "diabfeat_other: 0.6715146621968199\n",
      "diabfeat_renal: 0.6709001425688513\n",
      "race_Asian: 0.671629264751713\n",
      "race_Hispanic: 0.6715550036846629\n",
      "race_Other: 0.671556243435365\n",
      "gender_Male: 0.6715420854823481\n",
      "discharge_disposition_hhealth: 0.670989082284213\n",
      "discharge_disposition_hospice: 0.6687677217713787\n",
      "discharge_disposition_hospital: 0.6701295879175284\n",
      "discharge_disposition_nursing: 0.6650049048257023\n",
      "discharge_disposition_outpatient: 0.6590322322537063\n",
      "discharge_disposition_psych: 0.6692938719693085\n",
      "discharge_disposition_unknown: 0.6693697447122711\n",
      "max_glu_serum_>200: 0.6716360089955319\n",
      "max_glu_serum_>300: 0.6717835889190983\n",
      "max_glu_serum_Norm: 0.6716288432364744\n",
      "A1Cresult_>8: 0.6713232198934166\n",
      "A1Cresult_Norm: 0.6712796798487622\n",
      "med_any_No: 0.6699965874622176\n",
      "admission_type_id_2: 0.6715620206736362\n",
      "admission_type_id_3: 0.6716194955161812\n",
      "admission_type_id_4: 0.6715973287736294\n",
      "admission_type_id_5: 0.6715181334987854\n",
      "admission_type_id_7: 0.6715909812500352\n",
      "admission_source_id_1: 0.6716222229677257\n",
      "admission_source_id_2: 0.6715684425822729\n",
      "admission_source_id_4: 0.6712028401002522\n",
      "admission_source_id_5: 0.6713711982455841\n",
      "admission_source_id_6: 0.6714898671827799\n",
      "admission_source_id_8: 0.6714700063765338\n",
      "medical_specialty_Cardiology: 0.6706027511704549\n",
      "medical_specialty_Emergency/Trauma: 0.6709538981592901\n",
      "medical_specialty_Family/GeneralPractice: 0.67152705970384\n",
      "medical_specialty_Gastroenterology: 0.6717306267691087\n",
      "medical_specialty_Nephrology: 0.6714574105094013\n",
      "medical_specialty_OBGYN: 0.6716743172922239\n",
      "medical_specialty_Oncology: 0.6710828322322984\n",
      "medical_specialty_Other: 0.6715736247402072\n",
      "medical_specialty_Pediatrics: 0.6712811675496047\n",
      "medical_specialty_Psychiatry: 0.671564872100251\n",
      "medical_specialty_Pulmonology: 0.6716233883333854\n",
      "medical_specialty_Radiologist: 0.67163980263268\n",
      "medical_specialty_Surgery: 0.6717934077446581\n",
      "medical_specialty_Urology: 0.6715898406793894\n",
      "primarydiag_Nothing: 0.6713347247799313\n",
      "primarydiag_blooddis: 0.6716061805936419\n",
      "primarydiag_digestive: 0.6712458842446257\n",
      "primarydiag_infection: 0.6717429003010584\n",
      "primarydiag_mentaldis: 0.6716955914142702\n",
      "primarydiag_metabolic: 0.6715205138201334\n",
      "primarydiag_musculoskeletal: 0.6712387184855682\n",
      "primarydiag_neoplasm: 0.6716737470069009\n",
      "primarydiag_nervous: 0.6714369794178324\n",
      "primarydiag_other: 0.6710224067830828\n",
      "primarydiag_pregnancy: 0.6715835675408371\n",
      "primarydiag_respiratory: 0.6709293015053623\n",
      "primarydiag_skin: 0.6713910342568162\n",
      "primarydiag_urogenital: 0.6713318237632886\n",
      "diabchange: 0.6711848637150732\n"
     ]
    }
   ],
   "source": [
    "import sklearn.model_selection as ms\n",
    "ms_k5 = ms.KFold(n_splits=5, shuffle=True)\n",
    "\n",
    "np.random.seed(0)\n",
    "DiabetesAD5Fold = ms_k5.split(trainX, trainY)\n",
    "\n",
    "RemoveListByLogR = []\n",
    "\n",
    "\n",
    "for var in list(trainXtemp3.columns):\n",
    "    \n",
    "    from sklearn.linear_model import LogisticRegression as lgr\n",
    "\n",
    "    trainXtemp4 = trainXtemp3.drop(var, axis=1)\n",
    "    testXtemp4 = testXtemp3.drop(var, axis=1)\n",
    "\n",
    "    lgr = lgr()\n",
    "    lgr.set_params(C=0.1, class_weight={0:.2, 1:.8})\n",
    "\n",
    "    lgr.fit(trainXtemp4, trainY)\n",
    "    predictprobsvartest = lgr.predict_proba(testXtemp4)\n",
    "    tempAUC = AUC(testY03, predictprobsvartest[:,1])\n",
    "    \n",
    "    print(var + \": \" + str(tempAUC))\n",
    "    \n",
    "    if tempAUC > 0.67160:\n",
    "        RemoveListByLogR.append(var)"
   ]
  },
  {
   "cell_type": "code",
   "execution_count": 27,
   "metadata": {},
   "outputs": [
    {
     "data": {
      "text/plain": [
       "0.6725013797805438"
      ]
     },
     "execution_count": 27,
     "metadata": {},
     "output_type": "execute_result"
    }
   ],
   "source": [
    "trainXtemp4 = trainXtemp3.drop(['diag_circulatory', 'medical_specialty_Gastroenterology', 'medical_specialty_Surgery',\n",
    "                               'primarydiag_infection', 'primarydiag_mentaldis'], axis=1)\n",
    "testXtemp4 = testXtemp3.drop(['diag_circulatory', 'medical_specialty_Gastroenterology', 'medical_specialty_Surgery',\n",
    "                               'primarydiag_infection', 'primarydiag_mentaldis'], axis=1)\n",
    "from sklearn.linear_model import LogisticRegression as lgr\n",
    "\n",
    "lgr = lgr()\n",
    "lgr.set_params(C=0.1, class_weight={0:.2, 1:.8})\n",
    "\n",
    "lgr.fit(trainXtemp4, trainY)\n",
    "predictprobsvartest = lgr.predict_proba(testXtemp4)\n",
    "AUC(testY03, predictprobsvartest[:,1])"
   ]
  },
  {
   "cell_type": "code",
   "execution_count": 2,
   "metadata": {},
   "outputs": [],
   "source": [
    "#This work gave us a list of approximately 20 features to remove from our logistic regression model"
   ]
  },
  {
   "cell_type": "code",
   "execution_count": 21,
   "metadata": {},
   "outputs": [
    {
     "data": {
      "text/plain": [
       "0.6677426958909628"
      ]
     },
     "execution_count": 21,
     "metadata": {},
     "output_type": "execute_result"
    }
   ],
   "source": [
    "#Let's try to slightly improve our linear regression by assigning weights to the classes:\n",
    "\n",
    "testX01 = testX03.copy()\n",
    "\n",
    "trainX01 = trainX.copy()\n",
    "\n",
    "\n",
    "from sklearn.linear_model import LogisticRegression as lgr\n",
    "\n",
    "lgr = lgr()\n",
    "lgr.set_params(C=0.1, class_weight={0:.2, 1:.8})\n",
    "\n",
    "lgr.fit(trainX, trainY)\n",
    "predictprobsLRW = lgr.predict_proba(testX01)\n",
    "\n",
    "AUC(testY03, predictprobsLRW[:,1])"
   ]
  },
  {
   "cell_type": "code",
   "execution_count": 78,
   "metadata": {},
   "outputs": [
    {
     "data": {
      "text/plain": [
       "0.6656335824066879"
      ]
     },
     "execution_count": 78,
     "metadata": {},
     "output_type": "execute_result"
    }
   ],
   "source": [
    "#Let's start by checking 40/60:\n",
    "from sklearn.ensemble import RandomForestClassifier as rfc\n",
    "\n",
    "rfc = rfc()\n",
    "rfc.set_params(n_estimators=1000, min_samples_split=5, min_samples_leaf=1, max_features='sqrt', \n",
    "               max_depth=60, random_state=42, class_weight={0:.4, 1:.6})\n",
    "\n",
    "rfc.fit(trainX, trainY)\n",
    "\n",
    "predictRFW = rfc.predict(testX03)\n",
    "predictprobsRFW = rfc.predict_proba(testX03)\n",
    "\n",
    "from sklearn.metrics import roc_auc_score as AUC\n",
    "\n",
    "AUC(testY03, predictprobsRFW[:,1])\n",
    "#0.66563 is significant improvement. Let's see if we can increase this some more:"
   ]
  },
  {
   "cell_type": "code",
   "execution_count": 79,
   "metadata": {},
   "outputs": [
    {
     "data": {
      "text/plain": [
       "0.6663424966531071"
      ]
     },
     "execution_count": 79,
     "metadata": {},
     "output_type": "execute_result"
    }
   ],
   "source": [
    "#0.66563 is significant improvement. Let's see if we can increase this some more (35/65):\n",
    "from sklearn.ensemble import RandomForestClassifier as rfc\n",
    "\n",
    "rfc = rfc()\n",
    "rfc.set_params(n_estimators=1000, min_samples_split=5, min_samples_leaf=1, max_features='sqrt', \n",
    "               max_depth=60, random_state=42, class_weight={0:.35, 1:.65})\n",
    "\n",
    "rfc.fit(trainX, trainY)\n",
    "\n",
    "predictRFW = rfc.predict(testX03)\n",
    "predictprobsRFW2 = rfc.predict_proba(testX03)\n",
    "\n",
    "from sklearn.metrics import roc_auc_score as AUC\n",
    "\n",
    "AUC(testY03, predictprobsRFW2[:,1])\n",
    "#0.6663 is evern better. Let's keep scaling down and see when the improvement stops:"
   ]
  },
  {
   "cell_type": "code",
   "execution_count": 80,
   "metadata": {},
   "outputs": [
    {
     "data": {
      "text/plain": [
       "0.6671912299836981"
      ]
     },
     "execution_count": 80,
     "metadata": {},
     "output_type": "execute_result"
    }
   ],
   "source": [
    "#0.66563 is significant improvement. Let's see if we can increase this some more:\n",
    "from sklearn.ensemble import RandomForestClassifier as rfc\n",
    "\n",
    "rfc = rfc()\n",
    "rfc.set_params(n_estimators=1000, min_samples_split=5, min_samples_leaf=1, max_features='sqrt', \n",
    "               max_depth=60, random_state=42, class_weight={0:.3, 1:.7})\n",
    "\n",
    "rfc.fit(trainX, trainY)\n",
    "\n",
    "predictRFW = rfc.predict(testX03)\n",
    "predictprobsRFW3 = rfc.predict_proba(testX03)\n",
    "\n",
    "from sklearn.metrics import roc_auc_score as AUC\n",
    "\n",
    "AUC(testY03, predictprobsRFW3[:,1])\n",
    "#0.66719. Let's go to 25/75 next:"
   ]
  },
  {
   "cell_type": "code",
   "execution_count": 81,
   "metadata": {},
   "outputs": [
    {
     "data": {
      "text/plain": [
       "0.6697473975711151"
      ]
     },
     "execution_count": 81,
     "metadata": {},
     "output_type": "execute_result"
    }
   ],
   "source": [
    "#0.66563 is significant improvement. Let's see if we can increase this some more:\n",
    "from sklearn.ensemble import RandomForestClassifier as rfc\n",
    "\n",
    "rfc = rfc()\n",
    "rfc.set_params(n_estimators=1000, min_samples_split=5, min_samples_leaf=1, max_features='sqrt', \n",
    "               max_depth=60, random_state=42, class_weight={0:.25, 1:.75})\n",
    "\n",
    "rfc.fit(trainX, trainY)\n",
    "\n",
    "predictRFW = rfc.predict(testX03)\n",
    "predictprobsRFW4 = rfc.predict_proba(testX03)\n",
    "\n",
    "from sklearn.metrics import roc_auc_score as AUC\n",
    "\n",
    "AUC(testY03, predictprobsRFW4[:,1])\n",
    "#0.66974. Let's go to 20/80:"
   ]
  },
  {
   "cell_type": "code",
   "execution_count": 31,
   "metadata": {},
   "outputs": [
    {
     "name": "stderr",
     "output_type": "stream",
     "text": [
      "C:\\Users\\Dave\\Anaconda3\\lib\\importlib\\_bootstrap.py:219: ImportWarning: can't resolve package from __spec__ or __package__, falling back on __name__ and __path__\n",
      "  return f(*args, **kwds)\n"
     ]
    },
    {
     "data": {
      "text/plain": [
       "0.6706926578913641"
      ]
     },
     "execution_count": 31,
     "metadata": {},
     "output_type": "execute_result"
    }
   ],
   "source": [
    "#Try 20/80 weights (best choice for logistic regression):\n",
    "from sklearn.ensemble import RandomForestClassifier as rfc\n",
    "\n",
    "rfc = rfc()\n",
    "rfc.set_params(n_estimators=1000, min_samples_split=5, min_samples_leaf=1, max_features='sqrt', \n",
    "               max_depth=60, random_state=42, class_weight={0:.2, 1:.8})\n",
    "\n",
    "rfc.fit(trainX, trainY)\n",
    "\n",
    "predictRFW = rfc.predict(testX03)\n",
    "predictprobsRFW5 = rfc.predict_proba(testX03)\n",
    "\n",
    "from sklearn.metrics import roc_auc_score as AUC\n",
    "\n",
    "AUC(testY03, predictprobsRFW5[:,1])\n",
    "#0.6707. Let's check if 15/85 improves (it may not):"
   ]
  },
  {
   "cell_type": "code",
   "execution_count": 32,
   "metadata": {},
   "outputs": [],
   "source": [
    "import pickle\n",
    "with open('rfc.pickle', 'wb') as f:\n",
    "    pickle.dump(rfc, f, -1)"
   ]
  },
  {
   "cell_type": "code",
   "execution_count": 33,
   "metadata": {},
   "outputs": [
    {
     "data": {
      "text/plain": [
       "['newrfc.pkl']"
      ]
     },
     "execution_count": 33,
     "metadata": {},
     "output_type": "execute_result"
    }
   ],
   "source": [
    "from sklearn.externals import joblib\n",
    "joblib.dump(rfc,  'newrfc.pkl', compress=9)"
   ]
  },
  {
   "cell_type": "code",
   "execution_count": 83,
   "metadata": {},
   "outputs": [
    {
     "data": {
      "text/plain": [
       "0.6701178102858595"
      ]
     },
     "execution_count": 83,
     "metadata": {},
     "output_type": "execute_result"
    }
   ],
   "source": [
    "#Try 15/85 weights (stronger choice than logistic regression):\n",
    "from sklearn.ensemble import RandomForestClassifier as rfc\n",
    "\n",
    "rfc = rfc()\n",
    "rfc.set_params(n_estimators=1000, min_samples_split=5, min_samples_leaf=1, max_features='sqrt', \n",
    "               max_depth=60, random_state=42, class_weight={0:.15, 1:.85})\n",
    "\n",
    "rfc.fit(trainX, trainY)\n",
    "\n",
    "predictRFW = rfc.predict(testX03)\n",
    "predictprobsRFW6 = rfc.predict_proba(testX03)\n",
    "\n",
    "from sklearn.metrics import roc_auc_score as AUC\n",
    "\n",
    "AUC(testY03, predictprobsRFW6[:,1])\n",
    "#0.6707. Let's check if 15/85 improves (it may not):\n",
    "#0.6701. So it dropped. So 20/80 was the ideal split for both logistic regression and random forest."
   ]
  },
  {
   "cell_type": "code",
   "execution_count": 37,
   "metadata": {},
   "outputs": [],
   "source": [
    "#Using class weights, we very slightly increased the output from LR to 0.66774\n",
    "\n",
    "# AUC of 0.66774 for class-weighted logistic regression\n",
    "# AUC of 0.68011 for parameter-optimized XGBoost\n",
    "# AUC of 0.67069 for class-weighted hyperparameter-optimized random forest"
   ]
  },
  {
   "cell_type": "code",
   "execution_count": 23,
   "metadata": {},
   "outputs": [
    {
     "name": "stderr",
     "output_type": "stream",
     "text": [
      "C:\\Users\\Dave\\Anaconda3\\lib\\site-packages\\sklearn\\preprocessing\\label.py:151: DeprecationWarning: The truth value of an empty array is ambiguous. Returning False, but in future this will result in an error. Use `array.size > 0` to check that an array is not empty.\n",
      "  if diff:\n"
     ]
    }
   ],
   "source": [
    "#Now let's try enhaning the XGB score using scale_pos_weight (the # of negative samples/# positive)\n",
    "\n",
    "from xgboost.sklearn import XGBClassifier as xgb\n",
    "\n",
    "xgb = xgb()\n",
    "xgb.set_params(n_estimators=500, min_child_weight=10, max_depth=5, gamma=5, colsample_bytree=0.6, max_delta_step=5,\n",
    "              random_state=42, scale_pos_weight=4)\n",
    "\n",
    "xgb.fit(trainX, trainY)\n",
    "\n",
    "predictXBW = xgb.predict(testX03)\n",
    "predictprobsXBW = xgb.predict_proba(testX03)\n",
    "\n",
    "AUC(testY03, predictprobsXBW[:,1])"
   ]
  },
  {
   "cell_type": "code",
   "execution_count": 25,
   "metadata": {},
   "outputs": [
    {
     "name": "stderr",
     "output_type": "stream",
     "text": [
      "C:\\Users\\Dave\\Anaconda3\\lib\\site-packages\\sklearn\\preprocessing\\label.py:151: DeprecationWarning: The truth value of an empty array is ambiguous. Returning False, but in future this will result in an error. Use `array.size > 0` to check that an array is not empty.\n",
      "  if diff:\n"
     ]
    },
    {
     "data": {
      "text/plain": [
       "0.671829769632748"
      ]
     },
     "execution_count": 25,
     "metadata": {},
     "output_type": "execute_result"
    }
   ],
   "source": [
    "from xgboost.sklearn import XGBClassifier as xgb\n",
    "\n",
    "xgb = xgb()\n",
    "xgb.set_params(n_estimators=500, min_child_weight=10, max_depth=5, gamma=5, colsample_bytree=0.6, max_delta_step=5,\n",
    "              random_state=42, scale_pos_weight=5)\n",
    "\n",
    "xgb.fit(trainX, trainY)\n",
    "\n",
    "predictXBW = xgb.predict(testX03)\n",
    "predictprobsXBW = xgb.predict_proba(testX03)\n",
    "\n",
    "AUC(testY03, predictprobsXBW[:,1])"
   ]
  },
  {
   "cell_type": "code",
   "execution_count": 26,
   "metadata": {},
   "outputs": [
    {
     "name": "stderr",
     "output_type": "stream",
     "text": [
      "C:\\Users\\Dave\\Anaconda3\\lib\\site-packages\\sklearn\\preprocessing\\label.py:151: DeprecationWarning: The truth value of an empty array is ambiguous. Returning False, but in future this will result in an error. Use `array.size > 0` to check that an array is not empty.\n",
      "  if diff:\n"
     ]
    },
    {
     "data": {
      "text/plain": [
       "0.6763980774045293"
      ]
     },
     "execution_count": 26,
     "metadata": {},
     "output_type": "execute_result"
    }
   ],
   "source": [
    "from xgboost.sklearn import XGBClassifier as xgb\n",
    "\n",
    "xgb = xgb()\n",
    "xgb.set_params(n_estimators=500, min_child_weight=10, max_depth=5, gamma=5, colsample_bytree=0.6, max_delta_step=5,\n",
    "              random_state=42, scale_pos_weight=3)\n",
    "\n",
    "xgb.fit(trainX, trainY)\n",
    "\n",
    "predictXBW = xgb.predict(testX03)\n",
    "predictprobsXBW = xgb.predict_proba(testX03)\n",
    "\n",
    "AUC(testY03, predictprobsXBW[:,1])"
   ]
  },
  {
   "cell_type": "code",
   "execution_count": 27,
   "metadata": {},
   "outputs": [
    {
     "name": "stderr",
     "output_type": "stream",
     "text": [
      "C:\\Users\\Dave\\Anaconda3\\lib\\site-packages\\sklearn\\preprocessing\\label.py:151: DeprecationWarning: The truth value of an empty array is ambiguous. Returning False, but in future this will result in an error. Use `array.size > 0` to check that an array is not empty.\n",
      "  if diff:\n"
     ]
    },
    {
     "data": {
      "text/plain": [
       "0.6766497096045148"
      ]
     },
     "execution_count": 27,
     "metadata": {},
     "output_type": "execute_result"
    }
   ],
   "source": [
    "from xgboost.sklearn import XGBClassifier as xgb\n",
    "\n",
    "xgb = xgb()\n",
    "xgb.set_params(n_estimators=500, min_child_weight=10, max_depth=5, gamma=5, colsample_bytree=0.6, max_delta_step=5,\n",
    "              random_state=42, scale_pos_weight=2)\n",
    "\n",
    "xgb.fit(trainX, trainY)\n",
    "\n",
    "predictXBW = xgb.predict(testX03)\n",
    "predictprobsXBW = xgb.predict_proba(testX03)\n",
    "\n",
    "AUC(testY03, predictprobsXBW[:,1])"
   ]
  },
  {
   "cell_type": "code",
   "execution_count": 28,
   "metadata": {},
   "outputs": [
    {
     "name": "stderr",
     "output_type": "stream",
     "text": [
      "C:\\Users\\Dave\\Anaconda3\\lib\\site-packages\\sklearn\\preprocessing\\label.py:151: DeprecationWarning: The truth value of an empty array is ambiguous. Returning False, but in future this will result in an error. Use `array.size > 0` to check that an array is not empty.\n",
      "  if diff:\n"
     ]
    },
    {
     "data": {
      "text/plain": [
       "0.6796362194556111"
      ]
     },
     "execution_count": 28,
     "metadata": {},
     "output_type": "execute_result"
    }
   ],
   "source": [
    "from xgboost.sklearn import XGBClassifier as xgb\n",
    "\n",
    "xgb = xgb()\n",
    "xgb.set_params(n_estimators=500, min_child_weight=10, max_depth=5, gamma=5, colsample_bytree=0.6, max_delta_step=5,\n",
    "              random_state=42, scale_pos_weight=1.5)\n",
    "\n",
    "xgb.fit(trainX, trainY)\n",
    "\n",
    "predictXBW = xgb.predict(testX03)\n",
    "predictprobsXBW = xgb.predict_proba(testX03)\n",
    "\n",
    "AUC(testY03, predictprobsXBW[:,1])"
   ]
  },
  {
   "cell_type": "code",
   "execution_count": 29,
   "metadata": {},
   "outputs": [
    {
     "name": "stderr",
     "output_type": "stream",
     "text": [
      "C:\\Users\\Dave\\Anaconda3\\lib\\site-packages\\sklearn\\preprocessing\\label.py:151: DeprecationWarning: The truth value of an empty array is ambiguous. Returning False, but in future this will result in an error. Use `array.size > 0` to check that an array is not empty.\n",
      "  if diff:\n"
     ]
    },
    {
     "data": {
      "text/plain": [
       "0.6789578402689822"
      ]
     },
     "execution_count": 29,
     "metadata": {},
     "output_type": "execute_result"
    }
   ],
   "source": [
    "from xgboost.sklearn import XGBClassifier as xgb\n",
    "\n",
    "xgb = xgb()\n",
    "xgb.set_params(n_estimators=500, min_child_weight=10, max_depth=5, gamma=5, colsample_bytree=0.6, max_delta_step=5,\n",
    "              random_state=42, scale_pos_weight=1.2)\n",
    "\n",
    "xgb.fit(trainX, trainY)\n",
    "\n",
    "predictXBW = xgb.predict(testX03)\n",
    "predictprobsXBW = xgb.predict_proba(testX03)\n",
    "\n",
    "AUC(testY03, predictprobsXBW[:,1])"
   ]
  },
  {
   "cell_type": "code",
   "execution_count": 29,
   "metadata": {},
   "outputs": [
    {
     "name": "stderr",
     "output_type": "stream",
     "text": [
      "C:\\Users\\Dave\\Anaconda3\\lib\\site-packages\\sklearn\\preprocessing\\label.py:151: DeprecationWarning: The truth value of an empty array is ambiguous. Returning False, but in future this will result in an error. Use `array.size > 0` to check that an array is not empty.\n",
      "  if diff:\n"
     ]
    },
    {
     "data": {
      "text/plain": [
       "0.6801164864800598"
      ]
     },
     "execution_count": 29,
     "metadata": {},
     "output_type": "execute_result"
    }
   ],
   "source": [
    "from xgboost.sklearn import XGBClassifier as xgb\n",
    "\n",
    "xgb = xgb()\n",
    "xgb.set_params(n_estimators=500, min_child_weight=10, max_depth=5, gamma=5, colsample_bytree=0.6, max_delta_step=5,\n",
    "              random_state=42, scale_pos_weight=1)\n",
    "\n",
    "xgb.fit(trainX, trainY)\n",
    "\n",
    "predictXBW = xgb.predict(testX03)\n",
    "predictprobsXBW = xgb.predict_proba(testX03)\n",
    "\n",
    "AUC(testY03, predictprobsXBW[:,1])"
   ]
  },
  {
   "cell_type": "code",
   "execution_count": 31,
   "metadata": {},
   "outputs": [
    {
     "name": "stderr",
     "output_type": "stream",
     "text": [
      "C:\\Users\\Dave\\Anaconda3\\lib\\site-packages\\sklearn\\preprocessing\\label.py:151: DeprecationWarning: The truth value of an empty array is ambiguous. Returning False, but in future this will result in an error. Use `array.size > 0` to check that an array is not empty.\n",
      "  if diff:\n"
     ]
    },
    {
     "data": {
      "text/plain": [
       "0.6784103291664568"
      ]
     },
     "execution_count": 31,
     "metadata": {},
     "output_type": "execute_result"
    }
   ],
   "source": [
    "from xgboost.sklearn import XGBClassifier as xgb\n",
    "\n",
    "xgb = xgb()\n",
    "xgb.set_params(n_estimators=500, min_child_weight=10, max_depth=5, gamma=5, colsample_bytree=0.6, max_delta_step=5,\n",
    "              random_state=42, scale_pos_weight=0.8)\n",
    "\n",
    "xgb.fit(trainX, trainY)\n",
    "\n",
    "predictXBW = xgb.predict(testX03)\n",
    "predictprobsXBW = xgb.predict_proba(testX03)\n",
    "\n",
    "AUC(testY03, predictprobsXBW[:,1])"
   ]
  },
  {
   "cell_type": "code",
   "execution_count": 32,
   "metadata": {},
   "outputs": [
    {
     "name": "stderr",
     "output_type": "stream",
     "text": [
      "C:\\Users\\Dave\\Anaconda3\\lib\\site-packages\\sklearn\\preprocessing\\label.py:151: DeprecationWarning: The truth value of an empty array is ambiguous. Returning False, but in future this will result in an error. Use `array.size > 0` to check that an array is not empty.\n",
      "  if diff:\n"
     ]
    },
    {
     "data": {
      "text/plain": [
       "0.6769804378992882"
      ]
     },
     "execution_count": 32,
     "metadata": {},
     "output_type": "execute_result"
    }
   ],
   "source": [
    "from xgboost.sklearn import XGBClassifier as xgb\n",
    "\n",
    "xgb = xgb()\n",
    "xgb.set_params(n_estimators=500, min_child_weight=10, max_depth=5, gamma=5, colsample_bytree=0.6, max_delta_step=5,\n",
    "              random_state=42, scale_pos_weight=0.6)\n",
    "\n",
    "xgb.fit(trainX, trainY)\n",
    "\n",
    "predictXBW = xgb.predict(testX03)\n",
    "predictprobsXBW = xgb.predict_proba(testX03)\n",
    "\n",
    "AUC(testY03, predictprobsXBW[:,1])"
   ]
  },
  {
   "cell_type": "code",
   "execution_count": 33,
   "metadata": {},
   "outputs": [
    {
     "name": "stderr",
     "output_type": "stream",
     "text": [
      "C:\\Users\\Dave\\Anaconda3\\lib\\site-packages\\sklearn\\preprocessing\\label.py:151: DeprecationWarning: The truth value of an empty array is ambiguous. Returning False, but in future this will result in an error. Use `array.size > 0` to check that an array is not empty.\n",
      "  if diff:\n"
     ]
    },
    {
     "data": {
      "text/plain": [
       "0.6694922444791359"
      ]
     },
     "execution_count": 33,
     "metadata": {},
     "output_type": "execute_result"
    }
   ],
   "source": [
    "from xgboost.sklearn import XGBClassifier as xgb\n",
    "\n",
    "xgb = xgb()\n",
    "xgb.set_params(n_estimators=500, min_child_weight=10, max_depth=5, gamma=5, colsample_bytree=0.6, max_delta_step=5,\n",
    "              random_state=42, scale_pos_weight=0.4)\n",
    "\n",
    "xgb.fit(trainX, trainY)\n",
    "\n",
    "predictXBW = xgb.predict(testX03)\n",
    "predictprobsXBW = xgb.predict_proba(testX03)\n",
    "\n",
    "AUC(testY03, predictprobsXBW[:,1])"
   ]
  },
  {
   "cell_type": "code",
   "execution_count": 34,
   "metadata": {},
   "outputs": [
    {
     "name": "stderr",
     "output_type": "stream",
     "text": [
      "C:\\Users\\Dave\\Anaconda3\\lib\\site-packages\\sklearn\\preprocessing\\label.py:151: DeprecationWarning: The truth value of an empty array is ambiguous. Returning False, but in future this will result in an error. Use `array.size > 0` to check that an array is not empty.\n",
      "  if diff:\n"
     ]
    },
    {
     "data": {
      "text/plain": [
       "0.65860795237096"
      ]
     },
     "execution_count": 34,
     "metadata": {},
     "output_type": "execute_result"
    }
   ],
   "source": [
    "from xgboost.sklearn import XGBClassifier as xgb\n",
    "\n",
    "xgb = xgb()\n",
    "xgb.set_params(n_estimators=500, min_child_weight=10, max_depth=5, gamma=5, colsample_bytree=0.6, max_delta_step=5,\n",
    "              random_state=42, scale_pos_weight=0.2)\n",
    "\n",
    "xgb.fit(trainX, trainY)\n",
    "\n",
    "predictXBW = xgb.predict(testX03)\n",
    "predictprobsXBW = xgb.predict_proba(testX03)\n",
    "\n",
    "AUC(testY03, predictprobsXBW[:,1])"
   ]
  },
  {
   "cell_type": "code",
   "execution_count": 35,
   "metadata": {},
   "outputs": [
    {
     "name": "stderr",
     "output_type": "stream",
     "text": [
      "C:\\Users\\Dave\\Anaconda3\\lib\\site-packages\\sklearn\\preprocessing\\label.py:151: DeprecationWarning: The truth value of an empty array is ambiguous. Returning False, but in future this will result in an error. Use `array.size > 0` to check that an array is not empty.\n",
      "  if diff:\n"
     ]
    },
    {
     "data": {
      "text/plain": [
       "0.6508026679137567"
      ]
     },
     "execution_count": 35,
     "metadata": {},
     "output_type": "execute_result"
    }
   ],
   "source": [
    "from xgboost.sklearn import XGBClassifier as xgb\n",
    "\n",
    "xgb = xgb()\n",
    "xgb.set_params(n_estimators=500, min_child_weight=10, max_depth=5, gamma=5, colsample_bytree=0.6, max_delta_step=5,\n",
    "              random_state=42, scale_pos_weight=0.1)\n",
    "\n",
    "xgb.fit(trainX, trainY)\n",
    "\n",
    "predictXBW = xgb.predict(testX03)\n",
    "predictprobsXBW = xgb.predict_proba(testX03)\n",
    "\n",
    "AUC(testY03, predictprobsXBW[:,1])"
   ]
  },
  {
   "cell_type": "code",
   "execution_count": 66,
   "metadata": {},
   "outputs": [
    {
     "data": {
      "text/plain": [
       "0.6685348222045004"
      ]
     },
     "execution_count": 66,
     "metadata": {},
     "output_type": "execute_result"
    }
   ],
   "source": [
    "#Try 20/80 weights (best choice for logistic regression):\n",
    "from sklearn.ensemble import RandomForestClassifier as rfc\n",
    "\n",
    "rfc = rfc()\n",
    "rfc.set_params(n_estimators=1000, min_samples_split=5, min_samples_leaf=1, max_features='sqrt', \n",
    "               max_depth=60, random_state=42, class_weight={0:.2, 1:.8})\n",
    "\n",
    "rfc.fit(trainXtemp4, trainY)\n",
    "\n",
    "predictRFW = rfc.predict(testXtemp4)\n",
    "predictprobsRFW5T = rfc.predict_proba(testXtemp4)\n",
    "\n",
    "from sklearn.metrics import roc_auc_score as AUC\n",
    "\n",
    "AUC(testY03, predictprobsRFW5T[:,1])\n",
    "#0.6707. Let's check if 15/85 improves (it may not):\n",
    "#Reduced feature list did not improve the RF model"
   ]
  },
  {
   "cell_type": "code",
   "execution_count": 67,
   "metadata": {},
   "outputs": [
    {
     "name": "stderr",
     "output_type": "stream",
     "text": [
      "C:\\Users\\Dave\\Anaconda3\\lib\\site-packages\\sklearn\\preprocessing\\label.py:151: DeprecationWarning: The truth value of an empty array is ambiguous. Returning False, but in future this will result in an error. Use `array.size > 0` to check that an array is not empty.\n",
      "  if diff:\n"
     ]
    },
    {
     "data": {
      "text/plain": [
       "0.6783329439276378"
      ]
     },
     "execution_count": 67,
     "metadata": {},
     "output_type": "execute_result"
    }
   ],
   "source": [
    "from xgboost.sklearn import XGBClassifier as xgb\n",
    "\n",
    "xgb = xgb()\n",
    "xgb.set_params(n_estimators=500, min_child_weight=10, max_depth=5, gamma=5, colsample_bytree=0.6, max_delta_step=5,\n",
    "              random_state=42, scale_pos_weight=1)\n",
    "\n",
    "xgb.fit(trainXtemp4, trainY)\n",
    "\n",
    "predictXBW = xgb.predict(testXtemp4)\n",
    "predictprobsXBWT = xgb.predict_proba(testXtemp4)\n",
    "\n",
    "AUC(testY03, predictprobsXBWT[:,1])\n",
    "#Reduced feature list did not improve the XGB model"
   ]
  },
  {
   "cell_type": "code",
   "execution_count": 31,
   "metadata": {},
   "outputs": [
    {
     "name": "stdout",
     "output_type": "stream",
     "text": [
      "0.6801164864800598\n",
      "0.6725013797805438\n",
      "0.6706926578913641\n"
     ]
    }
   ],
   "source": [
    "#These are our targets. Let's make sure we have the correct prediction arrays:\n",
    "\n",
    "# AUC of 0.66774 for class-weighted logistic regression\n",
    "# AUC of 0.68011 for parameter-optimized XGBoost\n",
    "# AUC of 0.67069 for class-weighted hyperparameter-optimized random forest\n",
    "\n",
    "#let's make sure we have the correct 3 prediction arrays:\n",
    "print(AUC(testY03, predictprobsXBW[:,1]))\n",
    "print(AUC(testY03, predictprobsvartest[:,1]))\n",
    "print(AUC(testY03, predictprobsRFW5[:,1]))"
   ]
  },
  {
   "cell_type": "code",
   "execution_count": null,
   "metadata": {},
   "outputs": [],
   "source": [
    "#The target AUC is 0.6603, taken from a 5-k fold of the train data. A number of features, when removed, "
   ]
  },
  {
   "cell_type": "code",
   "execution_count": 32,
   "metadata": {},
   "outputs": [],
   "source": [
    "StackDFScores = []\n",
    "RFPercents = []\n",
    "LGPercents = []\n",
    "XGPercents = []\n",
    "\n",
    "AUC(testY03, predictprobsRFW5[:,1])\n",
    "AUC(testY03, predictprobsvartest[:,1])\n",
    "AUC(testY03, predictprobsXBW[:,1])\n",
    "\n",
    "for i in range(101):\n",
    "    for j in range(101):\n",
    "        for k in range(101):\n",
    "            if i + j + k == 100:\n",
    "                StackPredict = AUC(testY03, (k*predictprobsRFW5[:,1] + i*predictprobsvartest[:,1] + \n",
    "                                j*predictprobsXBW[:,1])/100)\n",
    "                StackDFScores.append(StackPredict)\n",
    "                RFPercents.append(k)\n",
    "                LGPercents.append(i)\n",
    "                XGPercents.append(j)\n",
    "\n",
    "StackDF = pd.DataFrame({'Score':pd.Series(StackDFScores), 'LogRegPct':pd.Series(LGPercents),\n",
    "                       'RFPercents':pd.Series(RFPercents), 'XGPercents':pd.Series(XGPercents)})"
   ]
  },
  {
   "cell_type": "code",
   "execution_count": 33,
   "metadata": {
    "scrolled": true
   },
   "outputs": [
    {
     "data": {
      "text/html": [
       "<div>\n",
       "<style scoped>\n",
       "    .dataframe tbody tr th:only-of-type {\n",
       "        vertical-align: middle;\n",
       "    }\n",
       "\n",
       "    .dataframe tbody tr th {\n",
       "        vertical-align: top;\n",
       "    }\n",
       "\n",
       "    .dataframe thead th {\n",
       "        text-align: right;\n",
       "    }\n",
       "</style>\n",
       "<table border=\"1\" class=\"dataframe\">\n",
       "  <thead>\n",
       "    <tr style=\"text-align: right;\">\n",
       "      <th></th>\n",
       "      <th>Score</th>\n",
       "      <th>LogRegPct</th>\n",
       "      <th>RFPercents</th>\n",
       "      <th>XGPercents</th>\n",
       "    </tr>\n",
       "  </thead>\n",
       "  <tbody>\n",
       "    <tr>\n",
       "      <th>1967</th>\n",
       "      <td>0.684145</td>\n",
       "      <td>21</td>\n",
       "      <td>23</td>\n",
       "      <td>56</td>\n",
       "    </tr>\n",
       "    <tr>\n",
       "      <th>1887</th>\n",
       "      <td>0.684141</td>\n",
       "      <td>20</td>\n",
       "      <td>23</td>\n",
       "      <td>57</td>\n",
       "    </tr>\n",
       "    <tr>\n",
       "      <th>1966</th>\n",
       "      <td>0.684141</td>\n",
       "      <td>21</td>\n",
       "      <td>24</td>\n",
       "      <td>55</td>\n",
       "    </tr>\n",
       "    <tr>\n",
       "      <th>1885</th>\n",
       "      <td>0.684140</td>\n",
       "      <td>20</td>\n",
       "      <td>25</td>\n",
       "      <td>55</td>\n",
       "    </tr>\n",
       "    <tr>\n",
       "      <th>1886</th>\n",
       "      <td>0.684138</td>\n",
       "      <td>20</td>\n",
       "      <td>24</td>\n",
       "      <td>56</td>\n",
       "    </tr>\n",
       "    <tr>\n",
       "      <th>1806</th>\n",
       "      <td>0.684137</td>\n",
       "      <td>19</td>\n",
       "      <td>23</td>\n",
       "      <td>58</td>\n",
       "    </tr>\n",
       "    <tr>\n",
       "      <th>1965</th>\n",
       "      <td>0.684136</td>\n",
       "      <td>21</td>\n",
       "      <td>25</td>\n",
       "      <td>54</td>\n",
       "    </tr>\n",
       "    <tr>\n",
       "      <th>2046</th>\n",
       "      <td>0.684135</td>\n",
       "      <td>22</td>\n",
       "      <td>23</td>\n",
       "      <td>55</td>\n",
       "    </tr>\n",
       "    <tr>\n",
       "      <th>1805</th>\n",
       "      <td>0.684135</td>\n",
       "      <td>19</td>\n",
       "      <td>24</td>\n",
       "      <td>57</td>\n",
       "    </tr>\n",
       "    <tr>\n",
       "      <th>2045</th>\n",
       "      <td>0.684135</td>\n",
       "      <td>22</td>\n",
       "      <td>24</td>\n",
       "      <td>54</td>\n",
       "    </tr>\n",
       "    <tr>\n",
       "      <th>2044</th>\n",
       "      <td>0.684133</td>\n",
       "      <td>22</td>\n",
       "      <td>25</td>\n",
       "      <td>53</td>\n",
       "    </tr>\n",
       "    <tr>\n",
       "      <th>1968</th>\n",
       "      <td>0.684133</td>\n",
       "      <td>21</td>\n",
       "      <td>22</td>\n",
       "      <td>57</td>\n",
       "    </tr>\n",
       "    <tr>\n",
       "      <th>1888</th>\n",
       "      <td>0.684131</td>\n",
       "      <td>20</td>\n",
       "      <td>22</td>\n",
       "      <td>58</td>\n",
       "    </tr>\n",
       "    <tr>\n",
       "      <th>1804</th>\n",
       "      <td>0.684130</td>\n",
       "      <td>19</td>\n",
       "      <td>25</td>\n",
       "      <td>56</td>\n",
       "    </tr>\n",
       "    <tr>\n",
       "      <th>1884</th>\n",
       "      <td>0.684127</td>\n",
       "      <td>20</td>\n",
       "      <td>26</td>\n",
       "      <td>54</td>\n",
       "    </tr>\n",
       "    <tr>\n",
       "      <th>1964</th>\n",
       "      <td>0.684126</td>\n",
       "      <td>21</td>\n",
       "      <td>26</td>\n",
       "      <td>53</td>\n",
       "    </tr>\n",
       "    <tr>\n",
       "      <th>1807</th>\n",
       "      <td>0.684124</td>\n",
       "      <td>19</td>\n",
       "      <td>22</td>\n",
       "      <td>59</td>\n",
       "    </tr>\n",
       "    <tr>\n",
       "      <th>1969</th>\n",
       "      <td>0.684121</td>\n",
       "      <td>21</td>\n",
       "      <td>21</td>\n",
       "      <td>58</td>\n",
       "    </tr>\n",
       "    <tr>\n",
       "      <th>1724</th>\n",
       "      <td>0.684120</td>\n",
       "      <td>18</td>\n",
       "      <td>23</td>\n",
       "      <td>59</td>\n",
       "    </tr>\n",
       "    <tr>\n",
       "      <th>2047</th>\n",
       "      <td>0.684119</td>\n",
       "      <td>22</td>\n",
       "      <td>22</td>\n",
       "      <td>56</td>\n",
       "    </tr>\n",
       "    <tr>\n",
       "      <th>2123</th>\n",
       "      <td>0.684118</td>\n",
       "      <td>23</td>\n",
       "      <td>24</td>\n",
       "      <td>53</td>\n",
       "    </tr>\n",
       "    <tr>\n",
       "      <th>1723</th>\n",
       "      <td>0.684118</td>\n",
       "      <td>18</td>\n",
       "      <td>24</td>\n",
       "      <td>58</td>\n",
       "    </tr>\n",
       "    <tr>\n",
       "      <th>1889</th>\n",
       "      <td>0.684117</td>\n",
       "      <td>20</td>\n",
       "      <td>21</td>\n",
       "      <td>59</td>\n",
       "    </tr>\n",
       "    <tr>\n",
       "      <th>1808</th>\n",
       "      <td>0.684115</td>\n",
       "      <td>19</td>\n",
       "      <td>21</td>\n",
       "      <td>60</td>\n",
       "    </tr>\n",
       "    <tr>\n",
       "      <th>2124</th>\n",
       "      <td>0.684115</td>\n",
       "      <td>23</td>\n",
       "      <td>23</td>\n",
       "      <td>54</td>\n",
       "    </tr>\n",
       "    <tr>\n",
       "      <th>1803</th>\n",
       "      <td>0.684113</td>\n",
       "      <td>19</td>\n",
       "      <td>26</td>\n",
       "      <td>55</td>\n",
       "    </tr>\n",
       "    <tr>\n",
       "      <th>2043</th>\n",
       "      <td>0.684113</td>\n",
       "      <td>22</td>\n",
       "      <td>26</td>\n",
       "      <td>52</td>\n",
       "    </tr>\n",
       "    <tr>\n",
       "      <th>1963</th>\n",
       "      <td>0.684112</td>\n",
       "      <td>21</td>\n",
       "      <td>27</td>\n",
       "      <td>52</td>\n",
       "    </tr>\n",
       "    <tr>\n",
       "      <th>2125</th>\n",
       "      <td>0.684111</td>\n",
       "      <td>23</td>\n",
       "      <td>22</td>\n",
       "      <td>55</td>\n",
       "    </tr>\n",
       "    <tr>\n",
       "      <th>2122</th>\n",
       "      <td>0.684111</td>\n",
       "      <td>23</td>\n",
       "      <td>25</td>\n",
       "      <td>52</td>\n",
       "    </tr>\n",
       "    <tr>\n",
       "      <th>...</th>\n",
       "      <td>...</td>\n",
       "      <td>...</td>\n",
       "      <td>...</td>\n",
       "      <td>...</td>\n",
       "    </tr>\n",
       "    <tr>\n",
       "      <th>399</th>\n",
       "      <td>0.672816</td>\n",
       "      <td>4</td>\n",
       "      <td>95</td>\n",
       "      <td>1</td>\n",
       "    </tr>\n",
       "    <tr>\n",
       "      <th>9</th>\n",
       "      <td>0.672809</td>\n",
       "      <td>0</td>\n",
       "      <td>91</td>\n",
       "      <td>9</td>\n",
       "    </tr>\n",
       "    <tr>\n",
       "      <th>5148</th>\n",
       "      <td>0.672783</td>\n",
       "      <td>99</td>\n",
       "      <td>1</td>\n",
       "      <td>0</td>\n",
       "    </tr>\n",
       "    <tr>\n",
       "      <th>5149</th>\n",
       "      <td>0.672690</td>\n",
       "      <td>99</td>\n",
       "      <td>0</td>\n",
       "      <td>1</td>\n",
       "    </tr>\n",
       "    <tr>\n",
       "      <th>302</th>\n",
       "      <td>0.672603</td>\n",
       "      <td>3</td>\n",
       "      <td>95</td>\n",
       "      <td>2</td>\n",
       "    </tr>\n",
       "    <tr>\n",
       "      <th>205</th>\n",
       "      <td>0.672597</td>\n",
       "      <td>2</td>\n",
       "      <td>94</td>\n",
       "      <td>4</td>\n",
       "    </tr>\n",
       "    <tr>\n",
       "      <th>107</th>\n",
       "      <td>0.672593</td>\n",
       "      <td>1</td>\n",
       "      <td>93</td>\n",
       "      <td>6</td>\n",
       "    </tr>\n",
       "    <tr>\n",
       "      <th>398</th>\n",
       "      <td>0.672584</td>\n",
       "      <td>4</td>\n",
       "      <td>96</td>\n",
       "      <td>0</td>\n",
       "    </tr>\n",
       "    <tr>\n",
       "      <th>8</th>\n",
       "      <td>0.672580</td>\n",
       "      <td>0</td>\n",
       "      <td>92</td>\n",
       "      <td>8</td>\n",
       "    </tr>\n",
       "    <tr>\n",
       "      <th>5150</th>\n",
       "      <td>0.672501</td>\n",
       "      <td>100</td>\n",
       "      <td>0</td>\n",
       "      <td>0</td>\n",
       "    </tr>\n",
       "    <tr>\n",
       "      <th>204</th>\n",
       "      <td>0.672372</td>\n",
       "      <td>2</td>\n",
       "      <td>95</td>\n",
       "      <td>3</td>\n",
       "    </tr>\n",
       "    <tr>\n",
       "      <th>106</th>\n",
       "      <td>0.672367</td>\n",
       "      <td>1</td>\n",
       "      <td>94</td>\n",
       "      <td>5</td>\n",
       "    </tr>\n",
       "    <tr>\n",
       "      <th>301</th>\n",
       "      <td>0.672365</td>\n",
       "      <td>3</td>\n",
       "      <td>96</td>\n",
       "      <td>1</td>\n",
       "    </tr>\n",
       "    <tr>\n",
       "      <th>7</th>\n",
       "      <td>0.672351</td>\n",
       "      <td>0</td>\n",
       "      <td>93</td>\n",
       "      <td>7</td>\n",
       "    </tr>\n",
       "    <tr>\n",
       "      <th>105</th>\n",
       "      <td>0.672142</td>\n",
       "      <td>1</td>\n",
       "      <td>95</td>\n",
       "      <td>4</td>\n",
       "    </tr>\n",
       "    <tr>\n",
       "      <th>203</th>\n",
       "      <td>0.672129</td>\n",
       "      <td>2</td>\n",
       "      <td>96</td>\n",
       "      <td>2</td>\n",
       "    </tr>\n",
       "    <tr>\n",
       "      <th>300</th>\n",
       "      <td>0.672129</td>\n",
       "      <td>3</td>\n",
       "      <td>97</td>\n",
       "      <td>0</td>\n",
       "    </tr>\n",
       "    <tr>\n",
       "      <th>6</th>\n",
       "      <td>0.672120</td>\n",
       "      <td>0</td>\n",
       "      <td>94</td>\n",
       "      <td>6</td>\n",
       "    </tr>\n",
       "    <tr>\n",
       "      <th>104</th>\n",
       "      <td>0.671905</td>\n",
       "      <td>1</td>\n",
       "      <td>96</td>\n",
       "      <td>3</td>\n",
       "    </tr>\n",
       "    <tr>\n",
       "      <th>202</th>\n",
       "      <td>0.671905</td>\n",
       "      <td>2</td>\n",
       "      <td>97</td>\n",
       "      <td>1</td>\n",
       "    </tr>\n",
       "    <tr>\n",
       "      <th>5</th>\n",
       "      <td>0.671890</td>\n",
       "      <td>0</td>\n",
       "      <td>95</td>\n",
       "      <td>5</td>\n",
       "    </tr>\n",
       "    <tr>\n",
       "      <th>103</th>\n",
       "      <td>0.671674</td>\n",
       "      <td>1</td>\n",
       "      <td>97</td>\n",
       "      <td>2</td>\n",
       "    </tr>\n",
       "    <tr>\n",
       "      <th>201</th>\n",
       "      <td>0.671668</td>\n",
       "      <td>2</td>\n",
       "      <td>98</td>\n",
       "      <td>0</td>\n",
       "    </tr>\n",
       "    <tr>\n",
       "      <th>4</th>\n",
       "      <td>0.671654</td>\n",
       "      <td>0</td>\n",
       "      <td>96</td>\n",
       "      <td>4</td>\n",
       "    </tr>\n",
       "    <tr>\n",
       "      <th>102</th>\n",
       "      <td>0.671427</td>\n",
       "      <td>1</td>\n",
       "      <td>98</td>\n",
       "      <td>1</td>\n",
       "    </tr>\n",
       "    <tr>\n",
       "      <th>3</th>\n",
       "      <td>0.671415</td>\n",
       "      <td>0</td>\n",
       "      <td>97</td>\n",
       "      <td>3</td>\n",
       "    </tr>\n",
       "    <tr>\n",
       "      <th>101</th>\n",
       "      <td>0.671187</td>\n",
       "      <td>1</td>\n",
       "      <td>99</td>\n",
       "      <td>0</td>\n",
       "    </tr>\n",
       "    <tr>\n",
       "      <th>2</th>\n",
       "      <td>0.671178</td>\n",
       "      <td>0</td>\n",
       "      <td>98</td>\n",
       "      <td>2</td>\n",
       "    </tr>\n",
       "    <tr>\n",
       "      <th>1</th>\n",
       "      <td>0.670938</td>\n",
       "      <td>0</td>\n",
       "      <td>99</td>\n",
       "      <td>1</td>\n",
       "    </tr>\n",
       "    <tr>\n",
       "      <th>0</th>\n",
       "      <td>0.670693</td>\n",
       "      <td>0</td>\n",
       "      <td>100</td>\n",
       "      <td>0</td>\n",
       "    </tr>\n",
       "  </tbody>\n",
       "</table>\n",
       "<p>5151 rows × 4 columns</p>\n",
       "</div>"
      ],
      "text/plain": [
       "         Score  LogRegPct  RFPercents  XGPercents\n",
       "1967  0.684145         21          23          56\n",
       "1887  0.684141         20          23          57\n",
       "1966  0.684141         21          24          55\n",
       "1885  0.684140         20          25          55\n",
       "1886  0.684138         20          24          56\n",
       "1806  0.684137         19          23          58\n",
       "1965  0.684136         21          25          54\n",
       "2046  0.684135         22          23          55\n",
       "1805  0.684135         19          24          57\n",
       "2045  0.684135         22          24          54\n",
       "2044  0.684133         22          25          53\n",
       "1968  0.684133         21          22          57\n",
       "1888  0.684131         20          22          58\n",
       "1804  0.684130         19          25          56\n",
       "1884  0.684127         20          26          54\n",
       "1964  0.684126         21          26          53\n",
       "1807  0.684124         19          22          59\n",
       "1969  0.684121         21          21          58\n",
       "1724  0.684120         18          23          59\n",
       "2047  0.684119         22          22          56\n",
       "2123  0.684118         23          24          53\n",
       "1723  0.684118         18          24          58\n",
       "1889  0.684117         20          21          59\n",
       "1808  0.684115         19          21          60\n",
       "2124  0.684115         23          23          54\n",
       "1803  0.684113         19          26          55\n",
       "2043  0.684113         22          26          52\n",
       "1963  0.684112         21          27          52\n",
       "2125  0.684111         23          22          55\n",
       "2122  0.684111         23          25          52\n",
       "...        ...        ...         ...         ...\n",
       "399   0.672816          4          95           1\n",
       "9     0.672809          0          91           9\n",
       "5148  0.672783         99           1           0\n",
       "5149  0.672690         99           0           1\n",
       "302   0.672603          3          95           2\n",
       "205   0.672597          2          94           4\n",
       "107   0.672593          1          93           6\n",
       "398   0.672584          4          96           0\n",
       "8     0.672580          0          92           8\n",
       "5150  0.672501        100           0           0\n",
       "204   0.672372          2          95           3\n",
       "106   0.672367          1          94           5\n",
       "301   0.672365          3          96           1\n",
       "7     0.672351          0          93           7\n",
       "105   0.672142          1          95           4\n",
       "203   0.672129          2          96           2\n",
       "300   0.672129          3          97           0\n",
       "6     0.672120          0          94           6\n",
       "104   0.671905          1          96           3\n",
       "202   0.671905          2          97           1\n",
       "5     0.671890          0          95           5\n",
       "103   0.671674          1          97           2\n",
       "201   0.671668          2          98           0\n",
       "4     0.671654          0          96           4\n",
       "102   0.671427          1          98           1\n",
       "3     0.671415          0          97           3\n",
       "101   0.671187          1          99           0\n",
       "2     0.671178          0          98           2\n",
       "1     0.670938          0          99           1\n",
       "0     0.670693          0         100           0\n",
       "\n",
       "[5151 rows x 4 columns]"
      ]
     },
     "execution_count": 33,
     "metadata": {},
     "output_type": "execute_result"
    }
   ],
   "source": [
    "StackDF.sort_values('Score', ascending=False)"
   ]
  },
  {
   "cell_type": "code",
   "execution_count": 35,
   "metadata": {},
   "outputs": [],
   "source": [
    "predictprob = (56*predictprobsXBW[:,1] + 23*predictprobsRFW5[:,1] + 21*predictprobsvartest[:,1])/100\n",
    "\n",
    "\n",
    "TestValues = pd.DataFrame({'num_lab_procedures':testX03['num_lab_procedures'], 'predict_prob':pd.Series(predictprob)})"
   ]
  },
  {
   "cell_type": "code",
   "execution_count": 36,
   "metadata": {},
   "outputs": [
    {
     "name": "stderr",
     "output_type": "stream",
     "text": [
      "C:\\Users\\Dave\\Anaconda3\\lib\\site-packages\\ipykernel_launcher.py:2: SettingWithCopyWarning: \n",
      "A value is trying to be set on a copy of a slice from a DataFrame\n",
      "\n",
      "See the caveats in the documentation: http://pandas.pydata.org/pandas-docs/stable/indexing.html#indexing-view-versus-copy\n",
      "  \n"
     ]
    }
   ],
   "source": [
    "TestValues['predict_actual'] = 0\n",
    "TestValues['predict_actual'][TestValues['predict_prob']>0.5]=1"
   ]
  },
  {
   "cell_type": "code",
   "execution_count": 39,
   "metadata": {},
   "outputs": [
    {
     "data": {
      "text/plain": [
       "0.6841445976784577"
      ]
     },
     "execution_count": 39,
     "metadata": {},
     "output_type": "execute_result"
    }
   ],
   "source": [
    "AUC(testY03, TestValues['predict_prob'])"
   ]
  },
  {
   "cell_type": "code",
   "execution_count": 40,
   "metadata": {},
   "outputs": [],
   "source": [
    "TestValues.to_csv('TestPredictions.csv')"
   ]
  },
  {
   "cell_type": "code",
   "execution_count": 68,
   "metadata": {},
   "outputs": [
    {
     "data": {
      "text/html": [
       "<div>\n",
       "<style scoped>\n",
       "    .dataframe tbody tr th:only-of-type {\n",
       "        vertical-align: middle;\n",
       "    }\n",
       "\n",
       "    .dataframe tbody tr th {\n",
       "        vertical-align: top;\n",
       "    }\n",
       "\n",
       "    .dataframe thead th {\n",
       "        text-align: right;\n",
       "    }\n",
       "</style>\n",
       "<table border=\"1\" class=\"dataframe\">\n",
       "  <thead>\n",
       "    <tr style=\"text-align: right;\">\n",
       "      <th></th>\n",
       "      <th>age</th>\n",
       "      <th>time_in_hospital</th>\n",
       "      <th>num_lab_procedures</th>\n",
       "      <th>num_procedures</th>\n",
       "      <th>num_medications</th>\n",
       "      <th>number_outpatient</th>\n",
       "      <th>number_emergency</th>\n",
       "      <th>number_inpatient</th>\n",
       "      <th>number_diagnoses</th>\n",
       "      <th>med_metformin</th>\n",
       "      <th>...</th>\n",
       "      <th>primarydiag_metabolic</th>\n",
       "      <th>primarydiag_musculoskeletal</th>\n",
       "      <th>primarydiag_neoplasm</th>\n",
       "      <th>primarydiag_nervous</th>\n",
       "      <th>primarydiag_other</th>\n",
       "      <th>primarydiag_pregnancy</th>\n",
       "      <th>primarydiag_respiratory</th>\n",
       "      <th>primarydiag_skin</th>\n",
       "      <th>primarydiag_urogenital</th>\n",
       "      <th>diabchange</th>\n",
       "    </tr>\n",
       "  </thead>\n",
       "  <tbody>\n",
       "    <tr>\n",
       "      <th>0</th>\n",
       "      <td>1</td>\n",
       "      <td>1</td>\n",
       "      <td>41</td>\n",
       "      <td>0</td>\n",
       "      <td>1</td>\n",
       "      <td>0</td>\n",
       "      <td>0</td>\n",
       "      <td>0</td>\n",
       "      <td>1</td>\n",
       "      <td>0</td>\n",
       "      <td>...</td>\n",
       "      <td>0</td>\n",
       "      <td>0</td>\n",
       "      <td>0</td>\n",
       "      <td>0</td>\n",
       "      <td>0</td>\n",
       "      <td>0</td>\n",
       "      <td>0</td>\n",
       "      <td>0</td>\n",
       "      <td>0</td>\n",
       "      <td>0</td>\n",
       "    </tr>\n",
       "    <tr>\n",
       "      <th>1</th>\n",
       "      <td>4</td>\n",
       "      <td>2</td>\n",
       "      <td>44</td>\n",
       "      <td>1</td>\n",
       "      <td>16</td>\n",
       "      <td>0</td>\n",
       "      <td>0</td>\n",
       "      <td>0</td>\n",
       "      <td>7</td>\n",
       "      <td>0</td>\n",
       "      <td>...</td>\n",
       "      <td>0</td>\n",
       "      <td>0</td>\n",
       "      <td>0</td>\n",
       "      <td>0</td>\n",
       "      <td>0</td>\n",
       "      <td>0</td>\n",
       "      <td>0</td>\n",
       "      <td>0</td>\n",
       "      <td>0</td>\n",
       "      <td>1</td>\n",
       "    </tr>\n",
       "    <tr>\n",
       "      <th>2</th>\n",
       "      <td>5</td>\n",
       "      <td>1</td>\n",
       "      <td>51</td>\n",
       "      <td>0</td>\n",
       "      <td>8</td>\n",
       "      <td>0</td>\n",
       "      <td>0</td>\n",
       "      <td>0</td>\n",
       "      <td>5</td>\n",
       "      <td>0</td>\n",
       "      <td>...</td>\n",
       "      <td>0</td>\n",
       "      <td>0</td>\n",
       "      <td>1</td>\n",
       "      <td>0</td>\n",
       "      <td>0</td>\n",
       "      <td>0</td>\n",
       "      <td>0</td>\n",
       "      <td>0</td>\n",
       "      <td>0</td>\n",
       "      <td>0</td>\n",
       "    </tr>\n",
       "    <tr>\n",
       "      <th>3</th>\n",
       "      <td>7</td>\n",
       "      <td>4</td>\n",
       "      <td>70</td>\n",
       "      <td>1</td>\n",
       "      <td>21</td>\n",
       "      <td>0</td>\n",
       "      <td>0</td>\n",
       "      <td>0</td>\n",
       "      <td>7</td>\n",
       "      <td>1</td>\n",
       "      <td>...</td>\n",
       "      <td>0</td>\n",
       "      <td>0</td>\n",
       "      <td>0</td>\n",
       "      <td>0</td>\n",
       "      <td>0</td>\n",
       "      <td>0</td>\n",
       "      <td>0</td>\n",
       "      <td>0</td>\n",
       "      <td>0</td>\n",
       "      <td>0</td>\n",
       "    </tr>\n",
       "    <tr>\n",
       "      <th>4</th>\n",
       "      <td>10</td>\n",
       "      <td>12</td>\n",
       "      <td>33</td>\n",
       "      <td>3</td>\n",
       "      <td>18</td>\n",
       "      <td>0</td>\n",
       "      <td>0</td>\n",
       "      <td>0</td>\n",
       "      <td>8</td>\n",
       "      <td>0</td>\n",
       "      <td>...</td>\n",
       "      <td>0</td>\n",
       "      <td>0</td>\n",
       "      <td>0</td>\n",
       "      <td>0</td>\n",
       "      <td>0</td>\n",
       "      <td>0</td>\n",
       "      <td>0</td>\n",
       "      <td>0</td>\n",
       "      <td>0</td>\n",
       "      <td>0</td>\n",
       "    </tr>\n",
       "  </tbody>\n",
       "</table>\n",
       "<p>5 rows × 112 columns</p>\n",
       "</div>"
      ],
      "text/plain": [
       "   age  time_in_hospital  num_lab_procedures  num_procedures  num_medications  \\\n",
       "0    1                 1                  41               0                1   \n",
       "1    4                 2                  44               1               16   \n",
       "2    5                 1                  51               0                8   \n",
       "3    7                 4                  70               1               21   \n",
       "4   10                12                  33               3               18   \n",
       "\n",
       "   number_outpatient  number_emergency  number_inpatient  number_diagnoses  \\\n",
       "0                  0                 0                 0                 1   \n",
       "1                  0                 0                 0                 7   \n",
       "2                  0                 0                 0                 5   \n",
       "3                  0                 0                 0                 7   \n",
       "4                  0                 0                 0                 8   \n",
       "\n",
       "   med_metformin     ...      primarydiag_metabolic  \\\n",
       "0              0     ...                          0   \n",
       "1              0     ...                          0   \n",
       "2              0     ...                          0   \n",
       "3              1     ...                          0   \n",
       "4              0     ...                          0   \n",
       "\n",
       "   primarydiag_musculoskeletal  primarydiag_neoplasm  primarydiag_nervous  \\\n",
       "0                            0                     0                    0   \n",
       "1                            0                     0                    0   \n",
       "2                            0                     1                    0   \n",
       "3                            0                     0                    0   \n",
       "4                            0                     0                    0   \n",
       "\n",
       "   primarydiag_other  primarydiag_pregnancy  primarydiag_respiratory  \\\n",
       "0                  0                      0                        0   \n",
       "1                  0                      0                        0   \n",
       "2                  0                      0                        0   \n",
       "3                  0                      0                        0   \n",
       "4                  0                      0                        0   \n",
       "\n",
       "   primarydiag_skin  primarydiag_urogenital  diabchange  \n",
       "0                 0                       0           0  \n",
       "1                 0                       0           1  \n",
       "2                 0                       0           0  \n",
       "3                 0                       0           0  \n",
       "4                 0                       0           0  \n",
       "\n",
       "[5 rows x 112 columns]"
      ]
     },
     "execution_count": 68,
     "metadata": {},
     "output_type": "execute_result"
    }
   ],
   "source": [
    "trainX.head()"
   ]
  },
  {
   "cell_type": "code",
   "execution_count": 70,
   "metadata": {},
   "outputs": [
    {
     "data": {
      "text/plain": [
       "(20030, 112)"
      ]
     },
     "execution_count": 70,
     "metadata": {},
     "output_type": "execute_result"
    }
   ],
   "source": [
    "testX03.shape"
   ]
  },
  {
   "cell_type": "code",
   "execution_count": null,
   "metadata": {},
   "outputs": [],
   "source": []
  },
  {
   "cell_type": "code",
   "execution_count": null,
   "metadata": {},
   "outputs": [],
   "source": []
  },
  {
   "cell_type": "code",
   "execution_count": null,
   "metadata": {},
   "outputs": [],
   "source": []
  },
  {
   "cell_type": "code",
   "execution_count": 44,
   "metadata": {},
   "outputs": [
    {
     "data": {
      "text/plain": [
       "60"
      ]
     },
     "execution_count": 44,
     "metadata": {},
     "output_type": "execute_result"
    }
   ],
   "source": [
    "len(predictarray[predictarray>1])"
   ]
  },
  {
   "cell_type": "code",
   "execution_count": 45,
   "metadata": {},
   "outputs": [
    {
     "data": {
      "text/plain": [
       "8"
      ]
     },
     "execution_count": 45,
     "metadata": {},
     "output_type": "execute_result"
    }
   ],
   "source": [
    "len(predictarray[predictarray<0])"
   ]
  },
  {
   "cell_type": "code",
   "execution_count": 46,
   "metadata": {},
   "outputs": [],
   "source": [
    "#We have a predictarray essentially bounded by 0 and 1, with very few exceptions"
   ]
  },
  {
   "cell_type": "code",
   "execution_count": 47,
   "metadata": {},
   "outputs": [
    {
     "data": {
      "text/plain": [
       "0.21584492882744952"
      ]
     },
     "execution_count": 47,
     "metadata": {},
     "output_type": "execute_result"
    }
   ],
   "source": [
    "#We also have an average of approximately 20%\n",
    "np.mean(predictarray)"
   ]
  },
  {
   "cell_type": "code",
   "execution_count": 48,
   "metadata": {},
   "outputs": [],
   "source": [
    "predictarrayF = predictarray.copy()\n",
    "\n",
    "predictarrayF[predictarrayF<0] = 0\n",
    "predictarrayF[predictarrayF>1] = 1"
   ]
  },
  {
   "cell_type": "code",
   "execution_count": 54,
   "metadata": {},
   "outputs": [],
   "source": [
    "#What if we shuffled our data to reflect differences in probability of these events occurring?\n",
    "\n",
    "DiabetesAltered = pd.read_csv('DiabetesTakingMed.csv', index_col=0)\n",
    "DiabetesAlteredTrain = DiabetesAltered[DiabetesAltered['IsTrain']==1]"
   ]
  },
  {
   "cell_type": "code",
   "execution_count": 58,
   "metadata": {},
   "outputs": [
    {
     "name": "stderr",
     "output_type": "stream",
     "text": [
      "C:\\Users\\Dave\\Anaconda3\\lib\\site-packages\\ipykernel_launcher.py:1: SettingWithCopyWarning: \n",
      "A value is trying to be set on a copy of a slice from a DataFrame.\n",
      "Try using .loc[row_indexer,col_indexer] = value instead\n",
      "\n",
      "See the caveats in the documentation: http://pandas.pydata.org/pandas-docs/stable/indexing.html#indexing-view-versus-copy\n",
      "  \"\"\"Entry point for launching an IPython kernel.\n",
      "C:\\Users\\Dave\\Anaconda3\\lib\\site-packages\\pandas\\core\\indexing.py:543: SettingWithCopyWarning: \n",
      "A value is trying to be set on a copy of a slice from a DataFrame.\n",
      "Try using .loc[row_indexer,col_indexer] = value instead\n",
      "\n",
      "See the caveats in the documentation: http://pandas.pydata.org/pandas-docs/stable/indexing.html#indexing-view-versus-copy\n",
      "  self.obj[item] = s\n"
     ]
    }
   ],
   "source": [
    "DiabetesAlteredTrain['readmittedprob'] = DiabetesAlteredTrain['readmitted'].copy()\n",
    "DiabetesAlteredTrain.loc[DiabetesAlteredTrain['readmittedprob']==1,'readmittedprob'] = predictarrayF"
   ]
  },
  {
   "cell_type": "code",
   "execution_count": 66,
   "metadata": {},
   "outputs": [
    {
     "name": "stderr",
     "output_type": "stream",
     "text": [
      "C:\\Users\\Dave\\Anaconda3\\lib\\site-packages\\ipykernel_launcher.py:2: SettingWithCopyWarning: \n",
      "A value is trying to be set on a copy of a slice from a DataFrame.\n",
      "Try using .loc[row_indexer,col_indexer] = value instead\n",
      "\n",
      "See the caveats in the documentation: http://pandas.pydata.org/pandas-docs/stable/indexing.html#indexing-view-versus-copy\n",
      "  \n"
     ]
    }
   ],
   "source": [
    "#Set 'readmitted' column to the correct values (2 to 1, 1 to 0):\n",
    "DiabetesAlteredTrain['readmitted'] = DiabetesAlteredTrain['readmitted'].replace([2, 1], [1, 0])"
   ]
  },
  {
   "cell_type": "code",
   "execution_count": 61,
   "metadata": {},
   "outputs": [
    {
     "data": {
      "text/plain": [
       "'Right now, we have all returns <30 days coded as 2; all returns >30 days coded between 0 and 1 based on probability taken\\nfrom a linear regression trained on only the never-returning group and the <30 returning group.  We need to save a copy of\\nthis DF because we will adjust the numbers based on how we want to tune them.'"
      ]
     },
     "execution_count": 61,
     "metadata": {},
     "output_type": "execute_result"
    }
   ],
   "source": [
    "'''Right now, we have all returns <30 days coded as 2; all returns >30 days coded between 0 and 1 based on probability taken\n",
    "from a linear regression trained on only the never-returning group and the <30 returning group.  We need to save a copy of\n",
    "this DF because we will adjust the numbers based on how we want to tune them.'''"
   ]
  },
  {
   "cell_type": "code",
   "execution_count": 76,
   "metadata": {},
   "outputs": [],
   "source": [
    "#First, make a dataset where 1.0 values from the >30 group get equal weight to the <30 returning group:\n",
    "DiabetesAlteredTrain100 = DiabetesAlteredTrain.copy()\n",
    "DiabetesAlteredTrain100['readmittedprob'] = DiabetesAlteredTrain100['readmittedprob'].replace([2], [1])"
   ]
  },
  {
   "cell_type": "code",
   "execution_count": null,
   "metadata": {},
   "outputs": [],
   "source": []
  },
  {
   "cell_type": "code",
   "execution_count": 77,
   "metadata": {},
   "outputs": [],
   "source": [
    "#Make readmittedprob adjust to the total size of readmitted:\n",
    "DiabetesAlteredTrain100['readmittedprob'] = (DiabetesAlteredTrain100['readmittedprob'] * \n",
    "                                             np.sum(DiabetesAlteredTrain100['readmitted'])/np.sum(DiabetesAlteredTrain100['readmittedprob']))"
   ]
  },
  {
   "cell_type": "code",
   "execution_count": 78,
   "metadata": {},
   "outputs": [
    {
     "data": {
      "text/plain": [
       "count    80084.000000\n",
       "mean         0.113456\n",
       "std          0.189136\n",
       "min          0.000000\n",
       "25%          0.000000\n",
       "50%          0.000000\n",
       "75%          0.127133\n",
       "max          0.597408\n",
       "Name: readmittedprob, dtype: float64"
      ]
     },
     "execution_count": 78,
     "metadata": {},
     "output_type": "execute_result"
    }
   ],
   "source": [
    "#This process has forced all positive values to shrink to ~60% probability, which may not be ideal. Let's find out:\n",
    "DiabetesAlteredTrain100['readmittedprob'].describe()"
   ]
  },
  {
   "cell_type": "code",
   "execution_count": 82,
   "metadata": {},
   "outputs": [],
   "source": [
    "problist = DiabetesAlteredTrain100['readmittedprob'].copy()\n",
    "\n",
    "Diabetes100SetOf20 = DiabetesAlteredTrain100.copy()\n",
    "Diabetes100SetOf20 = Diabetes100SetOf20.drop(['readmittedprob', 'IsTrain'], axis=1)\n",
    "PredictedYesProbs = np.zeros(20030)\n",
    "\n",
    "for i in range(20):\n",
    "    newreadmitted = np.zeros(80084)\n",
    "    for j in range(80084):\n",
    "        newreadmitted[j] = np.random.choice([0,1], size=1, p=[1-problist[j], problist[j]])\n",
    "    Diabetes100SetOf20['readmitted'] = pd.Series(newreadmitted)\n",
    "    \n",
    "    temptrainX = Diabetes100SetOf20.drop('readmitted', axis=1)\n",
    "    temptrainY = Diabetes100SetOf20['readmitted']\n",
    "    \n",
    "    from sklearn.linear_model import LogisticRegression as lgr\n",
    "\n",
    "    lgr = lgr()\n",
    "    lgr.set_params(C=0.1)\n",
    "\n",
    "    lgr.fit(temptrainX, temptrainY)\n",
    "\n",
    "    PredictedYesProbs += lgr.predict_proba(testX03)[:,1]/20"
   ]
  },
  {
   "cell_type": "code",
   "execution_count": 83,
   "metadata": {},
   "outputs": [
    {
     "data": {
      "text/plain": [
       "0.6555740964405543"
      ]
     },
     "execution_count": 83,
     "metadata": {},
     "output_type": "execute_result"
    }
   ],
   "source": [
    "#This is interesting. It worked, in the sense that we got an AUC, and it was only slightly lower than our normal LR AUC (0.66)\n",
    "#Would toning it down give us a better score? (Assigning 1.0 in the midle category to a value less than the actual <30)\n",
    "AUC(testY03, PredictedYesProbs)"
   ]
  },
  {
   "cell_type": "code",
   "execution_count": 104,
   "metadata": {},
   "outputs": [],
   "source": [
    "DiabetesAlteredTrain80 = DiabetesAlteredTrain.copy()\n",
    "DiabetesAlteredTrain80['readmittedprob'] = 0.8*DiabetesAlteredTrain80['readmittedprob']\n",
    "DiabetesAlteredTrain80['readmittedprob'] = DiabetesAlteredTrain80['readmittedprob'].replace([1.6], [1])"
   ]
  },
  {
   "cell_type": "code",
   "execution_count": 105,
   "metadata": {},
   "outputs": [
    {
     "data": {
      "text/plain": [
       "count    80084.000000\n",
       "mean         0.113456\n",
       "std          0.202962\n",
       "min          0.000000\n",
       "25%          0.000000\n",
       "50%          0.000000\n",
       "75%          0.110613\n",
       "max          0.649722\n",
       "Name: readmittedprob, dtype: float64"
      ]
     },
     "execution_count": 105,
     "metadata": {},
     "output_type": "execute_result"
    }
   ],
   "source": [
    "#Make readmittedprob adjust to the total size of readmitted:\n",
    "DiabetesAlteredTrain80['readmittedprob'] = (DiabetesAlteredTrain80['readmittedprob'] * \n",
    "                                             np.sum(DiabetesAlteredTrain80['readmitted'])/np.sum(DiabetesAlteredTrain80['readmittedprob']))\n",
    "\n",
    "DiabetesAlteredTrain80['readmittedprob'].describe()\n",
    "#Now, the original <30's are only penalized down to 0.65"
   ]
  },
  {
   "cell_type": "code",
   "execution_count": 106,
   "metadata": {},
   "outputs": [],
   "source": [
    "problist = DiabetesAlteredTrain80['readmittedprob'].copy()\n",
    "\n",
    "Diabetes80SetOf20 = DiabetesAlteredTrain80.copy()\n",
    "Diabetes80SetOf20 = Diabetes80SetOf20.drop(['readmittedprob', 'IsTrain'], axis=1)\n",
    "PredictedYesProbs = np.zeros(20030)\n",
    "\n",
    "for i in range(20):\n",
    "    newreadmitted = np.zeros(80084)\n",
    "    for j in range(80084):\n",
    "        newreadmitted[j] = np.random.choice([0,1], size=1, p=[1-problist[j], problist[j]])\n",
    "    Diabetes80SetOf20['readmitted'] = pd.Series(newreadmitted)\n",
    "    \n",
    "    temptrainX = Diabetes80SetOf20.drop('readmitted', axis=1)\n",
    "    temptrainY = Diabetes80SetOf20['readmitted']\n",
    "    \n",
    "    from sklearn.linear_model import LogisticRegression as lgr\n",
    "\n",
    "    lgr = lgr()\n",
    "    lgr.set_params(C=0.1)\n",
    "\n",
    "    lgr.fit(temptrainX, temptrainY)\n",
    "\n",
    "    PredictedYesProbs += lgr.predict_proba(testX03)[:,1]/20"
   ]
  },
  {
   "cell_type": "code",
   "execution_count": 107,
   "metadata": {},
   "outputs": [
    {
     "data": {
      "text/plain": [
       "0.6571373724857514"
      ]
     },
     "execution_count": 107,
     "metadata": {},
     "output_type": "execute_result"
    }
   ],
   "source": [
    "#Giving 80% of the value is still not ideal\n",
    "AUC(testY03, PredictedYesProbs)"
   ]
  },
  {
   "cell_type": "code",
   "execution_count": 108,
   "metadata": {},
   "outputs": [
    {
     "data": {
      "text/plain": [
       "count    80084.000000\n",
       "mean         0.113456\n",
       "std          0.220967\n",
       "min          0.000000\n",
       "25%          0.000000\n",
       "50%          0.000000\n",
       "75%          0.090922\n",
       "max          0.712079\n",
       "Name: readmittedprob, dtype: float64"
      ]
     },
     "execution_count": 108,
     "metadata": {},
     "output_type": "execute_result"
    }
   ],
   "source": [
    "DiabetesAlteredTrain60 = DiabetesAlteredTrain.copy()\n",
    "DiabetesAlteredTrain60['readmittedprob'] = 0.6*DiabetesAlteredTrain60['readmittedprob']\n",
    "DiabetesAlteredTrain60['readmittedprob'] = DiabetesAlteredTrain60['readmittedprob'].replace([1.2], [1])\n",
    "\n",
    "#Make readmittedprob adjust to the total size of readmitted:\n",
    "DiabetesAlteredTrain60['readmittedprob'] = (DiabetesAlteredTrain60['readmittedprob'] * \n",
    "                                             np.sum(DiabetesAlteredTrain60['readmitted'])/np.sum(DiabetesAlteredTrain60['readmittedprob']))\n",
    "\n",
    "DiabetesAlteredTrain60['readmittedprob'].describe()\n",
    "#At 60%, 1.0 penalized down to 71%"
   ]
  },
  {
   "cell_type": "code",
   "execution_count": 113,
   "metadata": {},
   "outputs": [
    {
     "data": {
      "text/plain": [
       "0.6593965453949968"
      ]
     },
     "execution_count": 113,
     "metadata": {},
     "output_type": "execute_result"
    }
   ],
   "source": [
    "problist = DiabetesAlteredTrain60['readmittedprob'].copy()\n",
    "\n",
    "Diabetes60SetOf20 = DiabetesAlteredTrain60.copy()\n",
    "Diabetes60SetOf20 = Diabetes60SetOf20.drop(['readmittedprob', 'IsTrain'], axis=1)\n",
    "PredictedYesProbs = np.zeros(20030)\n",
    "\n",
    "for i in range(20):\n",
    "    newreadmitted = np.zeros(80084)\n",
    "    for j in range(80084):\n",
    "        newreadmitted[j] = np.random.choice([0,1], size=1, p=[1-problist[j], problist[j]])\n",
    "    Diabetes60SetOf20['readmitted'] = pd.Series(newreadmitted)\n",
    "    \n",
    "    temptrainX = Diabetes60SetOf20.drop('readmitted', axis=1)\n",
    "    temptrainY = Diabetes60SetOf20['readmitted']\n",
    "    \n",
    "    from sklearn.linear_model import LogisticRegression as lgr\n",
    "\n",
    "    lgr = lgr()\n",
    "    lgr.set_params(C=0.1)\n",
    "\n",
    "    lgr.fit(temptrainX, temptrainY)\n",
    "\n",
    "    PredictedYesProbs += lgr.predict_proba(testX03)[:,1]/20\n",
    "    \n",
    "AUC(testY03, PredictedYesProbs)"
   ]
  },
  {
   "cell_type": "code",
   "execution_count": 114,
   "metadata": {},
   "outputs": [
    {
     "data": {
      "text/plain": [
       "count    80084.000000\n",
       "mean         0.113456\n",
       "std          0.231943\n",
       "min          0.000000\n",
       "25%          0.000000\n",
       "50%          0.000000\n",
       "75%          0.079587\n",
       "max          0.747971\n",
       "Name: readmittedprob, dtype: float64"
      ]
     },
     "execution_count": 114,
     "metadata": {},
     "output_type": "execute_result"
    }
   ],
   "source": [
    "DiabetesAlteredTrain50 = DiabetesAlteredTrain.copy()\n",
    "DiabetesAlteredTrain50['readmittedprob'] = 0.5*DiabetesAlteredTrain50['readmittedprob']\n",
    "DiabetesAlteredTrain50['readmittedprob'] = DiabetesAlteredTrain50['readmittedprob'].replace([1.0], [1])\n",
    "\n",
    "#Make readmittedprob adjust to the total size of readmitted:\n",
    "DiabetesAlteredTrain50['readmittedprob'] = (DiabetesAlteredTrain50['readmittedprob'] * \n",
    "                                             np.sum(DiabetesAlteredTrain50['readmitted'])/np.sum(DiabetesAlteredTrain50['readmittedprob']))\n",
    "\n",
    "DiabetesAlteredTrain50['readmittedprob'].describe()\n",
    "#At 50%, 1.0 only penalized to 0.75"
   ]
  },
  {
   "cell_type": "code",
   "execution_count": 115,
   "metadata": {},
   "outputs": [
    {
     "data": {
      "text/plain": [
       "0.6599108683712296"
      ]
     },
     "execution_count": 115,
     "metadata": {},
     "output_type": "execute_result"
    }
   ],
   "source": [
    "problist = DiabetesAlteredTrain50['readmittedprob'].copy()\n",
    "\n",
    "Diabetes50SetOf20 = DiabetesAlteredTrain50.copy()\n",
    "Diabetes50SetOf20 = Diabetes50SetOf20.drop(['readmittedprob', 'IsTrain'], axis=1)\n",
    "PredictedYesProbs = np.zeros(20030)\n",
    "\n",
    "for i in range(20):\n",
    "    newreadmitted = np.zeros(80084)\n",
    "    for j in range(80084):\n",
    "        newreadmitted[j] = np.random.choice([0,1], size=1, p=[1-problist[j], problist[j]])\n",
    "    Diabetes50SetOf20['readmitted'] = pd.Series(newreadmitted)\n",
    "    \n",
    "    temptrainX = Diabetes50SetOf20.drop('readmitted', axis=1)\n",
    "    temptrainY = Diabetes50SetOf20['readmitted']\n",
    "    \n",
    "    from sklearn.linear_model import LogisticRegression as lgr\n",
    "\n",
    "    lgr = lgr()\n",
    "    lgr.set_params(C=0.1)\n",
    "\n",
    "    lgr.fit(temptrainX, temptrainY)\n",
    "\n",
    "    PredictedYesProbs += lgr.predict_proba(testX03)[:,1]/20\n",
    "    \n",
    "AUC(testY03, PredictedYesProbs)"
   ]
  },
  {
   "cell_type": "code",
   "execution_count": 116,
   "metadata": {},
   "outputs": [
    {
     "data": {
      "text/plain": [
       "count    80084.000000\n",
       "mean         0.113456\n",
       "std          0.244515\n",
       "min          0.000000\n",
       "25%          0.000000\n",
       "50%          0.000000\n",
       "75%          0.067050\n",
       "max          0.787675\n",
       "Name: readmittedprob, dtype: float64"
      ]
     },
     "execution_count": 116,
     "metadata": {},
     "output_type": "execute_result"
    }
   ],
   "source": [
    "DiabetesAlteredTrain40 = DiabetesAlteredTrain.copy()\n",
    "DiabetesAlteredTrain40['readmittedprob'] = 0.4*DiabetesAlteredTrain40['readmittedprob']\n",
    "DiabetesAlteredTrain40['readmittedprob'] = DiabetesAlteredTrain40['readmittedprob'].replace([0.8], [1])\n",
    "\n",
    "#Make readmittedprob adjust to the total size of readmitted:\n",
    "DiabetesAlteredTrain40['readmittedprob'] = (DiabetesAlteredTrain40['readmittedprob'] * \n",
    "                                             np.sum(DiabetesAlteredTrain40['readmitted'])/np.sum(DiabetesAlteredTrain40['readmittedprob']))\n",
    "\n",
    "DiabetesAlteredTrain40['readmittedprob'].describe()"
   ]
  },
  {
   "cell_type": "code",
   "execution_count": 118,
   "metadata": {},
   "outputs": [
    {
     "data": {
      "text/plain": [
       "0.6609319766394272"
      ]
     },
     "execution_count": 118,
     "metadata": {},
     "output_type": "execute_result"
    }
   ],
   "source": [
    "problist = DiabetesAlteredTrain40['readmittedprob'].copy()\n",
    "\n",
    "Diabetes40SetOf20 = DiabetesAlteredTrain40.copy()\n",
    "Diabetes40SetOf20 = Diabetes40SetOf20.drop(['readmittedprob', 'IsTrain'], axis=1)\n",
    "PredictedYesProbs = np.zeros(20030)\n",
    "\n",
    "for i in range(20):\n",
    "    newreadmitted = np.zeros(80084)\n",
    "    for j in range(80084):\n",
    "        newreadmitted[j] = np.random.choice([0,1], size=1, p=[1-problist[j], problist[j]])\n",
    "    Diabetes40SetOf20['readmitted'] = pd.Series(newreadmitted)\n",
    "    \n",
    "    temptrainX = Diabetes40SetOf20.drop('readmitted', axis=1)\n",
    "    temptrainY = Diabetes40SetOf20['readmitted']\n",
    "    \n",
    "    from sklearn.linear_model import LogisticRegression as lgr\n",
    "\n",
    "    lgr = lgr()\n",
    "    lgr.set_params(C=0.1)\n",
    "\n",
    "    lgr.fit(temptrainX, temptrainY)\n",
    "\n",
    "    PredictedYesProbs += lgr.predict_proba(testX03)[:,1]/20\n",
    "    \n",
    "AUC(testY03, PredictedYesProbs)"
   ]
  },
  {
   "cell_type": "code",
   "execution_count": 123,
   "metadata": {},
   "outputs": [
    {
     "data": {
      "text/plain": [
       "count    80084.000000\n",
       "mean         0.113456\n",
       "std          0.258951\n",
       "min          0.000000\n",
       "25%          0.000000\n",
       "50%          0.000000\n",
       "75%          0.053106\n",
       "max          0.831829\n",
       "Name: readmittedprob, dtype: float64"
      ]
     },
     "execution_count": 123,
     "metadata": {},
     "output_type": "execute_result"
    }
   ],
   "source": [
    "DiabetesAlteredTrain30 = DiabetesAlteredTrain.copy()\n",
    "DiabetesAlteredTrain30['readmittedprob'] = 0.3*DiabetesAlteredTrain30['readmittedprob']\n",
    "DiabetesAlteredTrain30['readmittedprob'] = DiabetesAlteredTrain30['readmittedprob'].replace([0.6], [1])\n",
    "\n",
    "#Make readmittedprob adjust to the total size of readmitted:\n",
    "DiabetesAlteredTrain30['readmittedprob'] = (DiabetesAlteredTrain30['readmittedprob'] * \n",
    "                                             np.sum(DiabetesAlteredTrain30['readmitted'])/np.sum(DiabetesAlteredTrain30['readmittedprob']))\n",
    "\n",
    "DiabetesAlteredTrain30['readmittedprob'].describe()"
   ]
  },
  {
   "cell_type": "code",
   "execution_count": 124,
   "metadata": {},
   "outputs": [
    {
     "data": {
      "text/plain": [
       "0.6618649634277263"
      ]
     },
     "execution_count": 124,
     "metadata": {},
     "output_type": "execute_result"
    }
   ],
   "source": [
    "problist = DiabetesAlteredTrain30['readmittedprob'].copy()\n",
    "\n",
    "Diabetes30SetOf20 = DiabetesAlteredTrain30.copy()\n",
    "Diabetes30SetOf20 = Diabetes30SetOf20.drop(['readmittedprob', 'IsTrain'], axis=1)\n",
    "PredictedYesProbs = np.zeros(20030)\n",
    "\n",
    "for i in range(20):\n",
    "    newreadmitted = np.zeros(80084)\n",
    "    for j in range(80084):\n",
    "        newreadmitted[j] = np.random.choice([0,1], size=1, p=[1-problist[j], problist[j]])\n",
    "    Diabetes30SetOf20['readmitted'] = pd.Series(newreadmitted)\n",
    "    \n",
    "    temptrainX = Diabetes30SetOf20.drop('readmitted', axis=1)\n",
    "    temptrainY = Diabetes30SetOf20['readmitted']\n",
    "    \n",
    "    from sklearn.linear_model import LogisticRegression as lgr\n",
    "\n",
    "    lgr = lgr()\n",
    "    lgr.set_params(C=0.1)\n",
    "\n",
    "    lgr.fit(temptrainX, temptrainY)\n",
    "\n",
    "    PredictedYesProbs += lgr.predict_proba(testX03)[:,1]/20\n",
    "    \n",
    "AUC(testY03, PredictedYesProbs)"
   ]
  },
  {
   "cell_type": "code",
   "execution_count": 125,
   "metadata": {},
   "outputs": [
    {
     "data": {
      "text/plain": [
       "count    80084.000000\n",
       "mean         0.113456\n",
       "std          0.275579\n",
       "min          0.000000\n",
       "25%          0.000000\n",
       "50%          0.000000\n",
       "75%          0.037507\n",
       "max          0.881228\n",
       "Name: readmittedprob, dtype: float64"
      ]
     },
     "execution_count": 125,
     "metadata": {},
     "output_type": "execute_result"
    }
   ],
   "source": [
    "DiabetesAlteredTrain20 = DiabetesAlteredTrain.copy()\n",
    "DiabetesAlteredTrain20['readmittedprob'] = 0.2*DiabetesAlteredTrain20['readmittedprob']\n",
    "DiabetesAlteredTrain20['readmittedprob'] = DiabetesAlteredTrain20['readmittedprob'].replace([0.4], [1])\n",
    "\n",
    "#Make readmittedprob adjust to the total size of readmitted:\n",
    "DiabetesAlteredTrain20['readmittedprob'] = (DiabetesAlteredTrain20['readmittedprob'] * \n",
    "                                             np.sum(DiabetesAlteredTrain20['readmitted'])/np.sum(DiabetesAlteredTrain20['readmittedprob']))\n",
    "\n",
    "DiabetesAlteredTrain20['readmittedprob'].describe()"
   ]
  },
  {
   "cell_type": "code",
   "execution_count": 127,
   "metadata": {},
   "outputs": [
    {
     "data": {
      "text/plain": [
       "0.6627061590740491"
      ]
     },
     "execution_count": 127,
     "metadata": {},
     "output_type": "execute_result"
    }
   ],
   "source": [
    "problist = DiabetesAlteredTrain20['readmittedprob'].copy()\n",
    "\n",
    "Diabetes20SetOf20 = DiabetesAlteredTrain20.copy()\n",
    "Diabetes20SetOf20 = Diabetes20SetOf20.drop(['readmittedprob', 'IsTrain'], axis=1)\n",
    "PredictedYesProbs = np.zeros(20030)\n",
    "\n",
    "for i in range(20):\n",
    "    newreadmitted = np.zeros(80084)\n",
    "    for j in range(80084):\n",
    "        newreadmitted[j] = np.random.choice([0,1], size=1, p=[1-problist[j], problist[j]])\n",
    "    Diabetes20SetOf20['readmitted'] = pd.Series(newreadmitted)\n",
    "    \n",
    "    temptrainX = Diabetes20SetOf20.drop('readmitted', axis=1)\n",
    "    temptrainY = Diabetes20SetOf20['readmitted']\n",
    "    \n",
    "    from sklearn.linear_model import LogisticRegression as lgr\n",
    "\n",
    "    lgr = lgr()\n",
    "    lgr.set_params(C=0.1)\n",
    "\n",
    "    lgr.fit(temptrainX, temptrainY)\n",
    "\n",
    "    PredictedYesProbs += lgr.predict_proba(testX03)[:,1]/20\n",
    "    \n",
    "AUC(testY03, PredictedYesProbs)"
   ]
  },
  {
   "cell_type": "code",
   "execution_count": 129,
   "metadata": {},
   "outputs": [
    {
     "data": {
      "text/plain": [
       "0.6745317195052136"
      ]
     },
     "execution_count": 129,
     "metadata": {},
     "output_type": "execute_result"
    }
   ],
   "source": [
    "#Let's try a 40% XGB and see if that is any better than a base 0% xgb:\n",
    "\n",
    "from xgboost.sklearn import XGBClassifier as xgb2\n",
    "\n",
    "problist = DiabetesAlteredTrain40['readmittedprob'].copy()\n",
    "\n",
    "Diabetes40SetOf20 = DiabetesAlteredTrain40.copy()\n",
    "Diabetes40SetOf20 = Diabetes40SetOf20.drop(['readmittedprob', 'IsTrain'], axis=1)\n",
    "PredictedYesProbs = np.zeros(20030)\n",
    "\n",
    "for i in range(20):\n",
    "    newreadmitted = np.zeros(80084)\n",
    "    for j in range(80084):\n",
    "        newreadmitted[j] = np.random.choice([0,1], size=1, p=[1-problist[j], problist[j]])\n",
    "    Diabetes40SetOf20['readmitted'] = pd.Series(newreadmitted)\n",
    "    \n",
    "    temptrainX = Diabetes40SetOf20.drop('readmitted', axis=1)\n",
    "    temptrainY = Diabetes40SetOf20['readmitted']\n",
    "    \n",
    "    xgb = xgb2()\n",
    "    xgb.set_params(n_estimators=500, min_child_weight=10, max_depth=5, gamma=5, colsample_bytree=0.6, max_delta_step=5)\n",
    "\n",
    "    xgb.fit(temptrainX, temptrainY)\n",
    "\n",
    "    PredictedYesProbs += xgb.predict_proba(testX03)[:,1]/20\n",
    "    \n",
    "AUC(testY03, PredictedYesProbs)"
   ]
  },
  {
   "cell_type": "code",
   "execution_count": 130,
   "metadata": {},
   "outputs": [
    {
     "data": {
      "text/plain": [
       "0.6753665800254492"
      ]
     },
     "execution_count": 130,
     "metadata": {},
     "output_type": "execute_result"
    }
   ],
   "source": [
    "#Let's try a 20% XGB and see if that is any better than a base 0% xgb:\n",
    "\n",
    "from xgboost.sklearn import XGBClassifier as xgb2\n",
    "\n",
    "problist = DiabetesAlteredTrain20['readmittedprob'].copy()\n",
    "\n",
    "Diabetes20SetOf20 = DiabetesAlteredTrain20.copy()\n",
    "Diabetes20SetOf20 = Diabetes20SetOf20.drop(['readmittedprob', 'IsTrain'], axis=1)\n",
    "PredictedYesProbs = np.zeros(20030)\n",
    "\n",
    "for i in range(20):\n",
    "    newreadmitted = np.zeros(80084)\n",
    "    for j in range(80084):\n",
    "        newreadmitted[j] = np.random.choice([0,1], size=1, p=[1-problist[j], problist[j]])\n",
    "    Diabetes40SetOf20['readmitted'] = pd.Series(newreadmitted)\n",
    "    \n",
    "    temptrainX = Diabetes20SetOf20.drop('readmitted', axis=1)\n",
    "    temptrainY = Diabetes20SetOf20['readmitted']\n",
    "    \n",
    "    xgb = xgb2()\n",
    "    xgb.set_params(n_estimators=500, min_child_weight=10, max_depth=5, gamma=5, colsample_bytree=0.6, max_delta_step=5)\n",
    "\n",
    "    xgb.fit(temptrainX, temptrainY)\n",
    "\n",
    "    PredictedYesProbs += xgb.predict_proba(testX03)[:,1]/20\n",
    "    \n",
    "AUC(testY03, PredictedYesProbs)"
   ]
  },
  {
   "cell_type": "code",
   "execution_count": 158,
   "metadata": {},
   "outputs": [],
   "source": [
    "devontrain = pd.read_csv('db_train.csv')\n",
    "devontest = pd.read_csv('db_test.csv')\n",
    "\n",
    "devontrain['IsTrain'] = 1\n",
    "devontest['IsTrain'] = 0\n",
    "\n",
    "devonDF = pd.concat([devontrain, devontest], axis=0)"
   ]
  },
  {
   "cell_type": "code",
   "execution_count": 160,
   "metadata": {},
   "outputs": [],
   "source": [
    "devonDF = devonDF.astype('str')\n",
    "\n",
    "from sklearn.preprocessing import LabelEncoder\n",
    "\n",
    "le = LabelEncoder()\n",
    "\n",
    "for item in ['race', 'gender', 'age', 'A1Cresult', 'metformin', 'glipizide', 'glyburide', 'pioglitazone', 'rosiglitazone', \n",
    "             'insulin', 'change', 'diabetesMed', 'diag_1_cat', 'diag_Circulatory', 'diag_Diabetes', 'diag_Digestive', \n",
    "             'diag_Genitourinary', 'diag_Injury', 'diag_Musculoskeletal', 'diag_Neoplasms', 'diag_Other', \n",
    "             'diag_Respiratory', 'admission_type_id_cat', 'discharge_disposition_id_cat', 'admission_source_id_cat', \n",
    "             'glimepiride.bi']:\n",
    "    \n",
    "\n",
    "    devonDF[item] = le.fit_transform(devonDF[item])"
   ]
  },
  {
   "cell_type": "code",
   "execution_count": 162,
   "metadata": {},
   "outputs": [],
   "source": [
    "for var in list(devonDF.columns):\n",
    "    devonDF[var] = pd.to_numeric(devonDF[var])"
   ]
  },
  {
   "cell_type": "code",
   "execution_count": 172,
   "metadata": {},
   "outputs": [
    {
     "name": "stderr",
     "output_type": "stream",
     "text": [
      "C:\\Users\\Dave\\Anaconda3\\lib\\site-packages\\sklearn\\preprocessing\\label.py:151: DeprecationWarning: The truth value of an empty array is ambiguous. Returning False, but in future this will result in an error. Use `array.size > 0` to check that an array is not empty.\n",
      "  if diff:\n"
     ]
    }
   ],
   "source": [
    "devontrainX = devonDF[devonDF['IsTrain']==1].copy().drop('readmitted', axis=1)\n",
    "devontrainY = devonDF[devonDF['IsTrain']==1].copy()['readmitted']\n",
    "devontrainY[devontrainY<0] = 0\n",
    "devontrainY[devontrainY>0] = 1\n",
    "devontestX = devonDF[devonDF['IsTrain']==0].copy().drop('readmitted', axis=1)\n",
    "devontestY = devonDF[devonDF['IsTrain']==0].copy()['readmitted']\n",
    "devontestY[devontestY<0] = 0\n",
    "devontestY[devontestY>0] = 1\n",
    "\n",
    "from xgboost.sklearn import XGBClassifier as xgb\n",
    "\n",
    "xgb2 = xgb()\n",
    "xgb2.set_params(n_estimators=500, min_child_weight=10, max_depth=5, gamma=5, colsample_bytree=0.6, max_delta_step=5)\n",
    "\n",
    "xgb2.fit(devontrainX, devontrainY)\n",
    "\n",
    "predictDXB = xgb2.predict(devontestX)\n",
    "predictprobsDXB = xgb2.predict_proba(devontestX)"
   ]
  },
  {
   "cell_type": "code",
   "execution_count": 174,
   "metadata": {},
   "outputs": [
    {
     "data": {
      "text/plain": [
       "0.6785622482174802"
      ]
     },
     "execution_count": 174,
     "metadata": {},
     "output_type": "execute_result"
    }
   ],
   "source": [
    "AUC(devontestY, predictprobsDXB[:,1])"
   ]
  },
  {
   "cell_type": "code",
   "execution_count": 176,
   "metadata": {},
   "outputs": [
    {
     "data": {
      "text/plain": [
       "0.6576307436751204"
      ]
     },
     "execution_count": 176,
     "metadata": {},
     "output_type": "execute_result"
    }
   ],
   "source": [
    "from sklearn.linear_model import LogisticRegression as lgr\n",
    "\n",
    "lgr = lgr()\n",
    "lgr.set_params(C=0.1)\n",
    "\n",
    "lgr.fit(devontrainX, devontrainY)\n",
    "\n",
    "predicttestprobsLGRD = lgr.predict_proba(devontestX)\n",
    "\n",
    "AUC(devontestY, predicttestprobsLGRD[:,1])"
   ]
  },
  {
   "cell_type": "code",
   "execution_count": 177,
   "metadata": {},
   "outputs": [
    {
     "name": "stderr",
     "output_type": "stream",
     "text": [
      "Exception ignored in: <bound method DMatrix.__del__ of <xgboost.core.DMatrix object at 0x0000021893225710>>\n",
      "Traceback (most recent call last):\n",
      "  File \"C:\\Users\\Dave\\Anaconda3\\lib\\site-packages\\xgboost\\core.py\", line 482, in __del__\n",
      "    if self.handle is not None:\n",
      "AttributeError: 'DMatrix' object has no attribute 'handle'\n"
     ]
    },
    {
     "data": {
      "text/plain": [
       "0.6602773262812346"
      ]
     },
     "execution_count": 177,
     "metadata": {},
     "output_type": "execute_result"
    }
   ],
   "source": [
    "from sklearn.ensemble import RandomForestClassifier as rfc\n",
    "\n",
    "rfc = rfc()\n",
    "rfc.set_params(n_estimators=1000, min_samples_split=5, min_samples_leaf=1, max_features='sqrt', max_depth=60)\n",
    "\n",
    "rfc.fit(devontrainX, devontrainY)\n",
    "\n",
    "predicttestprobsRFD = rfc.predict_proba(devontestX)\n",
    "\n",
    "AUC(devontestY, predicttestprobsRFD[:,1])"
   ]
  },
  {
   "cell_type": "code",
   "execution_count": 179,
   "metadata": {},
   "outputs": [
    {
     "ename": "ValueError",
     "evalue": "feature_names mismatch: ['Unnamed: 0', 'age', 'time_in_hospital', 'num_lab_procedures', 'num_procedures', 'num_medications', 'number_outpatient', 'number_emergency', 'number_inpatient', 'number_diagnoses', 'race_Caucasian', 'race_AfricanAmerican', 'race_Other', 'race_Asian', 'race_Hispanic', 'gender_Male', 'gender_Unknown/Invalid', 'admission_type_id_Unknown', 'admission_type_id_Emergency', 'admission_type_id_Urgent', 'admission_type_id_Elective', 'discharge_disposition_id_Unknown', 'discharge_disposition_id_Discharged to home', 'discharge_disposition_id_Discharged/transferred to SNF', 'discharge_disposition_id_Discharged/transferred to home with home health service', 'discharge_disposition_id_Discharged/transferred to another short term hospital', 'discharge_disposition_id_Discharged/transferred to another type of inpatient care institution', 'discharge_disposition_id_Discharged/transferred to ICF', 'discharge_disposition_id_Discharged/transferred/referred to this institution for outpatient services', 'discharge_disposition_id_Discharged/transferred to another rehab fac including rehab units of a hospital.', 'discharge_disposition_id_Discharged/transferred/referred to a psychiatric hospital of psychiatric distinct part unit of a hospital', 'admission_source_id_Physician Referral', 'admission_source_id_Emergency Room', 'admission_source_id_Clinic Referral', 'admission_source_id_Transfer from a hospital', 'admission_source_id_Unknown', 'admission_source_id_Transfer from another health care facility', 'admission_source_id_HMO Referral', 'admission_source_id_Court/Law Enforcement', 'medical_specialty_InternalMedicine', 'medical_specialty_Family/GeneralPractice', 'medical_specialty_Cardiology', 'medical_specialty_Surgery-General', 'medical_specialty_Surgery-Cardiovascular/Thoracic', 'medical_specialty_Nephrology', 'medical_specialty_Orthopedics-Reconstructive', 'medical_specialty_Gastroenterology', 'medical_specialty_Psychiatry', 'medical_specialty_Pulmonology', 'medical_specialty_Emergency/Trauma', 'medical_specialty_Pediatrics-CriticalCare', 'medical_specialty_Surgery-Plastic', 'medical_specialty_Orthopedics', 'medical_specialty_Radiologist', 'diag_1_Diabetes', 'diag_1_Neoplasms', 'diag_1_Circulatory', 'diag_1_Respiratory', 'diag_1_Injury', 'diag_1_Musculoskeletal', 'diag_1_Digestive', 'diag_1_Genitourinary', 'diag_1_Mental Disorders', 'diag_2_Diabetes', 'diag_2_Neoplasms', 'diag_2_Circulatory', 'diag_2_Respiratory', 'diag_2_Injury', 'diag_2_Musculoskeletal', 'diag_2_Genitourinary', 'diag_2_Digestive', 'diag_2_Mental Disorders', 'diag_3_Neoplasms', 'diag_3_Circulatory', 'diag_3_Diabetes', 'diag_3_Respiratory', 'diag_3_Genitourinary', 'diag_3_Injury', 'diag_3_Musculoskeletal', 'diag_3_Digestive', 'max_glu_serum_None', 'max_glu_serum_>300', 'max_glu_serum_Norm', 'max_glu_serum_>200', 'A1Cresult_>7', 'A1Cresult_>8', 'A1Cresult_Norm', 'metformin_Steady', 'metformin_Up', 'metformin_Down', 'repaglinide_Steady', 'repaglinide_Down', 'repaglinide_Up', 'glimepiride_Steady', 'glimepiride_Down', 'glimepiride_Up', 'glipizide_Steady', 'glipizide_Up', 'glipizide_Down', 'glyburide_Steady', 'glyburide_Up', 'glyburide_Down', 'pioglitazone_Up', 'pioglitazone_Steady', 'pioglitazone_Down', 'rosiglitazone_Steady', 'rosiglitazone_Up', 'rosiglitazone_Down', 'insulin_Up', 'insulin_Steady', 'insulin_Down', 'change_Ch', 'diabetesMed_Yes'] ['Unnamed: 0', 'age', 'time_in_hospital', 'num_lab_procedures', 'num_procedures', 'num_medications', 'number_outpatient', 'number_emergency', 'number_inpatient', 'number_diagnoses', 'race_AfricanAmerican', 'race_Caucasian', 'race_Hispanic', 'race_Asian', 'gender_Male', 'admission_type_id_Emergency', 'admission_type_id_Urgent', 'admission_type_id_Elective', 'admission_type_id_Unknown', 'admission_type_id_Trauma Center', 'discharge_disposition_id_Discharged to home', 'discharge_disposition_id_Discharged/transferred to SNF', 'discharge_disposition_id_Discharged/transferred to another type of inpatient care institution', 'discharge_disposition_id_Discharged/transferred to another short term hospital', 'discharge_disposition_id_Discharged/transferred to home with home health service', 'discharge_disposition_id_Unknown', 'discharge_disposition_id_Left AMA', 'discharge_disposition_id_Discharged/transferred to ICF', 'discharge_disposition_id_Discharged/transferred to home under care of Home IV provider', 'discharge_disposition_id_Hospice / medical facility', 'discharge_disposition_id_Hospice / home', 'discharge_disposition_id_Discharged/transferred to another rehab fac including rehab units of a hospital.', 'discharge_disposition_id_Admitted as an inpatient to this hospital', 'discharge_disposition_id_Discharged/transferred to a long term care hospital.', 'discharge_disposition_id_Discharged/transferred/referred another institution for outpatient services', 'discharge_disposition_id_Discharged/transferred/referred to this institution for outpatient services', 'discharge_disposition_id_Discharged/transferred within this institution to Medicare approved swing bed', 'discharge_disposition_id_Discharged/transferred/referred to a psychiatric hospital of psychiatric distinct part unit of a hospital', 'discharge_disposition_id_Discharged/transferred to a federal health care facility.', 'discharge_disposition_id_Discharged/transferred to a nursing facility certified under Medicaid but not certified under Medicare.', 'admission_source_id_Emergency Room', 'admission_source_id_Transfer from a hospital', 'admission_source_id_Clinic Referral', 'admission_source_id_Physician Referral', 'admission_source_id_Unknown', 'admission_source_id_Transfer from a Skilled Nursing Facility (SNF)', 'admission_source_id_HMO Referral', 'admission_source_id_Transfer from another health care facility', 'admission_source_id_Extramural Birth', 'admission_source_id_Transfer from critical access hospital', 'admission_source_id_Court/Law Enforcement', 'admission_source_id_Transfer from hospital inpt/same fac reslt in a sep claim', 'admission_source_id_Transfer from Ambulatory Surgery Center', 'medical_specialty_Family/GeneralPractice', 'medical_specialty_Cardiology', 'medical_specialty_Orthopedics', 'medical_specialty_Gastroenterology', 'medical_specialty_InternalMedicine', 'medical_specialty_Emergency/Trauma', 'medical_specialty_Surgery-General', 'medical_specialty_Psychiatry', 'medical_specialty_Orthopedics-Reconstructive', 'medical_specialty_ObstetricsandGynecology', 'medical_specialty_Surgery-Neuro', 'medical_specialty_Hematology/Oncology', 'medical_specialty_Pulmonology', 'medical_specialty_Surgery-Cardiovascular/Thoracic', 'medical_specialty_Nephrology', 'medical_specialty_Pediatrics-CriticalCare', 'medical_specialty_Endocrinology', 'medical_specialty_Pediatrics-Endocrinology', 'medical_specialty_Urology', 'medical_specialty_Radiology', 'medical_specialty_Anesthesiology-Pediatric', 'medical_specialty_Psychiatry-Child/Adolescent', 'medical_specialty_Pediatrics', 'medical_specialty_Pediatrics-Pulmonology', 'medical_specialty_Gynecology', 'medical_specialty_Obsterics&Gynecology-GynecologicOnco', 'medical_specialty_Surgery-Plastic', 'medical_specialty_Otolaryngology', 'medical_specialty_PhysicalMedicineandRehabilitation', 'medical_specialty_InfectiousDiseases', 'medical_specialty_Neurology', 'medical_specialty_Oncology', 'medical_specialty_Psychology', 'medical_specialty_Pediatrics-Hematology-Oncology', 'medical_specialty_Rheumatology', 'medical_specialty_Surgery-Colon&Rectal', 'medical_specialty_Dentistry', 'medical_specialty_Pediatrics-AllergyandImmunology', 'medical_specialty_Pediatrics-Neurology', 'medical_specialty_AllergyandImmunology', 'medical_specialty_Surgery-Vascular', 'medical_specialty_Surgery-Thoracic', 'medical_specialty_Surgery-Pediatric', 'medical_specialty_Surgery-Cardiovascular', 'medical_specialty_Osteopath', 'medical_specialty_Anesthesiology', 'medical_specialty_Podiatry', 'medical_specialty_Surgeon', 'medical_specialty_Hematology', 'medical_specialty_Obstetrics', 'medical_specialty_Surgery-Maxillofacial', 'medical_specialty_Radiologist', 'medical_specialty_Speech', 'medical_specialty_Pathology', 'medical_specialty_Ophthalmology', 'medical_specialty_Cardiology-Pediatric', 'medical_specialty_SurgicalSpecialty', 'medical_specialty_Hospitalist', 'medical_specialty_PhysicianNotFound', 'medical_specialty_OutreachServices', 'diag_1_Circulatory', 'diag_1_Diabetes', 'diag_1_Neoplasms', 'diag_1_Respiratory', 'diag_1_Injury', 'diag_1_Musculoskeletal', 'diag_1_Digestive', 'diag_1_Genitourinary', 'diag_1_Mental Disorders', 'diag_2_Diabetes', 'diag_2_Circulatory', 'diag_2_Respiratory', 'diag_2_Neoplasms', 'diag_2_Digestive', 'diag_2_Injury', 'diag_2_Mental Disorders', 'diag_2_Genitourinary', 'diag_2_Musculoskeletal', 'diag_3_Injury', 'diag_3_Diabetes', 'diag_3_Circulatory', 'diag_3_Neoplasms', 'diag_3_Digestive', 'diag_3_Respiratory', 'diag_3_Musculoskeletal', 'diag_3_Genitourinary', 'max_glu_serum_None', 'max_glu_serum_>300', 'max_glu_serum_>200', 'max_glu_serum_Norm', 'A1Cresult_Norm', 'A1Cresult_>8', 'A1Cresult_>7', 'metformin_Steady', 'metformin_Up', 'metformin_Down', 'repaglinide_Up', 'repaglinide_Steady', 'repaglinide_Down', 'glimepiride_Steady', 'glimepiride_Up', 'glimepiride_Down', 'glipizide_Steady', 'glipizide_Up', 'glipizide_Down', 'glyburide_Steady', 'glyburide_Up', 'glyburide_Down', 'pioglitazone_Steady', 'pioglitazone_Down', 'pioglitazone_Up', 'rosiglitazone_Steady', 'rosiglitazone_Down', 'rosiglitazone_Up', 'insulin_Steady', 'insulin_Down', 'insulin_Up', 'change_Ch', 'diabetesMed_Yes']\nexpected gender_Unknown/Invalid, race_Other in input data\ntraining data did not have the following fields: medical_specialty_Surgery-Cardiovascular, medical_specialty_Rheumatology, admission_source_id_Transfer from critical access hospital, medical_specialty_Pediatrics-Endocrinology, medical_specialty_Psychiatry-Child/Adolescent, medical_specialty_Pediatrics-Neurology, medical_specialty_Surgeon, medical_specialty_Cardiology-Pediatric, discharge_disposition_id_Left AMA, discharge_disposition_id_Discharged/transferred to home under care of Home IV provider, medical_specialty_Urology, discharge_disposition_id_Discharged/transferred to a federal health care facility., medical_specialty_Ophthalmology, medical_specialty_Surgery-Maxillofacial, medical_specialty_Anesthesiology, medical_specialty_Pediatrics, medical_specialty_Surgery-Neuro, discharge_disposition_id_Discharged/transferred/referred another institution for outpatient services, admission_source_id_Transfer from hospital inpt/same fac reslt in a sep claim, medical_specialty_Pediatrics-Hematology-Oncology, admission_source_id_Transfer from a Skilled Nursing Facility (SNF), discharge_disposition_id_Hospice / home, admission_source_id_Extramural Birth, medical_specialty_Obsterics&Gynecology-GynecologicOnco, medical_specialty_Endocrinology, admission_type_id_Trauma Center, discharge_disposition_id_Hospice / medical facility, medical_specialty_Surgery-Vascular, medical_specialty_AllergyandImmunology, discharge_disposition_id_Discharged/transferred within this institution to Medicare approved swing bed, medical_specialty_Osteopath, medical_specialty_Hospitalist, medical_specialty_Pathology, medical_specialty_Gynecology, medical_specialty_OutreachServices, medical_specialty_ObstetricsandGynecology, medical_specialty_Pediatrics-AllergyandImmunology, medical_specialty_Oncology, medical_specialty_Speech, medical_specialty_Surgery-Pediatric, medical_specialty_InfectiousDiseases, medical_specialty_Radiology, medical_specialty_PhysicalMedicineandRehabilitation, discharge_disposition_id_Admitted as an inpatient to this hospital, medical_specialty_Surgery-Thoracic, discharge_disposition_id_Discharged/transferred to a long term care hospital., medical_specialty_Psychology, medical_specialty_PhysicianNotFound, medical_specialty_Otolaryngology, medical_specialty_Hematology, medical_specialty_SurgicalSpecialty, medical_specialty_Podiatry, medical_specialty_Anesthesiology-Pediatric, admission_source_id_Transfer from Ambulatory Surgery Center, medical_specialty_Hematology/Oncology, medical_specialty_Pediatrics-Pulmonology, medical_specialty_Neurology, medical_specialty_Surgery-Colon&Rectal, medical_specialty_Obstetrics, medical_specialty_Dentistry, discharge_disposition_id_Discharged/transferred to a nursing facility certified under Medicaid but not certified under Medicare.",
     "output_type": "error",
     "traceback": [
      "\u001b[1;31m---------------------------------------------------------------------------\u001b[0m",
      "\u001b[1;31mValueError\u001b[0m                                Traceback (most recent call last)",
      "\u001b[1;32m<ipython-input-179-620c82052397>\u001b[0m in \u001b[0;36m<module>\u001b[1;34m()\u001b[0m\n\u001b[0;32m     15\u001b[0m \u001b[0mxgb2\u001b[0m\u001b[1;33m.\u001b[0m\u001b[0mfit\u001b[0m\u001b[1;33m(\u001b[0m\u001b[0mtimtrainX\u001b[0m\u001b[1;33m,\u001b[0m \u001b[0mtimtrainY\u001b[0m\u001b[1;33m)\u001b[0m\u001b[1;33m\u001b[0m\u001b[0m\n\u001b[0;32m     16\u001b[0m \u001b[1;33m\u001b[0m\u001b[0m\n\u001b[1;32m---> 17\u001b[1;33m \u001b[0mpredictTXB\u001b[0m \u001b[1;33m=\u001b[0m \u001b[0mxgb2\u001b[0m\u001b[1;33m.\u001b[0m\u001b[0mpredict\u001b[0m\u001b[1;33m(\u001b[0m\u001b[0mtimtestX\u001b[0m\u001b[1;33m)\u001b[0m\u001b[1;33m\u001b[0m\u001b[0m\n\u001b[0m\u001b[0;32m     18\u001b[0m \u001b[0mpredictprobsTXB\u001b[0m \u001b[1;33m=\u001b[0m \u001b[0mxgb2\u001b[0m\u001b[1;33m.\u001b[0m\u001b[0mpredict_proba\u001b[0m\u001b[1;33m(\u001b[0m\u001b[0mtimtestX\u001b[0m\u001b[1;33m)\u001b[0m\u001b[1;33m\u001b[0m\u001b[0m\n",
      "\u001b[1;32m~\\Anaconda3\\lib\\site-packages\\xgboost\\sklearn.py\u001b[0m in \u001b[0;36mpredict\u001b[1;34m(self, data, output_margin, ntree_limit)\u001b[0m\n\u001b[0;32m    644\u001b[0m         class_probs = self.get_booster().predict(test_dmatrix,\n\u001b[0;32m    645\u001b[0m                                                  \u001b[0moutput_margin\u001b[0m\u001b[1;33m=\u001b[0m\u001b[0moutput_margin\u001b[0m\u001b[1;33m,\u001b[0m\u001b[1;33m\u001b[0m\u001b[0m\n\u001b[1;32m--> 646\u001b[1;33m                                                  ntree_limit=ntree_limit)\n\u001b[0m\u001b[0;32m    647\u001b[0m         \u001b[1;32mif\u001b[0m \u001b[0mlen\u001b[0m\u001b[1;33m(\u001b[0m\u001b[0mclass_probs\u001b[0m\u001b[1;33m.\u001b[0m\u001b[0mshape\u001b[0m\u001b[1;33m)\u001b[0m \u001b[1;33m>\u001b[0m \u001b[1;36m1\u001b[0m\u001b[1;33m:\u001b[0m\u001b[1;33m\u001b[0m\u001b[0m\n\u001b[0;32m    648\u001b[0m             \u001b[0mcolumn_indexes\u001b[0m \u001b[1;33m=\u001b[0m \u001b[0mnp\u001b[0m\u001b[1;33m.\u001b[0m\u001b[0margmax\u001b[0m\u001b[1;33m(\u001b[0m\u001b[0mclass_probs\u001b[0m\u001b[1;33m,\u001b[0m \u001b[0maxis\u001b[0m\u001b[1;33m=\u001b[0m\u001b[1;36m1\u001b[0m\u001b[1;33m)\u001b[0m\u001b[1;33m\u001b[0m\u001b[0m\n",
      "\u001b[1;32m~\\Anaconda3\\lib\\site-packages\\xgboost\\core.py\u001b[0m in \u001b[0;36mpredict\u001b[1;34m(self, data, output_margin, ntree_limit, pred_leaf, pred_contribs, approx_contribs, pred_interactions, validate_features)\u001b[0m\n\u001b[0;32m   1192\u001b[0m \u001b[1;33m\u001b[0m\u001b[0m\n\u001b[0;32m   1193\u001b[0m         \u001b[1;32mif\u001b[0m \u001b[0mvalidate_features\u001b[0m\u001b[1;33m:\u001b[0m\u001b[1;33m\u001b[0m\u001b[0m\n\u001b[1;32m-> 1194\u001b[1;33m             \u001b[0mself\u001b[0m\u001b[1;33m.\u001b[0m\u001b[0m_validate_features\u001b[0m\u001b[1;33m(\u001b[0m\u001b[0mdata\u001b[0m\u001b[1;33m)\u001b[0m\u001b[1;33m\u001b[0m\u001b[0m\n\u001b[0m\u001b[0;32m   1195\u001b[0m \u001b[1;33m\u001b[0m\u001b[0m\n\u001b[0;32m   1196\u001b[0m         \u001b[0mlength\u001b[0m \u001b[1;33m=\u001b[0m \u001b[0mc_bst_ulong\u001b[0m\u001b[1;33m(\u001b[0m\u001b[1;33m)\u001b[0m\u001b[1;33m\u001b[0m\u001b[0m\n",
      "\u001b[1;32m~\\Anaconda3\\lib\\site-packages\\xgboost\\core.py\u001b[0m in \u001b[0;36m_validate_features\u001b[1;34m(self, data)\u001b[0m\n\u001b[0;32m   1476\u001b[0m \u001b[1;33m\u001b[0m\u001b[0m\n\u001b[0;32m   1477\u001b[0m                 raise ValueError(msg.format(self.feature_names,\n\u001b[1;32m-> 1478\u001b[1;33m                                             data.feature_names))\n\u001b[0m\u001b[0;32m   1479\u001b[0m \u001b[1;33m\u001b[0m\u001b[0m\n\u001b[0;32m   1480\u001b[0m     \u001b[1;32mdef\u001b[0m \u001b[0mget_split_value_histogram\u001b[0m\u001b[1;33m(\u001b[0m\u001b[0mself\u001b[0m\u001b[1;33m,\u001b[0m \u001b[0mfeature\u001b[0m\u001b[1;33m,\u001b[0m \u001b[0mfmap\u001b[0m\u001b[1;33m=\u001b[0m\u001b[1;34m''\u001b[0m\u001b[1;33m,\u001b[0m \u001b[0mbins\u001b[0m\u001b[1;33m=\u001b[0m\u001b[1;32mNone\u001b[0m\u001b[1;33m,\u001b[0m \u001b[0mas_pandas\u001b[0m\u001b[1;33m=\u001b[0m\u001b[1;32mTrue\u001b[0m\u001b[1;33m)\u001b[0m\u001b[1;33m:\u001b[0m\u001b[1;33m\u001b[0m\u001b[0m\n",
      "\u001b[1;31mValueError\u001b[0m: feature_names mismatch: ['Unnamed: 0', 'age', 'time_in_hospital', 'num_lab_procedures', 'num_procedures', 'num_medications', 'number_outpatient', 'number_emergency', 'number_inpatient', 'number_diagnoses', 'race_Caucasian', 'race_AfricanAmerican', 'race_Other', 'race_Asian', 'race_Hispanic', 'gender_Male', 'gender_Unknown/Invalid', 'admission_type_id_Unknown', 'admission_type_id_Emergency', 'admission_type_id_Urgent', 'admission_type_id_Elective', 'discharge_disposition_id_Unknown', 'discharge_disposition_id_Discharged to home', 'discharge_disposition_id_Discharged/transferred to SNF', 'discharge_disposition_id_Discharged/transferred to home with home health service', 'discharge_disposition_id_Discharged/transferred to another short term hospital', 'discharge_disposition_id_Discharged/transferred to another type of inpatient care institution', 'discharge_disposition_id_Discharged/transferred to ICF', 'discharge_disposition_id_Discharged/transferred/referred to this institution for outpatient services', 'discharge_disposition_id_Discharged/transferred to another rehab fac including rehab units of a hospital.', 'discharge_disposition_id_Discharged/transferred/referred to a psychiatric hospital of psychiatric distinct part unit of a hospital', 'admission_source_id_Physician Referral', 'admission_source_id_Emergency Room', 'admission_source_id_Clinic Referral', 'admission_source_id_Transfer from a hospital', 'admission_source_id_Unknown', 'admission_source_id_Transfer from another health care facility', 'admission_source_id_HMO Referral', 'admission_source_id_Court/Law Enforcement', 'medical_specialty_InternalMedicine', 'medical_specialty_Family/GeneralPractice', 'medical_specialty_Cardiology', 'medical_specialty_Surgery-General', 'medical_specialty_Surgery-Cardiovascular/Thoracic', 'medical_specialty_Nephrology', 'medical_specialty_Orthopedics-Reconstructive', 'medical_specialty_Gastroenterology', 'medical_specialty_Psychiatry', 'medical_specialty_Pulmonology', 'medical_specialty_Emergency/Trauma', 'medical_specialty_Pediatrics-CriticalCare', 'medical_specialty_Surgery-Plastic', 'medical_specialty_Orthopedics', 'medical_specialty_Radiologist', 'diag_1_Diabetes', 'diag_1_Neoplasms', 'diag_1_Circulatory', 'diag_1_Respiratory', 'diag_1_Injury', 'diag_1_Musculoskeletal', 'diag_1_Digestive', 'diag_1_Genitourinary', 'diag_1_Mental Disorders', 'diag_2_Diabetes', 'diag_2_Neoplasms', 'diag_2_Circulatory', 'diag_2_Respiratory', 'diag_2_Injury', 'diag_2_Musculoskeletal', 'diag_2_Genitourinary', 'diag_2_Digestive', 'diag_2_Mental Disorders', 'diag_3_Neoplasms', 'diag_3_Circulatory', 'diag_3_Diabetes', 'diag_3_Respiratory', 'diag_3_Genitourinary', 'diag_3_Injury', 'diag_3_Musculoskeletal', 'diag_3_Digestive', 'max_glu_serum_None', 'max_glu_serum_>300', 'max_glu_serum_Norm', 'max_glu_serum_>200', 'A1Cresult_>7', 'A1Cresult_>8', 'A1Cresult_Norm', 'metformin_Steady', 'metformin_Up', 'metformin_Down', 'repaglinide_Steady', 'repaglinide_Down', 'repaglinide_Up', 'glimepiride_Steady', 'glimepiride_Down', 'glimepiride_Up', 'glipizide_Steady', 'glipizide_Up', 'glipizide_Down', 'glyburide_Steady', 'glyburide_Up', 'glyburide_Down', 'pioglitazone_Up', 'pioglitazone_Steady', 'pioglitazone_Down', 'rosiglitazone_Steady', 'rosiglitazone_Up', 'rosiglitazone_Down', 'insulin_Up', 'insulin_Steady', 'insulin_Down', 'change_Ch', 'diabetesMed_Yes'] ['Unnamed: 0', 'age', 'time_in_hospital', 'num_lab_procedures', 'num_procedures', 'num_medications', 'number_outpatient', 'number_emergency', 'number_inpatient', 'number_diagnoses', 'race_AfricanAmerican', 'race_Caucasian', 'race_Hispanic', 'race_Asian', 'gender_Male', 'admission_type_id_Emergency', 'admission_type_id_Urgent', 'admission_type_id_Elective', 'admission_type_id_Unknown', 'admission_type_id_Trauma Center', 'discharge_disposition_id_Discharged to home', 'discharge_disposition_id_Discharged/transferred to SNF', 'discharge_disposition_id_Discharged/transferred to another type of inpatient care institution', 'discharge_disposition_id_Discharged/transferred to another short term hospital', 'discharge_disposition_id_Discharged/transferred to home with home health service', 'discharge_disposition_id_Unknown', 'discharge_disposition_id_Left AMA', 'discharge_disposition_id_Discharged/transferred to ICF', 'discharge_disposition_id_Discharged/transferred to home under care of Home IV provider', 'discharge_disposition_id_Hospice / medical facility', 'discharge_disposition_id_Hospice / home', 'discharge_disposition_id_Discharged/transferred to another rehab fac including rehab units of a hospital.', 'discharge_disposition_id_Admitted as an inpatient to this hospital', 'discharge_disposition_id_Discharged/transferred to a long term care hospital.', 'discharge_disposition_id_Discharged/transferred/referred another institution for outpatient services', 'discharge_disposition_id_Discharged/transferred/referred to this institution for outpatient services', 'discharge_disposition_id_Discharged/transferred within this institution to Medicare approved swing bed', 'discharge_disposition_id_Discharged/transferred/referred to a psychiatric hospital of psychiatric distinct part unit of a hospital', 'discharge_disposition_id_Discharged/transferred to a federal health care facility.', 'discharge_disposition_id_Discharged/transferred to a nursing facility certified under Medicaid but not certified under Medicare.', 'admission_source_id_Emergency Room', 'admission_source_id_Transfer from a hospital', 'admission_source_id_Clinic Referral', 'admission_source_id_Physician Referral', 'admission_source_id_Unknown', 'admission_source_id_Transfer from a Skilled Nursing Facility (SNF)', 'admission_source_id_HMO Referral', 'admission_source_id_Transfer from another health care facility', 'admission_source_id_Extramural Birth', 'admission_source_id_Transfer from critical access hospital', 'admission_source_id_Court/Law Enforcement', 'admission_source_id_Transfer from hospital inpt/same fac reslt in a sep claim', 'admission_source_id_Transfer from Ambulatory Surgery Center', 'medical_specialty_Family/GeneralPractice', 'medical_specialty_Cardiology', 'medical_specialty_Orthopedics', 'medical_specialty_Gastroenterology', 'medical_specialty_InternalMedicine', 'medical_specialty_Emergency/Trauma', 'medical_specialty_Surgery-General', 'medical_specialty_Psychiatry', 'medical_specialty_Orthopedics-Reconstructive', 'medical_specialty_ObstetricsandGynecology', 'medical_specialty_Surgery-Neuro', 'medical_specialty_Hematology/Oncology', 'medical_specialty_Pulmonology', 'medical_specialty_Surgery-Cardiovascular/Thoracic', 'medical_specialty_Nephrology', 'medical_specialty_Pediatrics-CriticalCare', 'medical_specialty_Endocrinology', 'medical_specialty_Pediatrics-Endocrinology', 'medical_specialty_Urology', 'medical_specialty_Radiology', 'medical_specialty_Anesthesiology-Pediatric', 'medical_specialty_Psychiatry-Child/Adolescent', 'medical_specialty_Pediatrics', 'medical_specialty_Pediatrics-Pulmonology', 'medical_specialty_Gynecology', 'medical_specialty_Obsterics&Gynecology-GynecologicOnco', 'medical_specialty_Surgery-Plastic', 'medical_specialty_Otolaryngology', 'medical_specialty_PhysicalMedicineandRehabilitation', 'medical_specialty_InfectiousDiseases', 'medical_specialty_Neurology', 'medical_specialty_Oncology', 'medical_specialty_Psychology', 'medical_specialty_Pediatrics-Hematology-Oncology', 'medical_specialty_Rheumatology', 'medical_specialty_Surgery-Colon&Rectal', 'medical_specialty_Dentistry', 'medical_specialty_Pediatrics-AllergyandImmunology', 'medical_specialty_Pediatrics-Neurology', 'medical_specialty_AllergyandImmunology', 'medical_specialty_Surgery-Vascular', 'medical_specialty_Surgery-Thoracic', 'medical_specialty_Surgery-Pediatric', 'medical_specialty_Surgery-Cardiovascular', 'medical_specialty_Osteopath', 'medical_specialty_Anesthesiology', 'medical_specialty_Podiatry', 'medical_specialty_Surgeon', 'medical_specialty_Hematology', 'medical_specialty_Obstetrics', 'medical_specialty_Surgery-Maxillofacial', 'medical_specialty_Radiologist', 'medical_specialty_Speech', 'medical_specialty_Pathology', 'medical_specialty_Ophthalmology', 'medical_specialty_Cardiology-Pediatric', 'medical_specialty_SurgicalSpecialty', 'medical_specialty_Hospitalist', 'medical_specialty_PhysicianNotFound', 'medical_specialty_OutreachServices', 'diag_1_Circulatory', 'diag_1_Diabetes', 'diag_1_Neoplasms', 'diag_1_Respiratory', 'diag_1_Injury', 'diag_1_Musculoskeletal', 'diag_1_Digestive', 'diag_1_Genitourinary', 'diag_1_Mental Disorders', 'diag_2_Diabetes', 'diag_2_Circulatory', 'diag_2_Respiratory', 'diag_2_Neoplasms', 'diag_2_Digestive', 'diag_2_Injury', 'diag_2_Mental Disorders', 'diag_2_Genitourinary', 'diag_2_Musculoskeletal', 'diag_3_Injury', 'diag_3_Diabetes', 'diag_3_Circulatory', 'diag_3_Neoplasms', 'diag_3_Digestive', 'diag_3_Respiratory', 'diag_3_Musculoskeletal', 'diag_3_Genitourinary', 'max_glu_serum_None', 'max_glu_serum_>300', 'max_glu_serum_>200', 'max_glu_serum_Norm', 'A1Cresult_Norm', 'A1Cresult_>8', 'A1Cresult_>7', 'metformin_Steady', 'metformin_Up', 'metformin_Down', 'repaglinide_Up', 'repaglinide_Steady', 'repaglinide_Down', 'glimepiride_Steady', 'glimepiride_Up', 'glimepiride_Down', 'glipizide_Steady', 'glipizide_Up', 'glipizide_Down', 'glyburide_Steady', 'glyburide_Up', 'glyburide_Down', 'pioglitazone_Steady', 'pioglitazone_Down', 'pioglitazone_Up', 'rosiglitazone_Steady', 'rosiglitazone_Down', 'rosiglitazone_Up', 'insulin_Steady', 'insulin_Down', 'insulin_Up', 'change_Ch', 'diabetesMed_Yes']\nexpected gender_Unknown/Invalid, race_Other in input data\ntraining data did not have the following fields: medical_specialty_Surgery-Cardiovascular, medical_specialty_Rheumatology, admission_source_id_Transfer from critical access hospital, medical_specialty_Pediatrics-Endocrinology, medical_specialty_Psychiatry-Child/Adolescent, medical_specialty_Pediatrics-Neurology, medical_specialty_Surgeon, medical_specialty_Cardiology-Pediatric, discharge_disposition_id_Left AMA, discharge_disposition_id_Discharged/transferred to home under care of Home IV provider, medical_specialty_Urology, discharge_disposition_id_Discharged/transferred to a federal health care facility., medical_specialty_Ophthalmology, medical_specialty_Surgery-Maxillofacial, medical_specialty_Anesthesiology, medical_specialty_Pediatrics, medical_specialty_Surgery-Neuro, discharge_disposition_id_Discharged/transferred/referred another institution for outpatient services, admission_source_id_Transfer from hospital inpt/same fac reslt in a sep claim, medical_specialty_Pediatrics-Hematology-Oncology, admission_source_id_Transfer from a Skilled Nursing Facility (SNF), discharge_disposition_id_Hospice / home, admission_source_id_Extramural Birth, medical_specialty_Obsterics&Gynecology-GynecologicOnco, medical_specialty_Endocrinology, admission_type_id_Trauma Center, discharge_disposition_id_Hospice / medical facility, medical_specialty_Surgery-Vascular, medical_specialty_AllergyandImmunology, discharge_disposition_id_Discharged/transferred within this institution to Medicare approved swing bed, medical_specialty_Osteopath, medical_specialty_Hospitalist, medical_specialty_Pathology, medical_specialty_Gynecology, medical_specialty_OutreachServices, medical_specialty_ObstetricsandGynecology, medical_specialty_Pediatrics-AllergyandImmunology, medical_specialty_Oncology, medical_specialty_Speech, medical_specialty_Surgery-Pediatric, medical_specialty_InfectiousDiseases, medical_specialty_Radiology, medical_specialty_PhysicalMedicineandRehabilitation, discharge_disposition_id_Admitted as an inpatient to this hospital, medical_specialty_Surgery-Thoracic, discharge_disposition_id_Discharged/transferred to a long term care hospital., medical_specialty_Psychology, medical_specialty_PhysicianNotFound, medical_specialty_Otolaryngology, medical_specialty_Hematology, medical_specialty_SurgicalSpecialty, medical_specialty_Podiatry, medical_specialty_Anesthesiology-Pediatric, admission_source_id_Transfer from Ambulatory Surgery Center, medical_specialty_Hematology/Oncology, medical_specialty_Pediatrics-Pulmonology, medical_specialty_Neurology, medical_specialty_Surgery-Colon&Rectal, medical_specialty_Obstetrics, medical_specialty_Dentistry, discharge_disposition_id_Discharged/transferred to a nursing facility certified under Medicaid but not certified under Medicare."
     ]
    }
   ],
   "source": [
    "###Feature names mismatch with Tim's data\n",
    "timtrain = pd.read_csv('../Tim/multi_tim_12.1.csv')\n",
    "timtest = pd.read_csv('../Tim/test_tim_12.5.csv')\n",
    "\n",
    "timtrainX = timtrain.drop('readmitted_<30', axis=1)\n",
    "timtrainY = timtrain['readmitted_<30']\n",
    "\n",
    "timtestX = timtest.drop(['readmitted_>30', 'readmitted_<30'], axis=1)\n",
    "timtestY = timtest['readmitted_<30']\n",
    "\n",
    "from xgboost.sklearn import XGBClassifier as xgb\n",
    "\n",
    "xgb2 = xgb()\n",
    "xgb2.set_params(n_estimators=500, min_child_weight=10, max_depth=5, gamma=5, colsample_bytree=0.6, max_delta_step=5)\n",
    "\n",
    "xgb2.fit(timtrainX, timtrainY)\n",
    "\n",
    "predictTXB = xgb2.predict(timtestX)\n",
    "predictprobsTXB = xgb2.predict_proba(timtestX)"
   ]
  },
  {
   "cell_type": "code",
   "execution_count": 183,
   "metadata": {},
   "outputs": [
    {
     "ename": "ValueError",
     "evalue": "feature_names may not contain [, ] or <",
     "output_type": "error",
     "traceback": [
      "\u001b[1;31m---------------------------------------------------------------------------\u001b[0m",
      "\u001b[1;31mValueError\u001b[0m                                Traceback (most recent call last)",
      "\u001b[1;32m<ipython-input-183-7b212e5acecd>\u001b[0m in \u001b[0;36m<module>\u001b[1;34m()\u001b[0m\n\u001b[0;32m     14\u001b[0m \u001b[0mxgb2\u001b[0m\u001b[1;33m.\u001b[0m\u001b[0mset_params\u001b[0m\u001b[1;33m(\u001b[0m\u001b[0mn_estimators\u001b[0m\u001b[1;33m=\u001b[0m\u001b[1;36m500\u001b[0m\u001b[1;33m,\u001b[0m \u001b[0mmin_child_weight\u001b[0m\u001b[1;33m=\u001b[0m\u001b[1;36m10\u001b[0m\u001b[1;33m,\u001b[0m \u001b[0mmax_depth\u001b[0m\u001b[1;33m=\u001b[0m\u001b[1;36m5\u001b[0m\u001b[1;33m,\u001b[0m \u001b[0mgamma\u001b[0m\u001b[1;33m=\u001b[0m\u001b[1;36m5\u001b[0m\u001b[1;33m,\u001b[0m \u001b[0mcolsample_bytree\u001b[0m\u001b[1;33m=\u001b[0m\u001b[1;36m0.6\u001b[0m\u001b[1;33m,\u001b[0m \u001b[0mmax_delta_step\u001b[0m\u001b[1;33m=\u001b[0m\u001b[1;36m5\u001b[0m\u001b[1;33m)\u001b[0m\u001b[1;33m\u001b[0m\u001b[0m\n\u001b[0;32m     15\u001b[0m \u001b[1;33m\u001b[0m\u001b[0m\n\u001b[1;32m---> 16\u001b[1;33m \u001b[0mxgb2\u001b[0m\u001b[1;33m.\u001b[0m\u001b[0mfit\u001b[0m\u001b[1;33m(\u001b[0m\u001b[0manishatrainX\u001b[0m\u001b[1;33m,\u001b[0m \u001b[0manishatrainY\u001b[0m\u001b[1;33m)\u001b[0m\u001b[1;33m\u001b[0m\u001b[0m\n\u001b[0m\u001b[0;32m     17\u001b[0m \u001b[1;33m\u001b[0m\u001b[0m\n\u001b[0;32m     18\u001b[0m \u001b[0mpredictAXB\u001b[0m \u001b[1;33m=\u001b[0m \u001b[0mxgb2\u001b[0m\u001b[1;33m.\u001b[0m\u001b[0mpredict\u001b[0m\u001b[1;33m(\u001b[0m\u001b[0manishatestX\u001b[0m\u001b[1;33m)\u001b[0m\u001b[1;33m\u001b[0m\u001b[0m\n",
      "\u001b[1;32m~\\Anaconda3\\lib\\site-packages\\xgboost\\sklearn.py\u001b[0m in \u001b[0;36mfit\u001b[1;34m(self, X, y, sample_weight, eval_set, eval_metric, early_stopping_rounds, verbose, xgb_model, sample_weight_eval_set)\u001b[0m\n\u001b[0;32m    583\u001b[0m         \u001b[1;32melse\u001b[0m\u001b[1;33m:\u001b[0m\u001b[1;33m\u001b[0m\u001b[0m\n\u001b[0;32m    584\u001b[0m             train_dmatrix = DMatrix(X, label=training_labels,\n\u001b[1;32m--> 585\u001b[1;33m                                     missing=self.missing, nthread=self.n_jobs)\n\u001b[0m\u001b[0;32m    586\u001b[0m \u001b[1;33m\u001b[0m\u001b[0m\n\u001b[0;32m    587\u001b[0m         self._Booster = train(xgb_options, train_dmatrix, self.n_estimators,\n",
      "\u001b[1;32m~\\Anaconda3\\lib\\site-packages\\xgboost\\core.py\u001b[0m in \u001b[0;36m__init__\u001b[1;34m(self, data, label, missing, weight, silent, feature_names, feature_types, nthread)\u001b[0m\n\u001b[0;32m    383\u001b[0m                 \u001b[0mself\u001b[0m\u001b[1;33m.\u001b[0m\u001b[0mset_weight\u001b[0m\u001b[1;33m(\u001b[0m\u001b[0mweight\u001b[0m\u001b[1;33m)\u001b[0m\u001b[1;33m\u001b[0m\u001b[0m\n\u001b[0;32m    384\u001b[0m \u001b[1;33m\u001b[0m\u001b[0m\n\u001b[1;32m--> 385\u001b[1;33m         \u001b[0mself\u001b[0m\u001b[1;33m.\u001b[0m\u001b[0mfeature_names\u001b[0m \u001b[1;33m=\u001b[0m \u001b[0mfeature_names\u001b[0m\u001b[1;33m\u001b[0m\u001b[0m\n\u001b[0m\u001b[0;32m    386\u001b[0m         \u001b[0mself\u001b[0m\u001b[1;33m.\u001b[0m\u001b[0mfeature_types\u001b[0m \u001b[1;33m=\u001b[0m \u001b[0mfeature_types\u001b[0m\u001b[1;33m\u001b[0m\u001b[0m\n\u001b[0;32m    387\u001b[0m \u001b[1;33m\u001b[0m\u001b[0m\n",
      "\u001b[1;32m~\\Anaconda3\\lib\\site-packages\\xgboost\\core.py\u001b[0m in \u001b[0;36mfeature_names\u001b[1;34m(self, feature_names)\u001b[0m\n\u001b[0;32m    784\u001b[0m                        \u001b[1;32mnot\u001b[0m \u001b[0many\u001b[0m\u001b[1;33m(\u001b[0m\u001b[0mx\u001b[0m \u001b[1;32min\u001b[0m \u001b[0mf\u001b[0m \u001b[1;32mfor\u001b[0m \u001b[0mx\u001b[0m \u001b[1;32min\u001b[0m \u001b[0mset\u001b[0m\u001b[1;33m(\u001b[0m\u001b[1;33m(\u001b[0m\u001b[1;34m'['\u001b[0m\u001b[1;33m,\u001b[0m \u001b[1;34m']'\u001b[0m\u001b[1;33m,\u001b[0m \u001b[1;34m'<'\u001b[0m\u001b[1;33m)\u001b[0m\u001b[1;33m)\u001b[0m\u001b[1;33m)\u001b[0m\u001b[1;33m\u001b[0m\u001b[0m\n\u001b[0;32m    785\u001b[0m                        for f in feature_names):\n\u001b[1;32m--> 786\u001b[1;33m                 \u001b[1;32mraise\u001b[0m \u001b[0mValueError\u001b[0m\u001b[1;33m(\u001b[0m\u001b[1;34m'feature_names may not contain [, ] or <'\u001b[0m\u001b[1;33m)\u001b[0m\u001b[1;33m\u001b[0m\u001b[0m\n\u001b[0m\u001b[0;32m    787\u001b[0m         \u001b[1;32melse\u001b[0m\u001b[1;33m:\u001b[0m\u001b[1;33m\u001b[0m\u001b[0m\n\u001b[0;32m    788\u001b[0m             \u001b[1;31m# reset feature_types also\u001b[0m\u001b[1;33m\u001b[0m\u001b[1;33m\u001b[0m\u001b[0m\n",
      "\u001b[1;31mValueError\u001b[0m: feature_names may not contain [, ] or <"
     ]
    }
   ],
   "source": [
    "###Feature names mismatch with Anisha's data; column name issues\n",
    "anishatrain = pd.read_csv('../anisha/dataset_diabetes/new_train.csv', index_col=0)\n",
    "anishatest = pd.read_csv('../anisha/dataset_diabetes/new_test.csv', index_col=0)\n",
    "\n",
    "anishatrainX = anishatrain.drop('readmitted_Yes', axis=1)\n",
    "anishatrainY = anishatrain['readmitted_Yes']\n",
    "\n",
    "anishatestX = anishatest.drop('readmitted_Yes', axis=1)\n",
    "anishatestY = anishatest['readmitted_Yes']\n",
    "\n",
    "from xgboost.sklearn import XGBClassifier as xgb\n",
    "\n",
    "xgb2 = xgb()\n",
    "xgb2.set_params(n_estimators=500, min_child_weight=10, max_depth=5, gamma=5, colsample_bytree=0.6, max_delta_step=5)\n",
    "\n",
    "xgb2.fit(anishatrainX, anishatrainY)\n",
    "\n",
    "predictAXB = xgb2.predict(anishatestX)\n",
    "predictprobsAXB = xgb2.predict_proba(anishatestX)"
   ]
  },
  {
   "cell_type": "code",
   "execution_count": 184,
   "metadata": {},
   "outputs": [],
   "source": [
    "anishacols = list(anishatrain.columns)"
   ]
  },
  {
   "cell_type": "code",
   "execution_count": 195,
   "metadata": {},
   "outputs": [],
   "source": [
    "anishacols[9] = 'Age2'\n",
    "anishacols[10] = 'Age3'\n",
    "anishacols[11] = 'Age4'\n",
    "anishacols[12] = 'Age5'\n",
    "anishacols[13] = 'Age6'\n",
    "anishacols[14] = 'Age7'\n",
    "anishacols[15] = 'Age8'\n",
    "anishacols[16] = 'Age9'"
   ]
  },
  {
   "cell_type": "code",
   "execution_count": 196,
   "metadata": {},
   "outputs": [],
   "source": [
    "anishatrain.columns = anishacols\n",
    "anishatest.columns = anishacols"
   ]
  },
  {
   "cell_type": "code",
   "execution_count": 198,
   "metadata": {},
   "outputs": [
    {
     "name": "stderr",
     "output_type": "stream",
     "text": [
      "C:\\Users\\Dave\\Anaconda3\\lib\\site-packages\\sklearn\\preprocessing\\label.py:151: DeprecationWarning: The truth value of an empty array is ambiguous. Returning False, but in future this will result in an error. Use `array.size > 0` to check that an array is not empty.\n",
      "  if diff:\n"
     ]
    }
   ],
   "source": [
    "anishatrainX = anishatrain.drop('readmitted_Yes', axis=1)\n",
    "anishatrainX = anishatrainX.drop('encounter_id', axis=1)\n",
    "anishatrainY = anishatrain['readmitted_Yes']\n",
    "\n",
    "anishatestX = anishatest.drop('readmitted_Yes', axis=1)\n",
    "anishatestX = anishatestX.drop('encounter_id', axis=1)\n",
    "anishatestY = anishatest['readmitted_Yes']\n",
    "\n",
    "from xgboost.sklearn import XGBClassifier as xgb\n",
    "\n",
    "xgb2 = xgb()\n",
    "xgb2.set_params(n_estimators=500, min_child_weight=10, max_depth=5, gamma=5, colsample_bytree=0.6, max_delta_step=5)\n",
    "\n",
    "xgb2.fit(anishatrainX, anishatrainY)\n",
    "\n",
    "predictAXB = xgb2.predict(anishatestX)\n",
    "predictprobsAXB = xgb2.predict_proba(anishatestX)"
   ]
  },
  {
   "cell_type": "code",
   "execution_count": 200,
   "metadata": {},
   "outputs": [
    {
     "data": {
      "text/plain": [
       "0.675882142752384"
      ]
     },
     "execution_count": 200,
     "metadata": {},
     "output_type": "execute_result"
    }
   ],
   "source": [
    "AUC(anishatestY, predictprobsAXB[:,1])"
   ]
  },
  {
   "cell_type": "code",
   "execution_count": 2,
   "metadata": {},
   "outputs": [],
   "source": [
    "#Try importing the \"combined\" DF with inputs from multiple team members\n",
    "DiabetesTakingMedF = pd.read_csv('DiabetesTakingMedF.csv', index_col=0)\n",
    "\n",
    "DiabetesTrainF = DiabetesTakingMedF[DiabetesTakingMedF['IsTrain']==1].drop('IsTrain', axis=1)\n",
    "DiabetesTrainF.index = list(range(len(DiabetesTrainF)))\n",
    "\n",
    "DiabetesTestF = DiabetesTakingMedF[DiabetesTakingMedF['IsTrain']==0].drop('IsTrain', axis=1)\n",
    "DiabetesTestF.index = list(range(len(DiabetesTestF)))"
   ]
  },
  {
   "cell_type": "code",
   "execution_count": 5,
   "metadata": {},
   "outputs": [],
   "source": [
    "DiabetesTrainLMF = DiabetesTrainF[DiabetesTrainF['readmitted']!=1]\n",
    "trainXF = DiabetesTrainLMF.drop('readmitted', axis=1)\n",
    "trainYF = DiabetesTrainLMF['readmitted'].replace([2], [1])\n",
    "\n",
    "testXF = DiabetesTestF.drop('readmitted', axis=1)\n",
    "testYF = DiabetesTestF['readmitted'].replace([2], [1])\n",
    "\n",
    "from sklearn.linear_model import LinearRegression as lm\n",
    "\n",
    "lm = lm()\n",
    "\n",
    "lm.fit(trainXF, trainYF)\n",
    "\n",
    "middleFdf = DiabetesTrainF[DiabetesTrainF['readmitted']==1]\n",
    "middleFdfX = middleFdf.drop('readmitted', axis=1)\n",
    "middleFdfY = middleFdf['readmitted']\n",
    "\n",
    "predictarray = lm.predict(middleFdfX)"
   ]
  },
  {
   "cell_type": "code",
   "execution_count": 9,
   "metadata": {},
   "outputs": [],
   "source": [
    "#Cutting out intermediate values with linear score >0.75 (close to the <30 group) helps the analysis (above). Let's do that:\n",
    "middleFdf75 = middleFdf.loc[predictarray<0.75]"
   ]
  },
  {
   "cell_type": "code",
   "execution_count": 10,
   "metadata": {},
   "outputs": [],
   "source": [
    "train75F = pd.concat([DiabetesTrainLMF, middleFdf75], axis=0)\n",
    "train75F.index = list(range(len(train75F)))"
   ]
  },
  {
   "cell_type": "code",
   "execution_count": 11,
   "metadata": {},
   "outputs": [],
   "source": [
    "#Let's illustrate again that training with the shaved group is better than using all entries:\n",
    "#This is all entries:\n",
    "\n",
    "trainXFALL = DiabetesTrainF.drop('readmitted', axis=1)\n",
    "trainYFALL = DiabetesTrainF['readmitted'].replace([2, 1], [1, 0])\n",
    "\n",
    "from sklearn.linear_model import LogisticRegression as lgr\n",
    "\n",
    "lgr = lgr()\n",
    "lgr.set_params(C=0.1)\n",
    "\n",
    "lgr.fit(trainXFALL, trainYFALL)\n",
    "\n",
    "predicttestprobsLRFALL = lgr.predict_proba(testXF)"
   ]
  },
  {
   "cell_type": "code",
   "execution_count": 12,
   "metadata": {},
   "outputs": [
    {
     "data": {
      "text/plain": [
       "0.6330516932440414"
      ]
     },
     "execution_count": 12,
     "metadata": {},
     "output_type": "execute_result"
    }
   ],
   "source": [
    "from sklearn.metrics import roc_auc_score as AUC\n",
    "\n",
    "AUC(testYF, predicttestprobsLRFALL[:,1])"
   ]
  },
  {
   "cell_type": "code",
   "execution_count": 13,
   "metadata": {},
   "outputs": [],
   "source": [
    "#Let's illustrate again that training with the shaved group is better than using all entries:\n",
    "#This is all entries:\n",
    "\n",
    "trainXF75 = train75F.drop('readmitted', axis=1)\n",
    "trainYF75 = train75F['readmitted'].replace([2, 1], [1, 0])\n",
    "\n",
    "from sklearn.linear_model import LogisticRegression as lgr\n",
    "\n",
    "lgr = lgr()\n",
    "lgr.set_params(C=0.1)\n",
    "\n",
    "lgr.fit(trainXF75, trainYF75)\n",
    "\n",
    "predicttestprobsLRF75 = lgr.predict_proba(testXF)"
   ]
  },
  {
   "cell_type": "code",
   "execution_count": 15,
   "metadata": {},
   "outputs": [
    {
     "data": {
      "text/plain": [
       "0.6371546693093887"
      ]
     },
     "execution_count": 15,
     "metadata": {},
     "output_type": "execute_result"
    }
   ],
   "source": [
    "# The score is better; but the large size of this new DF suggests we need to trim features (at least for linear). Let's do that:\n",
    "\n",
    "from sklearn.metrics import roc_auc_score as AUC\n",
    "\n",
    "AUC(testYF, predicttestprobsLRF75[:,1])"
   ]
  },
  {
   "cell_type": "code",
   "execution_count": 18,
   "metadata": {},
   "outputs": [
    {
     "name": "stdout",
     "output_type": "stream",
     "text": [
      "med_nateglinide removed: New AIC = 159022.97340646473\n",
      "med_chlorpropamide removed: New AIC = 159020.97354285518\n",
      "diag_infection removed: New AIC = 159019.03224256058\n",
      "diabfeat_hyperosmolarity removed: New AIC = 159017.18859571678\n",
      "med_tolbutamide removed: New AIC = 159015.4778184043\n",
      "admission_type_id_3 removed: New AIC = 159014.41605810364\n",
      "medical_specialty_Psychiatry removed: New AIC = 159014.07179113367\n",
      "medical_specialty_Pulmonology removed: New AIC = 159012.7247548651\n",
      "med_glipizide.metformin removed: New AIC = 159010.8726569487\n",
      "diag_blooddis removed: New AIC = 159008.94804254323\n",
      "diag_musculoskeletal removed: New AIC = 159007.20981926465\n",
      "primarydiag_mentaldis removed: New AIC = 159005.21272287925\n",
      "primarydiag_pregnancy removed: New AIC = 159003.30533395364\n",
      "diag_nervous removed: New AIC = 159002.4152113428\n",
      "medical_specialty_Radiologist removed: New AIC = 159000.94486805185\n",
      "medical_specialty_Urology removed: New AIC = 158999.0876989959\n",
      "diag_digestive removed: New AIC = 158998.99626857534\n",
      "med_glimepiride removed: New AIC = 158997.81088903526\n",
      "primarydiag_blooddis removed: New AIC = 158996.2918674845\n",
      "admission_type_id_4 removed: New AIC = 158994.5744096451\n",
      "med_miglitol removed: New AIC = 158993.5315410379\n",
      "medical_specialty_Other removed: New AIC = 158991.84466480504\n",
      "med_tolazamide removed: New AIC = 158990.29698694768\n",
      "diabfeat_coma removed: New AIC = 158988.29734429292\n",
      "medical_specialty_Emergency/Trauma removed: New AIC = 158986.96095445493\n",
      "diag_mentaldis removed: New AIC = 158985.73255637393\n",
      "max_glu_serum_>200 removed: New AIC = 158983.73321923648\n",
      "med_glyburide removed: New AIC = 158981.9562951731\n",
      "diag_injury removed: New AIC = 158980.09204720118\n",
      "med_pioglitazone removed: New AIC = 158978.66330671986\n",
      "diag_other removed: New AIC = 158976.6673262464\n",
      "discharge_disposition_unknown removed: New AIC = 158974.95572894532\n",
      "med_glyburide.metformin removed: New AIC = 158973.13690721805\n",
      "change_Ch removed: New AIC = 158972.51058030064\n",
      "med_repaglinide removed: New AIC = 158972.35926147574\n"
     ]
    }
   ],
   "source": [
    "#Function to trim DF (do twice and collect common features):\n",
    "'''import statsmodels.api as sm \n",
    "Run1 = FindLowestAICNonLogBackward(train75F, 'readmitted')'''"
   ]
  },
  {
   "cell_type": "code",
   "execution_count": 19,
   "metadata": {},
   "outputs": [
    {
     "name": "stdout",
     "output_type": "stream",
     "text": [
      "primarydiag_nervous removed: New AIC = 159024.31445527272\n",
      "admission_type_id_4 removed: New AIC = 159022.61935314458\n",
      "diag_injury removed: New AIC = 159020.71663459612\n",
      "medical_specialty_Other removed: New AIC = 159019.21176693996\n",
      "med_repaglinide removed: New AIC = 159018.96491419908\n",
      "diag_digestive removed: New AIC = 159018.6084849541\n",
      "primarydiag_blooddis removed: New AIC = 159016.91388182575\n",
      "medical_specialty_Urology removed: New AIC = 159015.02156218514\n",
      "admission_type_id_3 removed: New AIC = 159013.93904026374\n",
      "diag_blooddis removed: New AIC = 159012.1320679473\n",
      "medical_specialty_Radiologist removed: New AIC = 159010.66827630345\n",
      "diag_pregnancy removed: New AIC = 159009.04142420294\n",
      "medical_specialty_Emergency/Trauma removed: New AIC = 159007.51470509195\n",
      "med_miglitol removed: New AIC = 159006.49139291834\n",
      "diag_mentaldis removed: New AIC = 159005.26901764824\n",
      "med_chlorpropamide removed: New AIC = 159003.26962715155\n",
      "max_glu_serum_>200 removed: New AIC = 159001.27088966971\n",
      "primarydiag_mentaldis removed: New AIC = 158999.42785760658\n",
      "med_glyburide.metformin removed: New AIC = 158997.7661475395\n",
      "med_tolbutamide removed: New AIC = 158996.06318207528\n",
      "diabfeat_hyperosmolarity removed: New AIC = 158994.24574311497\n",
      "medical_specialty_Pulmonology removed: New AIC = 158992.99280567828\n",
      "med_tolazamide removed: New AIC = 158991.48101651526\n",
      "med_glimepiride removed: New AIC = 158990.43484543823\n",
      "med_glyburide removed: New AIC = 158988.77750000422\n",
      "primarydiag_musculoskeletal removed: New AIC = 158987.96082765996\n",
      "med_glipizide.metformin removed: New AIC = 158986.09226990648\n",
      "diabfeat_coma removed: New AIC = 158984.09230947588\n",
      "diag_infection removed: New AIC = 158982.18549568282\n",
      "med_pioglitazone removed: New AIC = 158980.70102358857\n",
      "med_repaglinide added: New AIC = 158980.61088726844\n",
      "discharge_disposition_unknown removed: New AIC = 158978.9232322433\n",
      "diag_other removed: New AIC = 158976.9234725901\n",
      "med_nateglinide removed: New AIC = 158974.9534168749\n",
      "change_Ch removed: New AIC = 158974.36490771102\n",
      "med_acarbose removed: New AIC = 158974.29574937918\n",
      "med_rosiglitazone removed: New AIC = 158974.19389526412\n",
      "med_repaglinide removed: New AIC = 158974.07854885946\n",
      "medical_specialty_Psychiatry removed: New AIC = 158973.62217068975\n"
     ]
    }
   ],
   "source": [
    "#Run2 = FindLowestAICNonLogBackward(train75F, 'readmitted')"
   ]
  },
  {
   "cell_type": "code",
   "execution_count": 22,
   "metadata": {
    "scrolled": true
   },
   "outputs": [
    {
     "data": {
      "text/plain": [
       "['diag_neoplasm',\n",
       " 'diag_urogenital',\n",
       " 'medical_specialty_Nephrology',\n",
       " 'primarydiag_other',\n",
       " 'number_inpatient',\n",
       " 'med_insulin',\n",
       " 'admission_source_id_6',\n",
       " 'max_glu_serum_>300',\n",
       " 'discharge_disposition_psych',\n",
       " 'primarydiag_Nothing',\n",
       " 'A1Cresult_Norm',\n",
       " 'diag_circulatory',\n",
       " 'A1Cresult_>7',\n",
       " 'admission_source_id_8',\n",
       " 'diabfeat_ketoacidosis',\n",
       " 'admission_source_id_5',\n",
       " 'readmitted',\n",
       " 'primarydiag_neoplasm',\n",
       " 'admission_source_id_2',\n",
       " 'discharge_disposition_hospice',\n",
       " 'med_any_No',\n",
       " 'admission_type_id_5',\n",
       " 'race_Asian',\n",
       " 'medical_specialty_OBGYN',\n",
       " 'number_emergency',\n",
       " 'primarydiag_digestive',\n",
       " 'diag_skin',\n",
       " 'medical_specialty_Oncology',\n",
       " 'med_metformin',\n",
       " 'gender_Male',\n",
       " 'diabfeat_circulatory',\n",
       " 'admission_type_id_2',\n",
       " 'primarydiag_injury',\n",
       " 'race_Hispanic',\n",
       " 'medical_specialty_Surgery',\n",
       " 'race_Other',\n",
       " 'diabchange',\n",
       " 'admission_source_id_4',\n",
       " 'discharge_disposition_leftAMA',\n",
       " 'primarydiag_infection',\n",
       " 'medical_specialty_Gastroenterology',\n",
       " 'time_in_hospital',\n",
       " 'diabfeat_renal',\n",
       " 'number_outpatient',\n",
       " 'num_medications',\n",
       " 'diag_metabolic',\n",
       " 'medical_specialty_Orthopedics',\n",
       " 'race_AfricanAmerican',\n",
       " 'primarydiag_respiratory',\n",
       " 'primarydiag_skin',\n",
       " 'diabfeat_ophthalmic',\n",
       " 'age',\n",
       " 'medical_specialty_Cardiology',\n",
       " 'med_glipizide',\n",
       " 'admission_type_id_7',\n",
       " 'num_lab_procedures',\n",
       " 'num_procedures',\n",
       " 'number_diagnoses',\n",
       " 'discharge_disposition_nursing',\n",
       " 'diabfeat_neurologic',\n",
       " 'medical_specialty_Pediatrics',\n",
       " 'discharge_disposition_outpatient',\n",
       " 'admission_source_id_1',\n",
       " 'max_glu_serum_Norm',\n",
       " 'primarydiag_metabolic',\n",
       " 'discharge_disposition_hhealth',\n",
       " 'diabfeat_other',\n",
       " 'diag_respiratory',\n",
       " 'medical_specialty_Family/GeneralPractice',\n",
       " 'discharge_disposition_hospital',\n",
       " 'A1Cresult_>8',\n",
       " 'primarydiag_urogenital',\n",
       " 'admission_source_id_3']"
      ]
     },
     "execution_count": 22,
     "metadata": {},
     "output_type": "execute_result"
    }
   ],
   "source": [
    "#We now create the joint list and print it, and recreate it (can then comment this out later)\n",
    "FeatureList = list(set(list(Run1[0].columns)) & set(list(Run2[0].columns)))\n",
    "FeatureList"
   ]
  },
  {
   "cell_type": "code",
   "execution_count": 23,
   "metadata": {},
   "outputs": [],
   "source": [
    "FeatureList = ['diag_neoplasm',\n",
    " 'diag_urogenital',\n",
    " 'medical_specialty_Nephrology',\n",
    " 'primarydiag_other',\n",
    " 'number_inpatient',\n",
    " 'med_insulin',\n",
    " 'admission_source_id_6',\n",
    " 'max_glu_serum_>300',\n",
    " 'discharge_disposition_psych',\n",
    " 'primarydiag_Nothing',\n",
    " 'A1Cresult_Norm',\n",
    " 'diag_circulatory',\n",
    " 'A1Cresult_>7',\n",
    " 'admission_source_id_8',\n",
    " 'diabfeat_ketoacidosis',\n",
    " 'admission_source_id_5',\n",
    " 'readmitted',\n",
    " 'primarydiag_neoplasm',\n",
    " 'admission_source_id_2',\n",
    " 'discharge_disposition_hospice',\n",
    " 'med_any_No',\n",
    " 'admission_type_id_5',\n",
    " 'race_Asian',\n",
    " 'medical_specialty_OBGYN',\n",
    " 'number_emergency',\n",
    " 'primarydiag_digestive',\n",
    " 'diag_skin',\n",
    " 'medical_specialty_Oncology',\n",
    " 'med_metformin',\n",
    " 'gender_Male',\n",
    " 'diabfeat_circulatory',\n",
    " 'admission_type_id_2',\n",
    " 'primarydiag_injury',\n",
    " 'race_Hispanic',\n",
    " 'medical_specialty_Surgery',\n",
    " 'race_Other',\n",
    " 'diabchange',\n",
    " 'admission_source_id_4',\n",
    " 'discharge_disposition_leftAMA',\n",
    " 'primarydiag_infection',\n",
    " 'medical_specialty_Gastroenterology',\n",
    " 'time_in_hospital',\n",
    " 'diabfeat_renal',\n",
    " 'number_outpatient',\n",
    " 'num_medications',\n",
    " 'diag_metabolic',\n",
    " 'medical_specialty_Orthopedics',\n",
    " 'race_AfricanAmerican',\n",
    " 'primarydiag_respiratory',\n",
    " 'primarydiag_skin',\n",
    " 'diabfeat_ophthalmic',\n",
    " 'age',\n",
    " 'medical_specialty_Cardiology',\n",
    " 'med_glipizide',\n",
    " 'admission_type_id_7',\n",
    " 'num_lab_procedures',\n",
    " 'num_procedures',\n",
    " 'number_diagnoses',\n",
    " 'discharge_disposition_nursing',\n",
    " 'diabfeat_neurologic',\n",
    " 'medical_specialty_Pediatrics',\n",
    " 'discharge_disposition_outpatient',\n",
    " 'admission_source_id_1',\n",
    " 'max_glu_serum_Norm',\n",
    " 'primarydiag_metabolic',\n",
    " 'discharge_disposition_hhealth',\n",
    " 'diabfeat_other',\n",
    " 'diag_respiratory',\n",
    " 'medical_specialty_Family/GeneralPractice',\n",
    " 'discharge_disposition_hospital',\n",
    " 'A1Cresult_>8',\n",
    " 'primarydiag_urogenital',\n",
    " 'admission_source_id_3']"
   ]
  },
  {
   "cell_type": "code",
   "execution_count": 26,
   "metadata": {},
   "outputs": [],
   "source": [
    "#This is all entries:\n",
    "DiabetesFTrim = DiabetesTrainF[FeatureList]\n",
    "DiabetesFTestTrim = DiabetesTestF[FeatureList]\n",
    "\n",
    "trainXFTrimALL = DiabetesFTrim.drop('readmitted', axis=1)\n",
    "trainYFTrimALL = DiabetesFTrim['readmitted'].replace([2, 1], [1, 0])\n",
    "\n",
    "testXTrim = DiabetesFTestTrim.drop('readmitted', axis=1)\n",
    "\n",
    "from sklearn.linear_model import LogisticRegression as lgr\n",
    "\n",
    "lgr = lgr()\n",
    "lgr.set_params(C=0.1)\n",
    "\n",
    "lgr.fit(trainXFTrimALL, trainYFTrimALL)\n",
    "\n",
    "predicttestprobsLRFTrimALL = lgr.predict_proba(testXTrim)"
   ]
  },
  {
   "cell_type": "code",
   "execution_count": 27,
   "metadata": {},
   "outputs": [
    {
     "data": {
      "text/plain": [
       "0.636494299128102"
      ]
     },
     "execution_count": 27,
     "metadata": {},
     "output_type": "execute_result"
    }
   ],
   "source": [
    "from sklearn.metrics import roc_auc_score as AUC\n",
    "\n",
    "AUC(testYF, predicttestprobsLRFTrimALL[:,1])"
   ]
  },
  {
   "cell_type": "code",
   "execution_count": 30,
   "metadata": {},
   "outputs": [
    {
     "data": {
      "text/plain": [
       "admission_type_id_7                        15\n",
       "discharge_disposition_psych               108\n",
       "admission_source_id_3                     149\n",
       "medical_specialty_Gastroenterology        429\n",
       "medical_specialty_Oncology                440\n",
       "diabfeat_ophthalmic                       449\n",
       "medical_specialty_Pediatrics              450\n",
       "race_Asian                                487\n",
       "discharge_disposition_leftAMA             492\n",
       "medical_specialty_OBGYN                   608\n",
       "admission_source_id_5                     639\n",
       "admission_source_id_2                     863\n",
       "diabfeat_circulatory                      896\n",
       "max_glu_serum_>300                        934\n",
       "race_Other                               1167\n",
       "medical_specialty_Nephrology             1208\n",
       "diabfeat_renal                           1433\n",
       "discharge_disposition_hospice            1575\n",
       "race_Hispanic                            1615\n",
       "discharge_disposition_outpatient         1624\n",
       "admission_source_id_6                    1784\n",
       "diabfeat_ketoacidosis                    2069\n",
       "primarydiag_infection                    2079\n",
       "discharge_disposition_hospital           2085\n",
       "max_glu_serum_Norm                       2088\n",
       "primarydiag_skin                         2101\n",
       "medical_specialty_Orthopedics            2108\n",
       "primarydiag_metabolic                    2159\n",
       "primarydiag_other                        2434\n",
       "admission_source_id_4                    2495\n",
       "                                       ...   \n",
       "primarydiag_injury                       6847\n",
       "primarydiag_Nothing                      6985\n",
       "primarydiag_digestive                    7488\n",
       "admission_type_id_5                      8196\n",
       "med_glipizide                           10156\n",
       "discharge_disposition_hhealth           10436\n",
       "primarydiag_respiratory                 11253\n",
       "discharge_disposition_nursing           11829\n",
       "diag_urogenital                         14074\n",
       "admission_type_id_2                     14567\n",
       "diag_metabolic                          14651\n",
       "race_AfricanAmerican                    15105\n",
       "number_emergency                        15912\n",
       "med_metformin                           15926\n",
       "med_any_No                              18270\n",
       "diag_respiratory                        20881\n",
       "diabchange                              21735\n",
       "admission_source_id_1                   23476\n",
       "number_outpatient                       29800\n",
       "gender_Male                             37008\n",
       "med_insulin                             42761\n",
       "readmitted                              46608\n",
       "diag_circulatory                        47981\n",
       "number_inpatient                        50414\n",
       "num_procedures                         106924\n",
       "time_in_hospital                       351600\n",
       "age                                    567050\n",
       "number_diagnoses                       593170\n",
       "num_medications                       1278692\n",
       "num_lab_procedures                    3438785\n",
       "Length: 73, dtype: int64"
      ]
     },
     "execution_count": 30,
     "metadata": {},
     "output_type": "execute_result"
    }
   ],
   "source": [
    "np.sum(DiabetesFTrim).sort_values()"
   ]
  },
  {
   "cell_type": "code",
   "execution_count": 32,
   "metadata": {},
   "outputs": [
    {
     "name": "stderr",
     "output_type": "stream",
     "text": [
      "C:\\Users\\Dave\\Anaconda3\\lib\\site-packages\\sklearn\\preprocessing\\label.py:151: DeprecationWarning: The truth value of an empty array is ambiguous. Returning False, but in future this will result in an error. Use `array.size > 0` to check that an array is not empty.\n",
      "  if diff:\n"
     ]
    }
   ],
   "source": [
    "from xgboost.sklearn import XGBClassifier as xgb\n",
    "\n",
    "xgb = xgb()\n",
    "xgb.set_params(n_estimators=500, min_child_weight=10, max_depth=5, gamma=5, colsample_bytree=0.6, max_delta_step=5)\n",
    "\n",
    "xgb.fit(trainXF75, trainYF75)\n",
    "\n",
    "predictXBF = xgb.predict(testXF)\n",
    "predictprobsXBF75 = xgb.predict_proba(testXF)\n"
   ]
  },
  {
   "cell_type": "code",
   "execution_count": 33,
   "metadata": {},
   "outputs": [
    {
     "data": {
      "text/plain": [
       "0.6510857983723235"
      ]
     },
     "execution_count": 33,
     "metadata": {},
     "output_type": "execute_result"
    }
   ],
   "source": [
    "AUC(testYF, predictprobsXBF75[:,1])"
   ]
  },
  {
   "cell_type": "code",
   "execution_count": null,
   "metadata": {},
   "outputs": [],
   "source": []
  }
 ],
 "metadata": {
  "kernelspec": {
   "display_name": "Python 3",
   "language": "python",
   "name": "python3"
  },
  "language_info": {
   "codemirror_mode": {
    "name": "ipython",
    "version": 3
   },
   "file_extension": ".py",
   "mimetype": "text/x-python",
   "name": "python",
   "nbconvert_exporter": "python",
   "pygments_lexer": "ipython3",
   "version": "3.6.5"
  }
 },
 "nbformat": 4,
 "nbformat_minor": 2
}
