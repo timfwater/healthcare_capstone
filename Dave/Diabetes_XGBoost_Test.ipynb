{
 "cells": [
  {
   "cell_type": "code",
   "execution_count": 13,
   "metadata": {},
   "outputs": [],
   "source": [
    "import pandas as pd\n",
    "import numpy as np"
   ]
  },
  {
   "cell_type": "code",
   "execution_count": 14,
   "metadata": {},
   "outputs": [],
   "source": [
    "DiabetesTakingMed = pd.read_csv('DiabetesTakingMed.csv', index_col=0)"
   ]
  },
  {
   "cell_type": "code",
   "execution_count": 15,
   "metadata": {},
   "outputs": [],
   "source": [
    "DiabetesTrain3 = DiabetesTakingMed[DiabetesTakingMed['IsTrain']==1].drop('IsTrain', axis=1)\n",
    "DiabetesTrain3.index = list(range(len(DiabetesTrain3)))\n",
    "\n",
    "DiabetesTest3 = DiabetesTakingMed[DiabetesTakingMed['IsTrain']==0].drop('IsTrain', axis=1)\n",
    "DiabetesTest3.index = list(range(len(DiabetesTest3)))\n",
    "\n",
    "trainX3 = DiabetesTrain3.drop('readmitted', axis=1)\n",
    "trainY3 = DiabetesTrain3['readmitted'].replace([2, 1], [1, 0])\n",
    "\n",
    "testX3 = DiabetesTest3.drop('readmitted', axis=1)\n",
    "testY3 = DiabetesTest3['readmitted'].replace([2, 1], [1, 0])"
   ]
  },
  {
   "cell_type": "code",
   "execution_count": 16,
   "metadata": {},
   "outputs": [],
   "source": [
    "#Import and run the model:\n",
    "import xgboost\n",
    "from xgboost.sklearn import XGBClassifier as xgb\n",
    "from sklearn.model_selection import RandomizedSearchCV\n",
    "from sklearn.metrics import roc_auc_score as AUC"
   ]
  },
  {
   "cell_type": "code",
   "execution_count": 17,
   "metadata": {},
   "outputs": [
    {
     "name": "stdout",
     "output_type": "stream",
     "text": [
      "n_estimators=200, min_child_Weight=10, max_depth=5, gamma=5, colsample_bytree=0.6\n"
     ]
    }
   ],
   "source": [
    "'''xgb = xgb()\n",
    "\n",
    "params = {\n",
    "        'n_estimators':[200, 400, 600, 800, 1000],\n",
    "        'min_child_weight': [1, 2, 5, 10],\n",
    "        'gamma': [0.1, 0.2, 0.5, 1, 1.5, 2, 5],\n",
    "        'colsample_bytree': [0.6, 0.8, 1.0],\n",
    "        'max_depth': [2, 3, 5, 8]\n",
    "        }\n",
    "\n",
    "random_search = RandomizedSearchCV(xgb, param_distributions=params, n_iter=100, scoring='roc_auc', n_jobs=6, \n",
    "                                   cv=4, verbose=5, random_state=42)\n",
    "\n",
    "random_search.fit(trainX2, trainY2)\n",
    "\n",
    "random_search.best_params_'''\n",
    "\n",
    "print(\"n_estimators=200, min_child_Weight=10, max_depth=5, gamma=5, colsample_bytree=0.6\")"
   ]
  },
  {
   "cell_type": "code",
   "execution_count": 18,
   "metadata": {},
   "outputs": [
    {
     "name": "stderr",
     "output_type": "stream",
     "text": [
      "C:\\Users\\Dave\\Anaconda3\\lib\\site-packages\\sklearn\\preprocessing\\label.py:151: DeprecationWarning: The truth value of an empty array is ambiguous. Returning False, but in future this will result in an error. Use `array.size > 0` to check that an array is not empty.\n",
      "  if diff:\n"
     ]
    }
   ],
   "source": [
    "from xgboost.sklearn import XGBClassifier as xgb\n",
    "\n",
    "xgbF = xgb()\n",
    "xgbF.set_params(n_estimators=200, min_child_weight=10, max_depth=5, gamma=5, colsample_bytree=0.6)\n",
    "\n",
    "xgbF.fit(trainX3, trainY3)\n",
    "\n",
    "predict = xgbF.predict(testX3)\n",
    "predictprobs = xgbF.predict_proba(testX3)\n",
    "\n",
    "#Make feature importances list:\n",
    "AnyChangeXGBFeatures = pd.DataFrame({'Feature':pd.Series(trainX3.columns), 'Importance':xgbF.feature_importances_})"
   ]
  },
  {
   "cell_type": "code",
   "execution_count": 19,
   "metadata": {
    "scrolled": true
   },
   "outputs": [
    {
     "data": {
      "text/plain": [
       "array([[0.92972445, 0.07027554],\n",
       "       [0.9098509 , 0.09014908],\n",
       "       [0.8505523 , 0.1494477 ],\n",
       "       ...,\n",
       "       [0.9491745 , 0.05082546],\n",
       "       [0.9068813 , 0.09311873],\n",
       "       [0.9207904 , 0.07920964]], dtype=float32)"
      ]
     },
     "execution_count": 19,
     "metadata": {},
     "output_type": "execute_result"
    }
   ],
   "source": [
    "predictprobs"
   ]
  },
  {
   "cell_type": "code",
   "execution_count": 20,
   "metadata": {},
   "outputs": [
    {
     "data": {
      "text/plain": [
       "0.6749736534379563"
      ]
     },
     "execution_count": 20,
     "metadata": {},
     "output_type": "execute_result"
    }
   ],
   "source": [
    "#0.673 better than the 0.66 we had with other methods.\n",
    "AUC(testY3, predictprobs[:,1])"
   ]
  },
  {
   "cell_type": "code",
   "execution_count": 21,
   "metadata": {},
   "outputs": [
    {
     "data": {
      "text/plain": [
       "0.09557876216512425"
      ]
     },
     "execution_count": 21,
     "metadata": {},
     "output_type": "execute_result"
    }
   ],
   "source": [
    "from sklearn.metrics import brier_score_loss as BSL\n",
    "\n",
    "#0.0956 for XGBoost lower than the stack of logistic and RF (0.09589)\n",
    "BSL(testY3, predictprobs[:,1])"
   ]
  },
  {
   "cell_type": "code",
   "execution_count": 22,
   "metadata": {},
   "outputs": [
    {
     "name": "stdout",
     "output_type": "stream",
     "text": [
      "subsample=1, max_delta_step=5, learning_rate=0.1\n"
     ]
    }
   ],
   "source": [
    "'''#Let's randomsearch for additional parameters:\n",
    "\n",
    "xgbG = xgb()\n",
    "xgbG.set_params(n_estimators=200, min_child_weight=10, max_depth=5, gamma=5, colsample_bytree=0.6)\n",
    "\n",
    "params2 = {\n",
    "        'learning_rate':[0.0001, 0.001, 0.01, 0.1, 0.2, 0.3],\n",
    "        'max_delta_step': [0, 1, 2, 5, 8],\n",
    "        'subsample':[0.5, 0.6, 0.7, 0.8, 0.9, 1]\n",
    "        }\n",
    "\n",
    "random_search2 = RandomizedSearchCV(xgbG, param_distributions=params2, n_iter=60, scoring='roc_auc', n_jobs=6, \n",
    "                                   cv=4, verbose=5, random_state=42)\n",
    "\n",
    "random_search2.fit(trainX2, trainY2)\n",
    "\n",
    "random_search2.best_params_'''\n",
    "\n",
    "print(\"subsample=1, max_delta_step=5, learning_rate=0.1\")"
   ]
  },
  {
   "cell_type": "code",
   "execution_count": 24,
   "metadata": {},
   "outputs": [
    {
     "name": "stderr",
     "output_type": "stream",
     "text": [
      "C:\\Users\\Dave\\Anaconda3\\lib\\site-packages\\sklearn\\preprocessing\\label.py:151: DeprecationWarning: The truth value of an empty array is ambiguous. Returning False, but in future this will result in an error. Use `array.size > 0` to check that an array is not empty.\n",
      "  if diff:\n"
     ]
    }
   ],
   "source": [
    "xgbF2 = xgb()\n",
    "xgbF2.set_params(n_estimators=200, min_child_weight=10, max_depth=5, gamma=5, colsample_bytree=0.6, max_delta_step=5)\n",
    "\n",
    "xgbF2.fit(trainX3, trainY3)\n",
    "\n",
    "predict = xgbF2.predict(testX3)\n",
    "predictprobs = xgbF2.predict_proba(testX3)\n",
    "\n",
    "#Make feature importances list:\n",
    "AnyChangeXGBFeatures = pd.DataFrame({'Feature':pd.Series(trainX3.columns), 'Importance':xgbF2.feature_importances_})"
   ]
  },
  {
   "cell_type": "code",
   "execution_count": 26,
   "metadata": {},
   "outputs": [
    {
     "data": {
      "text/plain": [
       "0.6749736534379563"
      ]
     },
     "execution_count": 26,
     "metadata": {},
     "output_type": "execute_result"
    }
   ],
   "source": [
    "#This is literally the same AUC score. It would seem that not a simgle tree had an altered prediction.\n",
    "AUC(testY3, predictprobs[:,1])"
   ]
  },
  {
   "cell_type": "code",
   "execution_count": 27,
   "metadata": {},
   "outputs": [],
   "source": [
    "AnyChangeXGBFeatures.sort_values('Importance', ascending=False)\n",
    "ChoiceColumns = list(AnyChangeXGBFeatures[AnyChangeXGBFeatures['Importance']>0]['Feature'])"
   ]
  },
  {
   "cell_type": "code",
   "execution_count": 28,
   "metadata": {},
   "outputs": [
    {
     "name": "stderr",
     "output_type": "stream",
     "text": [
      "C:\\Users\\Dave\\Anaconda3\\lib\\site-packages\\sklearn\\preprocessing\\label.py:151: DeprecationWarning: The truth value of an empty array is ambiguous. Returning False, but in future this will result in an error. Use `array.size > 0` to check that an array is not empty.\n",
      "  if diff:\n"
     ]
    }
   ],
   "source": [
    "trainX3C = trainX3[ChoiceColumns]\n",
    "testX3C = testX3[ChoiceColumns]\n",
    "\n",
    "xgbF2C = xgb()\n",
    "xgbF2C.set_params(n_estimators=500, min_child_weight=10, max_depth=5, gamma=5, colsample_bytree=0.6, max_delta_step=5)\n",
    "\n",
    "xgbF2C.fit(trainX3, trainY3)\n",
    "\n",
    "predictC = xgbF2C.predict(testX3)\n",
    "predictprobsC = xgbF2C.predict_proba(testX3)"
   ]
  },
  {
   "cell_type": "code",
   "execution_count": 29,
   "metadata": {},
   "outputs": [
    {
     "data": {
      "text/plain": [
       "0.6753665800254492"
      ]
     },
     "execution_count": 29,
     "metadata": {},
     "output_type": "execute_result"
    }
   ],
   "source": [
    "#I also raised N_estimators as there is rarely a penalty for doing this, and it helped raise test AUC.\n",
    "AUC(testY3, predictprobsC[:,1])"
   ]
  },
  {
   "cell_type": "code",
   "execution_count": null,
   "metadata": {},
   "outputs": [],
   "source": []
  }
 ],
 "metadata": {
  "kernelspec": {
   "display_name": "Python 3",
   "language": "python",
   "name": "python3"
  },
  "language_info": {
   "codemirror_mode": {
    "name": "ipython",
    "version": 3
   },
   "file_extension": ".py",
   "mimetype": "text/x-python",
   "name": "python",
   "nbconvert_exporter": "python",
   "pygments_lexer": "ipython3",
   "version": "3.6.5"
  }
 },
 "nbformat": 4,
 "nbformat_minor": 2
}
