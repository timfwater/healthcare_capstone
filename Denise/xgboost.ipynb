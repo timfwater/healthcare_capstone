{
 "cells": [
  {
   "cell_type": "code",
   "execution_count": 1,
   "metadata": {},
   "outputs": [],
   "source": [
    "%matplotlib inline\n",
    "import numpy as np\n",
    "import pandas as pd\n",
    "import matplotlib.pyplot as plt\n",
    "from sklearn.ensemble import GradientBoostingRegressor\n",
    "from sklearn.preprocessing import LabelEncoder\n",
    "from sklearn.linear_model import LinearRegression,LogisticRegression\n",
    "from sklearn.model_selection import GridSearchCV,RandomizedSearchCV\n",
    "from sklearn.ensemble import GradientBoostingRegressor\n",
    "import xgboost as xgb\n",
    "df=pd.read_csv('../data/le_train.csv',index_col=0)"
   ]
  },
  {
   "cell_type": "code",
   "execution_count": 2,
   "metadata": {},
   "outputs": [],
   "source": [
    "trainX=df.drop('readmitted',axis=1).copy()\n",
    "trainY=df['readmitted']"
   ]
  },
  {
   "cell_type": "code",
   "execution_count": 3,
   "metadata": {},
   "outputs": [],
   "source": [
    "para= {\"learning_rate\" : [0.01,0.1,1],\n",
    "       \"n_estimators\": [200,500,1000,2000,3000,4000],\n",
    "       \"max_depth\" : [3,4,5,6],\n",
    "       \"subsample\" : [0.8,0.9,1],\n",
    "       \"colsample_bytree\" : [0.8,0.9,1]}"
   ]
  },
  {
   "cell_type": "code",
   "execution_count": 4,
   "metadata": {},
   "outputs": [],
   "source": [
    "xgboost = xgb.XGBRegressor()\n",
    "n_iter_search = 2\n",
    "ran_search_xgb=RandomizedSearchCV(estimator=xgboost, param_distributions=para,n_iter=n_iter_search,\n",
    "                                  scoring='neg_mean_squared_error', cv=5, return_train_score=True)"
   ]
  },
  {
   "cell_type": "code",
   "execution_count": 7,
   "metadata": {},
   "outputs": [],
   "source": [
    "import time"
   ]
  },
  {
   "cell_type": "code",
   "execution_count": 8,
   "metadata": {},
   "outputs": [
    {
     "name": "stdout",
     "output_type": "stream",
     "text": [
      "Time consumed for training: 5546.267 seconds\n"
     ]
    }
   ],
   "source": [
    "training_start = time.perf_counter()\n",
    "xgbmodel=ran_search_xgb.fit(trainX,trainY)\n",
    "training_end = time.perf_counter()\n",
    "\n",
    "train_time = training_end-training_start\n",
    "\n",
    "print(\"Time consumed for training: %4.3f seconds\" % (train_time))"
   ]
  },
  {
   "cell_type": "code",
   "execution_count": 9,
   "metadata": {},
   "outputs": [
    {
     "name": "stdout",
     "output_type": "stream",
     "text": [
      "Best parameters found:  {'subsample': 1, 'n_estimators': 3000, 'max_depth': 5, 'learning_rate': 1, 'colsample_bytree': 0.9}\n",
      "Lowest RMSE found:  0.4290928319887428\n"
     ]
    }
   ],
   "source": [
    "print(\"Best parameters found: \", ran_search_xgb.best_params_)\n",
    "print(\"Lowest RMSE found: \", np.sqrt(np.abs(ran_search_xgb.best_score_)))"
   ]
  },
  {
   "cell_type": "code",
   "execution_count": 15,
   "metadata": {},
   "outputs": [],
   "source": [
    "from sklearn.metrics import precision_score, recall_score, roc_auc_score, accuracy_score, roc_curve"
   ]
  },
  {
   "cell_type": "code",
   "execution_count": 38,
   "metadata": {},
   "outputs": [],
   "source": [
    "df2=pd.read_csv('../data/le_test.csv',index_col=0)"
   ]
  },
  {
   "cell_type": "code",
   "execution_count": 42,
   "metadata": {},
   "outputs": [],
   "source": [
    "testX = df2.drop('readmitted',axis=1)\n",
    "testY = df2['readmitted']"
   ]
  },
  {
   "cell_type": "code",
   "execution_count": 51,
   "metadata": {},
   "outputs": [],
   "source": [
    "# {'subsample': 1, 'n_estimators': 3000, 'max_depth': 5, 'learning_rate': 1, 'colsample_bytree': 0.9}\n",
    "xReg = xgb.XGBRegressor(colsample_bytree=0.9, learning_rate=1, \n",
    "                             max_depth=5, n_estimators=3000,\n",
    "                             objective='binary:hinge', subsample=1)\n"
   ]
  },
  {
   "cell_type": "code",
   "execution_count": 53,
   "metadata": {},
   "outputs": [
    {
     "name": "stdout",
     "output_type": "stream",
     "text": [
      "Time consumed for training: 630.098 seconds\n",
      "Time consumed for prediction: 1.57089 seconds\n"
     ]
    }
   ],
   "source": [
    "# make predictions for test data\n",
    "training_start = time.perf_counter()\n",
    "xgbR= xReg.fit(trainX,trainY)\n",
    "training_end = time.perf_counter()\n",
    "\n",
    "train_time = training_end-training_start\n",
    "\n",
    "print(\"Time consumed for training: %4.3f seconds\" % (train_time))\n",
    "prediction_start = time.perf_counter()\n",
    "preds = xgbR.predict(testX)\n",
    "prediction_end = time.perf_counter()\n",
    "\n",
    "prediction_time = prediction_end-prediction_start\n",
    "\n",
    "print(\"Time consumed for prediction: %6.5f seconds\" % (prediction_time))"
   ]
  },
  {
   "cell_type": "code",
   "execution_count": 54,
   "metadata": {},
   "outputs": [
    {
     "name": "stdout",
     "output_type": "stream",
     "text": [
      "Accuracy: 86.5139%\n",
      "Precision: 24.6996%\n",
      "Recall: 8.3938%\n",
      "AUC: 0.5253309972620969\n"
     ]
    }
   ],
   "source": [
    "# evaluate predictions\n",
    "acc = accuracy_score(testY, preds)\n",
    "pre = precision_score(testY, preds)\n",
    "rec = recall_score(testY, preds)\n",
    "AUC = roc_auc_score(testY, preds)\n",
    "\n",
    "                    \n",
    "print(\"Accuracy: {:.4%}\".format(acc))\n",
    "print(\"Precision: {:.4%}\".format(pre))\n",
    "print(\"Recall: {:.4%}\".format(rec))\n",
    "print(\"AUC: {}\".format(AUC))"
   ]
  },
  {
   "cell_type": "code",
   "execution_count": 35,
   "metadata": {},
   "outputs": [],
   "source": [
    "xgboost2 = xgb.XGBClassifier()\n",
    "n_iter_search =2\n",
    "ran_search_xgb=RandomizedSearchCV(estimator=xgboost, param_distributions=para,n_iter=n_iter_search,\n",
    "                                 scoring='roc_auc', cv=5, return_train_score=True)\n",
    "# model 2"
   ]
  },
  {
   "cell_type": "code",
   "execution_count": 49,
   "metadata": {},
   "outputs": [
    {
     "name": "stdout",
     "output_type": "stream",
     "text": [
      "Time consumed for training: 4738.292 seconds\n"
     ]
    }
   ],
   "source": [
    "training_start = time.perf_counter()\n",
    "xgbmodel2 = xgboost2.fit(trainX,trainY)\n",
    "training_end = time.perf_counter()\n",
    "\n",
    "train_time = training_end-training_start\n",
    "\n",
    "print(\"Time consumed for training: %4.3f seconds\" % (train_time))"
   ]
  },
  {
   "cell_type": "code",
   "execution_count": 50,
   "metadata": {},
   "outputs": [
    {
     "name": "stdout",
     "output_type": "stream",
     "text": [
      "Best parameters found:  {'subsample': 1, 'n_estimators': 3000, 'max_depth': 5, 'learning_rate': 1, 'colsample_bytree': 0.9}\n",
      "Lowest RMSE found:  0.4290928319887428\n"
     ]
    }
   ],
   "source": [
    "print(\"Best parameters found: \", ran_search_xgb.best_params_)\n",
    "print(\"Lowest RMSE found: \", np.sqrt(np.abs(ran_search_xgb.best_score_)))"
   ]
  },
  {
   "cell_type": "code",
   "execution_count": 55,
   "metadata": {},
   "outputs": [],
   "source": [
    "xClass = xgb.XGBClassifier(colsample_bytree=0.9, learning_rate=1, \n",
    "                             max_depth=5, n_estimators=3000,\n",
    "                             objective='binary:hinge', subsample=1)"
   ]
  },
  {
   "cell_type": "code",
   "execution_count": 56,
   "metadata": {},
   "outputs": [
    {
     "name": "stdout",
     "output_type": "stream",
     "text": [
      "Time consumed for training: 574.535 seconds\n",
      "Time consumed for prediction: 1.74826 seconds\n"
     ]
    }
   ],
   "source": [
    "# make predictions for test data\n",
    "training_start = time.perf_counter()\n",
    "xgbC= xClass.fit(trainX,trainY)\n",
    "training_end = time.perf_counter()\n",
    "\n",
    "train_time = training_end-training_start\n",
    "\n",
    "print(\"Time consumed for training: %4.3f seconds\" % (train_time))\n",
    "prediction_start = time.perf_counter()\n",
    "preds = xgbC.predict(testX)\n",
    "prediction_end = time.perf_counter()\n",
    "\n",
    "prediction_time = prediction_end-prediction_start\n",
    "\n",
    "print(\"Time consumed for prediction: %6.5f seconds\" % (prediction_time))"
   ]
  },
  {
   "cell_type": "code",
   "execution_count": 57,
   "metadata": {},
   "outputs": [
    {
     "name": "stdout",
     "output_type": "stream",
     "text": [
      "Accuracy: 86.5139%\n",
      "Precision: 24.6996%\n",
      "Recall: 8.3938%\n",
      "AUC: 0.5253309972620969\n"
     ]
    }
   ],
   "source": [
    "# evaluate predictions\n",
    "acc = accuracy_score(testY, preds)\n",
    "pre = precision_score(testY, preds)\n",
    "rec = recall_score(testY, preds)\n",
    "AUC = roc_auc_score(testY, preds)\n",
    "\n",
    "                    \n",
    "print(\"Accuracy: {:.4%}\".format(acc))\n",
    "print(\"Precision: {:.4%}\".format(pre))\n",
    "print(\"Recall: {:.4%}\".format(rec))\n",
    "print(\"AUC: {}\".format(AUC))"
   ]
  },
  {
   "cell_type": "code",
   "execution_count": null,
   "metadata": {},
   "outputs": [],
   "source": []
  },
  {
   "cell_type": "code",
   "execution_count": null,
   "metadata": {},
   "outputs": [],
   "source": [
    "# Compute ROC curve and ROC area for each class\n",
    "fpr = dict()\n",
    "tpr = dict()\n",
    "roc_auc = dict()\n",
    "for i in range(n_classes):\n",
    "    fpr[i], tpr[i], _ = roc_curve(y_test[:, i], y_score[:, i])\n",
    "    roc_auc[i] = auc(fpr[i], tpr[i])\n",
    "\n",
    "# Compute micro-average ROC curve and ROC area\n",
    "fpr[\"micro\"], tpr[\"micro\"], _ = roc_curve(y_test.ravel(), y_score.ravel())\n",
    "roc_auc[\"micro\"] = auc(fpr[\"micro\"], tpr[\"micro\"])"
   ]
  }
 ],
 "metadata": {
  "kernelspec": {
   "display_name": "Python 3",
   "language": "python",
   "name": "python3"
  },
  "language_info": {
   "codemirror_mode": {
    "name": "ipython",
    "version": 3
   },
   "file_extension": ".py",
   "mimetype": "text/x-python",
   "name": "python",
   "nbconvert_exporter": "python",
   "pygments_lexer": "ipython3",
   "version": "3.7.1"
  }
 },
 "nbformat": 4,
 "nbformat_minor": 2
}
