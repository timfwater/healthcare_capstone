{
 "cells": [
  {
   "cell_type": "code",
   "execution_count": null,
   "metadata": {},
   "outputs": [],
   "source": [
    "import pandas as pd\n",
    "import numpy as np\n",
    "import pickle\n",
    "import matplotlib.pyplot as plt\n",
    "import matplotlib\n",
    "from sklearn.metrics import confusion_matrix\n",
    "\n",
    "plt.style.use('ggplot')"
   ]
  },
  {
   "cell_type": "markdown",
   "metadata": {},
   "source": [
    "## Import training and testing dataset"
   ]
  },
  {
   "cell_type": "code",
   "execution_count": 173,
   "metadata": {},
   "outputs": [],
   "source": [
    "train = pd.read_csv('./dataset_diabetes/new_train.csv', index_col='encounter_id')\n",
    "test = pd.read_csv('./dataset_diabetes/new_test.csv', index_col='encounter_id')"
   ]
  },
  {
   "cell_type": "code",
   "execution_count": 175,
   "metadata": {},
   "outputs": [],
   "source": [
    "train.drop('Unnamed: 0', axis=1, inplace=True)\n",
    "test.drop('Unnamed: 0', axis=1, inplace=True)"
   ]
  },
  {
   "cell_type": "code",
   "execution_count": 176,
   "metadata": {},
   "outputs": [],
   "source": [
    "pd.options.display.max_columns = 55"
   ]
  },
  {
   "cell_type": "code",
   "execution_count": 177,
   "metadata": {},
   "outputs": [
    {
     "data": {
      "text/plain": [
       "(80084,)"
      ]
     },
     "execution_count": 177,
     "metadata": {},
     "output_type": "execute_result"
    }
   ],
   "source": [
    "train.readmitted_Yes.shape"
   ]
  },
  {
   "cell_type": "markdown",
   "metadata": {},
   "source": [
    "## Split into X and y train and test"
   ]
  },
  {
   "cell_type": "code",
   "execution_count": 178,
   "metadata": {},
   "outputs": [],
   "source": [
    "Xtrain = train.drop('readmitted_Yes', axis=1)\n",
    "ytrain = train['readmitted_Yes']"
   ]
  },
  {
   "cell_type": "code",
   "execution_count": 179,
   "metadata": {},
   "outputs": [],
   "source": [
    "Xtest = test.drop('readmitted_Yes', axis=1)\n",
    "ytest = test['readmitted_Yes']"
   ]
  },
  {
   "cell_type": "code",
   "execution_count": 180,
   "metadata": {},
   "outputs": [],
   "source": [
    "X = Xtrain.append(Xtest)\n",
    "y = ytrain.append(ytest)"
   ]
  },
  {
   "cell_type": "markdown",
   "metadata": {},
   "source": [
    "## Model"
   ]
  },
  {
   "cell_type": "code",
   "execution_count": 202,
   "metadata": {},
   "outputs": [],
   "source": [
    "from sklearn.linear_model import LogisticRegression\n",
    "import sklearn.model_selection as ms\n",
    "\n",
    "train_error =[]\n",
    "test_error = []\n",
    "s = []\n",
    "logit = LogisticRegression()\n",
    "for i in range(5):\n",
    "    x_train, x_test, y_train, y_test = ms.train_test_split(Xtrain, ytrain, test_size=0.2, random_state=i)\n",
    "    logit.fit(x_train, y_train)\n",
    "    train_error.append(1 - logit.score(x_train, y_train))\n",
    "    test_error.append(1 - logit.score(x_test, y_test))\n",
    "    s.append(logit.score(x_train, y_train))"
   ]
  },
  {
   "cell_type": "code",
   "execution_count": 244,
   "metadata": {},
   "outputs": [],
   "source": [
    "logit = LogisticRegression()\n",
    "ms_k5 = ms.KFold(n_splits=5, shuffle=True)\n",
    "trainscores = []\n",
    "testscores = []\n",
    "act_testscores = []\n",
    "y_predicts = []\n",
    "y_probs = []\n",
    "for train_idx, test_idx in ms_k5.split(Xtrain, ytrain):\n",
    "    x_train = Xtrain.iloc[train_idx]\n",
    "    y_train = ytrain.iloc[train_idx]\n",
    "    x_test = Xtrain.iloc[test_idx]\n",
    "    y_test = ytrain.iloc[test_idx]\n",
    "    logit.fit(x_train, y_train)\n",
    "    trainscores.append(logit.score(x_train, y_train))\n",
    "    testscores.append(logit.score(x_test, y_test))\n",
    "    act_testscores.append(logit.score(Xtest, ytest))\n",
    "    \n",
    "    # predict for test data set\n",
    "    y_predicts.append(logit.predict(Xtest))\n",
    "    y_probs.append(logit.predict_proba(Xtest))"
   ]
  },
  {
   "cell_type": "code",
   "execution_count": 231,
   "metadata": {},
   "outputs": [
    {
     "data": {
      "text/plain": [
       "[0.8868372172881515,\n",
       " 0.8863689574976197,\n",
       " 0.886259696879829,\n",
       " 0.8867903913090983,\n",
       " 0.8863551226821502]"
      ]
     },
     "execution_count": 231,
     "metadata": {},
     "output_type": "execute_result"
    }
   ],
   "source": [
    "trainscores"
   ]
  },
  {
   "cell_type": "code",
   "execution_count": 232,
   "metadata": {},
   "outputs": [
    {
     "data": {
      "text/plain": [
       "[0.8848723231566461,\n",
       " 0.8871199350689892,\n",
       " 0.8881188736966973,\n",
       " 0.8854966597989636,\n",
       " 0.8866758241758241]"
      ]
     },
     "execution_count": 232,
     "metadata": {},
     "output_type": "execute_result"
    }
   ],
   "source": [
    "testscores"
   ]
  },
  {
   "cell_type": "code",
   "execution_count": 233,
   "metadata": {},
   "outputs": [
    {
     "data": {
      "text/plain": [
       "[0.8863704443334998,\n",
       " 0.8864203694458312,\n",
       " 0.8863205192211683,\n",
       " 0.8863704443334998,\n",
       " 0.8862206689965052]"
      ]
     },
     "execution_count": 233,
     "metadata": {},
     "output_type": "execute_result"
    }
   ],
   "source": [
    "act_testscores"
   ]
  },
  {
   "cell_type": "code",
   "execution_count": null,
   "metadata": {},
   "outputs": [],
   "source": [
    "for y_predict in y_predicts:\n",
    "    print(confusion_matrix(ytest, y_predict))"
   ]
  },
  {
   "cell_type": "code",
   "execution_count": 245,
   "metadata": {},
   "outputs": [
    {
     "name": "stdout",
     "output_type": "stream",
     "text": [
      "0.6645438415396275\n",
      "0.6662952373563468\n",
      "0.6648991292958074\n",
      "0.6655352453810052\n",
      "0.6650979605133946\n"
     ]
    }
   ],
   "source": [
    "for y_prob in y_probs:\n",
    "    print(roc_auc_score(ytest, y_prob[:,1]))"
   ]
  },
  {
   "cell_type": "markdown",
   "metadata": {},
   "source": [
    "## Logistic Regression Model with Gradient Descent"
   ]
  },
  {
   "cell_type": "code",
   "execution_count": 64,
   "metadata": {},
   "outputs": [],
   "source": [
    "from sklearn.linear_model import SGDClassifier"
   ]
  },
  {
   "cell_type": "code",
   "execution_count": 72,
   "metadata": {},
   "outputs": [],
   "source": [
    "sgd = SGDClassifier(loss='log', max_iter=1e4, l1_ratio=0, alpha=1e-4, shuffle=True)"
   ]
  },
  {
   "cell_type": "code",
   "execution_count": 246,
   "metadata": {},
   "outputs": [],
   "source": [
    "ms_k5 = ms.KFold(n_splits=5, shuffle=True)\n",
    "sdg_tr_scores = []\n",
    "sdg_te_scores = []\n",
    "sdg_act_te = []\n",
    "sdg_y_predicts = []\n",
    "sdg_y_probs = []\n",
    "for train_idx, test_idx in ms_k5.split(Xtrain, ytrain):\n",
    "    x_train = Xtrain.iloc[train_idx]\n",
    "    y_train = ytrain.iloc[train_idx]\n",
    "    x_test = Xtrain.iloc[test_idx]\n",
    "    y_test = ytrain.iloc[test_idx]\n",
    "    sgd.fit(x_train, y_train)\n",
    "    sdg_tr_scores.append(sgd.score(x_train, y_train))\n",
    "    sdg_te_scores.append(sgd.score(x_test, y_test))\n",
    "    sdg_act_te.append(sgd.score(Xtest, ytest))\n",
    "    \n",
    "    # predict for test data set\n",
    "    sdg_y_predicts.append(sgd.predict(Xtest))\n",
    "    sdg_y_probs.append(sgd.predict_proba(Xtest))"
   ]
  },
  {
   "cell_type": "code",
   "execution_count": 247,
   "metadata": {},
   "outputs": [
    {
     "data": {
      "text/plain": [
       "[0.8860099583248786,\n",
       " 0.8854168292568717,\n",
       " 0.8864782181154104,\n",
       " 0.8863845661573041,\n",
       " 0.8870887182368733]"
      ]
     },
     "execution_count": 247,
     "metadata": {},
     "output_type": "execute_result"
    }
   ],
   "source": [
    "sdg_tr_scores"
   ]
  },
  {
   "cell_type": "code",
   "execution_count": 248,
   "metadata": {},
   "outputs": [
    {
     "data": {
      "text/plain": [
       "[0.8873072360616845,\n",
       " 0.8893675469813324,\n",
       " 0.887182368733221,\n",
       " 0.8841855528500968,\n",
       " 0.8834915084915085]"
      ]
     },
     "execution_count": 248,
     "metadata": {},
     "output_type": "execute_result"
    }
   ],
   "source": [
    "sdg_te_scores"
   ]
  },
  {
   "cell_type": "code",
   "execution_count": 249,
   "metadata": {},
   "outputs": [
    {
     "data": {
      "text/plain": [
       "[0.8861208187718422,\n",
       " 0.8860209685471793,\n",
       " 0.8862705941088368,\n",
       " 0.8856714927608587,\n",
       " 0.8863205192211683]"
      ]
     },
     "execution_count": 249,
     "metadata": {},
     "output_type": "execute_result"
    }
   ],
   "source": [
    "sdg_act_te"
   ]
  },
  {
   "cell_type": "code",
   "execution_count": 250,
   "metadata": {
    "scrolled": true
   },
   "outputs": [
    {
     "name": "stdout",
     "output_type": "stream",
     "text": [
      "0.6650979605133946\n",
      "0.6650979605133946\n",
      "0.6650979605133946\n",
      "0.6650979605133946\n",
      "0.6650979605133946\n"
     ]
    }
   ],
   "source": [
    "for y_probs in sdg_y_probs:\n",
    "    print(roc_auc_score(ytest, y_prob[:,1]))"
   ]
  },
  {
   "cell_type": "markdown",
   "metadata": {},
   "source": [
    "## Logistic Regression with Selected Features from Random Forest"
   ]
  },
  {
   "cell_type": "code",
   "execution_count": 219,
   "metadata": {},
   "outputs": [],
   "source": [
    "import pickle"
   ]
  },
  {
   "cell_type": "code",
   "execution_count": 220,
   "metadata": {},
   "outputs": [],
   "source": [
    "sel_features = pickle.load(open('./pickled/feaure_list_dt.list', 'rb'))"
   ]
  },
  {
   "cell_type": "code",
   "execution_count": 223,
   "metadata": {},
   "outputs": [],
   "source": [
    "newXtrain = Xtrain[sel_features]\n",
    "newXtest = Xtest[sel_features]"
   ]
  },
  {
   "cell_type": "code",
   "execution_count": 241,
   "metadata": {},
   "outputs": [],
   "source": [
    "new_logit = LogisticRegression()\n",
    "ms_k5 = ms.KFold(n_splits=5, shuffle=True)\n",
    "new_trainscores = []\n",
    "new_testscores = []\n",
    "new_acttestscores = []\n",
    "new_y_predicts = []\n",
    "new_y_predicts_probs = []\n",
    "for train_idx, test_idx in ms_k5.split(newXtrain, ytrain):\n",
    "    x_train = newXtrain.iloc[train_idx]\n",
    "    y_train = ytrain.iloc[train_idx]\n",
    "    x_test = newXtrain.iloc[test_idx]\n",
    "    y_test = ytrain.iloc[test_idx]\n",
    "    new_logit.fit(x_train, y_train)\n",
    "    new_trainscores.append(new_logit.score(x_train, y_train))\n",
    "    new_testscores.append(new_logit.score(x_test, y_test))\n",
    "    new_acttestscores.append(new_logit.score(newXtest, ytest))\n",
    "    \n",
    "    # predict for test data set\n",
    "    new_y_predicts.append(new_logit.predict(newXtest))\n",
    "    new_y_predicts_probs.append(new_logit.predict_proba(newXtest))"
   ]
  },
  {
   "cell_type": "code",
   "execution_count": 236,
   "metadata": {},
   "outputs": [
    {
     "data": {
      "text/plain": [
       "[0.886899651926889,\n",
       " 0.8858694803877191,\n",
       " 0.885229525340659,\n",
       " 0.888007866764481,\n",
       " 0.8860897796091652]"
      ]
     },
     "execution_count": 236,
     "metadata": {},
     "output_type": "execute_result"
    }
   ],
   "source": [
    "new_trainscores"
   ]
  },
  {
   "cell_type": "code",
   "execution_count": 237,
   "metadata": {},
   "outputs": [
    {
     "data": {
      "text/plain": [
       "[0.8844977211712556,\n",
       " 0.8885559093463196,\n",
       " 0.8913654242367485,\n",
       " 0.8803146656677281,\n",
       " 0.8876748251748252]"
      ]
     },
     "execution_count": 237,
     "metadata": {},
     "output_type": "execute_result"
    }
   ],
   "source": [
    "new_testscores"
   ]
  },
  {
   "cell_type": "code",
   "execution_count": 238,
   "metadata": {},
   "outputs": [
    {
     "data": {
      "text/plain": [
       "[0.8863704443334998,\n",
       " 0.8864702945581627,\n",
       " 0.8861208187718422,\n",
       " 0.8863205192211683,\n",
       " 0.8864702945581627]"
      ]
     },
     "execution_count": 238,
     "metadata": {},
     "output_type": "execute_result"
    }
   ],
   "source": [
    "new_acttestscores"
   ]
  },
  {
   "cell_type": "code",
   "execution_count": 243,
   "metadata": {},
   "outputs": [
    {
     "name": "stdout",
     "output_type": "stream",
     "text": [
      "0.6610210899198871\n",
      "0.6607329222667135\n",
      "0.6619486218050974\n",
      "0.6631482541743832\n",
      "0.6628049920000127\n"
     ]
    }
   ],
   "source": [
    "for y_predict_prob in new_y_predicts_probs:\n",
    "    print(roc_auc_score(ytest, y_predict_prob[:,1]))"
   ]
  },
  {
   "cell_type": "code",
   "execution_count": 251,
   "metadata": {},
   "outputs": [
    {
     "name": "stdout",
     "output_type": "stream",
     "text": [
      "[[17719    40]\n",
      " [ 2238    33]]\n",
      "[[17719    40]\n",
      " [ 2234    37]]\n",
      "[[17717    42]\n",
      " [ 2236    35]]\n",
      "[[17710    49]\n",
      " [ 2227    44]]\n",
      "[[17718    41]\n",
      " [ 2232    39]]\n"
     ]
    }
   ],
   "source": [
    "for y_predict in new_y_predicts:\n",
    "    print(confusion_matrix(ytest, y_predict))"
   ]
  }
 ],
 "metadata": {
  "kernelspec": {
   "display_name": "Python 3",
   "language": "python",
   "name": "python3"
  },
  "language_info": {
   "codemirror_mode": {
    "name": "ipython",
    "version": 3
   },
   "file_extension": ".py",
   "mimetype": "text/x-python",
   "name": "python",
   "nbconvert_exporter": "python",
   "pygments_lexer": "ipython3",
   "version": "3.7.0"
  }
 },
 "nbformat": 4,
 "nbformat_minor": 2
}
