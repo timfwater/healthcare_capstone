{
 "cells": [
  {
   "cell_type": "code",
   "execution_count": 1,
   "metadata": {},
   "outputs": [],
   "source": [
    "import numpy as np\n",
    "import pandas as pd\n",
    "from sklearn import svm"
   ]
  },
  {
   "cell_type": "code",
   "execution_count": 3,
   "metadata": {},
   "outputs": [],
   "source": [
    "train = pd.read_csv('./dataset_diabetes/new_train.csv', index_col='encounter_id')\n",
    "test = pd.read_csv('./dataset_diabetes/new_test.csv', index_col='encounter_id')"
   ]
  },
  {
   "cell_type": "code",
   "execution_count": 4,
   "metadata": {},
   "outputs": [],
   "source": [
    "train.drop('Unnamed: 0', axis=1, inplace=True)\n",
    "test.drop('Unnamed: 0', axis=1, inplace=True)"
   ]
  },
  {
   "cell_type": "code",
   "execution_count": 5,
   "metadata": {},
   "outputs": [],
   "source": [
    "Xtrain = train.drop('readmitted_Yes', axis=1)\n",
    "ytrain = train['readmitted_Yes']"
   ]
  },
  {
   "cell_type": "markdown",
   "metadata": {},
   "source": [
    "## SVM"
   ]
  },
  {
   "cell_type": "code",
   "execution_count": 6,
   "metadata": {},
   "outputs": [],
   "source": [
    "svm_model = svm.SVC(kernel='poly', C=1e5, degree=1)"
   ]
  },
  {
   "cell_type": "code",
   "execution_count": null,
   "metadata": {},
   "outputs": [],
   "source": [
    "svm_model.fit(Xtrain, ytrain)\n",
    "svm_model.score(Xtrain, ytrain)"
   ]
  },
  {
   "cell_type": "code",
   "execution_count": null,
   "metadata": {},
   "outputs": [],
   "source": [
    "ms_k5 = ms.KFold(n_splits=5, shuffle=True)\n",
    "trainscores = []\n",
    "testscores = []\n",
    "act_test = []\n",
    "y_predicts = []\n",
    "for train_idx, test_idx in ms_k5.split(Xtrain, ytrain):\n",
    "    x_train = Xtrain.iloc[train_idx]\n",
    "    y_train = ytrain.iloc[train_idx]\n",
    "    x_test = Xtrain.iloc[test_idx]\n",
    "    y_test = ytrain.iloc[test_idx]\n",
    "    svm_model.fit(x_train, y_train)\n",
    "    trainscores.append(svm_model.score(x_train, y_train))\n",
    "    testscores.append(svm_model.score(x_test, y_test))\n",
    "    act_test.append(svm_model.score(Xtest, ytest))\n",
    "    \n",
    "    # predict for test data set\n",
    "    y_predicts.append(svm_model.predict(Xtest))"
   ]
  },
  {
   "cell_type": "code",
   "execution_count": null,
   "metadata": {},
   "outputs": [],
   "source": [
    "trainscores"
   ]
  },
  {
   "cell_type": "code",
   "execution_count": null,
   "metadata": {},
   "outputs": [],
   "source": [
    "testscores"
   ]
  },
  {
   "cell_type": "code",
   "execution_count": null,
   "metadata": {},
   "outputs": [],
   "source": [
    "act_test"
   ]
  },
  {
   "cell_type": "code",
   "execution_count": null,
   "metadata": {},
   "outputs": [],
   "source": [
    "for y_predict in y_predicts:\n",
    "    print(roc_auc_score(ytest, y_predict))"
   ]
  }
 ],
 "metadata": {
  "kernelspec": {
   "display_name": "Python 3",
   "language": "python",
   "name": "python3"
  },
  "language_info": {
   "codemirror_mode": {
    "name": "ipython",
    "version": 3
   },
   "file_extension": ".py",
   "mimetype": "text/x-python",
   "name": "python",
   "nbconvert_exporter": "python",
   "pygments_lexer": "ipython3",
   "version": "3.7.0"
  }
 },
 "nbformat": 4,
 "nbformat_minor": 2
}
