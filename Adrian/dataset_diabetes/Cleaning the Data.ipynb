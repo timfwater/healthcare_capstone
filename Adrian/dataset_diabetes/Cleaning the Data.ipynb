{
 "cells": [
  {
   "cell_type": "code",
   "execution_count": 4,
   "metadata": {},
   "outputs": [],
   "source": [
    "import numpy as np\n",
    "import pandas as pd\n",
    "import random\n"
   ]
  },
  {
   "cell_type": "code",
   "execution_count": 5,
   "metadata": {},
   "outputs": [
    {
     "name": "stdout",
     "output_type": "stream",
     "text": [
      "['encounter_id', 'patient_nbr', 'race', 'gender', 'age', 'weight', 'admission_type_id', 'discharge_disposition_id', 'admission_source_id', 'time_in_hospital', 'payer_code', 'medical_specialty', 'num_lab_procedures', 'num_procedures', 'num_medications', 'number_outpatient', 'number_emergency', 'number_inpatient', 'diag_1', 'diag_2', 'diag_3', 'number_diagnoses', 'max_glu_serum', 'A1Cresult', 'metformin', 'repaglinide', 'nateglinide', 'chlorpropamide', 'glimepiride', 'acetohexamide', 'glipizide', 'glyburide', 'tolbutamide', 'pioglitazone', 'rosiglitazone', 'acarbose', 'miglitol', 'troglitazone', 'tolazamide', 'examide', 'citoglipton', 'insulin', 'glyburide-metformin', 'glipizide-metformin', 'glimepiride-pioglitazone', 'metformin-rosiglitazone', 'metformin-pioglitazone', 'change', 'diabetesMed', 'readmitted']\n"
     ]
    }
   ],
   "source": [
    "df = pd.read_csv(\"diabetic_data.csv\")\n",
    "#print(df.head())\n",
    "#print(df.describe())\n",
    "print(list(df))\n"
   ]
  },
  {
   "cell_type": "code",
   "execution_count": 6,
   "metadata": {},
   "outputs": [],
   "source": [
    "# The weight and payer code attributes are dropped because of their high percentage of missing values.\n",
    "# This means that neither of them are relevant to the readmission rate.\n",
    "# We can find more information about this in the research paper.\n",
    "df = df.drop(columns=['weight', 'payer_code'])\n"
   ]
  },
  {
   "cell_type": "code",
   "execution_count": 7,
   "metadata": {},
   "outputs": [
    {
     "name": "stdout",
     "output_type": "stream",
     "text": [
      "Caucasian          76099\n",
      "AfricanAmerican    19210\n",
      "?                   2273\n",
      "Hispanic            2037\n",
      "Other               1506\n",
      "Asian                641\n",
      "Name: race, dtype: int64\n"
     ]
    }
   ],
   "source": [
    "races = pd.get_dummies(df['race'])\n",
    "print(df['race'].value_counts())\n",
    "\n",
    "# The most common race of the patients is Caucasian, so we drop that column.\n",
    "# The missingness is sparse enough that we can drop it without losing very much information.\n",
    "# There are so few Asian patients that we drop that column as well.\n",
    "races = races.drop(columns = ['?', 'Caucasian', 'Asian'])\n",
    "# races\n"
   ]
  },
  {
   "cell_type": "code",
   "execution_count": 8,
   "metadata": {
    "scrolled": true
   },
   "outputs": [
    {
     "name": "stdout",
     "output_type": "stream",
     "text": [
      "Female             54708\n",
      "Male               47055\n",
      "Unknown/Invalid        3\n",
      "Name: gender, dtype: int64\n"
     ]
    }
   ],
   "source": [
    "gender = df['gender']\n",
    "print(gender.value_counts())\n",
    "\n",
    "# Three rows have do not supply a gender, so we drop them\n",
    "# gender.describe()\n",
    "UnknownorInvalidgenders = gender.loc[gender == 'Unknown/Invalid']\n",
    "gender = gender.drop([30506, 75551, 82573])\n",
    "\n",
    "gender = pd.get_dummies(gender)\n",
    "\n",
    "# The most common gender of the patients is female, so we drop that column.\n",
    "# gender.describe()\n",
    "gender = gender.drop(columns=['Female'])\n",
    "\n",
    "# gender\n"
   ]
  },
  {
   "cell_type": "code",
   "execution_count": 9,
   "metadata": {},
   "outputs": [],
   "source": [
    "age = df[\"age\"]\n",
    "\n",
    "# We replace each age bin with its lower bound\n",
    "for i in range(10):\n",
    "    age = age.replace(\"[\"+str(10*i)+\"-\"+str(10*(i+1))+\")\", i)\n",
    "\n",
    "# print(age)\n"
   ]
  },
  {
   "cell_type": "code",
   "execution_count": 10,
   "metadata": {},
   "outputs": [
    {
     "name": "stdout",
     "output_type": "stream",
     "text": [
      "1.0    53990\n",
      "3.0    29265\n",
      "2.0    18480\n",
      "7.0       21\n",
      "4.0       10\n",
      "Name: admission_type_id, dtype: int64\n"
     ]
    }
   ],
   "source": [
    "admission = df['admission_type_id']\n",
    "# print(admission.value_counts())\n",
    "# print(df.shape)\n",
    "\n",
    "# About 10% of this column has values of Not Availible (5), NULL (6), or Not Mapped (8)\n",
    "# We convert these values to NaN in order to impute these values at random\n",
    "admission = admission.replace({5:np.nan, 6:np.nan, 8:np.nan})\n",
    "\n",
    "# We check that the values were indeed replaced with Nans\n",
    "# print(admission.value_counts())\n",
    "\n",
    "# print(type(np.float64(np.nan)), type(admission[0]))\n",
    "\n",
    "# We tested to see how many non nans there were\n",
    "# print(~np.isnan(admission))\n",
    "# print(admission[0] == np.float64(np.nan)) # Why are these two not equal considering that there of the same type and value???\n",
    "\n",
    "#print(admission[~np.isnan(admission)])\n",
    "#print(len(admission[~np.isnan(admission)]))\n",
    "# This series is of the right length\n",
    "\n",
    "# We now fill the NAs at random\n",
    "admission.fillna(random.choice(admission[~np.isnan(admission)]),\n",
    "                 inplace = True)\n",
    "print(admission.value_counts())\n",
    "#print(admission[admission != np.nan])\n",
    "\n",
    "admission = pd.get_dummies(admission)\n",
    "\n",
    "# print(admission)\n",
    "# The most common admission type is emergency, so we drop that column. We also drop the newborn and Trauma_Center columns\n",
    "# because of their sparcity.\n",
    "admission = admission.drop(columns=[1.0, 4.0, 7.0])\n",
    "#print(admission)\n",
    "\n",
    "admission.columns = ['Urgent', 'Elective']\n",
    "# print(admission)"
   ]
  },
  {
   "cell_type": "code",
   "execution_count": 14,
   "metadata": {},
   "outputs": [],
   "source": [
    "discharge_disposition = df['discharge_disposition_id']\n",
    "discharge_disposition.value_counts()\n",
    "\n",
    "# We remove all columns with patients that expired (died) as we know they cannot be readmitted.\n",
    "# On a side note, theoretically if we had enough data and other features, we could predict whether or not a patient would die\n",
    "# within the thirty days and use that to predict that that patient will not be readmitted.\n",
    "\n",
    "Deceased_patients = discharge_disposition[discharge_disposition.isin([11, 19, 20, 21])].index.tolist()\n",
    "discharge_disposition = discharge_disposition.drop(Deceased_patients)\n",
    "Deceased_patients\n",
    "discharge_disposition.value_counts()\n",
    "discharge_disposition = pd.get_dummies(discharge_disposition)\n",
    "# discharge_disposition"
   ]
  },
  {
   "cell_type": "code",
   "execution_count": 21,
   "metadata": {},
   "outputs": [],
   "source": [
    "admission_source = df['admission_source_id']\n",
    "admission_source.value_counts()\n",
    "\n",
    "admission_source = pd.get_dummies(admission_source)\n",
    "# We now drop all of the null columns\n",
    "\n",
    "# We drop all of the columns that indicate a null value. These columns provide no information about our patients.\n",
    "#admission_source = admission_source.drop(columns=[9, 17, 20])\n",
    "\n",
    "# admission_source"
   ]
  },
  {
   "cell_type": "code",
   "execution_count": 28,
   "metadata": {},
   "outputs": [
    {
     "data": {
      "text/plain": [
       "Pulmonology                          871\n",
       "Psychiatry                           854\n",
       "Urology                              685\n",
       "ObstetricsandGynecology              671\n",
       "Surgery-Cardiovascular/Thoracic      652\n",
       "Gastroenterology                     564\n",
       "Surgery-Vascular                     533\n",
       "Surgery-Neuro                        468\n",
       "PhysicalMedicineandRehabilitation    391\n",
       "Oncology                             348\n",
       "Pediatrics                           254\n",
       "Hematology/Oncology                  207\n",
       "Neurology                            203\n",
       "Pediatrics-Endocrinology             159\n",
       "Otolaryngology                       125\n",
       "Endocrinology                        120\n",
       "Surgery-Thoracic                     109\n",
       "Psychology                           101\n",
       "Podiatry                             100\n",
       "Surgery-Cardiovascular                98\n",
       "Pediatrics-CriticalCare               87\n",
       "Hematology                            82\n",
       "Gynecology                            58\n",
       "Hospitalist                           57\n",
       "Radiology                             53\n",
       "Surgeon                               45\n",
       "Surgery-Plastic                       41\n",
       "Osteopath                             39\n",
       "Ophthalmology                         38\n",
       "InfectiousDiseases                    37\n",
       "                                    ... \n",
       "Anesthesiology-Pediatric              19\n",
       "Obstetrics                            19\n",
       "Pathology                             17\n",
       "Rheumatology                          17\n",
       "OutreachServices                      12\n",
       "Anesthesiology                        12\n",
       "Surgery-Maxillofacial                 11\n",
       "PhysicianNotFound                     11\n",
       "Surgery-Colon&Rectal                  11\n",
       "Pediatrics-Neurology                  10\n",
       "Surgery-Pediatric                      8\n",
       "Endocrinology-Metabolism               8\n",
       "Psychiatry-Child/Adolescent            7\n",
       "Cardiology-Pediatric                   7\n",
       "AllergyandImmunology                   7\n",
       "DCPTEAM                                6\n",
       "Pediatrics-Hematology-Oncology         4\n",
       "Dentistry                              4\n",
       "Pediatrics-AllergyandImmunology        3\n",
       "Pediatrics-EmergencyMedicine           3\n",
       "Resident                               2\n",
       "SportsMedicine                         1\n",
       "Neurophysiology                        1\n",
       "Proctology                             1\n",
       "Psychiatry-Addictive                   1\n",
       "Dermatology                            1\n",
       "Surgery-PlasticwithinHeadandNeck       1\n",
       "Speech                                 1\n",
       "Perinatology                           1\n",
       "Pediatrics-InfectiousDiseases          1\n",
       "Name: medical_specialty, Length: 63, dtype: int64"
      ]
     },
     "execution_count": 28,
     "metadata": {},
     "output_type": "execute_result"
    }
   ],
   "source": [
    "medical_specialty = df['medical_specialty']\n",
    "medical_specialty.value_counts()[medical_specialty.value_counts() < 1000]\n"
   ]
  },
  {
   "cell_type": "code",
   "execution_count": null,
   "metadata": {},
   "outputs": [],
   "source": []
  },
  {
   "cell_type": "code",
   "execution_count": 9,
   "metadata": {},
   "outputs": [],
   "source": [
    "\n",
    "\n"
   ]
  },
  {
   "cell_type": "code",
   "execution_count": null,
   "metadata": {},
   "outputs": [],
   "source": [
    "\n"
   ]
  },
  {
   "cell_type": "code",
   "execution_count": null,
   "metadata": {},
   "outputs": [],
   "source": []
  },
  {
   "cell_type": "code",
   "execution_count": null,
   "metadata": {},
   "outputs": [],
   "source": []
  },
  {
   "cell_type": "code",
   "execution_count": null,
   "metadata": {},
   "outputs": [],
   "source": []
  }
 ],
 "metadata": {
  "kernelspec": {
   "display_name": "Python 3",
   "language": "python",
   "name": "python3"
  },
  "language_info": {
   "codemirror_mode": {
    "name": "ipython",
    "version": 3
   },
   "file_extension": ".py",
   "mimetype": "text/x-python",
   "name": "python",
   "nbconvert_exporter": "python",
   "pygments_lexer": "ipython3",
   "version": "3.6.5"
  }
 },
 "nbformat": 4,
 "nbformat_minor": 2
}
